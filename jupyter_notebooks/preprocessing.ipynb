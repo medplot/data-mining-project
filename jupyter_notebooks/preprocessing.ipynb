{
 "cells": [
  {
   "cell_type": "code",
   "execution_count": 1,
   "metadata": {
    "collapsed": true
   },
   "outputs": [],
   "source": [
    "import pandas as pd\n",
    "\n",
    "from preprocessing.preprocessing import *\n",
    "from preprocessing.preprocessing_label_encoding import *\n",
    "from visualization.general_plots import plot_class_frequencies"
   ]
  },
  {
   "cell_type": "markdown",
   "metadata": {},
   "source": [
    "# Preprocessing\n",
    "This notebook shows the steps that were taken in order to process our dataset.\n",
    "\n",
    "## Loading the data\n",
    "First, the data is loaded via the load_dataset() method.\n",
    "Then, all data elements without any diabetes information are removed as these are not relevant for our purpose.\n",
    "We then select the columns we want to use (i.e. all columns relating to physical health) and rename the columns for better readability."
   ]
  },
  {
   "cell_type": "code",
   "execution_count": 2,
   "metadata": {},
   "outputs": [
    {
     "name": "stdout",
     "output_type": "stream",
     "text": [
      "(441449, 29)\n"
     ]
    }
   ],
   "source": [
    "complete_dataset = load_dataset()\n",
    "complete_dataset = complete_dataset.dropna(subset=['DIABETE3'])\n",
    "complete_dataset = complete_dataset[relevant_columns]\n",
    "complete_dataset.columns = readable_column_names\n",
    "print(complete_dataset.shape)"
   ]
  },
  {
   "cell_type": "markdown",
   "metadata": {},
   "source": [
    "At this stage, there are 441,449 data elements in the dataset.\n",
    "## Removing unnecessary data entries\n",
    "Next, all elements with unknown or refused values are removed.\n",
    "Additionally, we clean our target as we only want to predict yes or no."
   ]
  },
  {
   "cell_type": "code",
   "execution_count": 3,
   "metadata": {},
   "outputs": [
    {
     "name": "stdout",
     "output_type": "stream",
     "text": [
      "(281471, 29)\n"
     ]
    }
   ],
   "source": [
    "complete_dataset = remove_refused_columns(complete_dataset)  # removes ca. 115k columns\n",
    "complete_dataset = remove_unknown_columns(complete_dataset)  # removes ca. 37k columns\n",
    "\n",
    "complete_dataset = complete_dataset[complete_dataset.Diabetes != 2]\n",
    "complete_dataset = complete_dataset[complete_dataset.Diabetes != 4]\n",
    "complete_dataset[\"Diabetes\"] = complete_dataset[\"Diabetes\"].replace(3, 0)\n",
    "\n",
    "print(complete_dataset.shape)"
   ]
  },
  {
   "cell_type": "markdown",
   "metadata": {},
   "source": [
    "This leaves us with 281,471 data elements.\n",
    "## Splitting into dataset and target\n",
    "Now the complete dataset is split into the actual dataset and the target."
   ]
  },
  {
   "cell_type": "code",
   "execution_count": 4,
   "metadata": {},
   "outputs": [],
   "source": [
    "target = pd.DataFrame(complete_dataset[\"Diabetes\"])\n",
    "dataset = complete_dataset.drop(columns=\"Diabetes\")\n",
    "dataset = dataset.fillna(0)"
   ]
  },
  {
   "cell_type": "code",
   "execution_count": 5,
   "metadata": {},
   "outputs": [
    {
     "data": {
      "text/plain": "   GenHealth  PhysHealth  MentHealth  Healthcare  MedCost  Checkup  HighBP  \\\n0        5.0        15.0        18.0         1.0      2.0      1.0     1.0   \n1        3.0        88.0        88.0         2.0      1.0      4.0     3.0   \n3        5.0        30.0        30.0         1.0      1.0      1.0     1.0   \n5        2.0        88.0        88.0         1.0      2.0      1.0     1.0   \n6        2.0        88.0         3.0         1.0      2.0      1.0     1.0   \n\n   HighChol  HeartAttack  AngiCoro  ...  Height   Weight  BMI  Education  \\\n0       1.0          2.0       2.0  ...   178.0  12701.0  4.0        2.0   \n1       2.0          2.0       2.0  ...   173.0   7484.0  3.0        4.0   \n3       1.0          2.0       2.0  ...   170.0   8165.0  3.0        2.0   \n5       2.0          2.0       2.0  ...   157.0   6577.0  3.0        1.0   \n6       1.0          2.0       2.0  ...   168.0   6713.0  2.0        3.0   \n\n   Alcohol  Smoking  FruitCons  VegetCons  PhysActivity  Muscles  \n0      1.0      3.0        2.0        1.0           4.0      2.0  \n1      1.0      1.0        2.0        2.0           2.0      2.0  \n3      1.0      4.0        1.0        2.0           4.0      2.0  \n5      1.0      4.0        1.0        1.0           1.0      2.0  \n6      1.0      4.0        1.0        1.0           1.0      2.0  \n\n[5 rows x 28 columns]",
      "text/html": "<div>\n<style scoped>\n    .dataframe tbody tr th:only-of-type {\n        vertical-align: middle;\n    }\n\n    .dataframe tbody tr th {\n        vertical-align: top;\n    }\n\n    .dataframe thead th {\n        text-align: right;\n    }\n</style>\n<table border=\"1\" class=\"dataframe\">\n  <thead>\n    <tr style=\"text-align: right;\">\n      <th></th>\n      <th>GenHealth</th>\n      <th>PhysHealth</th>\n      <th>MentHealth</th>\n      <th>Healthcare</th>\n      <th>MedCost</th>\n      <th>Checkup</th>\n      <th>HighBP</th>\n      <th>HighChol</th>\n      <th>HeartAttack</th>\n      <th>AngiCoro</th>\n      <th>...</th>\n      <th>Height</th>\n      <th>Weight</th>\n      <th>BMI</th>\n      <th>Education</th>\n      <th>Alcohol</th>\n      <th>Smoking</th>\n      <th>FruitCons</th>\n      <th>VegetCons</th>\n      <th>PhysActivity</th>\n      <th>Muscles</th>\n    </tr>\n  </thead>\n  <tbody>\n    <tr>\n      <th>0</th>\n      <td>5.0</td>\n      <td>15.0</td>\n      <td>18.0</td>\n      <td>1.0</td>\n      <td>2.0</td>\n      <td>1.0</td>\n      <td>1.0</td>\n      <td>1.0</td>\n      <td>2.0</td>\n      <td>2.0</td>\n      <td>...</td>\n      <td>178.0</td>\n      <td>12701.0</td>\n      <td>4.0</td>\n      <td>2.0</td>\n      <td>1.0</td>\n      <td>3.0</td>\n      <td>2.0</td>\n      <td>1.0</td>\n      <td>4.0</td>\n      <td>2.0</td>\n    </tr>\n    <tr>\n      <th>1</th>\n      <td>3.0</td>\n      <td>88.0</td>\n      <td>88.0</td>\n      <td>2.0</td>\n      <td>1.0</td>\n      <td>4.0</td>\n      <td>3.0</td>\n      <td>2.0</td>\n      <td>2.0</td>\n      <td>2.0</td>\n      <td>...</td>\n      <td>173.0</td>\n      <td>7484.0</td>\n      <td>3.0</td>\n      <td>4.0</td>\n      <td>1.0</td>\n      <td>1.0</td>\n      <td>2.0</td>\n      <td>2.0</td>\n      <td>2.0</td>\n      <td>2.0</td>\n    </tr>\n    <tr>\n      <th>3</th>\n      <td>5.0</td>\n      <td>30.0</td>\n      <td>30.0</td>\n      <td>1.0</td>\n      <td>1.0</td>\n      <td>1.0</td>\n      <td>1.0</td>\n      <td>1.0</td>\n      <td>2.0</td>\n      <td>2.0</td>\n      <td>...</td>\n      <td>170.0</td>\n      <td>8165.0</td>\n      <td>3.0</td>\n      <td>2.0</td>\n      <td>1.0</td>\n      <td>4.0</td>\n      <td>1.0</td>\n      <td>2.0</td>\n      <td>4.0</td>\n      <td>2.0</td>\n    </tr>\n    <tr>\n      <th>5</th>\n      <td>2.0</td>\n      <td>88.0</td>\n      <td>88.0</td>\n      <td>1.0</td>\n      <td>2.0</td>\n      <td>1.0</td>\n      <td>1.0</td>\n      <td>2.0</td>\n      <td>2.0</td>\n      <td>2.0</td>\n      <td>...</td>\n      <td>157.0</td>\n      <td>6577.0</td>\n      <td>3.0</td>\n      <td>1.0</td>\n      <td>1.0</td>\n      <td>4.0</td>\n      <td>1.0</td>\n      <td>1.0</td>\n      <td>1.0</td>\n      <td>2.0</td>\n    </tr>\n    <tr>\n      <th>6</th>\n      <td>2.0</td>\n      <td>88.0</td>\n      <td>3.0</td>\n      <td>1.0</td>\n      <td>2.0</td>\n      <td>1.0</td>\n      <td>1.0</td>\n      <td>1.0</td>\n      <td>2.0</td>\n      <td>2.0</td>\n      <td>...</td>\n      <td>168.0</td>\n      <td>6713.0</td>\n      <td>2.0</td>\n      <td>3.0</td>\n      <td>1.0</td>\n      <td>4.0</td>\n      <td>1.0</td>\n      <td>1.0</td>\n      <td>1.0</td>\n      <td>2.0</td>\n    </tr>\n  </tbody>\n</table>\n<p>5 rows × 28 columns</p>\n</div>"
     },
     "execution_count": 5,
     "metadata": {},
     "output_type": "execute_result"
    }
   ],
   "source": [
    "dataset.head()"
   ]
  },
  {
   "cell_type": "code",
   "execution_count": 6,
   "metadata": {},
   "outputs": [
    {
     "data": {
      "text/plain": "   Diabetes\n0       0.0\n1       0.0\n3       0.0\n5       0.0\n6       0.0",
      "text/html": "<div>\n<style scoped>\n    .dataframe tbody tr th:only-of-type {\n        vertical-align: middle;\n    }\n\n    .dataframe tbody tr th {\n        vertical-align: top;\n    }\n\n    .dataframe thead th {\n        text-align: right;\n    }\n</style>\n<table border=\"1\" class=\"dataframe\">\n  <thead>\n    <tr style=\"text-align: right;\">\n      <th></th>\n      <th>Diabetes</th>\n    </tr>\n  </thead>\n  <tbody>\n    <tr>\n      <th>0</th>\n      <td>0.0</td>\n    </tr>\n    <tr>\n      <th>1</th>\n      <td>0.0</td>\n    </tr>\n    <tr>\n      <th>3</th>\n      <td>0.0</td>\n    </tr>\n    <tr>\n      <th>5</th>\n      <td>0.0</td>\n    </tr>\n    <tr>\n      <th>6</th>\n      <td>0.0</td>\n    </tr>\n  </tbody>\n</table>\n</div>"
     },
     "execution_count": 6,
     "metadata": {},
     "output_type": "execute_result"
    }
   ],
   "source": [
    "target.head()"
   ]
  },
  {
   "cell_type": "markdown",
   "source": [
    "## Normalization\n",
    "Next, all numerical values are normalized. The columns PhysHealth and MentHealth represent the number of days in the last month were the interviewee did not\n",
    "feel well physically / mentally. It is a number between 1 and 30, with the value 88 meaning zero days. For this reason, the value 88 is replaced by 0 before normalization.\n",
    "A simple MinMaxScalar is used to normalize the respective columns."
   ],
   "metadata": {
    "collapsed": false
   }
  },
  {
   "cell_type": "code",
   "execution_count": 7,
   "outputs": [],
   "source": [
    "scaler = MinMaxScaler()\n",
    "dataset[\"PhysHealth\"] = dataset[\"PhysHealth\"].replace(88, 0)\n",
    "dataset[\"MentHealth\"] = dataset[\"MentHealth\"].replace(88, 0)\n",
    "dataset[[\"PhysHealth\", \"MentHealth\", \"Height\", \"Weight\"]] = scaler.fit_transform(dataset[[\"PhysHealth\", \"MentHealth\", \"Height\", \"Weight\"]])"
   ],
   "metadata": {
    "collapsed": false
   }
  },
  {
   "cell_type": "code",
   "execution_count": 8,
   "outputs": [
    {
     "data": {
      "text/plain": "   GenHealth  PhysHealth  MentHealth  Healthcare  MedCost  Checkup  HighBP  \\\n0        5.0         0.5         0.6         1.0      2.0      1.0     1.0   \n1        3.0         0.0         0.0         2.0      1.0      4.0     3.0   \n3        5.0         1.0         1.0         1.0      1.0      1.0     1.0   \n5        2.0         0.0         0.0         1.0      2.0      1.0     1.0   \n6        2.0         0.0         0.1         1.0      2.0      1.0     1.0   \n\n   HighChol  HeartAttack  AngiCoro  ...    Height    Weight  BMI  Education  \\\n0       1.0          2.0       2.0  ...  0.777293  0.438192  4.0        2.0   \n1       2.0          2.0       2.0  ...  0.755459  0.258203  3.0        4.0   \n3       1.0          2.0       2.0  ...  0.742358  0.281697  3.0        2.0   \n5       2.0          2.0       2.0  ...  0.685590  0.226910  3.0        1.0   \n6       1.0          2.0       2.0  ...  0.733624  0.231603  2.0        3.0   \n\n   Alcohol  Smoking  FruitCons  VegetCons  PhysActivity  Muscles  \n0      1.0      3.0        2.0        1.0           4.0      2.0  \n1      1.0      1.0        2.0        2.0           2.0      2.0  \n3      1.0      4.0        1.0        2.0           4.0      2.0  \n5      1.0      4.0        1.0        1.0           1.0      2.0  \n6      1.0      4.0        1.0        1.0           1.0      2.0  \n\n[5 rows x 28 columns]",
      "text/html": "<div>\n<style scoped>\n    .dataframe tbody tr th:only-of-type {\n        vertical-align: middle;\n    }\n\n    .dataframe tbody tr th {\n        vertical-align: top;\n    }\n\n    .dataframe thead th {\n        text-align: right;\n    }\n</style>\n<table border=\"1\" class=\"dataframe\">\n  <thead>\n    <tr style=\"text-align: right;\">\n      <th></th>\n      <th>GenHealth</th>\n      <th>PhysHealth</th>\n      <th>MentHealth</th>\n      <th>Healthcare</th>\n      <th>MedCost</th>\n      <th>Checkup</th>\n      <th>HighBP</th>\n      <th>HighChol</th>\n      <th>HeartAttack</th>\n      <th>AngiCoro</th>\n      <th>...</th>\n      <th>Height</th>\n      <th>Weight</th>\n      <th>BMI</th>\n      <th>Education</th>\n      <th>Alcohol</th>\n      <th>Smoking</th>\n      <th>FruitCons</th>\n      <th>VegetCons</th>\n      <th>PhysActivity</th>\n      <th>Muscles</th>\n    </tr>\n  </thead>\n  <tbody>\n    <tr>\n      <th>0</th>\n      <td>5.0</td>\n      <td>0.5</td>\n      <td>0.6</td>\n      <td>1.0</td>\n      <td>2.0</td>\n      <td>1.0</td>\n      <td>1.0</td>\n      <td>1.0</td>\n      <td>2.0</td>\n      <td>2.0</td>\n      <td>...</td>\n      <td>0.777293</td>\n      <td>0.438192</td>\n      <td>4.0</td>\n      <td>2.0</td>\n      <td>1.0</td>\n      <td>3.0</td>\n      <td>2.0</td>\n      <td>1.0</td>\n      <td>4.0</td>\n      <td>2.0</td>\n    </tr>\n    <tr>\n      <th>1</th>\n      <td>3.0</td>\n      <td>0.0</td>\n      <td>0.0</td>\n      <td>2.0</td>\n      <td>1.0</td>\n      <td>4.0</td>\n      <td>3.0</td>\n      <td>2.0</td>\n      <td>2.0</td>\n      <td>2.0</td>\n      <td>...</td>\n      <td>0.755459</td>\n      <td>0.258203</td>\n      <td>3.0</td>\n      <td>4.0</td>\n      <td>1.0</td>\n      <td>1.0</td>\n      <td>2.0</td>\n      <td>2.0</td>\n      <td>2.0</td>\n      <td>2.0</td>\n    </tr>\n    <tr>\n      <th>3</th>\n      <td>5.0</td>\n      <td>1.0</td>\n      <td>1.0</td>\n      <td>1.0</td>\n      <td>1.0</td>\n      <td>1.0</td>\n      <td>1.0</td>\n      <td>1.0</td>\n      <td>2.0</td>\n      <td>2.0</td>\n      <td>...</td>\n      <td>0.742358</td>\n      <td>0.281697</td>\n      <td>3.0</td>\n      <td>2.0</td>\n      <td>1.0</td>\n      <td>4.0</td>\n      <td>1.0</td>\n      <td>2.0</td>\n      <td>4.0</td>\n      <td>2.0</td>\n    </tr>\n    <tr>\n      <th>5</th>\n      <td>2.0</td>\n      <td>0.0</td>\n      <td>0.0</td>\n      <td>1.0</td>\n      <td>2.0</td>\n      <td>1.0</td>\n      <td>1.0</td>\n      <td>2.0</td>\n      <td>2.0</td>\n      <td>2.0</td>\n      <td>...</td>\n      <td>0.685590</td>\n      <td>0.226910</td>\n      <td>3.0</td>\n      <td>1.0</td>\n      <td>1.0</td>\n      <td>4.0</td>\n      <td>1.0</td>\n      <td>1.0</td>\n      <td>1.0</td>\n      <td>2.0</td>\n    </tr>\n    <tr>\n      <th>6</th>\n      <td>2.0</td>\n      <td>0.0</td>\n      <td>0.1</td>\n      <td>1.0</td>\n      <td>2.0</td>\n      <td>1.0</td>\n      <td>1.0</td>\n      <td>1.0</td>\n      <td>2.0</td>\n      <td>2.0</td>\n      <td>...</td>\n      <td>0.733624</td>\n      <td>0.231603</td>\n      <td>2.0</td>\n      <td>3.0</td>\n      <td>1.0</td>\n      <td>4.0</td>\n      <td>1.0</td>\n      <td>1.0</td>\n      <td>1.0</td>\n      <td>2.0</td>\n    </tr>\n  </tbody>\n</table>\n<p>5 rows × 28 columns</p>\n</div>"
     },
     "execution_count": 8,
     "metadata": {},
     "output_type": "execute_result"
    }
   ],
   "source": [
    "dataset.head()"
   ],
   "metadata": {
    "collapsed": false
   }
  },
  {
   "cell_type": "markdown",
   "source": [
    "## Encoding\n",
    "The result of the normalization is a finished, label-encoded dataset which can be accessed via the\n",
    "**preprocessing_label_encoding.get_preprocessed_brfss_dataset_label_encoded()** method.\n",
    "However, we also want to provide a one hot encoded variant of the dataset in order to test multiple\n",
    "encoding variants. This is implemented in the **preprocessing_one_hot_encoding.py** file.\n",
    "We implemented two different kinds of one hot encoding.\n",
    "### 1. Encoding only ordinal columns with more than two choices\n",
    "The first variant is encoding all columns with more than two choices (i.e. all columns that are not simply yes\n",
    "or no)."
   ],
   "metadata": {
    "collapsed": false
   }
  },
  {
   "cell_type": "code",
   "execution_count": 9,
   "outputs": [],
   "source": [
    "from sklearn.preprocessing import OneHotEncoder\n",
    "\n",
    "# Excludes yes/no columns\n",
    "ordinal_columns = [\"GenHealth\", \"Checkup\", \"HighBP\", \"Income\", \"Age\", \"BMI\", \"Education\", \"Smoking\", \"PhysActivity\"]\n",
    "\n",
    "def get_preprocessed_brfss_dataset_one_hot_encoded(target_one_hot_encoded=False) -> Tuple[DataFrame, DataFrame]:\n",
    "    dataset, target = get_preprocessed_brfss_dataset()\n",
    "    one_hot_encoder = OneHotEncoder()\n",
    "    encoded = pd.DataFrame(\n",
    "        one_hot_encoder.fit_transform(dataset[ordinal_columns]).toarray(),\n",
    "        columns=one_hot_encoder.get_feature_names_out())\n",
    "    dataset = dataset.join(encoded)\n",
    "    dataset = dataset.drop(columns=ordinal_columns)\n",
    "    if target_one_hot_encoded:\n",
    "        target = pd.DataFrame(one_hot_encoder.fit_transform(target).toarray(), columns=diabetes_columns)\n",
    "    return dataset, target"
   ],
   "metadata": {
    "collapsed": false
   }
  },
  {
   "cell_type": "code",
   "execution_count": 10,
   "outputs": [
    {
     "data": {
      "text/plain": "   PhysHealth  MentHealth  Healthcare  MedCost  HighChol  HeartAttack  \\\n0         0.5         0.6         1.0      2.0       1.0          2.0   \n1         0.0         0.0         2.0      1.0       2.0          2.0   \n2         1.0         1.0         1.0      1.0       1.0          2.0   \n3         0.0         0.0         1.0      2.0       2.0          2.0   \n4         0.0         0.1         1.0      2.0       1.0          2.0   \n\n   AngiCoro  Stroke  Asthma  Arthritis  ...  Education_3.0  Education_4.0  \\\n0       2.0     2.0     1.0        1.0  ...            0.0            0.0   \n1       2.0     2.0     2.0        2.0  ...            0.0            1.0   \n2       2.0     2.0     2.0        1.0  ...            0.0            0.0   \n3       2.0     2.0     2.0        1.0  ...            0.0            0.0   \n4       2.0     2.0     2.0        2.0  ...            1.0            0.0   \n\n   Smoking_1.0  Smoking_2.0  Smoking_3.0  Smoking_4.0  PhysActivity_1.0  \\\n0          0.0          0.0          1.0          0.0               0.0   \n1          1.0          0.0          0.0          0.0               0.0   \n2          0.0          0.0          0.0          1.0               0.0   \n3          0.0          0.0          0.0          1.0               1.0   \n4          0.0          0.0          0.0          1.0               1.0   \n\n   PhysActivity_2.0  PhysActivity_3.0  PhysActivity_4.0  \n0               0.0               0.0               1.0  \n1               1.0               0.0               0.0  \n2               0.0               0.0               1.0  \n3               0.0               0.0               0.0  \n4               0.0               0.0               0.0  \n\n[5 rows x 73 columns]",
      "text/html": "<div>\n<style scoped>\n    .dataframe tbody tr th:only-of-type {\n        vertical-align: middle;\n    }\n\n    .dataframe tbody tr th {\n        vertical-align: top;\n    }\n\n    .dataframe thead th {\n        text-align: right;\n    }\n</style>\n<table border=\"1\" class=\"dataframe\">\n  <thead>\n    <tr style=\"text-align: right;\">\n      <th></th>\n      <th>PhysHealth</th>\n      <th>MentHealth</th>\n      <th>Healthcare</th>\n      <th>MedCost</th>\n      <th>HighChol</th>\n      <th>HeartAttack</th>\n      <th>AngiCoro</th>\n      <th>Stroke</th>\n      <th>Asthma</th>\n      <th>Arthritis</th>\n      <th>...</th>\n      <th>Education_3.0</th>\n      <th>Education_4.0</th>\n      <th>Smoking_1.0</th>\n      <th>Smoking_2.0</th>\n      <th>Smoking_3.0</th>\n      <th>Smoking_4.0</th>\n      <th>PhysActivity_1.0</th>\n      <th>PhysActivity_2.0</th>\n      <th>PhysActivity_3.0</th>\n      <th>PhysActivity_4.0</th>\n    </tr>\n  </thead>\n  <tbody>\n    <tr>\n      <th>0</th>\n      <td>0.5</td>\n      <td>0.6</td>\n      <td>1.0</td>\n      <td>2.0</td>\n      <td>1.0</td>\n      <td>2.0</td>\n      <td>2.0</td>\n      <td>2.0</td>\n      <td>1.0</td>\n      <td>1.0</td>\n      <td>...</td>\n      <td>0.0</td>\n      <td>0.0</td>\n      <td>0.0</td>\n      <td>0.0</td>\n      <td>1.0</td>\n      <td>0.0</td>\n      <td>0.0</td>\n      <td>0.0</td>\n      <td>0.0</td>\n      <td>1.0</td>\n    </tr>\n    <tr>\n      <th>1</th>\n      <td>0.0</td>\n      <td>0.0</td>\n      <td>2.0</td>\n      <td>1.0</td>\n      <td>2.0</td>\n      <td>2.0</td>\n      <td>2.0</td>\n      <td>2.0</td>\n      <td>2.0</td>\n      <td>2.0</td>\n      <td>...</td>\n      <td>0.0</td>\n      <td>1.0</td>\n      <td>1.0</td>\n      <td>0.0</td>\n      <td>0.0</td>\n      <td>0.0</td>\n      <td>0.0</td>\n      <td>1.0</td>\n      <td>0.0</td>\n      <td>0.0</td>\n    </tr>\n    <tr>\n      <th>2</th>\n      <td>1.0</td>\n      <td>1.0</td>\n      <td>1.0</td>\n      <td>1.0</td>\n      <td>1.0</td>\n      <td>2.0</td>\n      <td>2.0</td>\n      <td>2.0</td>\n      <td>2.0</td>\n      <td>1.0</td>\n      <td>...</td>\n      <td>0.0</td>\n      <td>0.0</td>\n      <td>0.0</td>\n      <td>0.0</td>\n      <td>0.0</td>\n      <td>1.0</td>\n      <td>0.0</td>\n      <td>0.0</td>\n      <td>0.0</td>\n      <td>1.0</td>\n    </tr>\n    <tr>\n      <th>3</th>\n      <td>0.0</td>\n      <td>0.0</td>\n      <td>1.0</td>\n      <td>2.0</td>\n      <td>2.0</td>\n      <td>2.0</td>\n      <td>2.0</td>\n      <td>2.0</td>\n      <td>2.0</td>\n      <td>1.0</td>\n      <td>...</td>\n      <td>0.0</td>\n      <td>0.0</td>\n      <td>0.0</td>\n      <td>0.0</td>\n      <td>0.0</td>\n      <td>1.0</td>\n      <td>1.0</td>\n      <td>0.0</td>\n      <td>0.0</td>\n      <td>0.0</td>\n    </tr>\n    <tr>\n      <th>4</th>\n      <td>0.0</td>\n      <td>0.1</td>\n      <td>1.0</td>\n      <td>2.0</td>\n      <td>1.0</td>\n      <td>2.0</td>\n      <td>2.0</td>\n      <td>2.0</td>\n      <td>2.0</td>\n      <td>2.0</td>\n      <td>...</td>\n      <td>1.0</td>\n      <td>0.0</td>\n      <td>0.0</td>\n      <td>0.0</td>\n      <td>0.0</td>\n      <td>1.0</td>\n      <td>1.0</td>\n      <td>0.0</td>\n      <td>0.0</td>\n      <td>0.0</td>\n    </tr>\n  </tbody>\n</table>\n<p>5 rows × 73 columns</p>\n</div>"
     },
     "execution_count": 10,
     "metadata": {},
     "output_type": "execute_result"
    }
   ],
   "source": [
    "dataset, target = get_preprocessed_brfss_dataset_one_hot_encoded()\n",
    "dataset.head()"
   ],
   "metadata": {
    "collapsed": false
   }
  },
  {
   "cell_type": "code",
   "execution_count": 11,
   "outputs": [
    {
     "data": {
      "text/plain": "   Diabetes\n0       0.0\n1       0.0\n2       0.0\n3       0.0\n4       0.0",
      "text/html": "<div>\n<style scoped>\n    .dataframe tbody tr th:only-of-type {\n        vertical-align: middle;\n    }\n\n    .dataframe tbody tr th {\n        vertical-align: top;\n    }\n\n    .dataframe thead th {\n        text-align: right;\n    }\n</style>\n<table border=\"1\" class=\"dataframe\">\n  <thead>\n    <tr style=\"text-align: right;\">\n      <th></th>\n      <th>Diabetes</th>\n    </tr>\n  </thead>\n  <tbody>\n    <tr>\n      <th>0</th>\n      <td>0.0</td>\n    </tr>\n    <tr>\n      <th>1</th>\n      <td>0.0</td>\n    </tr>\n    <tr>\n      <th>2</th>\n      <td>0.0</td>\n    </tr>\n    <tr>\n      <th>3</th>\n      <td>0.0</td>\n    </tr>\n    <tr>\n      <th>4</th>\n      <td>0.0</td>\n    </tr>\n  </tbody>\n</table>\n</div>"
     },
     "execution_count": 11,
     "metadata": {},
     "output_type": "execute_result"
    }
   ],
   "source": [
    "target.head()"
   ],
   "metadata": {
    "collapsed": false
   }
  },
  {
   "cell_type": "markdown",
   "source": [
    "The method also provides the parameter **target_one_hot_encoded** which can be used to also one hot encode\n",
    "the target variable."
   ],
   "metadata": {
    "collapsed": false
   }
  },
  {
   "cell_type": "code",
   "execution_count": 12,
   "outputs": [
    {
     "data": {
      "text/plain": "    No  Yes\n0  1.0  0.0\n1  1.0  0.0\n2  1.0  0.0\n3  1.0  0.0\n4  1.0  0.0",
      "text/html": "<div>\n<style scoped>\n    .dataframe tbody tr th:only-of-type {\n        vertical-align: middle;\n    }\n\n    .dataframe tbody tr th {\n        vertical-align: top;\n    }\n\n    .dataframe thead th {\n        text-align: right;\n    }\n</style>\n<table border=\"1\" class=\"dataframe\">\n  <thead>\n    <tr style=\"text-align: right;\">\n      <th></th>\n      <th>No</th>\n      <th>Yes</th>\n    </tr>\n  </thead>\n  <tbody>\n    <tr>\n      <th>0</th>\n      <td>1.0</td>\n      <td>0.0</td>\n    </tr>\n    <tr>\n      <th>1</th>\n      <td>1.0</td>\n      <td>0.0</td>\n    </tr>\n    <tr>\n      <th>2</th>\n      <td>1.0</td>\n      <td>0.0</td>\n    </tr>\n    <tr>\n      <th>3</th>\n      <td>1.0</td>\n      <td>0.0</td>\n    </tr>\n    <tr>\n      <th>4</th>\n      <td>1.0</td>\n      <td>0.0</td>\n    </tr>\n  </tbody>\n</table>\n</div>"
     },
     "execution_count": 12,
     "metadata": {},
     "output_type": "execute_result"
    }
   ],
   "source": [
    "dataset, target = get_preprocessed_brfss_dataset_one_hot_encoded(True)\n",
    "target.head()"
   ],
   "metadata": {
    "collapsed": false
   }
  },
  {
   "cell_type": "markdown",
   "source": [
    "### 2. Encoding all ordinal columns\n",
    "The second variant encodes all ordinal columns (including yes/no columns). It also provides the parameter\n",
    "**target_one_hot_encoded**."
   ],
   "metadata": {
    "collapsed": false
   }
  },
  {
   "cell_type": "code",
   "execution_count": 13,
   "outputs": [],
   "source": [
    "# Includes yes/no columns\n",
    "all_ordinal_columns = [\"GenHealth\", \"Healthcare\", \"MedCost\", \"Checkup\", \"HighBP\", \"HighChol\", \"HeartAttack\", \"AngiCoro\",\n",
    "                       \"Stroke\", \"Asthma\", \"Arthritis\", \"Kidney\", \"Sex\", \"Income\", \"SodiumSalt\", \"Age\", \"BMI\",\n",
    "                       \"Education\", \"Alcohol\", \"Smoking\", \"FruitCons\", \"VegetCons\", \"PhysActivity\", \"Muscles\"]\n",
    "\n",
    "def get_preprocessed_brfss_dataset_one_hot_encoded_all_columns(target_one_hot_encoded=False) \\\n",
    "        -> Tuple[DataFrame, DataFrame]:\n",
    "    dataset, target = get_preprocessed_brfss_dataset()\n",
    "    one_hot_encoder = OneHotEncoder()\n",
    "    encoded = pd.DataFrame(\n",
    "        one_hot_encoder.fit_transform(dataset[all_ordinal_columns]).toarray(),\n",
    "        columns=one_hot_encoder.get_feature_names_out())\n",
    "    dataset = dataset.join(encoded)\n",
    "    dataset = dataset.drop(columns=all_ordinal_columns)\n",
    "    if target_one_hot_encoded:\n",
    "        target = pd.DataFrame(one_hot_encoder.fit_transform(target).toarray(), columns=diabetes_columns)\n",
    "    return dataset, target"
   ],
   "metadata": {
    "collapsed": false
   }
  },
  {
   "cell_type": "code",
   "execution_count": 14,
   "outputs": [
    {
     "data": {
      "text/plain": "   PhysHealth  MentHealth    Height    Weight  GenHealth_0.0  GenHealth_1.0  \\\n0         0.5         0.6  0.777293  0.438192            0.0            0.0   \n1         0.0         0.0  0.755459  0.258203            0.0            0.0   \n2         1.0         1.0  0.742358  0.281697            0.0            0.0   \n3         0.0         0.0  0.685590  0.226910            0.0            0.0   \n4         0.0         0.1  0.733624  0.231603            0.0            0.0   \n\n   GenHealth_2.0  GenHealth_3.0  GenHealth_4.0  GenHealth_5.0  ...  \\\n0            0.0            0.0            0.0            1.0  ...   \n1            0.0            1.0            0.0            0.0  ...   \n2            0.0            0.0            0.0            1.0  ...   \n3            1.0            0.0            0.0            0.0  ...   \n4            1.0            0.0            0.0            0.0  ...   \n\n   FruitCons_1.0  FruitCons_2.0  VegetCons_1.0  VegetCons_2.0  \\\n0            0.0            1.0            1.0            0.0   \n1            0.0            1.0            0.0            1.0   \n2            1.0            0.0            0.0            1.0   \n3            1.0            0.0            1.0            0.0   \n4            1.0            0.0            1.0            0.0   \n\n   PhysActivity_1.0  PhysActivity_2.0  PhysActivity_3.0  PhysActivity_4.0  \\\n0               0.0               0.0               0.0               1.0   \n1               0.0               1.0               0.0               0.0   \n2               0.0               0.0               0.0               1.0   \n3               1.0               0.0               0.0               0.0   \n4               1.0               0.0               0.0               0.0   \n\n   Muscles_1.0  Muscles_2.0  \n0          0.0          1.0  \n1          0.0          1.0  \n2          0.0          1.0  \n3          0.0          1.0  \n4          0.0          1.0  \n\n[5 rows x 91 columns]",
      "text/html": "<div>\n<style scoped>\n    .dataframe tbody tr th:only-of-type {\n        vertical-align: middle;\n    }\n\n    .dataframe tbody tr th {\n        vertical-align: top;\n    }\n\n    .dataframe thead th {\n        text-align: right;\n    }\n</style>\n<table border=\"1\" class=\"dataframe\">\n  <thead>\n    <tr style=\"text-align: right;\">\n      <th></th>\n      <th>PhysHealth</th>\n      <th>MentHealth</th>\n      <th>Height</th>\n      <th>Weight</th>\n      <th>GenHealth_0.0</th>\n      <th>GenHealth_1.0</th>\n      <th>GenHealth_2.0</th>\n      <th>GenHealth_3.0</th>\n      <th>GenHealth_4.0</th>\n      <th>GenHealth_5.0</th>\n      <th>...</th>\n      <th>FruitCons_1.0</th>\n      <th>FruitCons_2.0</th>\n      <th>VegetCons_1.0</th>\n      <th>VegetCons_2.0</th>\n      <th>PhysActivity_1.0</th>\n      <th>PhysActivity_2.0</th>\n      <th>PhysActivity_3.0</th>\n      <th>PhysActivity_4.0</th>\n      <th>Muscles_1.0</th>\n      <th>Muscles_2.0</th>\n    </tr>\n  </thead>\n  <tbody>\n    <tr>\n      <th>0</th>\n      <td>0.5</td>\n      <td>0.6</td>\n      <td>0.777293</td>\n      <td>0.438192</td>\n      <td>0.0</td>\n      <td>0.0</td>\n      <td>0.0</td>\n      <td>0.0</td>\n      <td>0.0</td>\n      <td>1.0</td>\n      <td>...</td>\n      <td>0.0</td>\n      <td>1.0</td>\n      <td>1.0</td>\n      <td>0.0</td>\n      <td>0.0</td>\n      <td>0.0</td>\n      <td>0.0</td>\n      <td>1.0</td>\n      <td>0.0</td>\n      <td>1.0</td>\n    </tr>\n    <tr>\n      <th>1</th>\n      <td>0.0</td>\n      <td>0.0</td>\n      <td>0.755459</td>\n      <td>0.258203</td>\n      <td>0.0</td>\n      <td>0.0</td>\n      <td>0.0</td>\n      <td>1.0</td>\n      <td>0.0</td>\n      <td>0.0</td>\n      <td>...</td>\n      <td>0.0</td>\n      <td>1.0</td>\n      <td>0.0</td>\n      <td>1.0</td>\n      <td>0.0</td>\n      <td>1.0</td>\n      <td>0.0</td>\n      <td>0.0</td>\n      <td>0.0</td>\n      <td>1.0</td>\n    </tr>\n    <tr>\n      <th>2</th>\n      <td>1.0</td>\n      <td>1.0</td>\n      <td>0.742358</td>\n      <td>0.281697</td>\n      <td>0.0</td>\n      <td>0.0</td>\n      <td>0.0</td>\n      <td>0.0</td>\n      <td>0.0</td>\n      <td>1.0</td>\n      <td>...</td>\n      <td>1.0</td>\n      <td>0.0</td>\n      <td>0.0</td>\n      <td>1.0</td>\n      <td>0.0</td>\n      <td>0.0</td>\n      <td>0.0</td>\n      <td>1.0</td>\n      <td>0.0</td>\n      <td>1.0</td>\n    </tr>\n    <tr>\n      <th>3</th>\n      <td>0.0</td>\n      <td>0.0</td>\n      <td>0.685590</td>\n      <td>0.226910</td>\n      <td>0.0</td>\n      <td>0.0</td>\n      <td>1.0</td>\n      <td>0.0</td>\n      <td>0.0</td>\n      <td>0.0</td>\n      <td>...</td>\n      <td>1.0</td>\n      <td>0.0</td>\n      <td>1.0</td>\n      <td>0.0</td>\n      <td>1.0</td>\n      <td>0.0</td>\n      <td>0.0</td>\n      <td>0.0</td>\n      <td>0.0</td>\n      <td>1.0</td>\n    </tr>\n    <tr>\n      <th>4</th>\n      <td>0.0</td>\n      <td>0.1</td>\n      <td>0.733624</td>\n      <td>0.231603</td>\n      <td>0.0</td>\n      <td>0.0</td>\n      <td>1.0</td>\n      <td>0.0</td>\n      <td>0.0</td>\n      <td>0.0</td>\n      <td>...</td>\n      <td>1.0</td>\n      <td>0.0</td>\n      <td>1.0</td>\n      <td>0.0</td>\n      <td>1.0</td>\n      <td>0.0</td>\n      <td>0.0</td>\n      <td>0.0</td>\n      <td>0.0</td>\n      <td>1.0</td>\n    </tr>\n  </tbody>\n</table>\n<p>5 rows × 91 columns</p>\n</div>"
     },
     "execution_count": 14,
     "metadata": {},
     "output_type": "execute_result"
    }
   ],
   "source": [
    "dataset, target = get_preprocessed_brfss_dataset_one_hot_encoded_all_columns()\n",
    "dataset.head()"
   ],
   "metadata": {
    "collapsed": false
   }
  },
  {
   "cell_type": "markdown",
   "source": [
    "As a result, only the four normalized numerical values remain not encoded."
   ],
   "metadata": {
    "collapsed": false
   }
  },
  {
   "cell_type": "markdown",
   "source": [
    "## Train/validation/test split\n",
    "In order to train our classifiers, train/validation/test splits are needed.\n",
    "The method get_train_validation_test_split includes a parameter to specify if the test data should also be returned."
   ],
   "metadata": {
    "collapsed": false
   }
  },
  {
   "cell_type": "code",
   "execution_count": 15,
   "outputs": [],
   "source": [
    "def get_train_test_split(preprocessed_dataset, target) -> Tuple[DataFrame, DataFrame, DataFrame, DataFrame]:\n",
    "    data_train, data_test, target_train, target_test = train_test_split(\n",
    "        preprocessed_dataset, target, test_size=0.2, random_state=42, stratify=target)\n",
    "    return data_train, data_test, target_train, target_test\n",
    "\n",
    "def get_train_validation_test_split(preprocessed_dataset, target, include_test_data) \\\n",
    "        -> Union[Tuple[DataFrame, DataFrame, DataFrame, DataFrame], Tuple[\n",
    "            DataFrame, DataFrame, DataFrame, DataFrame, DataFrame, DataFrame]]:\n",
    "    data_train, data_test, target_train, target_test = get_train_test_split(preprocessed_dataset, target)\n",
    "    data_train, data_validation, target_train, target_validation = get_train_test_split(data_train, target_train)\n",
    "    if include_test_data:\n",
    "        return data_train, data_validation, data_test, target_train, target_validation, target_test\n",
    "    else:\n",
    "        return data_train, data_validation, target_train, target_validation"
   ],
   "metadata": {
    "collapsed": false
   }
  },
  {
   "cell_type": "markdown",
   "source": [
    "Additionally, methods are provided to directly include train/validation/test splits in the preprocessing in order to make sure that all classifiers work with the same data.\n",
    "This is the example for one hot encoding:"
   ],
   "metadata": {
    "collapsed": false
   }
  },
  {
   "cell_type": "code",
   "execution_count": 16,
   "outputs": [],
   "source": [
    "def get_preprocessed_brfss_dataset_one_hot_encoded_train_test_split(target_one_hot_encoded=False,\n",
    "                                                                    include_test_data=False) \\\n",
    "        -> Union[Tuple[DataFrame, DataFrame, DataFrame, DataFrame], Tuple[\n",
    "            DataFrame, DataFrame, DataFrame, DataFrame, DataFrame, DataFrame]]:\n",
    "    dataset, target = get_preprocessed_brfss_dataset_one_hot_encoded(target_one_hot_encoded)\n",
    "    return get_train_validation_test_split(dataset, target, include_test_data)"
   ],
   "metadata": {
    "collapsed": false
   }
  },
  {
   "cell_type": "markdown",
   "source": [
    "## Sampling"
   ],
   "metadata": {
    "collapsed": false
   }
  },
  {
   "cell_type": "code",
   "execution_count": 17,
   "outputs": [
    {
     "data": {
      "text/plain": "<Figure size 432x288 with 1 Axes>",
      "image/png": "[encoded data removed]"
     },
     "metadata": {
      "needs_background": "light"
     },
     "output_type": "display_data"
    }
   ],
   "source": [
    "plot_class_frequencies(target)"
   ],
   "metadata": {
    "collapsed": false
   }
  },
  {
   "cell_type": "markdown",
   "source": [
    "It is visible that the dataset is very unbalanced, especially with respect to the value diabetes = 0.0 (no).\n",
    "This is why sampling is needed.\n",
    "We implemented over- and undersampling to test both approaches."
   ],
   "metadata": {
    "collapsed": false
   }
  },
  {
   "cell_type": "code",
   "execution_count": 18,
   "outputs": [],
   "source": [
    "def oversample_dataset(dataset, target) -> Tuple[DataFrame, DataFrame]:\n",
    "    over_sampler = RandomOverSampler()\n",
    "    brfss_balanced, brfss_balanced_target = over_sampler.fit_resample(dataset, target)\n",
    "    return brfss_balanced, brfss_balanced_target\n",
    "\n",
    "\n",
    "def undersample_dataset(dataset, target) -> Tuple[DataFrame, DataFrame]:\n",
    "    under_sampler = RandomUnderSampler()\n",
    "    brfss_balanced, brfss_balanced_target = under_sampler.fit_resample(dataset, target)\n",
    "    return brfss_balanced, brfss_balanced_target"
   ],
   "metadata": {
    "collapsed": false
   }
  },
  {
   "cell_type": "markdown",
   "source": [
    "We then provide methods to combine each of the encoding approaches with each of the sampling variants.\n",
    "This is done after the train/test split to make sure that no test data is sampled.\n",
    "The following is the example for label encoding."
   ],
   "metadata": {
    "collapsed": false
   }
  },
  {
   "cell_type": "code",
   "execution_count": 19,
   "outputs": [],
   "source": [
    "def get_preprocessed_brfss_dataset_label_encoded_train_test_split_oversampled(include_test_data=False) \\\n",
    "        -> Union[Tuple[DataFrame, DataFrame, DataFrame, DataFrame], Tuple[\n",
    "            DataFrame, DataFrame, DataFrame, DataFrame, DataFrame, DataFrame]]:\n",
    "    if include_test_data:\n",
    "        data_train, data_validation, data_test, target_train, target_validation, target_test = \\\n",
    "            get_preprocessed_brfss_dataset_label_encoded_train_test_split(include_test_data)\n",
    "        data_train, target_train = oversample_dataset(data_train, target_train)\n",
    "        return data_train, data_validation, data_test, target_train, target_validation, target_test\n",
    "    else:\n",
    "        data_train, data_validation, target_train, target_validation = \\\n",
    "            get_preprocessed_brfss_dataset_label_encoded_train_test_split(include_test_data)\n",
    "        data_train, target_train = oversample_dataset(data_train, target_train)\n",
    "        return data_train, data_validation, target_train, target_validation\n",
    "\n",
    "\n",
    "def get_preprocessed_brfss_dataset_label_encoded_train_test_split_undersampled(include_test_data=False) \\\n",
    "        -> Union[Tuple[DataFrame, DataFrame, DataFrame, DataFrame], Tuple[\n",
    "            DataFrame, DataFrame, DataFrame, DataFrame, DataFrame, DataFrame]]:\n",
    "    if include_test_data:\n",
    "        data_train, data_validation, data_test, target_train, target_validation, target_test = \\\n",
    "            get_preprocessed_brfss_dataset_label_encoded_train_test_split(include_test_data)\n",
    "        data_train, target_train = undersample_dataset(data_train, target_train)\n",
    "        return data_train, data_validation, data_test, target_train, target_validation, target_test\n",
    "    else:\n",
    "        data_train, data_validation, target_train, target_validation = \\\n",
    "            get_preprocessed_brfss_dataset_label_encoded_train_test_split(include_test_data)\n",
    "        data_train, target_train = undersample_dataset(data_train, target_train)\n",
    "        return data_train, data_validation, target_train, target_validation"
   ],
   "metadata": {
    "collapsed": false
   }
  },
  {
   "cell_type": "code",
   "execution_count": 20,
   "outputs": [
    {
     "data": {
      "text/plain": "<Figure size 432x288 with 1 Axes>",
      "image/png": "[encoded data removed]"
     },
     "metadata": {
      "needs_background": "light"
     },
     "output_type": "display_data"
    }
   ],
   "source": [
    "data_train, data_validation, target_train, target_validation = get_preprocessed_brfss_dataset_label_encoded_train_test_split_oversampled()\n",
    "plot_class_frequencies(target_train)"
   ],
   "metadata": {
    "collapsed": false
   }
  },
  {
   "cell_type": "code",
   "execution_count": 21,
   "outputs": [
    {
     "data": {
      "text/plain": "<Figure size 432x288 with 1 Axes>",
      "image/png": "[encoded data removed]"
     },
     "metadata": {
      "needs_background": "light"
     },
     "output_type": "display_data"
    }
   ],
   "source": [
    "data_train, data_validation, target_train, target_validation = get_preprocessed_brfss_dataset_label_encoded_train_test_split_undersampled()\n",
    "plot_class_frequencies(target_train)"
   ],
   "metadata": {
    "collapsed": false
   }
  },
  {
   "cell_type": "code",
   "execution_count": null,
   "outputs": [],
   "source": [],
   "metadata": {
    "collapsed": false
   }
  }
 ],
 "metadata": {
  "kernelspec": {
   "display_name": "Python 3 (ipykernel)",
   "language": "python",
   "name": "python3"
  },
  "language_info": {
   "codemirror_mode": {
    "name": "ipython",
    "version": 3
   },
   "file_extension": ".py",
   "mimetype": "text/x-python",
   "name": "python",
   "nbconvert_exporter": "python",
   "pygments_lexer": "ipython3",
   "version": "3.9.13"
  }
 },
 "nbformat": 4,
 "nbformat_minor": 1
}
