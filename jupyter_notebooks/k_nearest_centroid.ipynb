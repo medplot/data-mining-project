{
 "cells": [
  {
   "cell_type": "markdown",
   "source": [
    "# K-nearest centroids\n",
    "In this notebook we want to train a K-nearest-centroid classifier that should predict whether a patient has diabetes or not."
   ],
   "metadata": {
    "collapsed": false
   }
  },
  {
   "cell_type": "code",
   "execution_count": 1,
   "metadata": {
    "collapsed": true
   },
   "outputs": [
    {
     "name": "stderr",
     "output_type": "stream",
     "text": [
      "/Users/I516258/opt/anaconda3/lib/python3.9/site-packages/scipy/__init__.py:146: UserWarning: A NumPy version >=1.16.5 and <1.23.0 is required for this version of SciPy (detected version 1.23.3\n",
      "  warnings.warn(f\"A NumPy version >={np_minversion} and <{np_maxversion}\"\n"
     ]
    }
   ],
   "source": [
    "#imports\n",
    "from preprocessing.preprocessing import *\n",
    "from preprocessing.preprocessing_label_encoding import *\n",
    "from preprocessing.preprocessing_one_hot_encoding import *\n",
    "\n",
    "import pandas as pd\n",
    "\n",
    "from sklearn.neighbors import NearestCentroid\n",
    "from sklearn.metrics import accuracy_score, confusion_matrix\n",
    "from sklearn.model_selection import GridSearchCV"
   ]
  },
  {
   "cell_type": "markdown",
   "source": [
    "# Hyperparameter tuning and preprocessing\n",
    "We will evaluate different parameters for the classifier (hyperparameter tuning) as well as different preprocessing steps.\n",
    "\n",
    "In detail, we will vary regarding parameters:<br>\n",
    "\n",
    "\n",
    "| **Parameter** |                        **range Values**                        |\n",
    "|:-------------:|:--------------------------------------------------------------:|\n",
    "| metric        | 'euclidean',<br>'minkowski',<br>'cosine',<br>'sqeuclidean',<br>'manhattan' |\n",
    "\n",
    "And we will vary for preprocessing:\n",
    "\n",
    "|              **Preprocessing**              |                           **Description**                           | **Name train data** | **Name train target** | **Name test data** | **Name test target** |\n",
    "|:-------------------------------------------:|:-------------------------------------------------------------------:|-----------------|-------------------|--------------------|----------------------|\n",
    "|     Label Encoding<br>    |                   Label encoding                  | data_train      | target_train      | data_test          | target_test          |\n",
    "|     Label Encoding<br>+<br>Oversampling     |                   Label encoding and oversampling                   | data_train_os   | target_train_os   | data_test_os       | target_test_os       |\n",
    "|    Label Encoding<br>+<br>Undersampling     |                  Label encoding and undersampling                   | data_train_us   | target_train_us   | data_test_us       | target_test_us       |\n",
    "|            One Hot Encoding (1)             |           One hot encoding for all columns except yes/no            | data_train_oh   | target_train_oh   | data_test_oh       | target_test_oh       |\n",
    "|            One Hot Encoding (2)             |          One hot encoding for all columns including yes/no          | data_train_a_oh | target_train_a_oh | data_test_a_oh     | target_test_a_oh     |\n",
    "|  One Hot Encoding (1)<br>+<br>Oversampling  |   One hot encoding for all columns except yes/no and oversampling   | data_train_oh_os | target_train_oh_os | data_test_oh_os    | target_test_oh_os    |\n",
    "| One Hot Encoding (2) <br>+<br>Oversampling  | One hot encoding for all columns including yes/no and oversampling  | data_train_a_oh_os | target_train_a_oh_os | data_test_a_oh_os  | target_test_a_oh_os  |\n",
    "| One Hot Encoding (1)<br>+<br>Undersampling  |  One hot encoding for all columns except yes/no and undersampling   | data_train_oh_us | target_train_oh_us | data_test_oh_us    | target_test_oh_us    |\n",
    "| One Hot Encoding (2) <br>+<br>Undersampling | One hot encoding for all columns including yes/no and undersampling | data_train_a_oh_us | target_train_a_oh_us | data_test_a_oh_us  | target_test_a_oh_us  |\n",
    "\n",
    "So we start with loading the data:"
   ],
   "metadata": {
    "collapsed": false
   }
  },
  {
   "cell_type": "code",
   "execution_count": null,
   "outputs": [],
   "source": [
    "#label encoding\n",
    "data_train, data_test, target_train, target_test = get_preprocessed_brfss_dataset_label_encoded_train_test_split()\n",
    "\n",
    "#label encoding oversampling\n",
    "data_train_os, data_test_os, target_train_os, target_test_os = get_preprocessed_brfss_dataset_label_encoded_train_test_split_oversampled()\n",
    "\n",
    "#label encoding undersampling\n",
    "data_train_us, data_test_us, target_train_us, target_test_us = get_preprocessed_brfss_dataset_label_encoded_train_test_split_undersampled()\n",
    "\n",
    "#one hot encoding (1) - target not one hot encoded\n",
    "data_train_oh, data_test_oh, target_train_oh, target_test_oh = get_preprocessed_brfss_dataset_one_hot_encoded_train_test_split()\n",
    "\n",
    "#one hot encoding (2) - target not one hot encoded\n",
    "data_train_a_oh, data_test_a_oh, target_train_a_oh, target_test_a_oh = get_preprocessed_brfss_dataset_one_hot_encoded_all_columns_train_test_split()\n",
    "\n",
    "#one hot encoding (1) - target not one hot encoded + oversampling\n",
    "data_train_oh_os, data_test_oh_os, target_train_oh_os, target_test_oh_os = get_preprocessed_brfss_dataset_one_hot_encoded_train_test_split_oversampled()\n",
    "\n",
    "#one hot encoding (2) - target not one hot encoded + oversampling\n",
    "data_train_a_oh_os, data_test_a_oh_os, target_train_a_oh_os, target_test_a_oh_os = get_preprocessed_brfss_dataset_one_hot_encoded_all_columns_train_test_split_oversampled()\n",
    "\n",
    "#one hot encoding (1) - target not one hot encoded + undersampling\n",
    "data_train_oh_us, data_test_oh_us, target_train_oh_us, target_test_oh_us = get_preprocessed_brfss_dataset_one_hot_encoded_train_test_split_undersampled()\n",
    "\n",
    "#one hot encoding (2) - target not one hot encoded + undersampling\n",
    "data_train_a_oh_us, data_test_a_oh_us, target_train_a_oh_us, target_test_a_oh_us = get_preprocessed_brfss_dataset_one_hot_encoded_all_columns_train_test_split_undersampled()"
   ],
   "metadata": {
    "collapsed": false
   }
  },
  {
   "cell_type": "markdown",
   "source": [
    "No we can apply a K-nearest centroid classifier to the train data and test against the test data on how it performs by using the accuracy score.\n",
    "\n",
    "We will do so for each metric parameter that is listed above. The following estimators are structured by the different style of preprocessing."
   ],
   "metadata": {
    "collapsed": false
   }
  },
  {
   "cell_type": "markdown",
   "source": [
    "# Label Encoding"
   ],
   "metadata": {
    "collapsed": false
   }
  },
  {
   "cell_type": "code",
   "execution_count": null,
   "outputs": [],
   "source": [
    "#metrics that should be used\n",
    "params = ('euclidean', 'minkowski', 'cosine', 'sqeuclidean', 'manhattan')\n",
    "\n",
    "for metric in params:\n",
    "    nearest_centroid = NearestCentroid(metric=metric)\n",
    "    nearest_centroid.fit(data_train, target_train.values.ravel())\n",
    "    diabetes_test_prediction = nearest_centroid.predict(data_test)\n",
    "    print(\"metric: {} -> acc: {}\".format(metric, accuracy_score(target_test, diabetes_test_prediction)))"
   ],
   "metadata": {
    "collapsed": false
   }
  },
  {
   "cell_type": "markdown",
   "source": [
    "# Label Encoding + Oversampling"
   ],
   "metadata": {
    "collapsed": false
   }
  },
  {
   "cell_type": "code",
   "execution_count": null,
   "outputs": [],
   "source": [
    "#metrics that should be used\n",
    "params = ('euclidean', 'minkowski', 'cosine', 'sqeuclidean', 'manhattan')\n",
    "\n",
    "for metric in params:\n",
    "    nearest_centroid = NearestCentroid(metric=metric)\n",
    "    nearest_centroid.fit(data_train_os, target_train_os.values.ravel())\n",
    "    diabetes_test_prediction = nearest_centroid.predict(data_test_os)\n",
    "    print(\"metric: {} -> acc: {}\".format(metric, accuracy_score(target_test_os, diabetes_test_prediction)))"
   ],
   "metadata": {
    "collapsed": false
   }
  },
  {
   "cell_type": "markdown",
   "source": [
    "# Label Encoding + Undersampling"
   ],
   "metadata": {
    "collapsed": false
   }
  },
  {
   "cell_type": "code",
   "execution_count": null,
   "outputs": [],
   "source": [
    "#metrics that should be used\n",
    "params = ('euclidean', 'minkowski', 'cosine', 'sqeuclidean', 'manhattan')\n",
    "\n",
    "for metric in params:\n",
    "    nearest_centroid = NearestCentroid(metric=metric)\n",
    "    nearest_centroid.fit(data_train_us, target_train_us.values.ravel())\n",
    "    diabetes_test_prediction = nearest_centroid.predict(data_test_us)\n",
    "    print(\"metric: {} -> acc: {}\".format(metric, accuracy_score(target_test_us, diabetes_test_prediction)))"
   ],
   "metadata": {
    "collapsed": false
   }
  },
  {
   "cell_type": "markdown",
   "source": [
    "# One Hot Encoding (1)\n",
    "yes/no values not one hot encoded"
   ],
   "metadata": {
    "collapsed": false
   }
  },
  {
   "cell_type": "code",
   "execution_count": null,
   "outputs": [],
   "source": [
    "#metrics that should be used\n",
    "params = ('euclidean', 'minkowski', 'cosine', 'sqeuclidean', 'manhattan')\n",
    "\n",
    "for metric in params:\n",
    "    nearest_centroid = NearestCentroid(metric=metric)\n",
    "    nearest_centroid.fit(data_train_oh, target_train_oh.values.ravel())\n",
    "    diabetes_test_prediction = nearest_centroid.predict(data_test_oh)\n",
    "    print(\"metric: {} -> acc: {}\".format(metric, accuracy_score(target_test_oh, diabetes_test_prediction)))"
   ],
   "metadata": {
    "collapsed": false
   }
  },
  {
   "cell_type": "markdown",
   "source": [
    "# One Hot Encoding (2)\n",
    "all columns one hot encoded"
   ],
   "metadata": {
    "collapsed": false
   }
  },
  {
   "cell_type": "code",
   "execution_count": null,
   "outputs": [],
   "source": [
    "#metrics that should be used\n",
    "params = ('euclidean', 'minkowski', 'cosine', 'sqeuclidean', 'manhattan')\n",
    "\n",
    "for metric in params:\n",
    "    nearest_centroid = NearestCentroid(metric=metric)\n",
    "    nearest_centroid.fit(data_train_a_oh, target_train_a_oh.values.ravel())\n",
    "    diabetes_test_prediction = nearest_centroid.predict(data_test_a_oh)\n",
    "    print(\"metric: {} -> acc: {}\".format(metric, accuracy_score(target_test_a_oh, diabetes_test_prediction)))"
   ],
   "metadata": {
    "collapsed": false
   }
  },
  {
   "cell_type": "markdown",
   "source": [
    "# One Hot Encoding (1) + Oversampling"
   ],
   "metadata": {
    "collapsed": false
   }
  },
  {
   "cell_type": "code",
   "execution_count": null,
   "outputs": [],
   "source": [
    "#metrics that should be used\n",
    "params = ('euclidean', 'minkowski', 'cosine', 'sqeuclidean', 'manhattan')\n",
    "\n",
    "for metric in params:\n",
    "    nearest_centroid = NearestCentroid(metric=metric)\n",
    "    nearest_centroid.fit(data_train_oh_os, target_train_oh_os.values.ravel())\n",
    "    diabetes_test_prediction = nearest_centroid.predict(data_test_oh_os)\n",
    "    print(\"metric: {} -> acc: {}\".format(metric, accuracy_score(target_test_oh_os, diabetes_test_prediction)))"
   ],
   "metadata": {
    "collapsed": false
   }
  },
  {
   "cell_type": "markdown",
   "source": [
    "# One Hot Encoding (2) + Oversampling"
   ],
   "metadata": {
    "collapsed": false
   }
  },
  {
   "cell_type": "code",
   "execution_count": null,
   "outputs": [],
   "source": [
    "#metrics that should be used\n",
    "params = ('euclidean', 'minkowski', 'cosine', 'sqeuclidean', 'manhattan')\n",
    "\n",
    "for metric in params:\n",
    "    nearest_centroid = NearestCentroid(metric=metric)\n",
    "    nearest_centroid.fit(data_train_a_oh_os, target_train_a_oh_os.values.ravel())\n",
    "    diabetes_test_prediction = nearest_centroid.predict(data_test_a_oh_os)\n",
    "    print(\"metric: {} -> acc: {}\".format(metric, accuracy_score(target_test_a_oh_os, diabetes_test_prediction)))"
   ],
   "metadata": {
    "collapsed": false
   }
  },
  {
   "cell_type": "markdown",
   "source": [
    "# One Hot Encoding (1) + Undersampling"
   ],
   "metadata": {
    "collapsed": false
   }
  },
  {
   "cell_type": "code",
   "execution_count": null,
   "outputs": [],
   "source": [
    "#metrics that should be used\n",
    "params = ('euclidean', 'minkowski', 'cosine', 'sqeuclidean', 'manhattan')\n",
    "\n",
    "for metric in params:\n",
    "    nearest_centroid = NearestCentroid(metric=metric)\n",
    "    nearest_centroid.fit(data_train_oh_us, target_train_oh_us.values.ravel())\n",
    "    diabetes_test_prediction = nearest_centroid.predict(data_test_oh_us)\n",
    "    print(\"metric: {} -> acc: {}\".format(metric, accuracy_score(target_test_oh_us, diabetes_test_prediction)))"
   ],
   "metadata": {
    "collapsed": false
   }
  },
  {
   "cell_type": "markdown",
   "source": [
    "# One Hot Encoding (2) + Undersampling"
   ],
   "metadata": {
    "collapsed": false
   }
  },
  {
   "cell_type": "code",
   "execution_count": null,
   "outputs": [],
   "source": [
    "#metrics that should be used\n",
    "params = ('euclidean', 'minkowski', 'cosine', 'sqeuclidean', 'manhattan')\n",
    "\n",
    "for metric in params:\n",
    "    nearest_centroid = NearestCentroid(metric=metric)\n",
    "    nearest_centroid.fit(data_train_a_oh_us, target_train_a_oh_us.values.ravel())\n",
    "    diabetes_test_prediction = nearest_centroid.predict(data_test_a_oh_us)\n",
    "    print(\"metric: {} -> acc: {}\".format(metric, accuracy_score(target_test_a_oh_us, diabetes_test_prediction)))"
   ],
   "metadata": {
    "collapsed": false
   }
  },
  {
   "cell_type": "markdown",
   "source": [
    "# Archived-Code - can be deleted later"
   ],
   "metadata": {
    "collapsed": false
   }
  },
  {
   "cell_type": "code",
   "execution_count": 4,
   "outputs": [
    {
     "name": "stderr",
     "output_type": "stream",
     "text": [
      "/Users/I516258/opt/anaconda3/lib/python3.9/site-packages/sklearn/neighbors/_nearest_centroid.py:168: UserWarning: Averaging for metrics other than euclidean and manhattan not supported. The average is set to be the mean.\n",
      "  warnings.warn(\n",
      "/Users/I516258/opt/anaconda3/lib/python3.9/site-packages/sklearn/neighbors/_nearest_centroid.py:168: UserWarning: Averaging for metrics other than euclidean and manhattan not supported. The average is set to be the mean.\n",
      "  warnings.warn(\n",
      "/Users/I516258/opt/anaconda3/lib/python3.9/site-packages/sklearn/neighbors/_nearest_centroid.py:168: UserWarning: Averaging for metrics other than euclidean and manhattan not supported. The average is set to be the mean.\n",
      "  warnings.warn(\n",
      "/Users/I516258/opt/anaconda3/lib/python3.9/site-packages/sklearn/neighbors/_nearest_centroid.py:168: UserWarning: Averaging for metrics other than euclidean and manhattan not supported. The average is set to be the mean.\n",
      "  warnings.warn(\n",
      "/Users/I516258/opt/anaconda3/lib/python3.9/site-packages/sklearn/neighbors/_nearest_centroid.py:168: UserWarning: Averaging for metrics other than euclidean and manhattan not supported. The average is set to be the mean.\n",
      "  warnings.warn(\n",
      "/Users/I516258/opt/anaconda3/lib/python3.9/site-packages/sklearn/neighbors/_nearest_centroid.py:168: UserWarning: Averaging for metrics other than euclidean and manhattan not supported. The average is set to be the mean.\n",
      "  warnings.warn(\n",
      "/Users/I516258/opt/anaconda3/lib/python3.9/site-packages/sklearn/neighbors/_nearest_centroid.py:168: UserWarning: Averaging for metrics other than euclidean and manhattan not supported. The average is set to be the mean.\n",
      "  warnings.warn(\n",
      "/Users/I516258/opt/anaconda3/lib/python3.9/site-packages/sklearn/neighbors/_nearest_centroid.py:168: UserWarning: Averaging for metrics other than euclidean and manhattan not supported. The average is set to be the mean.\n",
      "  warnings.warn(\n",
      "/Users/I516258/opt/anaconda3/lib/python3.9/site-packages/sklearn/neighbors/_nearest_centroid.py:168: UserWarning: Averaging for metrics other than euclidean and manhattan not supported. The average is set to be the mean.\n",
      "  warnings.warn(\n",
      "/Users/I516258/opt/anaconda3/lib/python3.9/site-packages/sklearn/neighbors/_nearest_centroid.py:168: UserWarning: Averaging for metrics other than euclidean and manhattan not supported. The average is set to be the mean.\n",
      "  warnings.warn(\n",
      "/Users/I516258/opt/anaconda3/lib/python3.9/site-packages/sklearn/neighbors/_nearest_centroid.py:168: UserWarning: Averaging for metrics other than euclidean and manhattan not supported. The average is set to be the mean.\n",
      "  warnings.warn(\n",
      "/Users/I516258/opt/anaconda3/lib/python3.9/site-packages/sklearn/neighbors/_nearest_centroid.py:168: UserWarning: Averaging for metrics other than euclidean and manhattan not supported. The average is set to be the mean.\n",
      "  warnings.warn(\n",
      "/Users/I516258/opt/anaconda3/lib/python3.9/site-packages/sklearn/neighbors/_nearest_centroid.py:168: UserWarning: Averaging for metrics other than euclidean and manhattan not supported. The average is set to be the mean.\n",
      "  warnings.warn(\n",
      "/Users/I516258/opt/anaconda3/lib/python3.9/site-packages/sklearn/neighbors/_nearest_centroid.py:168: UserWarning: Averaging for metrics other than euclidean and manhattan not supported. The average is set to be the mean.\n",
      "  warnings.warn(\n",
      "/Users/I516258/opt/anaconda3/lib/python3.9/site-packages/sklearn/neighbors/_nearest_centroid.py:168: UserWarning: Averaging for metrics other than euclidean and manhattan not supported. The average is set to be the mean.\n",
      "  warnings.warn(\n",
      "/Users/I516258/opt/anaconda3/lib/python3.9/site-packages/sklearn/neighbors/_nearest_centroid.py:168: UserWarning: Averaging for metrics other than euclidean and manhattan not supported. The average is set to be the mean.\n",
      "  warnings.warn(\n"
     ]
    },
    {
     "data": {
      "text/plain": "   mean_fit_time  std_fit_time  mean_score_time  std_score_time param_metric  \\\n0       0.058831      0.004980         0.011605        0.000648    euclidean   \n1       0.052294      0.003920         0.014411        0.000776    minkowski   \n2       0.050737      0.001637         0.011910        0.000490       cosine   \n3       0.050477      0.000970         0.013757        0.000381  sqeuclidean   \n4       0.180250      0.005372         0.011906        0.000155    manhattan   \n\n                      params  split0_test_score  split1_test_score  \\\n0    {'metric': 'euclidean'}           0.146888           0.149210   \n1    {'metric': 'minkowski'}           0.146888           0.149210   \n2       {'metric': 'cosine'}           0.370823           0.362782   \n3  {'metric': 'sqeuclidean'}           0.146888           0.149210   \n4    {'metric': 'manhattan'}           0.132178           0.108633   \n\n   split2_test_score  split3_test_score  split4_test_score  mean_test_score  \\\n0           0.147766           0.146449           0.149495         0.147962   \n1           0.147766           0.146449           0.149495         0.147962   \n2           0.367680           0.372253           0.366213         0.367950   \n3           0.147766           0.146449           0.149495         0.147962   \n4           0.109384           0.111847           0.109754         0.114359   \n\n   std_test_score  rank_test_score  \n0        0.001216                2  \n1        0.001216                2  \n2        0.003364                1  \n3        0.001216                2  \n4        0.008973                5  ",
      "text/html": "<div>\n<style scoped>\n    .dataframe tbody tr th:only-of-type {\n        vertical-align: middle;\n    }\n\n    .dataframe tbody tr th {\n        vertical-align: top;\n    }\n\n    .dataframe thead th {\n        text-align: right;\n    }\n</style>\n<table border=\"1\" class=\"dataframe\">\n  <thead>\n    <tr style=\"text-align: right;\">\n      <th></th>\n      <th>mean_fit_time</th>\n      <th>std_fit_time</th>\n      <th>mean_score_time</th>\n      <th>std_score_time</th>\n      <th>param_metric</th>\n      <th>params</th>\n      <th>split0_test_score</th>\n      <th>split1_test_score</th>\n      <th>split2_test_score</th>\n      <th>split3_test_score</th>\n      <th>split4_test_score</th>\n      <th>mean_test_score</th>\n      <th>std_test_score</th>\n      <th>rank_test_score</th>\n    </tr>\n  </thead>\n  <tbody>\n    <tr>\n      <th>0</th>\n      <td>0.058831</td>\n      <td>0.004980</td>\n      <td>0.011605</td>\n      <td>0.000648</td>\n      <td>euclidean</td>\n      <td>{'metric': 'euclidean'}</td>\n      <td>0.146888</td>\n      <td>0.149210</td>\n      <td>0.147766</td>\n      <td>0.146449</td>\n      <td>0.149495</td>\n      <td>0.147962</td>\n      <td>0.001216</td>\n      <td>2</td>\n    </tr>\n    <tr>\n      <th>1</th>\n      <td>0.052294</td>\n      <td>0.003920</td>\n      <td>0.014411</td>\n      <td>0.000776</td>\n      <td>minkowski</td>\n      <td>{'metric': 'minkowski'}</td>\n      <td>0.146888</td>\n      <td>0.149210</td>\n      <td>0.147766</td>\n      <td>0.146449</td>\n      <td>0.149495</td>\n      <td>0.147962</td>\n      <td>0.001216</td>\n      <td>2</td>\n    </tr>\n    <tr>\n      <th>2</th>\n      <td>0.050737</td>\n      <td>0.001637</td>\n      <td>0.011910</td>\n      <td>0.000490</td>\n      <td>cosine</td>\n      <td>{'metric': 'cosine'}</td>\n      <td>0.370823</td>\n      <td>0.362782</td>\n      <td>0.367680</td>\n      <td>0.372253</td>\n      <td>0.366213</td>\n      <td>0.367950</td>\n      <td>0.003364</td>\n      <td>1</td>\n    </tr>\n    <tr>\n      <th>3</th>\n      <td>0.050477</td>\n      <td>0.000970</td>\n      <td>0.013757</td>\n      <td>0.000381</td>\n      <td>sqeuclidean</td>\n      <td>{'metric': 'sqeuclidean'}</td>\n      <td>0.146888</td>\n      <td>0.149210</td>\n      <td>0.147766</td>\n      <td>0.146449</td>\n      <td>0.149495</td>\n      <td>0.147962</td>\n      <td>0.001216</td>\n      <td>2</td>\n    </tr>\n    <tr>\n      <th>4</th>\n      <td>0.180250</td>\n      <td>0.005372</td>\n      <td>0.011906</td>\n      <td>0.000155</td>\n      <td>manhattan</td>\n      <td>{'metric': 'manhattan'}</td>\n      <td>0.132178</td>\n      <td>0.108633</td>\n      <td>0.109384</td>\n      <td>0.111847</td>\n      <td>0.109754</td>\n      <td>0.114359</td>\n      <td>0.008973</td>\n      <td>5</td>\n    </tr>\n  </tbody>\n</table>\n</div>"
     },
     "metadata": {},
     "output_type": "display_data"
    },
    {
     "name": "stdout",
     "output_type": "stream",
     "text": [
      "best score is 0.3679504083507075 with params {'metric': 'cosine'}\n"
     ]
    }
   ],
   "source": [
    "# nearest_centroid = NearestCentroid()\n",
    "# nearest_centroid.fit(data_train, target_train.values.ravel())\n",
    "# predictions = nearest_centroid.predict(data_test)\n",
    "# print(\"nearest_centroid: acc: {}\".format(accuracy_score(target_test, predictions)))\n",
    "#\n",
    "# nearest_centroid.get_params()\n",
    "#\n",
    "# params = {\n",
    "#     'metric': ('euclidean', 'minkowski', 'cosine', 'sqeuclidean', 'manhattan')\n",
    "# }\n",
    "#\n",
    "# grid_search_estimator = GridSearchCV(nearest_centroid, params, scoring='accuracy', cv=5, return_train_score=False)\n",
    "# grid_search_estimator.fit(data_train,target_train.values.ravel())\n",
    "#\n",
    "# results = pd.DataFrame(grid_search_estimator.cv_results_)\n",
    "# display(results)\n",
    "#\n",
    "#\n",
    "# print(\"best score is {} with params {}\".format(grid_search_estimator.best_score_, grid_search_estimator.best_params_))"
   ],
   "metadata": {
    "collapsed": false
   }
  }
 ],
 "metadata": {
  "kernelspec": {
   "display_name": "Python 3",
   "language": "python",
   "name": "python3"
  },
  "language_info": {
   "codemirror_mode": {
    "name": "ipython",
    "version": 2
   },
   "file_extension": ".py",
   "mimetype": "text/x-python",
   "name": "python",
   "nbconvert_exporter": "python",
   "pygments_lexer": "ipython2",
   "version": "2.7.6"
  }
 },
 "nbformat": 4,
 "nbformat_minor": 0
}
