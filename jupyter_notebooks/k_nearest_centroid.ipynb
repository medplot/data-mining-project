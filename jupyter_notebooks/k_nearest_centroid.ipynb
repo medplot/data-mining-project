{
 "cells": [
  {
   "cell_type": "code",
   "execution_count": 1,
   "metadata": {
    "collapsed": true
   },
   "outputs": [],
   "source": [
    "# Data import\n",
    "from preprocessing.preprocessing import download_brfss_dataset\n",
    "#download_brfss_dataset(\"username\", \"token\") -> insert kaggle username and api-token\n",
    "#imports\n",
    "from preprocessing.preprocessing import get_preprocessed_brfss_train_test_split_one_hot_encoded, get_preprocessed_brfss_train_test_split, get_preprocessed_brfss_dataset\n",
    "\n",
    "import pandas as pd\n",
    "from sklearn.neighbors import NearestCentroid\n",
    "from sklearn.metrics import accuracy_score, confusion_matrix\n",
    "from sklearn.model_selection import GridSearchCV"
   ]
  },
  {
   "cell_type": "markdown",
   "source": [
    "We start with loading the already preprocessed data that is split by train and test as well as data and target values."
   ],
   "metadata": {
    "collapsed": false
   }
  },
  {
   "cell_type": "code",
   "execution_count": 2,
   "outputs": [
    {
     "data": {
      "text/plain": "        DIABETE3\n434107       3.0\n110299       3.0\n218193       3.0\n394642       3.0\n354955       3.0",
      "text/html": "<div>\n<style scoped>\n    .dataframe tbody tr th:only-of-type {\n        vertical-align: middle;\n    }\n\n    .dataframe tbody tr th {\n        vertical-align: top;\n    }\n\n    .dataframe thead th {\n        text-align: right;\n    }\n</style>\n<table border=\"1\" class=\"dataframe\">\n  <thead>\n    <tr style=\"text-align: right;\">\n      <th></th>\n      <th>DIABETE3</th>\n    </tr>\n  </thead>\n  <tbody>\n    <tr>\n      <th>434107</th>\n      <td>3.0</td>\n    </tr>\n    <tr>\n      <th>110299</th>\n      <td>3.0</td>\n    </tr>\n    <tr>\n      <th>218193</th>\n      <td>3.0</td>\n    </tr>\n    <tr>\n      <th>394642</th>\n      <td>3.0</td>\n    </tr>\n    <tr>\n      <th>354955</th>\n      <td>3.0</td>\n    </tr>\n  </tbody>\n</table>\n</div>"
     },
     "execution_count": 2,
     "metadata": {},
     "output_type": "execute_result"
    }
   ],
   "source": [
    "data_train, data_test, target_train, target_test = get_preprocessed_brfss_train_test_split()\n",
    "target_train.head()"
   ],
   "metadata": {
    "collapsed": false
   }
  },
  {
   "cell_type": "markdown",
   "source": [
    "Having the data at hand we create the nearest centroid estimator and train it with the data, to see how it performs."
   ],
   "metadata": {
    "collapsed": false
   }
  },
  {
   "cell_type": "code",
   "execution_count": 3,
   "outputs": [
    {
     "name": "stdout",
     "output_type": "stream",
     "text": [
      "nearest_centroid: acc: 0.3455770755464945\n"
     ]
    }
   ],
   "source": [
    "nearest_centroid = NearestCentroid()\n",
    "nearest_centroid.fit(data_train, target_train.values.ravel())\n",
    "predictions = nearest_centroid.predict(data_test)\n",
    "print(\"nearest_centroid: acc: {}\".format(accuracy_score(target_test, predictions)))"
   ],
   "metadata": {
    "collapsed": false
   }
  },
  {
   "cell_type": "markdown",
   "source": [
    "The accuracy score is really low. To see if the estimator performs better with another metric we apply a grid search cross-validation evaluating other metrics."
   ],
   "metadata": {
    "collapsed": false
   }
  },
  {
   "cell_type": "code",
   "execution_count": 4,
   "outputs": [
    {
     "name": "stderr",
     "output_type": "stream",
     "text": [
      "/Users/I516258/opt/anaconda3/lib/python3.9/site-packages/sklearn/neighbors/_nearest_centroid.py:168: UserWarning: Averaging for metrics other than euclidean and manhattan not supported. The average is set to be the mean.\n",
      "  warnings.warn(\n",
      "/Users/I516258/opt/anaconda3/lib/python3.9/site-packages/sklearn/neighbors/_nearest_centroid.py:168: UserWarning: Averaging for metrics other than euclidean and manhattan not supported. The average is set to be the mean.\n",
      "  warnings.warn(\n",
      "/Users/I516258/opt/anaconda3/lib/python3.9/site-packages/sklearn/neighbors/_nearest_centroid.py:168: UserWarning: Averaging for metrics other than euclidean and manhattan not supported. The average is set to be the mean.\n",
      "  warnings.warn(\n",
      "/Users/I516258/opt/anaconda3/lib/python3.9/site-packages/sklearn/neighbors/_nearest_centroid.py:168: UserWarning: Averaging for metrics other than euclidean and manhattan not supported. The average is set to be the mean.\n",
      "  warnings.warn(\n",
      "/Users/I516258/opt/anaconda3/lib/python3.9/site-packages/sklearn/neighbors/_nearest_centroid.py:168: UserWarning: Averaging for metrics other than euclidean and manhattan not supported. The average is set to be the mean.\n",
      "  warnings.warn(\n",
      "/Users/I516258/opt/anaconda3/lib/python3.9/site-packages/sklearn/neighbors/_nearest_centroid.py:168: UserWarning: Averaging for metrics other than euclidean and manhattan not supported. The average is set to be the mean.\n",
      "  warnings.warn(\n",
      "/Users/I516258/opt/anaconda3/lib/python3.9/site-packages/sklearn/neighbors/_nearest_centroid.py:168: UserWarning: Averaging for metrics other than euclidean and manhattan not supported. The average is set to be the mean.\n",
      "  warnings.warn(\n",
      "/Users/I516258/opt/anaconda3/lib/python3.9/site-packages/sklearn/neighbors/_nearest_centroid.py:168: UserWarning: Averaging for metrics other than euclidean and manhattan not supported. The average is set to be the mean.\n",
      "  warnings.warn(\n",
      "/Users/I516258/opt/anaconda3/lib/python3.9/site-packages/sklearn/neighbors/_nearest_centroid.py:168: UserWarning: Averaging for metrics other than euclidean and manhattan not supported. The average is set to be the mean.\n",
      "  warnings.warn(\n",
      "/Users/I516258/opt/anaconda3/lib/python3.9/site-packages/sklearn/neighbors/_nearest_centroid.py:168: UserWarning: Averaging for metrics other than euclidean and manhattan not supported. The average is set to be the mean.\n",
      "  warnings.warn(\n",
      "/Users/I516258/opt/anaconda3/lib/python3.9/site-packages/sklearn/neighbors/_nearest_centroid.py:168: UserWarning: Averaging for metrics other than euclidean and manhattan not supported. The average is set to be the mean.\n",
      "  warnings.warn(\n",
      "/Users/I516258/opt/anaconda3/lib/python3.9/site-packages/sklearn/neighbors/_nearest_centroid.py:168: UserWarning: Averaging for metrics other than euclidean and manhattan not supported. The average is set to be the mean.\n",
      "  warnings.warn(\n",
      "/Users/I516258/opt/anaconda3/lib/python3.9/site-packages/sklearn/neighbors/_nearest_centroid.py:168: UserWarning: Averaging for metrics other than euclidean and manhattan not supported. The average is set to be the mean.\n",
      "  warnings.warn(\n",
      "/Users/I516258/opt/anaconda3/lib/python3.9/site-packages/sklearn/neighbors/_nearest_centroid.py:168: UserWarning: Averaging for metrics other than euclidean and manhattan not supported. The average is set to be the mean.\n",
      "  warnings.warn(\n",
      "/Users/I516258/opt/anaconda3/lib/python3.9/site-packages/sklearn/neighbors/_nearest_centroid.py:168: UserWarning: Averaging for metrics other than euclidean and manhattan not supported. The average is set to be the mean.\n",
      "  warnings.warn(\n",
      "/Users/I516258/opt/anaconda3/lib/python3.9/site-packages/sklearn/neighbors/_nearest_centroid.py:168: UserWarning: Averaging for metrics other than euclidean and manhattan not supported. The average is set to be the mean.\n",
      "  warnings.warn(\n"
     ]
    },
    {
     "data": {
      "text/plain": "   mean_fit_time  std_fit_time  mean_score_time  std_score_time param_metric  \\\n0       0.648981      0.025958         0.051737        0.006320    euclidean   \n1       0.635718      0.026952         0.126896        0.001323    minkowski   \n2       0.652428      0.042118         0.121776        0.007259       cosine   \n3       0.639262      0.027631         0.127580        0.003676  sqeuclidean   \n4       3.131539      0.028700         0.108409        0.011255    manhattan   \n\n                      params  split0_test_score  split1_test_score  \\\n0    {'metric': 'euclidean'}           0.249844           0.283540   \n1    {'metric': 'minkowski'}           0.249844           0.283540   \n2       {'metric': 'cosine'}           0.437281           0.431504   \n3  {'metric': 'sqeuclidean'}           0.249844           0.283540   \n4    {'metric': 'manhattan'}           0.074456           0.080983   \n\n   split2_test_score  split3_test_score  split4_test_score  mean_test_score  \\\n0           0.342394           0.376133           0.347340         0.319850   \n1           0.342394           0.376133           0.347340         0.319850   \n2           0.441400           0.423916           0.431298         0.433080   \n3           0.342394           0.376133           0.347340         0.319850   \n4           0.076084           0.077500           0.072093         0.076223   \n\n   std_test_score  rank_test_score  \n0        0.046154                2  \n1        0.046154                2  \n2        0.005942                1  \n3        0.046154                2  \n4        0.002983                5  ",
      "text/html": "<div>\n<style scoped>\n    .dataframe tbody tr th:only-of-type {\n        vertical-align: middle;\n    }\n\n    .dataframe tbody tr th {\n        vertical-align: top;\n    }\n\n    .dataframe thead th {\n        text-align: right;\n    }\n</style>\n<table border=\"1\" class=\"dataframe\">\n  <thead>\n    <tr style=\"text-align: right;\">\n      <th></th>\n      <th>mean_fit_time</th>\n      <th>std_fit_time</th>\n      <th>mean_score_time</th>\n      <th>std_score_time</th>\n      <th>param_metric</th>\n      <th>params</th>\n      <th>split0_test_score</th>\n      <th>split1_test_score</th>\n      <th>split2_test_score</th>\n      <th>split3_test_score</th>\n      <th>split4_test_score</th>\n      <th>mean_test_score</th>\n      <th>std_test_score</th>\n      <th>rank_test_score</th>\n    </tr>\n  </thead>\n  <tbody>\n    <tr>\n      <th>0</th>\n      <td>0.648981</td>\n      <td>0.025958</td>\n      <td>0.051737</td>\n      <td>0.006320</td>\n      <td>euclidean</td>\n      <td>{'metric': 'euclidean'}</td>\n      <td>0.249844</td>\n      <td>0.283540</td>\n      <td>0.342394</td>\n      <td>0.376133</td>\n      <td>0.347340</td>\n      <td>0.319850</td>\n      <td>0.046154</td>\n      <td>2</td>\n    </tr>\n    <tr>\n      <th>1</th>\n      <td>0.635718</td>\n      <td>0.026952</td>\n      <td>0.126896</td>\n      <td>0.001323</td>\n      <td>minkowski</td>\n      <td>{'metric': 'minkowski'}</td>\n      <td>0.249844</td>\n      <td>0.283540</td>\n      <td>0.342394</td>\n      <td>0.376133</td>\n      <td>0.347340</td>\n      <td>0.319850</td>\n      <td>0.046154</td>\n      <td>2</td>\n    </tr>\n    <tr>\n      <th>2</th>\n      <td>0.652428</td>\n      <td>0.042118</td>\n      <td>0.121776</td>\n      <td>0.007259</td>\n      <td>cosine</td>\n      <td>{'metric': 'cosine'}</td>\n      <td>0.437281</td>\n      <td>0.431504</td>\n      <td>0.441400</td>\n      <td>0.423916</td>\n      <td>0.431298</td>\n      <td>0.433080</td>\n      <td>0.005942</td>\n      <td>1</td>\n    </tr>\n    <tr>\n      <th>3</th>\n      <td>0.639262</td>\n      <td>0.027631</td>\n      <td>0.127580</td>\n      <td>0.003676</td>\n      <td>sqeuclidean</td>\n      <td>{'metric': 'sqeuclidean'}</td>\n      <td>0.249844</td>\n      <td>0.283540</td>\n      <td>0.342394</td>\n      <td>0.376133</td>\n      <td>0.347340</td>\n      <td>0.319850</td>\n      <td>0.046154</td>\n      <td>2</td>\n    </tr>\n    <tr>\n      <th>4</th>\n      <td>3.131539</td>\n      <td>0.028700</td>\n      <td>0.108409</td>\n      <td>0.011255</td>\n      <td>manhattan</td>\n      <td>{'metric': 'manhattan'}</td>\n      <td>0.074456</td>\n      <td>0.080983</td>\n      <td>0.076084</td>\n      <td>0.077500</td>\n      <td>0.072093</td>\n      <td>0.076223</td>\n      <td>0.002983</td>\n      <td>5</td>\n    </tr>\n  </tbody>\n</table>\n</div>"
     },
     "metadata": {},
     "output_type": "display_data"
    },
    {
     "name": "stdout",
     "output_type": "stream",
     "text": [
      "best score is 0.4330797125888323 with params {'metric': 'cosine'}\n"
     ]
    }
   ],
   "source": [
    "nearest_centroid.get_params()\n",
    "\n",
    "params = {\n",
    "    'metric': ('euclidean', 'minkowski', 'cosine', 'sqeuclidean', 'manhattan')\n",
    "}\n",
    "\n",
    "grid_search_estimator = GridSearchCV(nearest_centroid, params, scoring='accuracy', cv=5, return_train_score=False)\n",
    "grid_search_estimator.fit(data_train,target_train.values.ravel())\n",
    "\n",
    "results = pd.DataFrame(grid_search_estimator.cv_results_)\n",
    "display(results)\n",
    "\n",
    "\n",
    "print(\"best score is {} with params {}\".format(grid_search_estimator.best_score_, grid_search_estimator.best_params_))"
   ],
   "metadata": {
    "collapsed": false
   }
  },
  {
   "cell_type": "markdown",
   "source": [
    "We can see that the cosine metric performs better, but still the accuracy is too low.\n",
    "\n",
    "Therefor we try the same with a balanced data set by applying oversampling."
   ],
   "metadata": {
    "collapsed": false
   }
  },
  {
   "cell_type": "code",
   "execution_count": 5,
   "outputs": [],
   "source": [
    "data_train, data_test, target_train, target_test = get_preprocessed_brfss_train_test_split(True)"
   ],
   "metadata": {
    "collapsed": false
   }
  },
  {
   "cell_type": "code",
   "execution_count": 6,
   "outputs": [
    {
     "name": "stderr",
     "output_type": "stream",
     "text": [
      "/Users/I516258/opt/anaconda3/lib/python3.9/site-packages/sklearn/neighbors/_nearest_centroid.py:168: UserWarning: Averaging for metrics other than euclidean and manhattan not supported. The average is set to be the mean.\n",
      "  warnings.warn(\n",
      "/Users/I516258/opt/anaconda3/lib/python3.9/site-packages/sklearn/neighbors/_nearest_centroid.py:168: UserWarning: Averaging for metrics other than euclidean and manhattan not supported. The average is set to be the mean.\n",
      "  warnings.warn(\n",
      "/Users/I516258/opt/anaconda3/lib/python3.9/site-packages/sklearn/neighbors/_nearest_centroid.py:168: UserWarning: Averaging for metrics other than euclidean and manhattan not supported. The average is set to be the mean.\n",
      "  warnings.warn(\n",
      "/Users/I516258/opt/anaconda3/lib/python3.9/site-packages/sklearn/neighbors/_nearest_centroid.py:168: UserWarning: Averaging for metrics other than euclidean and manhattan not supported. The average is set to be the mean.\n",
      "  warnings.warn(\n",
      "/Users/I516258/opt/anaconda3/lib/python3.9/site-packages/sklearn/neighbors/_nearest_centroid.py:168: UserWarning: Averaging for metrics other than euclidean and manhattan not supported. The average is set to be the mean.\n",
      "  warnings.warn(\n",
      "/Users/I516258/opt/anaconda3/lib/python3.9/site-packages/sklearn/neighbors/_nearest_centroid.py:168: UserWarning: Averaging for metrics other than euclidean and manhattan not supported. The average is set to be the mean.\n",
      "  warnings.warn(\n",
      "/Users/I516258/opt/anaconda3/lib/python3.9/site-packages/sklearn/neighbors/_nearest_centroid.py:168: UserWarning: Averaging for metrics other than euclidean and manhattan not supported. The average is set to be the mean.\n",
      "  warnings.warn(\n",
      "/Users/I516258/opt/anaconda3/lib/python3.9/site-packages/sklearn/neighbors/_nearest_centroid.py:168: UserWarning: Averaging for metrics other than euclidean and manhattan not supported. The average is set to be the mean.\n",
      "  warnings.warn(\n",
      "/Users/I516258/opt/anaconda3/lib/python3.9/site-packages/sklearn/neighbors/_nearest_centroid.py:168: UserWarning: Averaging for metrics other than euclidean and manhattan not supported. The average is set to be the mean.\n",
      "  warnings.warn(\n",
      "/Users/I516258/opt/anaconda3/lib/python3.9/site-packages/sklearn/neighbors/_nearest_centroid.py:168: UserWarning: Averaging for metrics other than euclidean and manhattan not supported. The average is set to be the mean.\n",
      "  warnings.warn(\n",
      "/Users/I516258/opt/anaconda3/lib/python3.9/site-packages/sklearn/neighbors/_nearest_centroid.py:168: UserWarning: Averaging for metrics other than euclidean and manhattan not supported. The average is set to be the mean.\n",
      "  warnings.warn(\n",
      "/Users/I516258/opt/anaconda3/lib/python3.9/site-packages/sklearn/neighbors/_nearest_centroid.py:168: UserWarning: Averaging for metrics other than euclidean and manhattan not supported. The average is set to be the mean.\n",
      "  warnings.warn(\n",
      "/Users/I516258/opt/anaconda3/lib/python3.9/site-packages/sklearn/neighbors/_nearest_centroid.py:168: UserWarning: Averaging for metrics other than euclidean and manhattan not supported. The average is set to be the mean.\n",
      "  warnings.warn(\n",
      "/Users/I516258/opt/anaconda3/lib/python3.9/site-packages/sklearn/neighbors/_nearest_centroid.py:168: UserWarning: Averaging for metrics other than euclidean and manhattan not supported. The average is set to be the mean.\n",
      "  warnings.warn(\n",
      "/Users/I516258/opt/anaconda3/lib/python3.9/site-packages/sklearn/neighbors/_nearest_centroid.py:168: UserWarning: Averaging for metrics other than euclidean and manhattan not supported. The average is set to be the mean.\n",
      "  warnings.warn(\n"
     ]
    },
    {
     "data": {
      "text/plain": "   mean_fit_time  std_fit_time  mean_score_time  std_score_time param_metric  \\\n0       6.271346      0.248693         0.443944        0.018117    euclidean   \n1       5.834755      0.113323         0.807827        0.014279    minkowski   \n2       6.201809      0.278082         0.899676        0.042640       cosine   \n3       6.756401      0.141814         0.825689        0.022557  sqeuclidean   \n4      20.894546      0.172316         0.675569        0.008895    manhattan   \n\n                      params  split0_test_score  split1_test_score  \\\n0    {'metric': 'euclidean'}           0.258485           0.260951   \n1    {'metric': 'minkowski'}           0.258485           0.260951   \n2       {'metric': 'cosine'}           0.258857           0.258622   \n3  {'metric': 'sqeuclidean'}           0.258485           0.260951   \n4    {'metric': 'manhattan'}           0.227888           0.227014   \n\n   split2_test_score  split3_test_score  split4_test_score  mean_test_score  \\\n0           0.259118           0.261640           0.259958         0.260030   \n1           0.259118           0.261640           0.259958         0.260030   \n2           0.259482           0.258286           0.259409         0.258931   \n3           0.259118           0.261640           0.259958         0.260030   \n4           0.227809           0.227370           0.226077         0.227232   \n\n   std_test_score  rank_test_score  \n0        0.001155                1  \n1        0.001155                1  \n2        0.000458                4  \n3        0.001155                1  \n4        0.000658                5  ",
      "text/html": "<div>\n<style scoped>\n    .dataframe tbody tr th:only-of-type {\n        vertical-align: middle;\n    }\n\n    .dataframe tbody tr th {\n        vertical-align: top;\n    }\n\n    .dataframe thead th {\n        text-align: right;\n    }\n</style>\n<table border=\"1\" class=\"dataframe\">\n  <thead>\n    <tr style=\"text-align: right;\">\n      <th></th>\n      <th>mean_fit_time</th>\n      <th>std_fit_time</th>\n      <th>mean_score_time</th>\n      <th>std_score_time</th>\n      <th>param_metric</th>\n      <th>params</th>\n      <th>split0_test_score</th>\n      <th>split1_test_score</th>\n      <th>split2_test_score</th>\n      <th>split3_test_score</th>\n      <th>split4_test_score</th>\n      <th>mean_test_score</th>\n      <th>std_test_score</th>\n      <th>rank_test_score</th>\n    </tr>\n  </thead>\n  <tbody>\n    <tr>\n      <th>0</th>\n      <td>6.271346</td>\n      <td>0.248693</td>\n      <td>0.443944</td>\n      <td>0.018117</td>\n      <td>euclidean</td>\n      <td>{'metric': 'euclidean'}</td>\n      <td>0.258485</td>\n      <td>0.260951</td>\n      <td>0.259118</td>\n      <td>0.261640</td>\n      <td>0.259958</td>\n      <td>0.260030</td>\n      <td>0.001155</td>\n      <td>1</td>\n    </tr>\n    <tr>\n      <th>1</th>\n      <td>5.834755</td>\n      <td>0.113323</td>\n      <td>0.807827</td>\n      <td>0.014279</td>\n      <td>minkowski</td>\n      <td>{'metric': 'minkowski'}</td>\n      <td>0.258485</td>\n      <td>0.260951</td>\n      <td>0.259118</td>\n      <td>0.261640</td>\n      <td>0.259958</td>\n      <td>0.260030</td>\n      <td>0.001155</td>\n      <td>1</td>\n    </tr>\n    <tr>\n      <th>2</th>\n      <td>6.201809</td>\n      <td>0.278082</td>\n      <td>0.899676</td>\n      <td>0.042640</td>\n      <td>cosine</td>\n      <td>{'metric': 'cosine'}</td>\n      <td>0.258857</td>\n      <td>0.258622</td>\n      <td>0.259482</td>\n      <td>0.258286</td>\n      <td>0.259409</td>\n      <td>0.258931</td>\n      <td>0.000458</td>\n      <td>4</td>\n    </tr>\n    <tr>\n      <th>3</th>\n      <td>6.756401</td>\n      <td>0.141814</td>\n      <td>0.825689</td>\n      <td>0.022557</td>\n      <td>sqeuclidean</td>\n      <td>{'metric': 'sqeuclidean'}</td>\n      <td>0.258485</td>\n      <td>0.260951</td>\n      <td>0.259118</td>\n      <td>0.261640</td>\n      <td>0.259958</td>\n      <td>0.260030</td>\n      <td>0.001155</td>\n      <td>1</td>\n    </tr>\n    <tr>\n      <th>4</th>\n      <td>20.894546</td>\n      <td>0.172316</td>\n      <td>0.675569</td>\n      <td>0.008895</td>\n      <td>manhattan</td>\n      <td>{'metric': 'manhattan'}</td>\n      <td>0.227888</td>\n      <td>0.227014</td>\n      <td>0.227809</td>\n      <td>0.227370</td>\n      <td>0.226077</td>\n      <td>0.227232</td>\n      <td>0.000658</td>\n      <td>5</td>\n    </tr>\n  </tbody>\n</table>\n</div>"
     },
     "metadata": {},
     "output_type": "display_data"
    },
    {
     "name": "stdout",
     "output_type": "stream",
     "text": [
      "best score is 0.26003037901471193 with params {'metric': 'euclidean'}\n"
     ]
    }
   ],
   "source": [
    "nearest_centroid.get_params()\n",
    "\n",
    "params = {\n",
    "    'metric': ('euclidean', 'minkowski', 'cosine', 'sqeuclidean', 'manhattan')\n",
    "}\n",
    "\n",
    "grid_search_estimator = GridSearchCV(nearest_centroid, params, scoring='accuracy', cv=5, return_train_score=False)\n",
    "grid_search_estimator.fit(data_train,target_train.values.ravel())\n",
    "\n",
    "results = pd.DataFrame(grid_search_estimator.cv_results_)\n",
    "display(results)\n",
    "\n",
    "\n",
    "print(\"best score is {} with params {}\".format(grid_search_estimator.best_score_, grid_search_estimator.best_params_))"
   ],
   "metadata": {
    "collapsed": false
   }
  },
  {
   "cell_type": "markdown",
   "source": [
    "We see that oversampling doesn't lead to a better accuracy."
   ],
   "metadata": {
    "collapsed": false
   }
  }
 ],
 "metadata": {
  "kernelspec": {
   "display_name": "Python 3",
   "language": "python",
   "name": "python3"
  },
  "language_info": {
   "codemirror_mode": {
    "name": "ipython",
    "version": 2
   },
   "file_extension": ".py",
   "mimetype": "text/x-python",
   "name": "python",
   "nbconvert_exporter": "python",
   "pygments_lexer": "ipython2",
   "version": "2.7.6"
  }
 },
 "nbformat": 4,
 "nbformat_minor": 0
}
