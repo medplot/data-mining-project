{
 "cells": [
  {
   "cell_type": "code",
   "execution_count": 1,
   "metadata": {
    "collapsed": true
   },
   "outputs": [
    {
     "name": "stdout",
     "output_type": "stream",
     "text": [
      "   GenHealth  PhysHealth  MentHealth  Healthcare  MedCost  Checkup  HighBP  \\\n",
      "0        5.0        15.0        18.0         1.0      2.0      1.0     1.0   \n",
      "1        3.0        88.0        88.0         2.0      1.0      4.0     3.0   \n",
      "2        4.0        15.0        88.0         1.0      2.0      1.0     3.0   \n",
      "3        5.0        30.0        30.0         1.0      1.0      1.0     1.0   \n",
      "4        5.0        20.0        88.0         1.0      2.0      1.0     3.0   \n",
      "\n",
      "   HighChol  HeartAttack  AngiCoro  Stroke  Asthma  Arthritis  Kidney  Sex  \\\n",
      "0       1.0          2.0       2.0     2.0     1.0        1.0     2.0  2.0   \n",
      "1       2.0          2.0       2.0     2.0     2.0        2.0     2.0  2.0   \n",
      "2       1.0          7.0       2.0     1.0     2.0        1.0     2.0  2.0   \n",
      "3       1.0          2.0       2.0     2.0     2.0        1.0     2.0  2.0   \n",
      "4       2.0          2.0       2.0     2.0     2.0        1.0     2.0  2.0   \n",
      "\n",
      "   Income  SodiumSalt   Age  Height   Weight  BMI  Education  Alcohol  \\\n",
      "0     3.0         0.0   9.0   178.0  12701.0  4.0        2.0      1.0   \n",
      "1     1.0         2.0   7.0   173.0   7484.0  3.0        4.0      1.0   \n",
      "2    99.0         0.0  11.0   180.0   7167.0  2.0        2.0      9.0   \n",
      "3     8.0         2.0   9.0   170.0   8165.0  3.0        2.0      1.0   \n",
      "4    77.0         1.0   9.0   163.0   6441.0  2.0        3.0      1.0   \n",
      "\n",
      "   Smoking  FruitCons  VegetCons  PhysActivity  Muscles  \n",
      "0      3.0        2.0        1.0           4.0      2.0  \n",
      "1      1.0        2.0        2.0           2.0      2.0  \n",
      "2      9.0        9.0        9.0           9.0      9.0  \n",
      "3      4.0        1.0        2.0           4.0      2.0  \n",
      "4      4.0        9.0        1.0           4.0      2.0  \n"
     ]
    }
   ],
   "source": [
    "# Data import\n",
    "from preprocessing.preprocessing import download_brfss_dataset\n",
    "#download_brfss_dataset(\"username\", \"token\") -> insert kaggle username and api-token\n",
    "#imports\n",
    "from preprocessing.preprocessing import get_preprocessed_brfss_train_test_split_one_hot_encoded, get_preprocessed_brfss_train_test_split, get_preprocessed_brfss_dataset\n",
    "\n",
    "import pandas as pd\n",
    "from sklearn.neighbors import NearestCentroid\n",
    "from sklearn.metrics import accuracy_score, confusion_matrix\n",
    "from sklearn.model_selection import GridSearchCV"
   ]
  },
  {
   "cell_type": "markdown",
   "source": [
    "We start with loading the already preprocessed data that is split by train and test as well as data and target values."
   ],
   "metadata": {
    "collapsed": false
   }
  },
  {
   "cell_type": "code",
   "execution_count": 2,
   "outputs": [
    {
     "data": {
      "text/plain": "        DIABETE3\n434107       3.0\n110299       3.0\n218193       3.0\n394642       3.0\n354955       3.0",
      "text/html": "<div>\n<style scoped>\n    .dataframe tbody tr th:only-of-type {\n        vertical-align: middle;\n    }\n\n    .dataframe tbody tr th {\n        vertical-align: top;\n    }\n\n    .dataframe thead th {\n        text-align: right;\n    }\n</style>\n<table border=\"1\" class=\"dataframe\">\n  <thead>\n    <tr style=\"text-align: right;\">\n      <th></th>\n      <th>DIABETE3</th>\n    </tr>\n  </thead>\n  <tbody>\n    <tr>\n      <th>434107</th>\n      <td>3.0</td>\n    </tr>\n    <tr>\n      <th>110299</th>\n      <td>3.0</td>\n    </tr>\n    <tr>\n      <th>218193</th>\n      <td>3.0</td>\n    </tr>\n    <tr>\n      <th>394642</th>\n      <td>3.0</td>\n    </tr>\n    <tr>\n      <th>354955</th>\n      <td>3.0</td>\n    </tr>\n  </tbody>\n</table>\n</div>"
     },
     "execution_count": 2,
     "metadata": {},
     "output_type": "execute_result"
    }
   ],
   "source": [
    "data_train, data_test, target_train, target_test = get_preprocessed_brfss_train_test_split()\n",
    "target_train.head()"
   ],
   "metadata": {
    "collapsed": false
   }
  },
  {
   "cell_type": "markdown",
   "source": [
    "Having the data at hand we create the nearest centroid estimator and train it with the data, to see how it performs."
   ],
   "metadata": {
    "collapsed": false
   }
  },
  {
   "cell_type": "code",
   "execution_count": 3,
   "outputs": [
    {
     "name": "stdout",
     "output_type": "stream",
     "text": [
      "nearest_centroid: acc: 0.15057197870653527\n"
     ]
    }
   ],
   "source": [
    "nearest_centroid = NearestCentroid()\n",
    "nearest_centroid.fit(data_train, target_train.values.ravel())\n",
    "predictions = nearest_centroid.predict(data_test)\n",
    "print(\"nearest_centroid: acc: {}\".format(accuracy_score(target_test, predictions)))"
   ],
   "metadata": {
    "collapsed": false
   }
  },
  {
   "cell_type": "markdown",
   "source": [
    "The accuracy score is really low. To see if the estimator performs better with another metric we apply a grid search cross-validation evaluating other metrics."
   ],
   "metadata": {
    "collapsed": false
   }
  },
  {
   "cell_type": "code",
   "execution_count": 4,
   "outputs": [
    {
     "name": "stderr",
     "output_type": "stream",
     "text": [
      "/Users/I516258/opt/anaconda3/lib/python3.9/site-packages/sklearn/neighbors/_nearest_centroid.py:168: UserWarning: Averaging for metrics other than euclidean and manhattan not supported. The average is set to be the mean.\n",
      "  warnings.warn(\n",
      "/Users/I516258/opt/anaconda3/lib/python3.9/site-packages/sklearn/neighbors/_nearest_centroid.py:168: UserWarning: Averaging for metrics other than euclidean and manhattan not supported. The average is set to be the mean.\n",
      "  warnings.warn(\n",
      "/Users/I516258/opt/anaconda3/lib/python3.9/site-packages/sklearn/neighbors/_nearest_centroid.py:168: UserWarning: Averaging for metrics other than euclidean and manhattan not supported. The average is set to be the mean.\n",
      "  warnings.warn(\n",
      "/Users/I516258/opt/anaconda3/lib/python3.9/site-packages/sklearn/neighbors/_nearest_centroid.py:168: UserWarning: Averaging for metrics other than euclidean and manhattan not supported. The average is set to be the mean.\n",
      "  warnings.warn(\n",
      "/Users/I516258/opt/anaconda3/lib/python3.9/site-packages/sklearn/neighbors/_nearest_centroid.py:168: UserWarning: Averaging for metrics other than euclidean and manhattan not supported. The average is set to be the mean.\n",
      "  warnings.warn(\n",
      "/Users/I516258/opt/anaconda3/lib/python3.9/site-packages/sklearn/neighbors/_nearest_centroid.py:168: UserWarning: Averaging for metrics other than euclidean and manhattan not supported. The average is set to be the mean.\n",
      "  warnings.warn(\n",
      "/Users/I516258/opt/anaconda3/lib/python3.9/site-packages/sklearn/neighbors/_nearest_centroid.py:168: UserWarning: Averaging for metrics other than euclidean and manhattan not supported. The average is set to be the mean.\n",
      "  warnings.warn(\n",
      "/Users/I516258/opt/anaconda3/lib/python3.9/site-packages/sklearn/neighbors/_nearest_centroid.py:168: UserWarning: Averaging for metrics other than euclidean and manhattan not supported. The average is set to be the mean.\n",
      "  warnings.warn(\n",
      "/Users/I516258/opt/anaconda3/lib/python3.9/site-packages/sklearn/neighbors/_nearest_centroid.py:168: UserWarning: Averaging for metrics other than euclidean and manhattan not supported. The average is set to be the mean.\n",
      "  warnings.warn(\n",
      "/Users/I516258/opt/anaconda3/lib/python3.9/site-packages/sklearn/neighbors/_nearest_centroid.py:168: UserWarning: Averaging for metrics other than euclidean and manhattan not supported. The average is set to be the mean.\n",
      "  warnings.warn(\n",
      "/Users/I516258/opt/anaconda3/lib/python3.9/site-packages/sklearn/neighbors/_nearest_centroid.py:168: UserWarning: Averaging for metrics other than euclidean and manhattan not supported. The average is set to be the mean.\n",
      "  warnings.warn(\n",
      "/Users/I516258/opt/anaconda3/lib/python3.9/site-packages/sklearn/neighbors/_nearest_centroid.py:168: UserWarning: Averaging for metrics other than euclidean and manhattan not supported. The average is set to be the mean.\n",
      "  warnings.warn(\n",
      "/Users/I516258/opt/anaconda3/lib/python3.9/site-packages/sklearn/neighbors/_nearest_centroid.py:168: UserWarning: Averaging for metrics other than euclidean and manhattan not supported. The average is set to be the mean.\n",
      "  warnings.warn(\n",
      "/Users/I516258/opt/anaconda3/lib/python3.9/site-packages/sklearn/neighbors/_nearest_centroid.py:168: UserWarning: Averaging for metrics other than euclidean and manhattan not supported. The average is set to be the mean.\n",
      "  warnings.warn(\n",
      "/Users/I516258/opt/anaconda3/lib/python3.9/site-packages/sklearn/neighbors/_nearest_centroid.py:168: UserWarning: Averaging for metrics other than euclidean and manhattan not supported. The average is set to be the mean.\n",
      "  warnings.warn(\n",
      "/Users/I516258/opt/anaconda3/lib/python3.9/site-packages/sklearn/neighbors/_nearest_centroid.py:168: UserWarning: Averaging for metrics other than euclidean and manhattan not supported. The average is set to be the mean.\n",
      "  warnings.warn(\n"
     ]
    },
    {
     "data": {
      "text/plain": "   mean_fit_time  std_fit_time  mean_score_time  std_score_time param_metric  \\\n0       0.058831      0.004980         0.011605        0.000648    euclidean   \n1       0.052294      0.003920         0.014411        0.000776    minkowski   \n2       0.050737      0.001637         0.011910        0.000490       cosine   \n3       0.050477      0.000970         0.013757        0.000381  sqeuclidean   \n4       0.180250      0.005372         0.011906        0.000155    manhattan   \n\n                      params  split0_test_score  split1_test_score  \\\n0    {'metric': 'euclidean'}           0.146888           0.149210   \n1    {'metric': 'minkowski'}           0.146888           0.149210   \n2       {'metric': 'cosine'}           0.370823           0.362782   \n3  {'metric': 'sqeuclidean'}           0.146888           0.149210   \n4    {'metric': 'manhattan'}           0.132178           0.108633   \n\n   split2_test_score  split3_test_score  split4_test_score  mean_test_score  \\\n0           0.147766           0.146449           0.149495         0.147962   \n1           0.147766           0.146449           0.149495         0.147962   \n2           0.367680           0.372253           0.366213         0.367950   \n3           0.147766           0.146449           0.149495         0.147962   \n4           0.109384           0.111847           0.109754         0.114359   \n\n   std_test_score  rank_test_score  \n0        0.001216                2  \n1        0.001216                2  \n2        0.003364                1  \n3        0.001216                2  \n4        0.008973                5  ",
      "text/html": "<div>\n<style scoped>\n    .dataframe tbody tr th:only-of-type {\n        vertical-align: middle;\n    }\n\n    .dataframe tbody tr th {\n        vertical-align: top;\n    }\n\n    .dataframe thead th {\n        text-align: right;\n    }\n</style>\n<table border=\"1\" class=\"dataframe\">\n  <thead>\n    <tr style=\"text-align: right;\">\n      <th></th>\n      <th>mean_fit_time</th>\n      <th>std_fit_time</th>\n      <th>mean_score_time</th>\n      <th>std_score_time</th>\n      <th>param_metric</th>\n      <th>params</th>\n      <th>split0_test_score</th>\n      <th>split1_test_score</th>\n      <th>split2_test_score</th>\n      <th>split3_test_score</th>\n      <th>split4_test_score</th>\n      <th>mean_test_score</th>\n      <th>std_test_score</th>\n      <th>rank_test_score</th>\n    </tr>\n  </thead>\n  <tbody>\n    <tr>\n      <th>0</th>\n      <td>0.058831</td>\n      <td>0.004980</td>\n      <td>0.011605</td>\n      <td>0.000648</td>\n      <td>euclidean</td>\n      <td>{'metric': 'euclidean'}</td>\n      <td>0.146888</td>\n      <td>0.149210</td>\n      <td>0.147766</td>\n      <td>0.146449</td>\n      <td>0.149495</td>\n      <td>0.147962</td>\n      <td>0.001216</td>\n      <td>2</td>\n    </tr>\n    <tr>\n      <th>1</th>\n      <td>0.052294</td>\n      <td>0.003920</td>\n      <td>0.014411</td>\n      <td>0.000776</td>\n      <td>minkowski</td>\n      <td>{'metric': 'minkowski'}</td>\n      <td>0.146888</td>\n      <td>0.149210</td>\n      <td>0.147766</td>\n      <td>0.146449</td>\n      <td>0.149495</td>\n      <td>0.147962</td>\n      <td>0.001216</td>\n      <td>2</td>\n    </tr>\n    <tr>\n      <th>2</th>\n      <td>0.050737</td>\n      <td>0.001637</td>\n      <td>0.011910</td>\n      <td>0.000490</td>\n      <td>cosine</td>\n      <td>{'metric': 'cosine'}</td>\n      <td>0.370823</td>\n      <td>0.362782</td>\n      <td>0.367680</td>\n      <td>0.372253</td>\n      <td>0.366213</td>\n      <td>0.367950</td>\n      <td>0.003364</td>\n      <td>1</td>\n    </tr>\n    <tr>\n      <th>3</th>\n      <td>0.050477</td>\n      <td>0.000970</td>\n      <td>0.013757</td>\n      <td>0.000381</td>\n      <td>sqeuclidean</td>\n      <td>{'metric': 'sqeuclidean'}</td>\n      <td>0.146888</td>\n      <td>0.149210</td>\n      <td>0.147766</td>\n      <td>0.146449</td>\n      <td>0.149495</td>\n      <td>0.147962</td>\n      <td>0.001216</td>\n      <td>2</td>\n    </tr>\n    <tr>\n      <th>4</th>\n      <td>0.180250</td>\n      <td>0.005372</td>\n      <td>0.011906</td>\n      <td>0.000155</td>\n      <td>manhattan</td>\n      <td>{'metric': 'manhattan'}</td>\n      <td>0.132178</td>\n      <td>0.108633</td>\n      <td>0.109384</td>\n      <td>0.111847</td>\n      <td>0.109754</td>\n      <td>0.114359</td>\n      <td>0.008973</td>\n      <td>5</td>\n    </tr>\n  </tbody>\n</table>\n</div>"
     },
     "metadata": {},
     "output_type": "display_data"
    },
    {
     "name": "stdout",
     "output_type": "stream",
     "text": [
      "best score is 0.3679504083507075 with params {'metric': 'cosine'}\n"
     ]
    }
   ],
   "source": [
    "nearest_centroid.get_params()\n",
    "\n",
    "params = {\n",
    "    'metric': ('euclidean', 'minkowski', 'cosine', 'sqeuclidean', 'manhattan')\n",
    "}\n",
    "\n",
    "grid_search_estimator = GridSearchCV(nearest_centroid, params, scoring='accuracy', cv=5, return_train_score=False)\n",
    "grid_search_estimator.fit(data_train,target_train.values.ravel())\n",
    "\n",
    "results = pd.DataFrame(grid_search_estimator.cv_results_)\n",
    "display(results)\n",
    "\n",
    "\n",
    "print(\"best score is {} with params {}\".format(grid_search_estimator.best_score_, grid_search_estimator.best_params_))"
   ],
   "metadata": {
    "collapsed": false
   }
  },
  {
   "cell_type": "markdown",
   "source": [
    "We can see that the cosine metric performs better, but still the accuracy is too low.\n",
    "\n",
    "Therefor we try the same with a balanced data set by applying oversampling."
   ],
   "metadata": {
    "collapsed": false
   }
  },
  {
   "cell_type": "code",
   "execution_count": 5,
   "outputs": [],
   "source": [
    "data_train, data_test, target_train, target_test = get_preprocessed_brfss_train_test_split(True)"
   ],
   "metadata": {
    "collapsed": false
   }
  },
  {
   "cell_type": "code",
   "execution_count": 6,
   "outputs": [
    {
     "name": "stderr",
     "output_type": "stream",
     "text": [
      "/Users/I516258/opt/anaconda3/lib/python3.9/site-packages/sklearn/neighbors/_nearest_centroid.py:168: UserWarning: Averaging for metrics other than euclidean and manhattan not supported. The average is set to be the mean.\n",
      "  warnings.warn(\n",
      "/Users/I516258/opt/anaconda3/lib/python3.9/site-packages/sklearn/neighbors/_nearest_centroid.py:168: UserWarning: Averaging for metrics other than euclidean and manhattan not supported. The average is set to be the mean.\n",
      "  warnings.warn(\n",
      "/Users/I516258/opt/anaconda3/lib/python3.9/site-packages/sklearn/neighbors/_nearest_centroid.py:168: UserWarning: Averaging for metrics other than euclidean and manhattan not supported. The average is set to be the mean.\n",
      "  warnings.warn(\n",
      "/Users/I516258/opt/anaconda3/lib/python3.9/site-packages/sklearn/neighbors/_nearest_centroid.py:168: UserWarning: Averaging for metrics other than euclidean and manhattan not supported. The average is set to be the mean.\n",
      "  warnings.warn(\n",
      "/Users/I516258/opt/anaconda3/lib/python3.9/site-packages/sklearn/neighbors/_nearest_centroid.py:168: UserWarning: Averaging for metrics other than euclidean and manhattan not supported. The average is set to be the mean.\n",
      "  warnings.warn(\n",
      "/Users/I516258/opt/anaconda3/lib/python3.9/site-packages/sklearn/neighbors/_nearest_centroid.py:168: UserWarning: Averaging for metrics other than euclidean and manhattan not supported. The average is set to be the mean.\n",
      "  warnings.warn(\n",
      "/Users/I516258/opt/anaconda3/lib/python3.9/site-packages/sklearn/neighbors/_nearest_centroid.py:168: UserWarning: Averaging for metrics other than euclidean and manhattan not supported. The average is set to be the mean.\n",
      "  warnings.warn(\n",
      "/Users/I516258/opt/anaconda3/lib/python3.9/site-packages/sklearn/neighbors/_nearest_centroid.py:168: UserWarning: Averaging for metrics other than euclidean and manhattan not supported. The average is set to be the mean.\n",
      "  warnings.warn(\n",
      "/Users/I516258/opt/anaconda3/lib/python3.9/site-packages/sklearn/neighbors/_nearest_centroid.py:168: UserWarning: Averaging for metrics other than euclidean and manhattan not supported. The average is set to be the mean.\n",
      "  warnings.warn(\n",
      "/Users/I516258/opt/anaconda3/lib/python3.9/site-packages/sklearn/neighbors/_nearest_centroid.py:168: UserWarning: Averaging for metrics other than euclidean and manhattan not supported. The average is set to be the mean.\n",
      "  warnings.warn(\n",
      "/Users/I516258/opt/anaconda3/lib/python3.9/site-packages/sklearn/neighbors/_nearest_centroid.py:168: UserWarning: Averaging for metrics other than euclidean and manhattan not supported. The average is set to be the mean.\n",
      "  warnings.warn(\n",
      "/Users/I516258/opt/anaconda3/lib/python3.9/site-packages/sklearn/neighbors/_nearest_centroid.py:168: UserWarning: Averaging for metrics other than euclidean and manhattan not supported. The average is set to be the mean.\n",
      "  warnings.warn(\n",
      "/Users/I516258/opt/anaconda3/lib/python3.9/site-packages/sklearn/neighbors/_nearest_centroid.py:168: UserWarning: Averaging for metrics other than euclidean and manhattan not supported. The average is set to be the mean.\n",
      "  warnings.warn(\n",
      "/Users/I516258/opt/anaconda3/lib/python3.9/site-packages/sklearn/neighbors/_nearest_centroid.py:168: UserWarning: Averaging for metrics other than euclidean and manhattan not supported. The average is set to be the mean.\n",
      "  warnings.warn(\n",
      "/Users/I516258/opt/anaconda3/lib/python3.9/site-packages/sklearn/neighbors/_nearest_centroid.py:168: UserWarning: Averaging for metrics other than euclidean and manhattan not supported. The average is set to be the mean.\n",
      "  warnings.warn(\n",
      "/Users/I516258/opt/anaconda3/lib/python3.9/site-packages/sklearn/neighbors/_nearest_centroid.py:168: UserWarning: Averaging for metrics other than euclidean and manhattan not supported. The average is set to be the mean.\n",
      "  warnings.warn(\n"
     ]
    },
    {
     "data": {
      "text/plain": "   mean_fit_time  std_fit_time  mean_score_time  std_score_time param_metric  \\\n0       0.409747      0.009358         0.051765        0.000694    euclidean   \n1       0.397329      0.002604         0.069561        0.001140    minkowski   \n2       0.406972      0.006148         0.060112        0.006748       cosine   \n3       0.434645      0.038477         0.070327        0.003606  sqeuclidean   \n4       1.128352      0.012005         0.059367        0.000574    manhattan   \n\n                      params  split0_test_score  split1_test_score  \\\n0    {'metric': 'euclidean'}           0.289597           0.288940   \n1    {'metric': 'minkowski'}           0.289597           0.288940   \n2       {'metric': 'cosine'}           0.306257           0.307463   \n3  {'metric': 'sqeuclidean'}           0.289597           0.288940   \n4    {'metric': 'manhattan'}           0.292831           0.293368   \n\n   split2_test_score  split3_test_score  split4_test_score  mean_test_score  \\\n0           0.289900           0.289340           0.289010         0.289357   \n1           0.289900           0.289340           0.289010         0.289357   \n2           0.305660           0.307682           0.307229         0.306858   \n3           0.289900           0.289340           0.289010         0.289357   \n4           0.293407           0.293906           0.295337         0.293770   \n\n   std_test_score  rank_test_score  \n0        0.000360                3  \n1        0.000360                3  \n2        0.000772                1  \n3        0.000360                3  \n4        0.000854                2  ",
      "text/html": "<div>\n<style scoped>\n    .dataframe tbody tr th:only-of-type {\n        vertical-align: middle;\n    }\n\n    .dataframe tbody tr th {\n        vertical-align: top;\n    }\n\n    .dataframe thead th {\n        text-align: right;\n    }\n</style>\n<table border=\"1\" class=\"dataframe\">\n  <thead>\n    <tr style=\"text-align: right;\">\n      <th></th>\n      <th>mean_fit_time</th>\n      <th>std_fit_time</th>\n      <th>mean_score_time</th>\n      <th>std_score_time</th>\n      <th>param_metric</th>\n      <th>params</th>\n      <th>split0_test_score</th>\n      <th>split1_test_score</th>\n      <th>split2_test_score</th>\n      <th>split3_test_score</th>\n      <th>split4_test_score</th>\n      <th>mean_test_score</th>\n      <th>std_test_score</th>\n      <th>rank_test_score</th>\n    </tr>\n  </thead>\n  <tbody>\n    <tr>\n      <th>0</th>\n      <td>0.409747</td>\n      <td>0.009358</td>\n      <td>0.051765</td>\n      <td>0.000694</td>\n      <td>euclidean</td>\n      <td>{'metric': 'euclidean'}</td>\n      <td>0.289597</td>\n      <td>0.288940</td>\n      <td>0.289900</td>\n      <td>0.289340</td>\n      <td>0.289010</td>\n      <td>0.289357</td>\n      <td>0.000360</td>\n      <td>3</td>\n    </tr>\n    <tr>\n      <th>1</th>\n      <td>0.397329</td>\n      <td>0.002604</td>\n      <td>0.069561</td>\n      <td>0.001140</td>\n      <td>minkowski</td>\n      <td>{'metric': 'minkowski'}</td>\n      <td>0.289597</td>\n      <td>0.288940</td>\n      <td>0.289900</td>\n      <td>0.289340</td>\n      <td>0.289010</td>\n      <td>0.289357</td>\n      <td>0.000360</td>\n      <td>3</td>\n    </tr>\n    <tr>\n      <th>2</th>\n      <td>0.406972</td>\n      <td>0.006148</td>\n      <td>0.060112</td>\n      <td>0.006748</td>\n      <td>cosine</td>\n      <td>{'metric': 'cosine'}</td>\n      <td>0.306257</td>\n      <td>0.307463</td>\n      <td>0.305660</td>\n      <td>0.307682</td>\n      <td>0.307229</td>\n      <td>0.306858</td>\n      <td>0.000772</td>\n      <td>1</td>\n    </tr>\n    <tr>\n      <th>3</th>\n      <td>0.434645</td>\n      <td>0.038477</td>\n      <td>0.070327</td>\n      <td>0.003606</td>\n      <td>sqeuclidean</td>\n      <td>{'metric': 'sqeuclidean'}</td>\n      <td>0.289597</td>\n      <td>0.288940</td>\n      <td>0.289900</td>\n      <td>0.289340</td>\n      <td>0.289010</td>\n      <td>0.289357</td>\n      <td>0.000360</td>\n      <td>3</td>\n    </tr>\n    <tr>\n      <th>4</th>\n      <td>1.128352</td>\n      <td>0.012005</td>\n      <td>0.059367</td>\n      <td>0.000574</td>\n      <td>manhattan</td>\n      <td>{'metric': 'manhattan'}</td>\n      <td>0.292831</td>\n      <td>0.293368</td>\n      <td>0.293407</td>\n      <td>0.293906</td>\n      <td>0.295337</td>\n      <td>0.293770</td>\n      <td>0.000854</td>\n      <td>2</td>\n    </tr>\n  </tbody>\n</table>\n</div>"
     },
     "metadata": {},
     "output_type": "display_data"
    },
    {
     "name": "stdout",
     "output_type": "stream",
     "text": [
      "best score is 0.3068581306919539 with params {'metric': 'cosine'}\n"
     ]
    }
   ],
   "source": [
    "nearest_centroid.get_params()\n",
    "\n",
    "params = {\n",
    "    'metric': ('euclidean', 'minkowski', 'cosine', 'sqeuclidean', 'manhattan')\n",
    "}\n",
    "\n",
    "grid_search_estimator = GridSearchCV(nearest_centroid, params, scoring='accuracy', cv=5, return_train_score=False)\n",
    "grid_search_estimator.fit(data_train,target_train.values.ravel())\n",
    "\n",
    "results = pd.DataFrame(grid_search_estimator.cv_results_)\n",
    "display(results)\n",
    "\n",
    "\n",
    "print(\"best score is {} with params {}\".format(grid_search_estimator.best_score_, grid_search_estimator.best_params_))"
   ],
   "metadata": {
    "collapsed": false
   }
  },
  {
   "cell_type": "markdown",
   "source": [
    "We see that oversampling doesn't lead to a better accuracy."
   ],
   "metadata": {
    "collapsed": false
   }
  }
 ],
 "metadata": {
  "kernelspec": {
   "display_name": "Python 3",
   "language": "python",
   "name": "python3"
  },
  "language_info": {
   "codemirror_mode": {
    "name": "ipython",
    "version": 2
   },
   "file_extension": ".py",
   "mimetype": "text/x-python",
   "name": "python",
   "nbconvert_exporter": "python",
   "pygments_lexer": "ipython2",
   "version": "2.7.6"
  }
 },
 "nbformat": 4,
 "nbformat_minor": 0
}
