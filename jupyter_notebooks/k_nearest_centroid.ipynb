{
 "cells": [
  {
   "cell_type": "code",
   "execution_count": 7,
   "metadata": {
    "collapsed": true
   },
   "outputs": [],
   "source": [
    "# Data import\n",
    "from preprocessing.preprocessing import download_brfss_dataset\n",
    "#download_brfss_dataset(\"username\", \"token\") -> insert kaggle username and api-token\n",
    "#imports\n",
    "from preprocessing.preprocessing import get_preprocessed_brfss_train_test_split_one_hot_encoded, get_preprocessed_brfss_train_test_split, get_preprocessed_brfss_dataset\n",
    "\n",
    "import pandas as pd\n",
    "from sklearn.neighbors import NearestCentroid\n",
    "from sklearn.metrics import accuracy_score, confusion_matrix"
   ]
  },
  {
   "cell_type": "code",
   "execution_count": 8,
   "outputs": [
    {
     "data": {
      "text/plain": "0    3.0\n1    3.0\n2    3.0\n3    3.0\n4    3.0\nName: DIABETE3, dtype: float64"
     },
     "execution_count": 8,
     "metadata": {},
     "output_type": "execute_result"
    }
   ],
   "source": [
    "train_dataset, target = get_preprocessed_brfss_dataset()\n",
    "target = target.squeeze()\n",
    "\n",
    "target.head()"
   ],
   "metadata": {
    "collapsed": false
   }
  },
  {
   "cell_type": "code",
   "execution_count": 9,
   "outputs": [
    {
     "name": "stdout",
     "output_type": "stream",
     "text": [
      "nearest_centroid: acc: 0.3455770755464945\n"
     ]
    }
   ],
   "source": [
    "data_train, data_test, target_train, target_test = get_preprocessed_brfss_train_test_split()\n",
    "target_train.head()\n",
    "\n",
    "nearest_centroid = NearestCentroid()\n",
    "nearest_centroid.fit(data_train, target_train.values.ravel())\n",
    "predictions = nearest_centroid.predict(data_test)\n",
    "print(\"nearest_centroid: acc: {}\".format(accuracy_score(target_test, predictions)))"
   ],
   "metadata": {
    "collapsed": false
   }
  }
 ],
 "metadata": {
  "kernelspec": {
   "display_name": "Python 3",
   "language": "python",
   "name": "python3"
  },
  "language_info": {
   "codemirror_mode": {
    "name": "ipython",
    "version": 2
   },
   "file_extension": ".py",
   "mimetype": "text/x-python",
   "name": "python",
   "nbconvert_exporter": "python",
   "pygments_lexer": "ipython2",
   "version": "2.7.6"
  }
 },
 "nbformat": 4,
 "nbformat_minor": 0
}
