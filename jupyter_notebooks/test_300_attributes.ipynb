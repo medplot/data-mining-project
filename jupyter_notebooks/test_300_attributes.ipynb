{
 "cells": [
  {
   "cell_type": "code",
   "execution_count": 1,
   "metadata": {
    "collapsed": true
   },
   "outputs": [],
   "source": [
    "from preprocessing.preprocessing import *\n",
    "from sklearn.neighbors import KNeighborsClassifier\n",
    "import warnings\n",
    "warnings.filterwarnings('ignore')"
   ]
  },
  {
   "cell_type": "code",
   "execution_count": 23,
   "outputs": [],
   "source": [
    "def preprocess_dataset(dataset):\n",
    "    dataset = dataset.dropna(subset=['DIABETE3'])\n",
    "    dataset = dataset[dataset.DIABETE3 != 2]\n",
    "    dataset = dataset[dataset.DIABETE3 != 4]\n",
    "    dataset = dataset[dataset.DIABETE3 != 9]\n",
    "    dataset = dataset[dataset.DIABETE3 != 7]\n",
    "    dataset[\"DIABETE3\"] = dataset[\"DIABETE3\"].replace(3, 0)\n",
    "    dataset.reset_index(inplace=True, drop=True)\n",
    "    target = pd.DataFrame(dataset[\"DIABETE3\"])\n",
    "    #dataset = dataset.drop(columns=[\"DIABETE3\", \"IDATE\", \"IMONTH\", \"IDAY\", \"IYEAR\", \"PCDMDECN\", \"EXACTOT1\", \"EXACTOT2\"])\n",
    "    dataset = dataset.drop(columns=\"DIABETE3\")\n",
    "    dataset = dataset.fillna(0)\n",
    "    return dataset, target\n",
    "\n",
    "#params = ('euclidean'), 'cosine', 'manhattan', 'jaccard')"
   ],
   "metadata": {
    "collapsed": false
   }
  },
  {
   "cell_type": "markdown",
   "source": [
    "First try with all variables"
   ],
   "metadata": {
    "collapsed": false
   }
  },
  {
   "cell_type": "code",
   "execution_count": 21,
   "outputs": [],
   "source": [
    "from sklearn.metrics import fbeta_score\n",
    "\n",
    "dataset = load_dataset()\n",
    "dataset, target = preprocess_dataset(dataset)\n",
    "data_train, data_validation, data_test, target_train, target_validation, target_test = get_train_validation_test_split(dataset, target, include_test_data=True)"
   ],
   "metadata": {
    "collapsed": false
   }
  },
  {
   "cell_type": "code",
   "execution_count": 8,
   "outputs": [
    {
     "name": "stdout",
     "output_type": "stream",
     "text": [
      "K = 2, metric = euclidean --> F2 = 0.07056472596323973\n",
      "K = 3, metric = euclidean --> F2 = 0.14501681921301726\n",
      "K = 4, metric = euclidean --> F2 = 0.056268738651239394\n",
      "K = 5, metric = euclidean --> F2 = 0.0984247936254327\n",
      "K = 6, metric = euclidean --> F2 = 0.0430189965073686\n",
      "K = 7, metric = euclidean --> F2 = 0.06994249869315211\n",
      "K = 8, metric = euclidean --> F2 = 0.03522634802346995\n",
      "K = 9, metric = euclidean --> F2 = 0.057144066541090804\n",
      "K = 10, metric = euclidean --> F2 = 0.030447131729569216\n",
      "K = 11, metric = euclidean --> F2 = 0.04239912852169084\n",
      "K = 12, metric = euclidean --> F2 = 0.02288131934550792\n",
      "K = 13, metric = euclidean --> F2 = 0.0331644700124501\n",
      "K = 14, metric = euclidean --> F2 = 0.018931608213072545\n"
     ]
    }
   ],
   "source": [
    "for k_neighbors in range(2,15):\n",
    "        knn_estimator = KNeighborsClassifier(n_neighbors=k_neighbors, metric=\"euclidean\")\n",
    "        knn_estimator.fit(data_train, target_train.values.ravel())\n",
    "        diabetes_test_prediction = knn_estimator.predict(data_validation)\n",
    "        f2 = fbeta_score(target_validation, diabetes_test_prediction, beta=2)\n",
    "        print(\"K = {}, metric = {} --> F2 = {}\".format(k_neighbors, \"euclidean\", f2))"
   ],
   "metadata": {
    "collapsed": false
   }
  },
  {
   "cell_type": "code",
   "execution_count": 22,
   "outputs": [
    {
     "name": "stdout",
     "output_type": "stream",
     "text": [
      "F2 = 0.22696929238985314\n"
     ]
    }
   ],
   "source": [
    "# Test best classifier again\n",
    "knn_estimator = KNeighborsClassifier(n_neighbors=1, metric=\"euclidean\")\n",
    "knn_estimator.fit(data_train, target_train.values.ravel())\n",
    "diabetes_test_prediction = knn_estimator.predict(data_test)\n",
    "f2 = fbeta_score(target_test, diabetes_test_prediction, beta=2)\n",
    "print(\"F2 = {}\".format(f2))"
   ],
   "metadata": {
    "collapsed": false
   }
  },
  {
   "cell_type": "markdown",
   "source": [
    "Now try with only the 30 selected variables"
   ],
   "metadata": {
    "collapsed": false
   }
  },
  {
   "cell_type": "code",
   "execution_count": 24,
   "outputs": [],
   "source": [
    "dataset = load_dataset()\n",
    "dataset = dataset[relevant_columns]\n",
    "dataset, target = preprocess_dataset(dataset)\n",
    "data_train, data_validation, data_test, target_train, target_validation, target_test = get_train_validation_test_split(dataset, target, include_test_data=True)"
   ],
   "metadata": {
    "collapsed": false
   }
  },
  {
   "cell_type": "code",
   "execution_count": 13,
   "outputs": [
    {
     "name": "stdout",
     "output_type": "stream",
     "text": [
      "K = 1, metric = euclidean --> F2 = 0.25871107538531435\n",
      "K = 2, metric = euclidean --> F2 = 0.09348389485375787\n",
      "K = 3, metric = euclidean --> F2 = 0.1959211732355637\n",
      "K = 4, metric = euclidean --> F2 = 0.09191138374816074\n",
      "K = 5, metric = euclidean --> F2 = 0.15675815023399697\n",
      "K = 6, metric = euclidean --> F2 = 0.08459372066339835\n",
      "K = 7, metric = euclidean --> F2 = 0.12948632015111816\n",
      "K = 8, metric = euclidean --> F2 = 0.07585467840558088\n",
      "K = 9, metric = euclidean --> F2 = 0.11177209197011177\n",
      "K = 10, metric = euclidean --> F2 = 0.06825038502922003\n",
      "K = 11, metric = euclidean --> F2 = 0.09758480212836716\n",
      "K = 12, metric = euclidean --> F2 = 0.06251986860231006\n",
      "K = 13, metric = euclidean --> F2 = 0.08585128881629918\n",
      "K = 14, metric = euclidean --> F2 = 0.05813829900303978\n"
     ]
    }
   ],
   "source": [
    "for k_neighbors in range(1,15):\n",
    "        knn_estimator = KNeighborsClassifier(n_neighbors=k_neighbors, metric=\"euclidean\")\n",
    "        knn_estimator.fit(data_train, target_train.values.ravel())\n",
    "        diabetes_test_prediction = knn_estimator.predict(data_validation)\n",
    "        f2 = fbeta_score(target_validation, diabetes_test_prediction, beta=2)\n",
    "        print(\"K = {}, metric = {} --> F2 = {}\".format(k_neighbors, \"euclidean\", f2))"
   ],
   "metadata": {
    "collapsed": false
   }
  },
  {
   "cell_type": "code",
   "execution_count": 25,
   "outputs": [
    {
     "name": "stdout",
     "output_type": "stream",
     "text": [
      "F2 = 0.26244999912662226\n"
     ]
    }
   ],
   "source": [
    "# Test best classifier again\n",
    "knn_estimator = KNeighborsClassifier(n_neighbors=1, metric=\"euclidean\")\n",
    "knn_estimator.fit(data_train, target_train.values.ravel())\n",
    "diabetes_test_prediction = knn_estimator.predict(data_test)\n",
    "f2 = fbeta_score(target_test, diabetes_test_prediction, beta=2)\n",
    "print(\"F2 = {}\".format(f2))"
   ],
   "metadata": {
    "collapsed": false
   }
  },
  {
   "cell_type": "code",
   "execution_count": null,
   "outputs": [],
   "source": [],
   "metadata": {
    "collapsed": false
   }
  }
 ],
 "metadata": {
  "kernelspec": {
   "display_name": "Python 3",
   "language": "python",
   "name": "python3"
  },
  "language_info": {
   "codemirror_mode": {
    "name": "ipython",
    "version": 2
   },
   "file_extension": ".py",
   "mimetype": "text/x-python",
   "name": "python",
   "nbconvert_exporter": "python",
   "pygments_lexer": "ipython2",
   "version": "2.7.6"
  }
 },
 "nbformat": 4,
 "nbformat_minor": 0
}
