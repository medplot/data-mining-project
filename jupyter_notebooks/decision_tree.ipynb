{
 "cells": [
  {
   "cell_type": "code",
   "execution_count": 8,
   "metadata": {
    "collapsed": true,
    "pycharm": {
     "name": "#%%\n"
    }
   },
   "outputs": [],
   "source": [
    "from preprocessing.preprocessing_label_encoding import  get_preprocessed_brfss_dataset_label_encoded_train_test_split, get_preprocessed_brfss_dataset_label_encoded_train_test_split_undersampled\n",
    "from preprocessing.preprocessing import diabetes_columns\n",
    "from sklearn.tree import DecisionTreeClassifier\n",
    "import graphviz\n",
    "from sklearn import tree\n",
    "from IPython.core.display_functions import display\n",
    "from sklearn.model_selection import GridSearchCV, cross_val_score, StratifiedKFold, cross_val_predict\n",
    "from sklearn.metrics import classification_report\n",
    "import pandas as pd"
   ]
  },
  {
   "cell_type": "code",
   "execution_count": 2,
   "outputs": [],
   "source": [
    "import warnings\n",
    "warnings.filterwarnings('ignore')"
   ],
   "metadata": {
    "collapsed": false,
    "pycharm": {
     "name": "#%%\n"
    }
   }
  },
  {
   "cell_type": "code",
   "execution_count": 3,
   "outputs": [
    {
     "data": {
      "text/plain": "        GenHealth  PhysHealth  MentHealth  Healthcare  MedCost  Checkup  \\\n32353         1.0         0.0    0.100000         1.0      2.0      1.0   \n192208        2.0         0.0    0.000000         1.0      2.0      2.0   \n171948        3.0         0.0    1.000000         1.0      2.0      1.0   \n68153         2.0         0.0    0.000000         1.0      2.0      1.0   \n122769        4.0         0.5    0.666667         1.0      2.0      4.0   \n178211        1.0         0.0    0.000000         1.0      2.0      4.0   \n200439        3.0         0.0    0.000000         1.0      2.0      1.0   \n75248         2.0         0.0    0.000000         1.0      2.0      1.0   \n176426        1.0         0.0    0.000000         1.0      2.0      3.0   \n38656         5.0         1.0    0.500000         1.0      2.0      2.0   \n\n        HighBP  HighChol  HeartAttack  AngiCoro  ...    Height    Weight  BMI  \\\n32353      3.0       2.0          2.0       2.0  ...  0.733624  0.222218  2.0   \n192208     3.0       2.0          2.0       2.0  ...  0.777293  0.250371  2.0   \n171948     1.0       1.0          2.0       2.0  ...  0.000000  0.000000  0.0   \n68153      3.0       0.0          2.0       2.0  ...  0.820961  0.336450  3.0   \n122769     1.0       1.0          2.0       2.0  ...  0.720524  0.341142  4.0   \n178211     3.0       0.0          2.0       2.0  ...  0.786026  0.289495  3.0   \n200439     3.0       2.0          2.0       2.0  ...  0.742358  0.344282  4.0   \n75248      1.0       2.0          2.0       2.0  ...  0.698690  0.226910  3.0   \n176426     3.0       2.0          2.0       2.0  ...  0.799127  0.430361  4.0   \n38656      1.0       1.0          1.0       1.0  ...  0.755459  0.297326  3.0   \n\n        Education  Alcohol  Smoking  FruitCons  VegetCons  PhysActivity  \\\n32353         4.0      1.0      4.0        1.0        1.0           3.0   \n192208        4.0      1.0      2.0        1.0        1.0           3.0   \n171948        4.0      1.0      4.0        2.0        1.0           3.0   \n68153         4.0      1.0      4.0        2.0        1.0           1.0   \n122769        2.0      1.0      1.0        2.0        2.0           4.0   \n178211        2.0      2.0      3.0        1.0        1.0           3.0   \n200439        3.0      1.0      4.0        2.0        2.0           3.0   \n75248         4.0      1.0      4.0        2.0        2.0           3.0   \n176426        2.0      1.0      4.0        2.0        2.0           2.0   \n38656         4.0      1.0      3.0        1.0        1.0           1.0   \n\n        Muscles  \n32353       1.0  \n192208      1.0  \n171948      2.0  \n68153       2.0  \n122769      2.0  \n178211      1.0  \n200439      2.0  \n75248       2.0  \n176426      1.0  \n38656       2.0  \n\n[10 rows x 28 columns]",
      "text/html": "<div>\n<style scoped>\n    .dataframe tbody tr th:only-of-type {\n        vertical-align: middle;\n    }\n\n    .dataframe tbody tr th {\n        vertical-align: top;\n    }\n\n    .dataframe thead th {\n        text-align: right;\n    }\n</style>\n<table border=\"1\" class=\"dataframe\">\n  <thead>\n    <tr style=\"text-align: right;\">\n      <th></th>\n      <th>GenHealth</th>\n      <th>PhysHealth</th>\n      <th>MentHealth</th>\n      <th>Healthcare</th>\n      <th>MedCost</th>\n      <th>Checkup</th>\n      <th>HighBP</th>\n      <th>HighChol</th>\n      <th>HeartAttack</th>\n      <th>AngiCoro</th>\n      <th>...</th>\n      <th>Height</th>\n      <th>Weight</th>\n      <th>BMI</th>\n      <th>Education</th>\n      <th>Alcohol</th>\n      <th>Smoking</th>\n      <th>FruitCons</th>\n      <th>VegetCons</th>\n      <th>PhysActivity</th>\n      <th>Muscles</th>\n    </tr>\n  </thead>\n  <tbody>\n    <tr>\n      <th>32353</th>\n      <td>1.0</td>\n      <td>0.0</td>\n      <td>0.100000</td>\n      <td>1.0</td>\n      <td>2.0</td>\n      <td>1.0</td>\n      <td>3.0</td>\n      <td>2.0</td>\n      <td>2.0</td>\n      <td>2.0</td>\n      <td>...</td>\n      <td>0.733624</td>\n      <td>0.222218</td>\n      <td>2.0</td>\n      <td>4.0</td>\n      <td>1.0</td>\n      <td>4.0</td>\n      <td>1.0</td>\n      <td>1.0</td>\n      <td>3.0</td>\n      <td>1.0</td>\n    </tr>\n    <tr>\n      <th>192208</th>\n      <td>2.0</td>\n      <td>0.0</td>\n      <td>0.000000</td>\n      <td>1.0</td>\n      <td>2.0</td>\n      <td>2.0</td>\n      <td>3.0</td>\n      <td>2.0</td>\n      <td>2.0</td>\n      <td>2.0</td>\n      <td>...</td>\n      <td>0.777293</td>\n      <td>0.250371</td>\n      <td>2.0</td>\n      <td>4.0</td>\n      <td>1.0</td>\n      <td>2.0</td>\n      <td>1.0</td>\n      <td>1.0</td>\n      <td>3.0</td>\n      <td>1.0</td>\n    </tr>\n    <tr>\n      <th>171948</th>\n      <td>3.0</td>\n      <td>0.0</td>\n      <td>1.000000</td>\n      <td>1.0</td>\n      <td>2.0</td>\n      <td>1.0</td>\n      <td>1.0</td>\n      <td>1.0</td>\n      <td>2.0</td>\n      <td>2.0</td>\n      <td>...</td>\n      <td>0.000000</td>\n      <td>0.000000</td>\n      <td>0.0</td>\n      <td>4.0</td>\n      <td>1.0</td>\n      <td>4.0</td>\n      <td>2.0</td>\n      <td>1.0</td>\n      <td>3.0</td>\n      <td>2.0</td>\n    </tr>\n    <tr>\n      <th>68153</th>\n      <td>2.0</td>\n      <td>0.0</td>\n      <td>0.000000</td>\n      <td>1.0</td>\n      <td>2.0</td>\n      <td>1.0</td>\n      <td>3.0</td>\n      <td>0.0</td>\n      <td>2.0</td>\n      <td>2.0</td>\n      <td>...</td>\n      <td>0.820961</td>\n      <td>0.336450</td>\n      <td>3.0</td>\n      <td>4.0</td>\n      <td>1.0</td>\n      <td>4.0</td>\n      <td>2.0</td>\n      <td>1.0</td>\n      <td>1.0</td>\n      <td>2.0</td>\n    </tr>\n    <tr>\n      <th>122769</th>\n      <td>4.0</td>\n      <td>0.5</td>\n      <td>0.666667</td>\n      <td>1.0</td>\n      <td>2.0</td>\n      <td>4.0</td>\n      <td>1.0</td>\n      <td>1.0</td>\n      <td>2.0</td>\n      <td>2.0</td>\n      <td>...</td>\n      <td>0.720524</td>\n      <td>0.341142</td>\n      <td>4.0</td>\n      <td>2.0</td>\n      <td>1.0</td>\n      <td>1.0</td>\n      <td>2.0</td>\n      <td>2.0</td>\n      <td>4.0</td>\n      <td>2.0</td>\n    </tr>\n    <tr>\n      <th>178211</th>\n      <td>1.0</td>\n      <td>0.0</td>\n      <td>0.000000</td>\n      <td>1.0</td>\n      <td>2.0</td>\n      <td>4.0</td>\n      <td>3.0</td>\n      <td>0.0</td>\n      <td>2.0</td>\n      <td>2.0</td>\n      <td>...</td>\n      <td>0.786026</td>\n      <td>0.289495</td>\n      <td>3.0</td>\n      <td>2.0</td>\n      <td>2.0</td>\n      <td>3.0</td>\n      <td>1.0</td>\n      <td>1.0</td>\n      <td>3.0</td>\n      <td>1.0</td>\n    </tr>\n    <tr>\n      <th>200439</th>\n      <td>3.0</td>\n      <td>0.0</td>\n      <td>0.000000</td>\n      <td>1.0</td>\n      <td>2.0</td>\n      <td>1.0</td>\n      <td>3.0</td>\n      <td>2.0</td>\n      <td>2.0</td>\n      <td>2.0</td>\n      <td>...</td>\n      <td>0.742358</td>\n      <td>0.344282</td>\n      <td>4.0</td>\n      <td>3.0</td>\n      <td>1.0</td>\n      <td>4.0</td>\n      <td>2.0</td>\n      <td>2.0</td>\n      <td>3.0</td>\n      <td>2.0</td>\n    </tr>\n    <tr>\n      <th>75248</th>\n      <td>2.0</td>\n      <td>0.0</td>\n      <td>0.000000</td>\n      <td>1.0</td>\n      <td>2.0</td>\n      <td>1.0</td>\n      <td>1.0</td>\n      <td>2.0</td>\n      <td>2.0</td>\n      <td>2.0</td>\n      <td>...</td>\n      <td>0.698690</td>\n      <td>0.226910</td>\n      <td>3.0</td>\n      <td>4.0</td>\n      <td>1.0</td>\n      <td>4.0</td>\n      <td>2.0</td>\n      <td>2.0</td>\n      <td>3.0</td>\n      <td>2.0</td>\n    </tr>\n    <tr>\n      <th>176426</th>\n      <td>1.0</td>\n      <td>0.0</td>\n      <td>0.000000</td>\n      <td>1.0</td>\n      <td>2.0</td>\n      <td>3.0</td>\n      <td>3.0</td>\n      <td>2.0</td>\n      <td>2.0</td>\n      <td>2.0</td>\n      <td>...</td>\n      <td>0.799127</td>\n      <td>0.430361</td>\n      <td>4.0</td>\n      <td>2.0</td>\n      <td>1.0</td>\n      <td>4.0</td>\n      <td>2.0</td>\n      <td>2.0</td>\n      <td>2.0</td>\n      <td>1.0</td>\n    </tr>\n    <tr>\n      <th>38656</th>\n      <td>5.0</td>\n      <td>1.0</td>\n      <td>0.500000</td>\n      <td>1.0</td>\n      <td>2.0</td>\n      <td>2.0</td>\n      <td>1.0</td>\n      <td>1.0</td>\n      <td>1.0</td>\n      <td>1.0</td>\n      <td>...</td>\n      <td>0.755459</td>\n      <td>0.297326</td>\n      <td>3.0</td>\n      <td>4.0</td>\n      <td>1.0</td>\n      <td>3.0</td>\n      <td>1.0</td>\n      <td>1.0</td>\n      <td>1.0</td>\n      <td>2.0</td>\n    </tr>\n  </tbody>\n</table>\n<p>10 rows × 28 columns</p>\n</div>"
     },
     "execution_count": 3,
     "metadata": {},
     "output_type": "execute_result"
    }
   ],
   "source": [
    "data_train, data_test, target_train, target_test = get_preprocessed_brfss_dataset_label_encoded_train_test_split()\n",
    "cross_validation = StratifiedKFold(n_splits=10, shuffle=True, random_state=1)\n",
    "data_train.head(10)"
   ],
   "metadata": {
    "collapsed": false,
    "pycharm": {
     "name": "#%%\n"
    }
   }
  },
  {
   "cell_type": "code",
   "execution_count": 4,
   "outputs": [
    {
     "name": "stdout",
     "output_type": "stream",
     "text": [
      "Fold 0: Accuracy = 77.1591843802762%\n",
      "Fold 1: Accuracy = 77.10290488765747%\n",
      "Fold 2: Accuracy = 76.68730248062687%\n",
      "Fold 3: Accuracy = 76.86479934196285%\n",
      "Fold 4: Accuracy = 76.9513831767609%\n",
      "Fold 5: Accuracy = 77.30637689943288%\n",
      "Fold 6: Accuracy = 77.04229620329885%\n",
      "Fold 7: Accuracy = 77.39296073423093%\n",
      "Fold 8: Accuracy = 76.84648021473721%\n",
      "Fold 9: Accuracy = 77.08892544809073%\n",
      "Average Accuracy = 77.0442613767075%\n"
     ]
    }
   ],
   "source": [
    "decision_tree_classifier = DecisionTreeClassifier()\n",
    "decision_tree_classifier.fit(data_train, target_train)\n",
    "\n",
    "accuracy = cross_val_score(decision_tree_classifier, data_train, target_train, cv=cross_validation, scoring='accuracy')\n",
    "\n",
    "for i, acc in enumerate(accuracy):\n",
    "    print(\"Fold {}: Accuracy = {}%\".format(i, acc * 100.0))\n",
    "\n",
    "print(\"Average Accuracy = {}%\".format(accuracy.mean() * 100.0))"
   ],
   "metadata": {
    "collapsed": false,
    "pycharm": {
     "name": "#%%\n"
    }
   }
  },
  {
   "cell_type": "code",
   "execution_count": null,
   "outputs": [],
   "source": [
    "dot_data = tree.export_graphviz(decision_tree_classifier, out_file=None,\n",
    "                                feature_names=data_train.columns,\n",
    "                                class_names=diabetes_columns,\n",
    "                                filled=True, rounded=True, special_characters=True)\n",
    "graph = graphviz.Source(dot_data)"
   ],
   "metadata": {
    "collapsed": false,
    "pycharm": {
     "name": "#%%\n"
    }
   }
  },
  {
   "cell_type": "code",
   "execution_count": null,
   "outputs": [],
   "source": [
    "display(graph)"
   ],
   "metadata": {
    "collapsed": false,
    "pycharm": {
     "name": "#%%\n"
    }
   }
  },
  {
   "cell_type": "code",
   "execution_count": 5,
   "outputs": [
    {
     "data": {
      "text/plain": "     mean_fit_time  std_fit_time  mean_score_time  std_score_time  \\\n0         0.296333      0.008722         0.003868        0.001020   \n1         0.165737      0.009328         0.003516        0.000479   \n2         0.347150      0.009114         0.003568        0.000429   \n3         0.198906      0.009556         0.003433        0.000273   \n4         0.414432      0.010676         0.003675        0.000319   \n..             ...           ...              ...             ...   \n133       0.501391      0.009534         0.006895        0.000382   \n134       0.891026      0.002497         0.006614        0.000242   \n135       0.511144      0.005260         0.006923        0.000194   \n136       0.892878      0.002251         0.006583        0.000181   \n137       0.511840      0.006243         0.007064        0.000230   \n\n    param_criterion param_max_depth param_splitter  \\\n0              gini               5           best   \n1              gini               5         random   \n2              gini               6           best   \n3              gini               6         random   \n4              gini               7           best   \n..              ...             ...            ...   \n133        log_loss              25         random   \n134        log_loss              26           best   \n135        log_loss              26         random   \n136        log_loss              27           best   \n137        log_loss              27         random   \n\n                                                params  split0_test_score  \\\n0    {'criterion': 'gini', 'max_depth': 5, 'splitte...           0.853933   \n1    {'criterion': 'gini', 'max_depth': 5, 'splitte...           0.852158   \n2    {'criterion': 'gini', 'max_depth': 6, 'splitte...           0.855362   \n3    {'criterion': 'gini', 'max_depth': 6, 'splitte...           0.855275   \n4    {'criterion': 'gini', 'max_depth': 7, 'splitte...           0.855102   \n..                                                 ...                ...   \n133  {'criterion': 'log_loss', 'max_depth': 25, 'sp...           0.783540   \n134  {'criterion': 'log_loss', 'max_depth': 26, 'sp...           0.780553   \n135  {'criterion': 'log_loss', 'max_depth': 26, 'sp...           0.783627   \n136  {'criterion': 'log_loss', 'max_depth': 27, 'sp...           0.777653   \n137  {'criterion': 'log_loss', 'max_depth': 27, 'sp...           0.778259   \n\n     split1_test_score  ...  split3_test_score  split4_test_score  \\\n0             0.851898  ...           0.854842           0.854366   \n1             0.851162  ...           0.855924           0.852504   \n2             0.852201  ...           0.855795           0.854409   \n3             0.851292  ...           0.853803           0.854323   \n4             0.851812  ...           0.856184           0.854842   \n..                 ...  ...                ...                ...   \n133           0.781029  ...           0.781636           0.783627   \n134           0.775142  ...           0.774189           0.777177   \n135           0.774059  ...           0.784839           0.774016   \n136           0.776570  ...           0.774189           0.777003   \n137           0.778995  ...           0.780510           0.779471   \n\n     split5_test_score  split6_test_score  split7_test_score  \\\n0             0.853587           0.853543           0.854582   \n1             0.852245           0.853457           0.850167   \n2             0.853846           0.854626           0.855059   \n3             0.853587           0.853543           0.854496   \n4             0.853717           0.854539           0.854669   \n..                 ...                ...                ...   \n133           0.783411           0.778822           0.781679   \n134           0.779687           0.776917           0.779428   \n135           0.784623           0.777177           0.782545   \n136           0.780034           0.775964           0.779168   \n137           0.777999           0.778995           0.781419   \n\n     split8_test_score  split9_test_score  mean_test_score  std_test_score  \\\n0             0.854879           0.853927         0.853884        0.000845   \n1             0.854879           0.850117         0.852590        0.001787   \n2             0.856048           0.854923         0.854594        0.001079   \n3             0.853147           0.852888         0.853620        0.001013   \n4             0.855745           0.854403         0.854482        0.001150   \n..                 ...                ...              ...             ...   \n133           0.784267           0.785566         0.782569        0.001814   \n134           0.774396           0.778292         0.777235        0.002126   \n135           0.779202           0.782752         0.780101        0.003936   \n136           0.772837           0.776994         0.776452        0.002149   \n137           0.774050           0.776950         0.778573        0.001918   \n\n     rank_test_score  \n0                 10  \n1                 29  \n2                  1  \n3                 22  \n4                  2  \n..               ...  \n133              120  \n134              133  \n135              125  \n136              136  \n137              130  \n\n[138 rows x 21 columns]",
      "text/html": "<div>\n<style scoped>\n    .dataframe tbody tr th:only-of-type {\n        vertical-align: middle;\n    }\n\n    .dataframe tbody tr th {\n        vertical-align: top;\n    }\n\n    .dataframe thead th {\n        text-align: right;\n    }\n</style>\n<table border=\"1\" class=\"dataframe\">\n  <thead>\n    <tr style=\"text-align: right;\">\n      <th></th>\n      <th>mean_fit_time</th>\n      <th>std_fit_time</th>\n      <th>mean_score_time</th>\n      <th>std_score_time</th>\n      <th>param_criterion</th>\n      <th>param_max_depth</th>\n      <th>param_splitter</th>\n      <th>params</th>\n      <th>split0_test_score</th>\n      <th>split1_test_score</th>\n      <th>...</th>\n      <th>split3_test_score</th>\n      <th>split4_test_score</th>\n      <th>split5_test_score</th>\n      <th>split6_test_score</th>\n      <th>split7_test_score</th>\n      <th>split8_test_score</th>\n      <th>split9_test_score</th>\n      <th>mean_test_score</th>\n      <th>std_test_score</th>\n      <th>rank_test_score</th>\n    </tr>\n  </thead>\n  <tbody>\n    <tr>\n      <th>0</th>\n      <td>0.296333</td>\n      <td>0.008722</td>\n      <td>0.003868</td>\n      <td>0.001020</td>\n      <td>gini</td>\n      <td>5</td>\n      <td>best</td>\n      <td>{'criterion': 'gini', 'max_depth': 5, 'splitte...</td>\n      <td>0.853933</td>\n      <td>0.851898</td>\n      <td>...</td>\n      <td>0.854842</td>\n      <td>0.854366</td>\n      <td>0.853587</td>\n      <td>0.853543</td>\n      <td>0.854582</td>\n      <td>0.854879</td>\n      <td>0.853927</td>\n      <td>0.853884</td>\n      <td>0.000845</td>\n      <td>10</td>\n    </tr>\n    <tr>\n      <th>1</th>\n      <td>0.165737</td>\n      <td>0.009328</td>\n      <td>0.003516</td>\n      <td>0.000479</td>\n      <td>gini</td>\n      <td>5</td>\n      <td>random</td>\n      <td>{'criterion': 'gini', 'max_depth': 5, 'splitte...</td>\n      <td>0.852158</td>\n      <td>0.851162</td>\n      <td>...</td>\n      <td>0.855924</td>\n      <td>0.852504</td>\n      <td>0.852245</td>\n      <td>0.853457</td>\n      <td>0.850167</td>\n      <td>0.854879</td>\n      <td>0.850117</td>\n      <td>0.852590</td>\n      <td>0.001787</td>\n      <td>29</td>\n    </tr>\n    <tr>\n      <th>2</th>\n      <td>0.347150</td>\n      <td>0.009114</td>\n      <td>0.003568</td>\n      <td>0.000429</td>\n      <td>gini</td>\n      <td>6</td>\n      <td>best</td>\n      <td>{'criterion': 'gini', 'max_depth': 6, 'splitte...</td>\n      <td>0.855362</td>\n      <td>0.852201</td>\n      <td>...</td>\n      <td>0.855795</td>\n      <td>0.854409</td>\n      <td>0.853846</td>\n      <td>0.854626</td>\n      <td>0.855059</td>\n      <td>0.856048</td>\n      <td>0.854923</td>\n      <td>0.854594</td>\n      <td>0.001079</td>\n      <td>1</td>\n    </tr>\n    <tr>\n      <th>3</th>\n      <td>0.198906</td>\n      <td>0.009556</td>\n      <td>0.003433</td>\n      <td>0.000273</td>\n      <td>gini</td>\n      <td>6</td>\n      <td>random</td>\n      <td>{'criterion': 'gini', 'max_depth': 6, 'splitte...</td>\n      <td>0.855275</td>\n      <td>0.851292</td>\n      <td>...</td>\n      <td>0.853803</td>\n      <td>0.854323</td>\n      <td>0.853587</td>\n      <td>0.853543</td>\n      <td>0.854496</td>\n      <td>0.853147</td>\n      <td>0.852888</td>\n      <td>0.853620</td>\n      <td>0.001013</td>\n      <td>22</td>\n    </tr>\n    <tr>\n      <th>4</th>\n      <td>0.414432</td>\n      <td>0.010676</td>\n      <td>0.003675</td>\n      <td>0.000319</td>\n      <td>gini</td>\n      <td>7</td>\n      <td>best</td>\n      <td>{'criterion': 'gini', 'max_depth': 7, 'splitte...</td>\n      <td>0.855102</td>\n      <td>0.851812</td>\n      <td>...</td>\n      <td>0.856184</td>\n      <td>0.854842</td>\n      <td>0.853717</td>\n      <td>0.854539</td>\n      <td>0.854669</td>\n      <td>0.855745</td>\n      <td>0.854403</td>\n      <td>0.854482</td>\n      <td>0.001150</td>\n      <td>2</td>\n    </tr>\n    <tr>\n      <th>...</th>\n      <td>...</td>\n      <td>...</td>\n      <td>...</td>\n      <td>...</td>\n      <td>...</td>\n      <td>...</td>\n      <td>...</td>\n      <td>...</td>\n      <td>...</td>\n      <td>...</td>\n      <td>...</td>\n      <td>...</td>\n      <td>...</td>\n      <td>...</td>\n      <td>...</td>\n      <td>...</td>\n      <td>...</td>\n      <td>...</td>\n      <td>...</td>\n      <td>...</td>\n      <td>...</td>\n    </tr>\n    <tr>\n      <th>133</th>\n      <td>0.501391</td>\n      <td>0.009534</td>\n      <td>0.006895</td>\n      <td>0.000382</td>\n      <td>log_loss</td>\n      <td>25</td>\n      <td>random</td>\n      <td>{'criterion': 'log_loss', 'max_depth': 25, 'sp...</td>\n      <td>0.783540</td>\n      <td>0.781029</td>\n      <td>...</td>\n      <td>0.781636</td>\n      <td>0.783627</td>\n      <td>0.783411</td>\n      <td>0.778822</td>\n      <td>0.781679</td>\n      <td>0.784267</td>\n      <td>0.785566</td>\n      <td>0.782569</td>\n      <td>0.001814</td>\n      <td>120</td>\n    </tr>\n    <tr>\n      <th>134</th>\n      <td>0.891026</td>\n      <td>0.002497</td>\n      <td>0.006614</td>\n      <td>0.000242</td>\n      <td>log_loss</td>\n      <td>26</td>\n      <td>best</td>\n      <td>{'criterion': 'log_loss', 'max_depth': 26, 'sp...</td>\n      <td>0.780553</td>\n      <td>0.775142</td>\n      <td>...</td>\n      <td>0.774189</td>\n      <td>0.777177</td>\n      <td>0.779687</td>\n      <td>0.776917</td>\n      <td>0.779428</td>\n      <td>0.774396</td>\n      <td>0.778292</td>\n      <td>0.777235</td>\n      <td>0.002126</td>\n      <td>133</td>\n    </tr>\n    <tr>\n      <th>135</th>\n      <td>0.511144</td>\n      <td>0.005260</td>\n      <td>0.006923</td>\n      <td>0.000194</td>\n      <td>log_loss</td>\n      <td>26</td>\n      <td>random</td>\n      <td>{'criterion': 'log_loss', 'max_depth': 26, 'sp...</td>\n      <td>0.783627</td>\n      <td>0.774059</td>\n      <td>...</td>\n      <td>0.784839</td>\n      <td>0.774016</td>\n      <td>0.784623</td>\n      <td>0.777177</td>\n      <td>0.782545</td>\n      <td>0.779202</td>\n      <td>0.782752</td>\n      <td>0.780101</td>\n      <td>0.003936</td>\n      <td>125</td>\n    </tr>\n    <tr>\n      <th>136</th>\n      <td>0.892878</td>\n      <td>0.002251</td>\n      <td>0.006583</td>\n      <td>0.000181</td>\n      <td>log_loss</td>\n      <td>27</td>\n      <td>best</td>\n      <td>{'criterion': 'log_loss', 'max_depth': 27, 'sp...</td>\n      <td>0.777653</td>\n      <td>0.776570</td>\n      <td>...</td>\n      <td>0.774189</td>\n      <td>0.777003</td>\n      <td>0.780034</td>\n      <td>0.775964</td>\n      <td>0.779168</td>\n      <td>0.772837</td>\n      <td>0.776994</td>\n      <td>0.776452</td>\n      <td>0.002149</td>\n      <td>136</td>\n    </tr>\n    <tr>\n      <th>137</th>\n      <td>0.511840</td>\n      <td>0.006243</td>\n      <td>0.007064</td>\n      <td>0.000230</td>\n      <td>log_loss</td>\n      <td>27</td>\n      <td>random</td>\n      <td>{'criterion': 'log_loss', 'max_depth': 27, 'sp...</td>\n      <td>0.778259</td>\n      <td>0.778995</td>\n      <td>...</td>\n      <td>0.780510</td>\n      <td>0.779471</td>\n      <td>0.777999</td>\n      <td>0.778995</td>\n      <td>0.781419</td>\n      <td>0.774050</td>\n      <td>0.776950</td>\n      <td>0.778573</td>\n      <td>0.001918</td>\n      <td>130</td>\n    </tr>\n  </tbody>\n</table>\n<p>138 rows × 21 columns</p>\n</div>"
     },
     "metadata": {},
     "output_type": "display_data"
    },
    {
     "name": "stdout",
     "output_type": "stream",
     "text": [
      "best score is 0.8545941857684177 with params {'criterion': 'gini', 'max_depth': 6, 'splitter': 'best'}\n"
     ]
    }
   ],
   "source": [
    "decision_tree_classifier = DecisionTreeClassifier()\n",
    "parameters = {\n",
    "    'max_depth': range(5, 28),\n",
    "    'splitter': [\"best\", \"random\"],\n",
    "    'criterion': [\"gini\", \"entropy\", \"log_loss\"]\n",
    "}\n",
    "\n",
    "grid_search_estimator = GridSearchCV(decision_tree_classifier, parameters, scoring='accuracy', cv=cross_validation, return_train_score=False)\n",
    "grid_search_estimator.fit(data_train, target_train)\n",
    "\n",
    "results = pd.DataFrame(grid_search_estimator.cv_results_)\n",
    "display(results)\n",
    "\n",
    "print(f\"best score is {grid_search_estimator.best_score_} with params {grid_search_estimator.best_params_}\")"
   ],
   "metadata": {
    "collapsed": false,
    "pycharm": {
     "name": "#%%\n"
    }
   }
  },
  {
   "cell_type": "markdown",
   "source": [
    "### Let's see how good the best classifier really is"
   ],
   "metadata": {
    "collapsed": false,
    "pycharm": {
     "name": "#%% md\n"
    }
   }
  },
  {
   "cell_type": "code",
   "execution_count": 6,
   "outputs": [
    {
     "name": "stdout",
     "output_type": "stream",
     "text": [
      "              precision    recall  f1-score   support\n",
      "\n",
      "         1.0       0.54      0.15      0.23     28796\n",
      "         2.0       0.00      0.00      0.00      1965\n",
      "         3.0       0.87      0.98      0.92    196381\n",
      "         4.0       0.50      0.00      0.00      3846\n",
      "\n",
      "    accuracy                           0.85    230988\n",
      "   macro avg       0.48      0.28      0.29    230988\n",
      "weighted avg       0.81      0.85      0.81    230988\n",
      "\n"
     ]
    }
   ],
   "source": [
    "decision_tree_classifier_best = DecisionTreeClassifier(max_depth=7, splitter=\"best\", criterion=\"gini\")\n",
    "prediction = cross_val_predict(decision_tree_classifier_best, data_train, target_train, cv=cross_validation)\n",
    "report = classification_report(target_train, prediction)\n",
    "print(report)"
   ],
   "metadata": {
    "collapsed": false,
    "pycharm": {
     "name": "#%%\n"
    }
   }
  },
  {
   "cell_type": "markdown",
   "source": [
    "### Test with undersampling"
   ],
   "metadata": {
    "collapsed": false,
    "pycharm": {
     "name": "#%% md\n"
    }
   }
  },
  {
   "cell_type": "code",
   "execution_count": 9,
   "outputs": [
    {
     "data": {
      "text/plain": "     mean_fit_time  std_fit_time  mean_score_time  std_score_time  \\\n0         0.010755      0.000540         0.000687        0.000168   \n1         0.005526      0.000446         0.000551        0.000064   \n2         0.012257      0.000328         0.000641        0.000127   \n3         0.006377      0.000384         0.000622        0.000142   \n4         0.014022      0.000626         0.000647        0.000094   \n..             ...           ...              ...             ...   \n133       0.018117      0.000270         0.000695        0.000123   \n134       0.032580      0.000483         0.000692        0.000064   \n135       0.018258      0.000460         0.000694        0.000138   \n136       0.032443      0.000577         0.000867        0.000465   \n137       0.018329      0.000634         0.000672        0.000077   \n\n    param_criterion param_max_depth param_splitter  \\\n0              gini               5           best   \n1              gini               5         random   \n2              gini               6           best   \n3              gini               6         random   \n4              gini               7           best   \n..              ...             ...            ...   \n133        log_loss              25         random   \n134        log_loss              26           best   \n135        log_loss              26         random   \n136        log_loss              27           best   \n137        log_loss              27         random   \n\n                                                params  split0_test_score  \\\n0    {'criterion': 'gini', 'max_depth': 5, 'splitte...           0.493639   \n1    {'criterion': 'gini', 'max_depth': 5, 'splitte...           0.483461   \n2    {'criterion': 'gini', 'max_depth': 6, 'splitte...           0.484733   \n3    {'criterion': 'gini', 'max_depth': 6, 'splitte...           0.487277   \n4    {'criterion': 'gini', 'max_depth': 7, 'splitte...           0.487277   \n..                                                 ...                ...   \n133  {'criterion': 'log_loss', 'max_depth': 25, 'sp...           0.449109   \n134  {'criterion': 'log_loss', 'max_depth': 26, 'sp...           0.435115   \n135  {'criterion': 'log_loss', 'max_depth': 26, 'sp...           0.404580   \n136  {'criterion': 'log_loss', 'max_depth': 27, 'sp...           0.427481   \n137  {'criterion': 'log_loss', 'max_depth': 27, 'sp...           0.409669   \n\n     split1_test_score  ...  split3_test_score  split4_test_score  \\\n0             0.466921  ...           0.473282           0.465649   \n1             0.435115  ...           0.479644           0.454198   \n2             0.460560  ...           0.455471           0.430025   \n3             0.450382  ...           0.493639           0.455471   \n4             0.459288  ...           0.468193           0.458015   \n..                 ...  ...                ...                ...   \n133           0.389313  ...           0.396947           0.353690   \n134           0.422392  ...           0.414758           0.395674   \n135           0.398219  ...           0.445293           0.368957   \n136           0.410941  ...           0.419847           0.400763   \n137           0.395674  ...           0.421120           0.405852   \n\n     split5_test_score  split6_test_score  split7_test_score  \\\n0             0.482188           0.451654           0.494911   \n1             0.478372           0.460560           0.460560   \n2             0.468193           0.449109           0.484733   \n3             0.470738           0.473282           0.466921   \n4             0.484733           0.452926           0.478372   \n..                 ...                ...                ...   \n133           0.417303           0.366412           0.394402   \n134           0.408397           0.379135           0.399491   \n135           0.393130           0.370229           0.390585   \n136           0.394402           0.376590           0.400763   \n137           0.424936           0.394402           0.407125   \n\n     split8_test_score  split9_test_score  mean_test_score  std_test_score  \\\n0             0.438931           0.452926         0.465522        0.019942   \n1             0.447837           0.472010         0.458015        0.022007   \n2             0.430025           0.456743         0.456107        0.018518   \n3             0.459288           0.479644         0.467303        0.016550   \n4             0.441476           0.452926         0.462977        0.015166   \n..                 ...                ...              ...             ...   \n133           0.394402           0.403308         0.392748        0.026560   \n134           0.388041           0.372774         0.401654        0.018261   \n135           0.377863           0.371501         0.392875        0.022196   \n136           0.399491           0.372774         0.399109        0.016511   \n137           0.381679           0.394402         0.398855        0.019481   \n\n     rank_test_score  \n0                 12  \n1                 25  \n2                 28  \n3                  9  \n4                 17  \n..               ...  \n133              134  \n134              106  \n135              133  \n136              118  \n137              119  \n\n[138 rows x 21 columns]",
      "text/html": "<div>\n<style scoped>\n    .dataframe tbody tr th:only-of-type {\n        vertical-align: middle;\n    }\n\n    .dataframe tbody tr th {\n        vertical-align: top;\n    }\n\n    .dataframe thead th {\n        text-align: right;\n    }\n</style>\n<table border=\"1\" class=\"dataframe\">\n  <thead>\n    <tr style=\"text-align: right;\">\n      <th></th>\n      <th>mean_fit_time</th>\n      <th>std_fit_time</th>\n      <th>mean_score_time</th>\n      <th>std_score_time</th>\n      <th>param_criterion</th>\n      <th>param_max_depth</th>\n      <th>param_splitter</th>\n      <th>params</th>\n      <th>split0_test_score</th>\n      <th>split1_test_score</th>\n      <th>...</th>\n      <th>split3_test_score</th>\n      <th>split4_test_score</th>\n      <th>split5_test_score</th>\n      <th>split6_test_score</th>\n      <th>split7_test_score</th>\n      <th>split8_test_score</th>\n      <th>split9_test_score</th>\n      <th>mean_test_score</th>\n      <th>std_test_score</th>\n      <th>rank_test_score</th>\n    </tr>\n  </thead>\n  <tbody>\n    <tr>\n      <th>0</th>\n      <td>0.010755</td>\n      <td>0.000540</td>\n      <td>0.000687</td>\n      <td>0.000168</td>\n      <td>gini</td>\n      <td>5</td>\n      <td>best</td>\n      <td>{'criterion': 'gini', 'max_depth': 5, 'splitte...</td>\n      <td>0.493639</td>\n      <td>0.466921</td>\n      <td>...</td>\n      <td>0.473282</td>\n      <td>0.465649</td>\n      <td>0.482188</td>\n      <td>0.451654</td>\n      <td>0.494911</td>\n      <td>0.438931</td>\n      <td>0.452926</td>\n      <td>0.465522</td>\n      <td>0.019942</td>\n      <td>12</td>\n    </tr>\n    <tr>\n      <th>1</th>\n      <td>0.005526</td>\n      <td>0.000446</td>\n      <td>0.000551</td>\n      <td>0.000064</td>\n      <td>gini</td>\n      <td>5</td>\n      <td>random</td>\n      <td>{'criterion': 'gini', 'max_depth': 5, 'splitte...</td>\n      <td>0.483461</td>\n      <td>0.435115</td>\n      <td>...</td>\n      <td>0.479644</td>\n      <td>0.454198</td>\n      <td>0.478372</td>\n      <td>0.460560</td>\n      <td>0.460560</td>\n      <td>0.447837</td>\n      <td>0.472010</td>\n      <td>0.458015</td>\n      <td>0.022007</td>\n      <td>25</td>\n    </tr>\n    <tr>\n      <th>2</th>\n      <td>0.012257</td>\n      <td>0.000328</td>\n      <td>0.000641</td>\n      <td>0.000127</td>\n      <td>gini</td>\n      <td>6</td>\n      <td>best</td>\n      <td>{'criterion': 'gini', 'max_depth': 6, 'splitte...</td>\n      <td>0.484733</td>\n      <td>0.460560</td>\n      <td>...</td>\n      <td>0.455471</td>\n      <td>0.430025</td>\n      <td>0.468193</td>\n      <td>0.449109</td>\n      <td>0.484733</td>\n      <td>0.430025</td>\n      <td>0.456743</td>\n      <td>0.456107</td>\n      <td>0.018518</td>\n      <td>28</td>\n    </tr>\n    <tr>\n      <th>3</th>\n      <td>0.006377</td>\n      <td>0.000384</td>\n      <td>0.000622</td>\n      <td>0.000142</td>\n      <td>gini</td>\n      <td>6</td>\n      <td>random</td>\n      <td>{'criterion': 'gini', 'max_depth': 6, 'splitte...</td>\n      <td>0.487277</td>\n      <td>0.450382</td>\n      <td>...</td>\n      <td>0.493639</td>\n      <td>0.455471</td>\n      <td>0.470738</td>\n      <td>0.473282</td>\n      <td>0.466921</td>\n      <td>0.459288</td>\n      <td>0.479644</td>\n      <td>0.467303</td>\n      <td>0.016550</td>\n      <td>9</td>\n    </tr>\n    <tr>\n      <th>4</th>\n      <td>0.014022</td>\n      <td>0.000626</td>\n      <td>0.000647</td>\n      <td>0.000094</td>\n      <td>gini</td>\n      <td>7</td>\n      <td>best</td>\n      <td>{'criterion': 'gini', 'max_depth': 7, 'splitte...</td>\n      <td>0.487277</td>\n      <td>0.459288</td>\n      <td>...</td>\n      <td>0.468193</td>\n      <td>0.458015</td>\n      <td>0.484733</td>\n      <td>0.452926</td>\n      <td>0.478372</td>\n      <td>0.441476</td>\n      <td>0.452926</td>\n      <td>0.462977</td>\n      <td>0.015166</td>\n      <td>17</td>\n    </tr>\n    <tr>\n      <th>...</th>\n      <td>...</td>\n      <td>...</td>\n      <td>...</td>\n      <td>...</td>\n      <td>...</td>\n      <td>...</td>\n      <td>...</td>\n      <td>...</td>\n      <td>...</td>\n      <td>...</td>\n      <td>...</td>\n      <td>...</td>\n      <td>...</td>\n      <td>...</td>\n      <td>...</td>\n      <td>...</td>\n      <td>...</td>\n      <td>...</td>\n      <td>...</td>\n      <td>...</td>\n      <td>...</td>\n    </tr>\n    <tr>\n      <th>133</th>\n      <td>0.018117</td>\n      <td>0.000270</td>\n      <td>0.000695</td>\n      <td>0.000123</td>\n      <td>log_loss</td>\n      <td>25</td>\n      <td>random</td>\n      <td>{'criterion': 'log_loss', 'max_depth': 25, 'sp...</td>\n      <td>0.449109</td>\n      <td>0.389313</td>\n      <td>...</td>\n      <td>0.396947</td>\n      <td>0.353690</td>\n      <td>0.417303</td>\n      <td>0.366412</td>\n      <td>0.394402</td>\n      <td>0.394402</td>\n      <td>0.403308</td>\n      <td>0.392748</td>\n      <td>0.026560</td>\n      <td>134</td>\n    </tr>\n    <tr>\n      <th>134</th>\n      <td>0.032580</td>\n      <td>0.000483</td>\n      <td>0.000692</td>\n      <td>0.000064</td>\n      <td>log_loss</td>\n      <td>26</td>\n      <td>best</td>\n      <td>{'criterion': 'log_loss', 'max_depth': 26, 'sp...</td>\n      <td>0.435115</td>\n      <td>0.422392</td>\n      <td>...</td>\n      <td>0.414758</td>\n      <td>0.395674</td>\n      <td>0.408397</td>\n      <td>0.379135</td>\n      <td>0.399491</td>\n      <td>0.388041</td>\n      <td>0.372774</td>\n      <td>0.401654</td>\n      <td>0.018261</td>\n      <td>106</td>\n    </tr>\n    <tr>\n      <th>135</th>\n      <td>0.018258</td>\n      <td>0.000460</td>\n      <td>0.000694</td>\n      <td>0.000138</td>\n      <td>log_loss</td>\n      <td>26</td>\n      <td>random</td>\n      <td>{'criterion': 'log_loss', 'max_depth': 26, 'sp...</td>\n      <td>0.404580</td>\n      <td>0.398219</td>\n      <td>...</td>\n      <td>0.445293</td>\n      <td>0.368957</td>\n      <td>0.393130</td>\n      <td>0.370229</td>\n      <td>0.390585</td>\n      <td>0.377863</td>\n      <td>0.371501</td>\n      <td>0.392875</td>\n      <td>0.022196</td>\n      <td>133</td>\n    </tr>\n    <tr>\n      <th>136</th>\n      <td>0.032443</td>\n      <td>0.000577</td>\n      <td>0.000867</td>\n      <td>0.000465</td>\n      <td>log_loss</td>\n      <td>27</td>\n      <td>best</td>\n      <td>{'criterion': 'log_loss', 'max_depth': 27, 'sp...</td>\n      <td>0.427481</td>\n      <td>0.410941</td>\n      <td>...</td>\n      <td>0.419847</td>\n      <td>0.400763</td>\n      <td>0.394402</td>\n      <td>0.376590</td>\n      <td>0.400763</td>\n      <td>0.399491</td>\n      <td>0.372774</td>\n      <td>0.399109</td>\n      <td>0.016511</td>\n      <td>118</td>\n    </tr>\n    <tr>\n      <th>137</th>\n      <td>0.018329</td>\n      <td>0.000634</td>\n      <td>0.000672</td>\n      <td>0.000077</td>\n      <td>log_loss</td>\n      <td>27</td>\n      <td>random</td>\n      <td>{'criterion': 'log_loss', 'max_depth': 27, 'sp...</td>\n      <td>0.409669</td>\n      <td>0.395674</td>\n      <td>...</td>\n      <td>0.421120</td>\n      <td>0.405852</td>\n      <td>0.424936</td>\n      <td>0.394402</td>\n      <td>0.407125</td>\n      <td>0.381679</td>\n      <td>0.394402</td>\n      <td>0.398855</td>\n      <td>0.019481</td>\n      <td>119</td>\n    </tr>\n  </tbody>\n</table>\n<p>138 rows × 21 columns</p>\n</div>"
     },
     "metadata": {},
     "output_type": "display_data"
    },
    {
     "name": "stdout",
     "output_type": "stream",
     "text": [
      "best score is 0.46921119592875316 with params {'criterion': 'gini', 'max_depth': 8, 'splitter': 'best'}\n"
     ]
    }
   ],
   "source": [
    "data_train, data_test, target_train, target_test = get_preprocessed_brfss_dataset_label_encoded_train_test_split_undersampled()\n",
    "\n",
    "decision_tree_classifier = DecisionTreeClassifier()\n",
    "parameters = {\n",
    "    'max_depth': range(5, 28),\n",
    "    'splitter': [\"best\", \"random\"],\n",
    "    'criterion': [\"gini\", \"entropy\", \"log_loss\"]\n",
    "}\n",
    "\n",
    "grid_search_estimator = GridSearchCV(decision_tree_classifier, parameters, scoring='accuracy', cv=cross_validation, return_train_score=False)\n",
    "grid_search_estimator.fit(data_train, target_train)\n",
    "\n",
    "results = pd.DataFrame(grid_search_estimator.cv_results_)\n",
    "display(results)\n",
    "\n",
    "print(f\"best score is {grid_search_estimator.best_score_} with params {grid_search_estimator.best_params_}\")"
   ],
   "metadata": {
    "collapsed": false,
    "pycharm": {
     "name": "#%%\n"
    }
   }
  }
 ],
 "metadata": {
  "kernelspec": {
   "display_name": "Python 3",
   "language": "python",
   "name": "python3"
  },
  "language_info": {
   "codemirror_mode": {
    "name": "ipython",
    "version": 2
   },
   "file_extension": ".py",
   "mimetype": "text/x-python",
   "name": "python",
   "nbconvert_exporter": "python",
   "pygments_lexer": "ipython2",
   "version": "2.7.6"
  }
 },
 "nbformat": 4,
 "nbformat_minor": 0
}