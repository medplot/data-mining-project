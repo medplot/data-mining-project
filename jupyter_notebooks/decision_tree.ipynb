{
 "cells": [
  {
   "cell_type": "code",
   "execution_count": 1,
   "metadata": {
    "collapsed": true,
    "pycharm": {
     "name": "#%%\n"
    }
   },
   "outputs": [
    {
     "name": "stdout",
     "output_type": "stream",
     "text": [
      "   GenHealth  PhysHealth  MentHealth  Healthcare  MedCost  Checkup  HighBP  \\\n",
      "0        5.0        15.0        18.0         1.0      2.0      1.0     1.0   \n",
      "1        3.0        88.0        88.0         2.0      1.0      4.0     3.0   \n",
      "2        4.0        15.0        88.0         1.0      2.0      1.0     3.0   \n",
      "3        5.0        30.0        30.0         1.0      1.0      1.0     1.0   \n",
      "4        5.0        20.0        88.0         1.0      2.0      1.0     3.0   \n",
      "\n",
      "   HighChol  HeartAttack  AngiCoro  Stroke  Asthma  Arthritis  Kidney  Sex  \\\n",
      "0       1.0          2.0       2.0     2.0     1.0        1.0     2.0  2.0   \n",
      "1       2.0          2.0       2.0     2.0     2.0        2.0     2.0  2.0   \n",
      "2       1.0          7.0       2.0     1.0     2.0        1.0     2.0  2.0   \n",
      "3       1.0          2.0       2.0     2.0     2.0        1.0     2.0  2.0   \n",
      "4       2.0          2.0       2.0     2.0     2.0        1.0     2.0  2.0   \n",
      "\n",
      "   Income  SodiumSalt   Age  Height   Weight  BMI  Education  Alcohol  \\\n",
      "0     3.0         0.0   9.0   178.0  12701.0  4.0        2.0      1.0   \n",
      "1     1.0         2.0   7.0   173.0   7484.0  3.0        4.0      1.0   \n",
      "2    99.0         0.0  11.0   180.0   7167.0  2.0        2.0      9.0   \n",
      "3     8.0         2.0   9.0   170.0   8165.0  3.0        2.0      1.0   \n",
      "4    77.0         1.0   9.0   163.0   6441.0  2.0        3.0      1.0   \n",
      "\n",
      "   Smoking  FruitCons  VegetCons  PhysActivity  Muscles  \n",
      "0      3.0        2.0        1.0           4.0      2.0  \n",
      "1      1.0        2.0        2.0           2.0      2.0  \n",
      "2      9.0        9.0        9.0           9.0      9.0  \n",
      "3      4.0        1.0        2.0           4.0      2.0  \n",
      "4      4.0        9.0        1.0           4.0      2.0  \n"
     ]
    }
   ],
   "source": [
    "from preprocessing.preprocessing import  get_preprocessed_brfss_train_test_split, diabetes_columns\n",
    "from sklearn.tree import DecisionTreeClassifier\n",
    "import graphviz\n",
    "from sklearn import tree\n",
    "from IPython.core.display_functions import display"
   ]
  },
  {
   "cell_type": "code",
   "execution_count": 2,
   "outputs": [
    {
     "data": {
      "text/plain": "        GenHealth  PhysHealth  MentHealth  Healthcare  MedCost  Checkup  \\\n434107        2.0        88.0        88.0         1.0      2.0      3.0   \n110299        4.0        88.0        88.0         1.0      2.0      1.0   \n218193        3.0        88.0        88.0         1.0      2.0      1.0   \n394642        2.0        88.0         1.0         1.0      1.0      2.0   \n354955        1.0         1.0        88.0         1.0      2.0      3.0   \n228337        1.0        88.0        88.0         1.0      2.0      1.0   \n57536         2.0        88.0         3.0         1.0      2.0      1.0   \n68009         3.0        88.0        88.0         1.0      2.0      1.0   \n308419        3.0        88.0        88.0         1.0      2.0      1.0   \n359773        1.0         5.0         3.0         1.0      2.0      1.0   \n\n        HighBP  HighChol  HeartAttack  AngiCoro  Stroke  Asthma  Arthritis  \\\n434107     1.0       2.0          2.0       2.0     2.0     2.0        2.0   \n110299     3.0       2.0          2.0       2.0     1.0     2.0        1.0   \n218193     1.0       2.0          2.0       2.0     2.0     2.0        2.0   \n394642     3.0       0.0          2.0       2.0     2.0     2.0        2.0   \n354955     3.0       2.0          2.0       2.0     2.0     2.0        2.0   \n228337     3.0       2.0          2.0       2.0     2.0     2.0        2.0   \n57536      1.0       2.0          2.0       2.0     2.0     1.0        1.0   \n68009      1.0       1.0          2.0       1.0     2.0     2.0        2.0   \n308419     1.0       1.0          2.0       2.0     2.0     2.0        1.0   \n359773     1.0       0.0          2.0       2.0     2.0     2.0        2.0   \n\n        Kidney  Sex  Income  SodiumSalt   Age  Height   Weight  BMI  \\\n434107     2.0  2.0     8.0         0.0   9.0   152.0   5897.0  3.0   \n110299     2.0  1.0     4.0         2.0  13.0   175.0   7484.0  2.0   \n218193     2.0  1.0    77.0         0.0   8.0   180.0   8165.0  3.0   \n394642     2.0  1.0     5.0         0.0   1.0   165.0   5443.0  2.0   \n354955     2.0  1.0     7.0         1.0   7.0   165.0   9480.0  4.0   \n228337     2.0  2.0     6.0         0.0   3.0   168.0   8391.0  0.0   \n57536      2.0  2.0     8.0         0.0   9.0   165.0   6350.0  2.0   \n68009      2.0  2.0     7.0         0.0  11.0   165.0   6577.0  2.0   \n308419     2.0  2.0     6.0         0.0  11.0   155.0   6577.0  3.0   \n359773     2.0  1.0     5.0         0.0   1.0   175.0  23088.0  4.0   \n\n        Education  Alcohol  Smoking  FruitCons  VegetCons  PhysActivity  \\\n434107        2.0      2.0      4.0        2.0        1.0           4.0   \n110299        2.0      1.0      4.0        1.0        2.0           3.0   \n218193        2.0      2.0      3.0        1.0        1.0           1.0   \n394642        2.0      1.0      4.0        1.0        1.0           1.0   \n354955        2.0      1.0      3.0        1.0        1.0           1.0   \n228337        4.0      1.0      4.0        1.0        1.0           4.0   \n57536         4.0      1.0      4.0        2.0        1.0           2.0   \n68009         4.0      2.0      3.0        1.0        1.0           2.0   \n308419        3.0      1.0      3.0        1.0        1.0           2.0   \n359773        2.0      2.0      3.0        1.0        1.0           3.0   \n\n        Muscles  \n434107      2.0  \n110299      2.0  \n218193      2.0  \n394642      2.0  \n354955      1.0  \n228337      2.0  \n57536       2.0  \n68009       1.0  \n308419      2.0  \n359773      1.0  ",
      "text/html": "<div>\n<style scoped>\n    .dataframe tbody tr th:only-of-type {\n        vertical-align: middle;\n    }\n\n    .dataframe tbody tr th {\n        vertical-align: top;\n    }\n\n    .dataframe thead th {\n        text-align: right;\n    }\n</style>\n<table border=\"1\" class=\"dataframe\">\n  <thead>\n    <tr style=\"text-align: right;\">\n      <th></th>\n      <th>GenHealth</th>\n      <th>PhysHealth</th>\n      <th>MentHealth</th>\n      <th>Healthcare</th>\n      <th>MedCost</th>\n      <th>Checkup</th>\n      <th>HighBP</th>\n      <th>HighChol</th>\n      <th>HeartAttack</th>\n      <th>AngiCoro</th>\n      <th>Stroke</th>\n      <th>Asthma</th>\n      <th>Arthritis</th>\n      <th>Kidney</th>\n      <th>Sex</th>\n      <th>Income</th>\n      <th>SodiumSalt</th>\n      <th>Age</th>\n      <th>Height</th>\n      <th>Weight</th>\n      <th>BMI</th>\n      <th>Education</th>\n      <th>Alcohol</th>\n      <th>Smoking</th>\n      <th>FruitCons</th>\n      <th>VegetCons</th>\n      <th>PhysActivity</th>\n      <th>Muscles</th>\n    </tr>\n  </thead>\n  <tbody>\n    <tr>\n      <th>434107</th>\n      <td>2.0</td>\n      <td>88.0</td>\n      <td>88.0</td>\n      <td>1.0</td>\n      <td>2.0</td>\n      <td>3.0</td>\n      <td>1.0</td>\n      <td>2.0</td>\n      <td>2.0</td>\n      <td>2.0</td>\n      <td>2.0</td>\n      <td>2.0</td>\n      <td>2.0</td>\n      <td>2.0</td>\n      <td>2.0</td>\n      <td>8.0</td>\n      <td>0.0</td>\n      <td>9.0</td>\n      <td>152.0</td>\n      <td>5897.0</td>\n      <td>3.0</td>\n      <td>2.0</td>\n      <td>2.0</td>\n      <td>4.0</td>\n      <td>2.0</td>\n      <td>1.0</td>\n      <td>4.0</td>\n      <td>2.0</td>\n    </tr>\n    <tr>\n      <th>110299</th>\n      <td>4.0</td>\n      <td>88.0</td>\n      <td>88.0</td>\n      <td>1.0</td>\n      <td>2.0</td>\n      <td>1.0</td>\n      <td>3.0</td>\n      <td>2.0</td>\n      <td>2.0</td>\n      <td>2.0</td>\n      <td>1.0</td>\n      <td>2.0</td>\n      <td>1.0</td>\n      <td>2.0</td>\n      <td>1.0</td>\n      <td>4.0</td>\n      <td>2.0</td>\n      <td>13.0</td>\n      <td>175.0</td>\n      <td>7484.0</td>\n      <td>2.0</td>\n      <td>2.0</td>\n      <td>1.0</td>\n      <td>4.0</td>\n      <td>1.0</td>\n      <td>2.0</td>\n      <td>3.0</td>\n      <td>2.0</td>\n    </tr>\n    <tr>\n      <th>218193</th>\n      <td>3.0</td>\n      <td>88.0</td>\n      <td>88.0</td>\n      <td>1.0</td>\n      <td>2.0</td>\n      <td>1.0</td>\n      <td>1.0</td>\n      <td>2.0</td>\n      <td>2.0</td>\n      <td>2.0</td>\n      <td>2.0</td>\n      <td>2.0</td>\n      <td>2.0</td>\n      <td>2.0</td>\n      <td>1.0</td>\n      <td>77.0</td>\n      <td>0.0</td>\n      <td>8.0</td>\n      <td>180.0</td>\n      <td>8165.0</td>\n      <td>3.0</td>\n      <td>2.0</td>\n      <td>2.0</td>\n      <td>3.0</td>\n      <td>1.0</td>\n      <td>1.0</td>\n      <td>1.0</td>\n      <td>2.0</td>\n    </tr>\n    <tr>\n      <th>394642</th>\n      <td>2.0</td>\n      <td>88.0</td>\n      <td>1.0</td>\n      <td>1.0</td>\n      <td>1.0</td>\n      <td>2.0</td>\n      <td>3.0</td>\n      <td>0.0</td>\n      <td>2.0</td>\n      <td>2.0</td>\n      <td>2.0</td>\n      <td>2.0</td>\n      <td>2.0</td>\n      <td>2.0</td>\n      <td>1.0</td>\n      <td>5.0</td>\n      <td>0.0</td>\n      <td>1.0</td>\n      <td>165.0</td>\n      <td>5443.0</td>\n      <td>2.0</td>\n      <td>2.0</td>\n      <td>1.0</td>\n      <td>4.0</td>\n      <td>1.0</td>\n      <td>1.0</td>\n      <td>1.0</td>\n      <td>2.0</td>\n    </tr>\n    <tr>\n      <th>354955</th>\n      <td>1.0</td>\n      <td>1.0</td>\n      <td>88.0</td>\n      <td>1.0</td>\n      <td>2.0</td>\n      <td>3.0</td>\n      <td>3.0</td>\n      <td>2.0</td>\n      <td>2.0</td>\n      <td>2.0</td>\n      <td>2.0</td>\n      <td>2.0</td>\n      <td>2.0</td>\n      <td>2.0</td>\n      <td>1.0</td>\n      <td>7.0</td>\n      <td>1.0</td>\n      <td>7.0</td>\n      <td>165.0</td>\n      <td>9480.0</td>\n      <td>4.0</td>\n      <td>2.0</td>\n      <td>1.0</td>\n      <td>3.0</td>\n      <td>1.0</td>\n      <td>1.0</td>\n      <td>1.0</td>\n      <td>1.0</td>\n    </tr>\n    <tr>\n      <th>228337</th>\n      <td>1.0</td>\n      <td>88.0</td>\n      <td>88.0</td>\n      <td>1.0</td>\n      <td>2.0</td>\n      <td>1.0</td>\n      <td>3.0</td>\n      <td>2.0</td>\n      <td>2.0</td>\n      <td>2.0</td>\n      <td>2.0</td>\n      <td>2.0</td>\n      <td>2.0</td>\n      <td>2.0</td>\n      <td>2.0</td>\n      <td>6.0</td>\n      <td>0.0</td>\n      <td>3.0</td>\n      <td>168.0</td>\n      <td>8391.0</td>\n      <td>0.0</td>\n      <td>4.0</td>\n      <td>1.0</td>\n      <td>4.0</td>\n      <td>1.0</td>\n      <td>1.0</td>\n      <td>4.0</td>\n      <td>2.0</td>\n    </tr>\n    <tr>\n      <th>57536</th>\n      <td>2.0</td>\n      <td>88.0</td>\n      <td>3.0</td>\n      <td>1.0</td>\n      <td>2.0</td>\n      <td>1.0</td>\n      <td>1.0</td>\n      <td>2.0</td>\n      <td>2.0</td>\n      <td>2.0</td>\n      <td>2.0</td>\n      <td>1.0</td>\n      <td>1.0</td>\n      <td>2.0</td>\n      <td>2.0</td>\n      <td>8.0</td>\n      <td>0.0</td>\n      <td>9.0</td>\n      <td>165.0</td>\n      <td>6350.0</td>\n      <td>2.0</td>\n      <td>4.0</td>\n      <td>1.0</td>\n      <td>4.0</td>\n      <td>2.0</td>\n      <td>1.0</td>\n      <td>2.0</td>\n      <td>2.0</td>\n    </tr>\n    <tr>\n      <th>68009</th>\n      <td>3.0</td>\n      <td>88.0</td>\n      <td>88.0</td>\n      <td>1.0</td>\n      <td>2.0</td>\n      <td>1.0</td>\n      <td>1.0</td>\n      <td>1.0</td>\n      <td>2.0</td>\n      <td>1.0</td>\n      <td>2.0</td>\n      <td>2.0</td>\n      <td>2.0</td>\n      <td>2.0</td>\n      <td>2.0</td>\n      <td>7.0</td>\n      <td>0.0</td>\n      <td>11.0</td>\n      <td>165.0</td>\n      <td>6577.0</td>\n      <td>2.0</td>\n      <td>4.0</td>\n      <td>2.0</td>\n      <td>3.0</td>\n      <td>1.0</td>\n      <td>1.0</td>\n      <td>2.0</td>\n      <td>1.0</td>\n    </tr>\n    <tr>\n      <th>308419</th>\n      <td>3.0</td>\n      <td>88.0</td>\n      <td>88.0</td>\n      <td>1.0</td>\n      <td>2.0</td>\n      <td>1.0</td>\n      <td>1.0</td>\n      <td>1.0</td>\n      <td>2.0</td>\n      <td>2.0</td>\n      <td>2.0</td>\n      <td>2.0</td>\n      <td>1.0</td>\n      <td>2.0</td>\n      <td>2.0</td>\n      <td>6.0</td>\n      <td>0.0</td>\n      <td>11.0</td>\n      <td>155.0</td>\n      <td>6577.0</td>\n      <td>3.0</td>\n      <td>3.0</td>\n      <td>1.0</td>\n      <td>3.0</td>\n      <td>1.0</td>\n      <td>1.0</td>\n      <td>2.0</td>\n      <td>2.0</td>\n    </tr>\n    <tr>\n      <th>359773</th>\n      <td>1.0</td>\n      <td>5.0</td>\n      <td>3.0</td>\n      <td>1.0</td>\n      <td>2.0</td>\n      <td>1.0</td>\n      <td>1.0</td>\n      <td>0.0</td>\n      <td>2.0</td>\n      <td>2.0</td>\n      <td>2.0</td>\n      <td>2.0</td>\n      <td>2.0</td>\n      <td>2.0</td>\n      <td>1.0</td>\n      <td>5.0</td>\n      <td>0.0</td>\n      <td>1.0</td>\n      <td>175.0</td>\n      <td>23088.0</td>\n      <td>4.0</td>\n      <td>2.0</td>\n      <td>2.0</td>\n      <td>3.0</td>\n      <td>1.0</td>\n      <td>1.0</td>\n      <td>3.0</td>\n      <td>1.0</td>\n    </tr>\n  </tbody>\n</table>\n</div>"
     },
     "execution_count": 2,
     "metadata": {},
     "output_type": "execute_result"
    }
   ],
   "source": [
    "data_train, data_test, target_train, target_test = get_preprocessed_brfss_train_test_split()\n",
    "data_train.head(10)"
   ],
   "metadata": {
    "collapsed": false,
    "pycharm": {
     "name": "#%%\n"
    }
   }
  },
  {
   "cell_type": "code",
   "execution_count": 3,
   "outputs": [
    {
     "data": {
      "text/plain": "DecisionTreeClassifier()",
      "text/html": "<style>#sk-container-id-1 {color: black;background-color: white;}#sk-container-id-1 pre{padding: 0;}#sk-container-id-1 div.sk-toggleable {background-color: white;}#sk-container-id-1 label.sk-toggleable__label {cursor: pointer;display: block;width: 100%;margin-bottom: 0;padding: 0.3em;box-sizing: border-box;text-align: center;}#sk-container-id-1 label.sk-toggleable__label-arrow:before {content: \"▸\";float: left;margin-right: 0.25em;color: #696969;}#sk-container-id-1 label.sk-toggleable__label-arrow:hover:before {color: black;}#sk-container-id-1 div.sk-estimator:hover label.sk-toggleable__label-arrow:before {color: black;}#sk-container-id-1 div.sk-toggleable__content {max-height: 0;max-width: 0;overflow: hidden;text-align: left;background-color: #f0f8ff;}#sk-container-id-1 div.sk-toggleable__content pre {margin: 0.2em;color: black;border-radius: 0.25em;background-color: #f0f8ff;}#sk-container-id-1 input.sk-toggleable__control:checked~div.sk-toggleable__content {max-height: 200px;max-width: 100%;overflow: auto;}#sk-container-id-1 input.sk-toggleable__control:checked~label.sk-toggleable__label-arrow:before {content: \"▾\";}#sk-container-id-1 div.sk-estimator input.sk-toggleable__control:checked~label.sk-toggleable__label {background-color: #d4ebff;}#sk-container-id-1 div.sk-label input.sk-toggleable__control:checked~label.sk-toggleable__label {background-color: #d4ebff;}#sk-container-id-1 input.sk-hidden--visually {border: 0;clip: rect(1px 1px 1px 1px);clip: rect(1px, 1px, 1px, 1px);height: 1px;margin: -1px;overflow: hidden;padding: 0;position: absolute;width: 1px;}#sk-container-id-1 div.sk-estimator {font-family: monospace;background-color: #f0f8ff;border: 1px dotted black;border-radius: 0.25em;box-sizing: border-box;margin-bottom: 0.5em;}#sk-container-id-1 div.sk-estimator:hover {background-color: #d4ebff;}#sk-container-id-1 div.sk-parallel-item::after {content: \"\";width: 100%;border-bottom: 1px solid gray;flex-grow: 1;}#sk-container-id-1 div.sk-label:hover label.sk-toggleable__label {background-color: #d4ebff;}#sk-container-id-1 div.sk-serial::before {content: \"\";position: absolute;border-left: 1px solid gray;box-sizing: border-box;top: 0;bottom: 0;left: 50%;z-index: 0;}#sk-container-id-1 div.sk-serial {display: flex;flex-direction: column;align-items: center;background-color: white;padding-right: 0.2em;padding-left: 0.2em;position: relative;}#sk-container-id-1 div.sk-item {position: relative;z-index: 1;}#sk-container-id-1 div.sk-parallel {display: flex;align-items: stretch;justify-content: center;background-color: white;position: relative;}#sk-container-id-1 div.sk-item::before, #sk-container-id-1 div.sk-parallel-item::before {content: \"\";position: absolute;border-left: 1px solid gray;box-sizing: border-box;top: 0;bottom: 0;left: 50%;z-index: -1;}#sk-container-id-1 div.sk-parallel-item {display: flex;flex-direction: column;z-index: 1;position: relative;background-color: white;}#sk-container-id-1 div.sk-parallel-item:first-child::after {align-self: flex-end;width: 50%;}#sk-container-id-1 div.sk-parallel-item:last-child::after {align-self: flex-start;width: 50%;}#sk-container-id-1 div.sk-parallel-item:only-child::after {width: 0;}#sk-container-id-1 div.sk-dashed-wrapped {border: 1px dashed gray;margin: 0 0.4em 0.5em 0.4em;box-sizing: border-box;padding-bottom: 0.4em;background-color: white;}#sk-container-id-1 div.sk-label label {font-family: monospace;font-weight: bold;display: inline-block;line-height: 1.2em;}#sk-container-id-1 div.sk-label-container {text-align: center;}#sk-container-id-1 div.sk-container {/* jupyter's `normalize.less` sets `[hidden] { display: none; }` but bootstrap.min.css set `[hidden] { display: none !important; }` so we also need the `!important` here to be able to override the default hidden behavior on the sphinx rendered scikit-learn.org. See: https://github.com/scikit-learn/scikit-learn/issues/21755 */display: inline-block !important;position: relative;}#sk-container-id-1 div.sk-text-repr-fallback {display: none;}</style><div id=\"sk-container-id-1\" class=\"sk-top-container\"><div class=\"sk-text-repr-fallback\"><pre>DecisionTreeClassifier()</pre><b>In a Jupyter environment, please rerun this cell to show the HTML representation or trust the notebook. <br />On GitHub, the HTML representation is unable to render, please try loading this page with nbviewer.org.</b></div><div class=\"sk-container\" hidden><div class=\"sk-item\"><div class=\"sk-estimator sk-toggleable\"><input class=\"sk-toggleable__control sk-hidden--visually\" id=\"sk-estimator-id-1\" type=\"checkbox\" checked><label for=\"sk-estimator-id-1\" class=\"sk-toggleable__label sk-toggleable__label-arrow\">DecisionTreeClassifier</label><div class=\"sk-toggleable__content\"><pre>DecisionTreeClassifier()</pre></div></div></div></div></div>"
     },
     "execution_count": 3,
     "metadata": {},
     "output_type": "execute_result"
    }
   ],
   "source": [
    "decision_tree_classifier = DecisionTreeClassifier()\n",
    "decision_tree_classifier.fit(data_train, target_train)"
   ],
   "metadata": {
    "collapsed": false,
    "pycharm": {
     "name": "#%%\n"
    }
   }
  },
  {
   "cell_type": "code",
   "execution_count": null,
   "outputs": [],
   "source": [
    "dot_data = tree.export_graphviz(decision_tree_classifier, out_file=None,\n",
    "                                feature_names=data_train.columns,\n",
    "                                class_names=diabetes_columns,\n",
    "                                filled=True, rounded=True, special_characters=True)\n",
    "\n",
    "graph = graphviz.Source(dot_data)"
   ],
   "metadata": {
    "collapsed": false,
    "pycharm": {
     "name": "#%%\n",
     "is_executing": true
    }
   }
  },
  {
   "cell_type": "code",
   "execution_count": 6,
   "outputs": [
    {
     "name": "stdout",
     "output_type": "stream",
     "text": [
      "Fold 0: Accuracy = 75.89477857061955%\n",
      "Fold 1: Accuracy = 75.97689432551817%\n",
      "Fold 2: Accuracy = 75.85230490429267%\n",
      "Fold 3: Accuracy = 76.50639936572658%\n",
      "Fold 4: Accuracy = 75.80699966021068%\n",
      "Fold 5: Accuracy = 76.05051534715143%\n",
      "Fold 6: Accuracy = 75.7645259938838%\n",
      "Fold 7: Accuracy = 76.31385207837808%\n",
      "Fold 8: Accuracy = 76.12979952429494%\n",
      "Fold 9: Accuracy = 75.85728444003963%\n",
      "Average Accuracy = 76.01533542101156%\n"
     ]
    }
   ],
   "source": [
    "from sklearn.model_selection import cross_val_score, StratifiedKFold\n",
    "\n",
    "cross_validation = StratifiedKFold(n_splits=10, shuffle=True, random_state=1)\n",
    "accuracy = cross_val_score(decision_tree_classifier, data_train, target_train, cv=cross_validation, scoring='accuracy')\n",
    "\n",
    "for i, acc in enumerate(accuracy):\n",
    "    print(\"Fold {}: Accuracy = {}%\".format(i, acc * 100.0))\n",
    "\n",
    "print(\"Average Accuracy = {}%\".format(accuracy.mean() * 100.0))"
   ],
   "metadata": {
    "collapsed": false,
    "pycharm": {
     "name": "#%%\n"
    }
   }
  },
  {
   "cell_type": "code",
   "execution_count": 8,
   "outputs": [
    {
     "data": {
      "text/plain": "     mean_fit_time  std_fit_time  mean_score_time  std_score_time  \\\n0         0.472740      0.013230         0.004462        0.000285   \n1         0.205233      0.003864         0.004170        0.000216   \n2         0.540735      0.004124         0.004417        0.000180   \n3         0.240472      0.004426         0.004292        0.000166   \n4         0.619247      0.001294         0.004644        0.000161   \n..             ...           ...              ...             ...   \n133       0.757129      0.007152         0.010688        0.000204   \n134       1.590334      0.004536         0.010550        0.000057   \n135       0.767439      0.005688         0.010924        0.000242   \n136       1.598364      0.004149         0.010420        0.000092   \n137       0.778897      0.006523         0.010925        0.000129   \n\n    param_criterion param_max_depth param_splitter  \\\n0              gini               5           best   \n1              gini               5         random   \n2              gini               6           best   \n3              gini               6         random   \n4              gini               7           best   \n..              ...             ...            ...   \n133        log_loss              25         random   \n134        log_loss              26           best   \n135        log_loss              26         random   \n136        log_loss              27           best   \n137        log_loss              27         random   \n\n                                                params  split0_test_score  \\\n0    {'criterion': 'gini', 'max_depth': 5, 'splitte...           0.846982   \n1    {'criterion': 'gini', 'max_depth': 5, 'splitte...           0.843782   \n2    {'criterion': 'gini', 'max_depth': 6, 'splitte...           0.848511   \n3    {'criterion': 'gini', 'max_depth': 6, 'splitte...           0.842847   \n4    {'criterion': 'gini', 'max_depth': 7, 'splitte...           0.848397   \n..                                                 ...                ...   \n133  {'criterion': 'log_loss', 'max_depth': 25, 'sp...           0.783639   \n134  {'criterion': 'log_loss', 'max_depth': 26, 'sp...           0.771916   \n135  {'criterion': 'log_loss', 'max_depth': 26, 'sp...           0.776277   \n136  {'criterion': 'log_loss', 'max_depth': 27, 'sp...           0.771095   \n137  {'criterion': 'log_loss', 'max_depth': 27, 'sp...           0.777551   \n\n     split1_test_score  split2_test_score  split3_test_score  \\\n0             0.846925           0.846698           0.846812   \n1             0.842932           0.845679           0.842961   \n2             0.847180           0.846670           0.846840   \n3             0.842904           0.846415           0.846217   \n4             0.847406           0.846557           0.847435   \n..                 ...                ...                ...   \n133           0.786839           0.782507           0.780298   \n134           0.770869           0.771605           0.771633   \n135           0.780779           0.779165           0.778061   \n136           0.768632           0.769340           0.769906   \n137           0.776051           0.772256           0.778231   \n\n     split4_test_score  split5_test_score  split6_test_score  \\\n0             0.845934           0.846982           0.846557   \n1             0.843300           0.843131           0.841941   \n2             0.846387           0.847095           0.846642   \n3             0.842649           0.846415           0.845113   \n4             0.846783           0.847180           0.847038   \n..                 ...                ...                ...   \n133           0.782818           0.781572           0.782365   \n134           0.768887           0.774040           0.772879   \n135           0.776900           0.779420           0.777919   \n136           0.768207           0.772624           0.771492   \n137           0.772907           0.779109           0.777976   \n\n     split7_test_score  split8_test_score  split9_test_score  mean_test_score  \\\n0             0.846840           0.846415           0.846043         0.846619   \n1             0.842904           0.843074           0.842673         0.843238   \n2             0.847208           0.847208           0.845986         0.846973   \n3             0.846047           0.846528           0.843013         0.844815   \n4             0.848001           0.847378           0.846411         0.847259   \n..                 ...                ...                ...              ...   \n133           0.783214           0.787377           0.785813         0.783644   \n134           0.773304           0.777296           0.770409         0.772284   \n135           0.781799           0.776589           0.778196         0.778511   \n136           0.771237           0.775626           0.767889         0.770605   \n137           0.777523           0.776447           0.774543         0.776259   \n\n     std_test_score  rank_test_score  \n0          0.000360               13  \n1          0.000926               45  \n2          0.000638                6  \n3          0.001646               36  \n4          0.000584                1  \n..              ...              ...  \n133        0.002194              119  \n134        0.002184              136  \n135        0.001707              126  \n136        0.002232              138  \n137        0.002202              131  \n\n[138 rows x 21 columns]",
      "text/html": "<div>\n<style scoped>\n    .dataframe tbody tr th:only-of-type {\n        vertical-align: middle;\n    }\n\n    .dataframe tbody tr th {\n        vertical-align: top;\n    }\n\n    .dataframe thead th {\n        text-align: right;\n    }\n</style>\n<table border=\"1\" class=\"dataframe\">\n  <thead>\n    <tr style=\"text-align: right;\">\n      <th></th>\n      <th>mean_fit_time</th>\n      <th>std_fit_time</th>\n      <th>mean_score_time</th>\n      <th>std_score_time</th>\n      <th>param_criterion</th>\n      <th>param_max_depth</th>\n      <th>param_splitter</th>\n      <th>params</th>\n      <th>split0_test_score</th>\n      <th>split1_test_score</th>\n      <th>split2_test_score</th>\n      <th>split3_test_score</th>\n      <th>split4_test_score</th>\n      <th>split5_test_score</th>\n      <th>split6_test_score</th>\n      <th>split7_test_score</th>\n      <th>split8_test_score</th>\n      <th>split9_test_score</th>\n      <th>mean_test_score</th>\n      <th>std_test_score</th>\n      <th>rank_test_score</th>\n    </tr>\n  </thead>\n  <tbody>\n    <tr>\n      <th>0</th>\n      <td>0.472740</td>\n      <td>0.013230</td>\n      <td>0.004462</td>\n      <td>0.000285</td>\n      <td>gini</td>\n      <td>5</td>\n      <td>best</td>\n      <td>{'criterion': 'gini', 'max_depth': 5, 'splitte...</td>\n      <td>0.846982</td>\n      <td>0.846925</td>\n      <td>0.846698</td>\n      <td>0.846812</td>\n      <td>0.845934</td>\n      <td>0.846982</td>\n      <td>0.846557</td>\n      <td>0.846840</td>\n      <td>0.846415</td>\n      <td>0.846043</td>\n      <td>0.846619</td>\n      <td>0.000360</td>\n      <td>13</td>\n    </tr>\n    <tr>\n      <th>1</th>\n      <td>0.205233</td>\n      <td>0.003864</td>\n      <td>0.004170</td>\n      <td>0.000216</td>\n      <td>gini</td>\n      <td>5</td>\n      <td>random</td>\n      <td>{'criterion': 'gini', 'max_depth': 5, 'splitte...</td>\n      <td>0.843782</td>\n      <td>0.842932</td>\n      <td>0.845679</td>\n      <td>0.842961</td>\n      <td>0.843300</td>\n      <td>0.843131</td>\n      <td>0.841941</td>\n      <td>0.842904</td>\n      <td>0.843074</td>\n      <td>0.842673</td>\n      <td>0.843238</td>\n      <td>0.000926</td>\n      <td>45</td>\n    </tr>\n    <tr>\n      <th>2</th>\n      <td>0.540735</td>\n      <td>0.004124</td>\n      <td>0.004417</td>\n      <td>0.000180</td>\n      <td>gini</td>\n      <td>6</td>\n      <td>best</td>\n      <td>{'criterion': 'gini', 'max_depth': 6, 'splitte...</td>\n      <td>0.848511</td>\n      <td>0.847180</td>\n      <td>0.846670</td>\n      <td>0.846840</td>\n      <td>0.846387</td>\n      <td>0.847095</td>\n      <td>0.846642</td>\n      <td>0.847208</td>\n      <td>0.847208</td>\n      <td>0.845986</td>\n      <td>0.846973</td>\n      <td>0.000638</td>\n      <td>6</td>\n    </tr>\n    <tr>\n      <th>3</th>\n      <td>0.240472</td>\n      <td>0.004426</td>\n      <td>0.004292</td>\n      <td>0.000166</td>\n      <td>gini</td>\n      <td>6</td>\n      <td>random</td>\n      <td>{'criterion': 'gini', 'max_depth': 6, 'splitte...</td>\n      <td>0.842847</td>\n      <td>0.842904</td>\n      <td>0.846415</td>\n      <td>0.846217</td>\n      <td>0.842649</td>\n      <td>0.846415</td>\n      <td>0.845113</td>\n      <td>0.846047</td>\n      <td>0.846528</td>\n      <td>0.843013</td>\n      <td>0.844815</td>\n      <td>0.001646</td>\n      <td>36</td>\n    </tr>\n    <tr>\n      <th>4</th>\n      <td>0.619247</td>\n      <td>0.001294</td>\n      <td>0.004644</td>\n      <td>0.000161</td>\n      <td>gini</td>\n      <td>7</td>\n      <td>best</td>\n      <td>{'criterion': 'gini', 'max_depth': 7, 'splitte...</td>\n      <td>0.848397</td>\n      <td>0.847406</td>\n      <td>0.846557</td>\n      <td>0.847435</td>\n      <td>0.846783</td>\n      <td>0.847180</td>\n      <td>0.847038</td>\n      <td>0.848001</td>\n      <td>0.847378</td>\n      <td>0.846411</td>\n      <td>0.847259</td>\n      <td>0.000584</td>\n      <td>1</td>\n    </tr>\n    <tr>\n      <th>...</th>\n      <td>...</td>\n      <td>...</td>\n      <td>...</td>\n      <td>...</td>\n      <td>...</td>\n      <td>...</td>\n      <td>...</td>\n      <td>...</td>\n      <td>...</td>\n      <td>...</td>\n      <td>...</td>\n      <td>...</td>\n      <td>...</td>\n      <td>...</td>\n      <td>...</td>\n      <td>...</td>\n      <td>...</td>\n      <td>...</td>\n      <td>...</td>\n      <td>...</td>\n      <td>...</td>\n    </tr>\n    <tr>\n      <th>133</th>\n      <td>0.757129</td>\n      <td>0.007152</td>\n      <td>0.010688</td>\n      <td>0.000204</td>\n      <td>log_loss</td>\n      <td>25</td>\n      <td>random</td>\n      <td>{'criterion': 'log_loss', 'max_depth': 25, 'sp...</td>\n      <td>0.783639</td>\n      <td>0.786839</td>\n      <td>0.782507</td>\n      <td>0.780298</td>\n      <td>0.782818</td>\n      <td>0.781572</td>\n      <td>0.782365</td>\n      <td>0.783214</td>\n      <td>0.787377</td>\n      <td>0.785813</td>\n      <td>0.783644</td>\n      <td>0.002194</td>\n      <td>119</td>\n    </tr>\n    <tr>\n      <th>134</th>\n      <td>1.590334</td>\n      <td>0.004536</td>\n      <td>0.010550</td>\n      <td>0.000057</td>\n      <td>log_loss</td>\n      <td>26</td>\n      <td>best</td>\n      <td>{'criterion': 'log_loss', 'max_depth': 26, 'sp...</td>\n      <td>0.771916</td>\n      <td>0.770869</td>\n      <td>0.771605</td>\n      <td>0.771633</td>\n      <td>0.768887</td>\n      <td>0.774040</td>\n      <td>0.772879</td>\n      <td>0.773304</td>\n      <td>0.777296</td>\n      <td>0.770409</td>\n      <td>0.772284</td>\n      <td>0.002184</td>\n      <td>136</td>\n    </tr>\n    <tr>\n      <th>135</th>\n      <td>0.767439</td>\n      <td>0.005688</td>\n      <td>0.010924</td>\n      <td>0.000242</td>\n      <td>log_loss</td>\n      <td>26</td>\n      <td>random</td>\n      <td>{'criterion': 'log_loss', 'max_depth': 26, 'sp...</td>\n      <td>0.776277</td>\n      <td>0.780779</td>\n      <td>0.779165</td>\n      <td>0.778061</td>\n      <td>0.776900</td>\n      <td>0.779420</td>\n      <td>0.777919</td>\n      <td>0.781799</td>\n      <td>0.776589</td>\n      <td>0.778196</td>\n      <td>0.778511</td>\n      <td>0.001707</td>\n      <td>126</td>\n    </tr>\n    <tr>\n      <th>136</th>\n      <td>1.598364</td>\n      <td>0.004149</td>\n      <td>0.010420</td>\n      <td>0.000092</td>\n      <td>log_loss</td>\n      <td>27</td>\n      <td>best</td>\n      <td>{'criterion': 'log_loss', 'max_depth': 27, 'sp...</td>\n      <td>0.771095</td>\n      <td>0.768632</td>\n      <td>0.769340</td>\n      <td>0.769906</td>\n      <td>0.768207</td>\n      <td>0.772624</td>\n      <td>0.771492</td>\n      <td>0.771237</td>\n      <td>0.775626</td>\n      <td>0.767889</td>\n      <td>0.770605</td>\n      <td>0.002232</td>\n      <td>138</td>\n    </tr>\n    <tr>\n      <th>137</th>\n      <td>0.778897</td>\n      <td>0.006523</td>\n      <td>0.010925</td>\n      <td>0.000129</td>\n      <td>log_loss</td>\n      <td>27</td>\n      <td>random</td>\n      <td>{'criterion': 'log_loss', 'max_depth': 27, 'sp...</td>\n      <td>0.777551</td>\n      <td>0.776051</td>\n      <td>0.772256</td>\n      <td>0.778231</td>\n      <td>0.772907</td>\n      <td>0.779109</td>\n      <td>0.777976</td>\n      <td>0.777523</td>\n      <td>0.776447</td>\n      <td>0.774543</td>\n      <td>0.776259</td>\n      <td>0.002202</td>\n      <td>131</td>\n    </tr>\n  </tbody>\n</table>\n<p>138 rows × 21 columns</p>\n</div>"
     },
     "metadata": {},
     "output_type": "display_data"
    },
    {
     "name": "stdout",
     "output_type": "stream",
     "text": [
      "best score is 0.847258597833485 with params {'criterion': 'gini', 'max_depth': 7, 'splitter': 'best'}\n"
     ]
    }
   ],
   "source": [
    "from sklearn.neighbors import KNeighborsClassifier\n",
    "from sklearn.model_selection import StratifiedKFold\n",
    "from sklearn.model_selection import GridSearchCV\n",
    "from sklearn.model_selection import cross_val_score\n",
    "import pandas as pd\n",
    "\n",
    "decision_tree_classifier = DecisionTreeClassifier()\n",
    "# specify the parameter grid\n",
    "parameters = {\n",
    "    'max_depth': range(5, 28),\n",
    "    'splitter': [\"best\", \"random\"],\n",
    "    'criterion': [\"gini\", \"entropy\", \"log_loss\"]\n",
    "}\n",
    "\n",
    "\n",
    "# create the grid search instance\n",
    "grid_search_estimator = GridSearchCV(decision_tree_classifier, parameters, scoring='accuracy', cv=cross_validation, return_train_score=False)\n",
    "\n",
    "# run the grid search\n",
    "grid_search_estimator.fit(data_train, target_train)\n",
    "\n",
    "# print the results of all hyper-parameter combinations\n",
    "results = pd.DataFrame(grid_search_estimator.cv_results_)\n",
    "display(results)\n",
    "\n",
    "# print the best parameter setting\n",
    "print(\"best score is {} with params {}\".format(grid_search_estimator.best_score_, grid_search_estimator.best_params_))"
   ],
   "metadata": {
    "collapsed": false,
    "pycharm": {
     "name": "#%%\n"
    }
   }
  }
 ],
 "metadata": {
  "kernelspec": {
   "display_name": "Python 3",
   "language": "python",
   "name": "python3"
  },
  "language_info": {
   "codemirror_mode": {
    "name": "ipython",
    "version": 2
   },
   "file_extension": ".py",
   "mimetype": "text/x-python",
   "name": "python",
   "nbconvert_exporter": "python",
   "pygments_lexer": "ipython2",
   "version": "2.7.6"
  }
 },
 "nbformat": 4,
 "nbformat_minor": 0
}