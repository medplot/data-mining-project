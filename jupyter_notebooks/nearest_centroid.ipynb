{
 "cells": [
  {
   "cell_type": "markdown",
   "source": [
    "# Nearest Centroids\n",
    "In this notebook we want to train a Nearest Centroid classifier that should predict whether a patient has diabetes or not."
   ],
   "metadata": {
    "collapsed": false
   }
  },
  {
   "cell_type": "code",
   "execution_count": 1,
   "outputs": [
    {
     "name": "stderr",
     "output_type": "stream",
     "text": [
      "/Users/I516258/opt/anaconda3/lib/python3.9/site-packages/scipy/__init__.py:146: UserWarning: A NumPy version >=1.16.5 and <1.23.0 is required for this version of SciPy (detected version 1.23.3\n",
      "  warnings.warn(f\"A NumPy version >={np_minversion} and <{np_maxversion}\"\n"
     ]
    }
   ],
   "source": [
    "#imports\n",
    "from preprocessing.preprocessing import *\n",
    "from preprocessing.preprocessing_label_encoding import *\n",
    "from preprocessing.preprocessing_one_hot_encoding import *\n",
    "\n",
    "import pandas as pd\n",
    "\n",
    "from sklearn.neighbors import NearestCentroid\n",
    "from sklearn.metrics import *\n",
    "\n",
    "import warnings\n",
    "warnings.filterwarnings('ignore')\n",
    "\n",
    "#used to store the results and compare at the end\n",
    "approach_list = []\n",
    "acc_list = []\n",
    "cr_list = []\n",
    "f2_list = []"
   ],
   "metadata": {
    "collapsed": false
   }
  },
  {
   "cell_type": "markdown",
   "source": [
    "# Hyperparameter tuning and preprocessing\n",
    "We will evaluate different parameters for the classifier (hyperparameter tuning) as well as different preprocessing steps.\n",
    "\n",
    "In detail, we will vary regarding parameters:<br>\n",
    "\n",
    "\n",
    "| **Parameter** |                   **range Values**                    |\n",
    "|:-------------:|:-----------------------------------------------------:|\n",
    "| metric        | 'euclidean',<br>'cosine',<br>'manhattan',<br>'jaccard' |\n",
    "\n",
    "\n",
    "And we will vary for preprocessing:\n",
    "\n",
    "|              **Preprocessing**              |                           **Description**                           |\n",
    "|:-------------------------------------------:|:-------------------------------------------------------------------:|\n",
    "|               Label Encoding                |                           Label encoding                            |\n",
    "|     Label Encoding<br>+<br>Oversampling     |                   Label encoding and oversampling                   |\n",
    "|    Label Encoding<br>+<br>Undersampling     |                  Label encoding and undersampling                   |\n",
    "|            One Hot Encoding (1)             |           One hot encoding for all columns except yes/no            |\n",
    "|            One Hot Encoding (2)             |          One hot encoding for all columns including yes/no          |\n",
    "|  One Hot Encoding (1)<br>+<br>Oversampling  |   One hot encoding for all columns except yes/no and oversampling   |\n",
    "| One Hot Encoding (2) <br>+<br>Oversampling  | One hot encoding for all columns including yes/no and oversampling  |\n",
    "| One Hot Encoding (1)<br>+<br>Undersampling  |  One hot encoding for all columns except yes/no and undersampling   |\n",
    "| One Hot Encoding (2) <br>+<br>Undersampling | One hot encoding for all columns including yes/no and undersampling |"
   ],
   "metadata": {
    "collapsed": false
   }
  },
  {
   "cell_type": "code",
   "execution_count": 2,
   "outputs": [],
   "source": [
    "#metrics that should be used\n",
    "metrics = ('euclidean', 'cosine', 'manhattan', 'jaccard')"
   ],
   "metadata": {
    "collapsed": false
   }
  },
  {
   "cell_type": "markdown",
   "source": [
    "The below defined function is used to store all the accuracy and F2-scores for a better comparison and evaluation capability at the end. It also returns the Accuracy score and F2-Score to see the performance directly under each method.\n"
   ],
   "metadata": {
    "collapsed": false
   }
  },
  {
   "cell_type": "code",
   "execution_count": 2,
   "outputs": [],
   "source": [
    "def evaluation(target_validation, diabetes_test_prediction, metric, preproccessing):\n",
    "    approach = \"preprocessing: {} metric: {}\".format(preproccessing, metric)\n",
    "    approach_list.append(approach)\n",
    "    acc = accuracy_score(target_validation, diabetes_test_prediction)\n",
    "    acc_list.append(acc)\n",
    "    cr = classification_report(target_validation, diabetes_test_prediction)\n",
    "    cr_list.append(cr)\n",
    "    f2 = fbeta_score(target_validation, diabetes_test_prediction, beta=2)\n",
    "    f2_list.append(f2)\n",
    "    return \"{}:\\n acc = {}\\n f2-score = {}\".format(approach, acc, f2)"
   ],
   "metadata": {
    "collapsed": false
   }
  },
  {
   "cell_type": "markdown",
   "source": [
    "We start with applying a Nearest Centroid classifier to the train data and test against the validation data on how it performs by using the accuracy and F2 score.\n",
    "\n",
    "We will do so for each combination that is listed above by using a for loop. The following estimators are structured by the different style of preprocessing.\n",
    "\n",
    "At the end we test the best approach against the actual test data."
   ],
   "metadata": {
    "collapsed": false
   }
  },
  {
   "cell_type": "markdown",
   "source": [
    "# Label Encoding"
   ],
   "metadata": {
    "collapsed": false
   }
  },
  {
   "cell_type": "code",
   "execution_count": 4,
   "outputs": [
    {
     "name": "stdout",
     "output_type": "stream",
     "text": [
      "preprocessing: Label Encoding metric: euclidean:\n",
      " acc = 0.6673002451415782\n",
      " f2-score = 0.53095703125\n",
      "preprocessing: Label Encoding metric: cosine:\n",
      " acc = 0.6812093651188403\n",
      " f2-score = 0.5305309293754358\n",
      "preprocessing: Label Encoding metric: manhattan:\n",
      " acc = 0.7256901268341208\n",
      " f2-score = 0.5538975641537588\n",
      "preprocessing: Label Encoding metric: jaccard:\n",
      " acc = 0.8721178100685686\n",
      " f2-score = 0.0\n"
     ]
    }
   ],
   "source": [
    "preprocessing = \"Label Encoding\"\n",
    "\n",
    "#load data\n",
    "data_train, data_validation, target_train, target_validation = get_preprocessed_brfss_dataset_label_encoded_train_test_split()\n",
    "\n",
    "for metric in metrics:\n",
    "    nearest_centroid = NearestCentroid(metric=metric)\n",
    "    nearest_centroid.fit(data_train, target_train.values.ravel())\n",
    "    diabetes_test_prediction = nearest_centroid.predict(data_validation)\n",
    "    print(evaluation(target_validation, diabetes_test_prediction, metric, preprocessing))"
   ],
   "metadata": {
    "collapsed": false
   }
  },
  {
   "cell_type": "markdown",
   "source": [
    "# Label Encoding + Oversampling"
   ],
   "metadata": {
    "collapsed": false
   }
  },
  {
   "cell_type": "code",
   "execution_count": 5,
   "outputs": [
    {
     "name": "stdout",
     "output_type": "stream",
     "text": [
      "preprocessing: Label Encoding + Oversampling metric: euclidean:\n",
      " acc = 0.6669804952570434\n",
      " f2-score = 0.5313854081274154\n",
      "preprocessing: Label Encoding + Oversampling metric: cosine:\n",
      " acc = 0.6808718513518315\n",
      " f2-score = 0.5307223638101306\n",
      "preprocessing: Label Encoding + Oversampling metric: manhattan:\n",
      " acc = 0.71101715991047\n",
      " f2-score = 0.558961635465152\n",
      "preprocessing: Label Encoding + Oversampling metric: jaccard:\n",
      " acc = 0.8721178100685686\n",
      " f2-score = 0.0\n"
     ]
    }
   ],
   "source": [
    "preprocessing = \"Label Encoding + Oversampling\"\n",
    "\n",
    "#load data\n",
    "data_train, data_validation, target_train, target_validation = get_preprocessed_brfss_dataset_label_encoded_train_test_split_oversampled()\n",
    "\n",
    "for metric in metrics:\n",
    "    nearest_centroid = NearestCentroid(metric=metric)\n",
    "    nearest_centroid.fit(data_train, target_train.values.ravel())\n",
    "    diabetes_test_prediction = nearest_centroid.predict(data_validation)\n",
    "    print(evaluation(target_validation, diabetes_test_prediction, metric, preprocessing))"
   ],
   "metadata": {
    "collapsed": false
   }
  },
  {
   "cell_type": "markdown",
   "source": [
    "# Label Encoding + Undersampling"
   ],
   "metadata": {
    "collapsed": false
   }
  },
  {
   "cell_type": "code",
   "execution_count": 6,
   "outputs": [
    {
     "name": "stdout",
     "output_type": "stream",
     "text": [
      "preprocessing: Label Encoding + Undersampling metric: euclidean:\n",
      " acc = 0.6677621060859061\n",
      " f2-score = 0.5309959349593495\n",
      "preprocessing: Label Encoding + Undersampling metric: cosine:\n",
      " acc = 0.6813514761786336\n",
      " f2-score = 0.5306154980373403\n",
      "preprocessing: Label Encoding + Undersampling metric: manhattan:\n",
      " acc = 0.7256901268341208\n",
      " f2-score = 0.5538975641537588\n",
      "preprocessing: Label Encoding + Undersampling metric: jaccard:\n",
      " acc = 0.8721178100685686\n",
      " f2-score = 0.0\n"
     ]
    }
   ],
   "source": [
    "preprocessing = \"Label Encoding + Undersampling\"\n",
    "\n",
    "#load data\n",
    "data_train, data_validation, target_train, target_validation = get_preprocessed_brfss_dataset_label_encoded_train_test_split_undersampled()\n",
    "\n",
    "for metric in metrics:\n",
    "    nearest_centroid = NearestCentroid(metric=metric)\n",
    "    nearest_centroid.fit(data_train, target_train.values.ravel())\n",
    "    diabetes_test_prediction = nearest_centroid.predict(data_validation)\n",
    "    print(evaluation(target_validation, diabetes_test_prediction, metric, preprocessing))"
   ],
   "metadata": {
    "collapsed": false
   }
  },
  {
   "cell_type": "markdown",
   "source": [
    "# One Hot Encoding (1)\n",
    "yes/no values not one hot encoded"
   ],
   "metadata": {
    "collapsed": false
   }
  },
  {
   "cell_type": "code",
   "execution_count": 7,
   "outputs": [
    {
     "name": "stdout",
     "output_type": "stream",
     "text": [
      "preprocessing: One Hot Encoding (1) metric: euclidean:\n",
      " acc = 0.7202366149145557\n",
      " f2-score = 0.5659361146787091\n",
      "preprocessing: One Hot Encoding (1) metric: cosine:\n",
      " acc = 0.7183181156073472\n",
      " f2-score = 0.5645928069450186\n",
      "preprocessing: One Hot Encoding (1) metric: manhattan:\n",
      " acc = 0.7154403666465343\n",
      " f2-score = 0.5276018289357775\n",
      "preprocessing: One Hot Encoding (1) metric: jaccard:\n",
      " acc = 0.1278821899314314\n",
      " f2-score = 0.42302268186625924\n"
     ]
    }
   ],
   "source": [
    "preprocessing = \"One Hot Encoding (1)\"\n",
    "\n",
    "#load data\n",
    "data_train, data_validation, target_train, target_validation = get_preprocessed_brfss_dataset_one_hot_encoded_train_test_split()\n",
    "\n",
    "for metric in metrics:\n",
    "    nearest_centroid = NearestCentroid(metric=metric)\n",
    "    nearest_centroid.fit(data_train, target_train.values.ravel())\n",
    "    diabetes_test_prediction = nearest_centroid.predict(data_validation)\n",
    "    print(evaluation(target_validation, diabetes_test_prediction, metric, preprocessing))"
   ],
   "metadata": {
    "collapsed": false
   }
  },
  {
   "cell_type": "markdown",
   "source": [
    "# One Hot Encoding (2)\n",
    "all columns one hot encoded"
   ],
   "metadata": {
    "collapsed": false
   }
  },
  {
   "cell_type": "code",
   "execution_count": 8,
   "outputs": [
    {
     "name": "stdout",
     "output_type": "stream",
     "text": [
      "preprocessing: One Hot Encoding (2) metric: euclidean:\n",
      " acc = 0.7302909723949267\n",
      " f2-score = 0.5737807943690297\n",
      "preprocessing: One Hot Encoding (2) metric: cosine:\n",
      " acc = 0.7304153195722457\n",
      " f2-score = 0.5741070493348696\n",
      "preprocessing: One Hot Encoding (2) metric: manhattan:\n",
      " acc = 0.7216399616300139\n",
      " f2-score = 0.5213753265232441\n",
      "preprocessing: One Hot Encoding (2) metric: jaccard:\n",
      " acc = 0.1278821899314314\n",
      " f2-score = 0.42302268186625924\n"
     ]
    }
   ],
   "source": [
    "preprocessing = \"One Hot Encoding (2)\"\n",
    "\n",
    "#load data\n",
    "data_train, data_validation, target_train, target_validation = get_preprocessed_brfss_dataset_one_hot_encoded_all_columns_train_test_split()\n",
    "\n",
    "for metric in metrics:\n",
    "    nearest_centroid = NearestCentroid(metric=metric)\n",
    "    nearest_centroid.fit(data_train, target_train.values.ravel())\n",
    "    diabetes_test_prediction = nearest_centroid.predict(data_validation)\n",
    "    print(evaluation(target_validation, diabetes_test_prediction, metric, preprocessing))"
   ],
   "metadata": {
    "collapsed": false
   }
  },
  {
   "cell_type": "markdown",
   "source": [
    "# One Hot Encoding (1) + Oversampling"
   ],
   "metadata": {
    "collapsed": false
   }
  },
  {
   "cell_type": "code",
   "execution_count": 9,
   "outputs": [
    {
     "name": "stdout",
     "output_type": "stream",
     "text": [
      "preprocessing: One Hot Encoding (1) + Oversampling metric: euclidean:\n",
      " acc = 0.7202366149145557\n",
      " f2-score = 0.5658559827643355\n",
      "preprocessing: One Hot Encoding (1) + Oversampling metric: cosine:\n",
      " acc = 0.7183536433722955\n",
      " f2-score = 0.5645361336199768\n",
      "preprocessing: One Hot Encoding (1) + Oversampling metric: manhattan:\n",
      " acc = 0.7154403666465343\n",
      " f2-score = 0.5276018289357775\n",
      "preprocessing: One Hot Encoding (1) + Oversampling metric: jaccard:\n",
      " acc = 0.1278821899314314\n",
      " f2-score = 0.42302268186625924\n"
     ]
    }
   ],
   "source": [
    "preprocessing = \"One Hot Encoding (1) + Oversampling\"\n",
    "\n",
    "#load data\n",
    "data_train, data_validation, target_train, target_validation = get_preprocessed_brfss_dataset_one_hot_encoded_train_test_split_oversampled()\n",
    "\n",
    "for metric in metrics:\n",
    "    nearest_centroid = NearestCentroid(metric=metric)\n",
    "    nearest_centroid.fit(data_train, target_train.values.ravel())\n",
    "    diabetes_test_prediction = nearest_centroid.predict(data_validation)\n",
    "    print(evaluation(target_validation, diabetes_test_prediction, metric, preprocessing))"
   ],
   "metadata": {
    "collapsed": false
   }
  },
  {
   "cell_type": "markdown",
   "source": [
    "# One Hot Encoding (2) + Oversampling"
   ],
   "metadata": {
    "collapsed": false
   }
  },
  {
   "cell_type": "code",
   "execution_count": 10,
   "outputs": [
    {
     "name": "stdout",
     "output_type": "stream",
     "text": [
      "preprocessing: One Hot Encoding (2) + Oversampling metric: euclidean:\n",
      " acc = 0.7302376807475042\n",
      " f2-score = 0.5732604186309637\n",
      "preprocessing: One Hot Encoding (2) + Oversampling metric: cosine:\n",
      " acc = 0.7305574306320389\n",
      " f2-score = 0.5736382118081026\n",
      "preprocessing: One Hot Encoding (2) + Oversampling metric: manhattan:\n",
      " acc = 0.7216399616300139\n",
      " f2-score = 0.5213753265232441\n",
      "preprocessing: One Hot Encoding (2) + Oversampling metric: jaccard:\n",
      " acc = 0.1278821899314314\n",
      " f2-score = 0.42302268186625924\n"
     ]
    }
   ],
   "source": [
    "preprocessing = \"One Hot Encoding (2) + Oversampling\"\n",
    "\n",
    "#load data\n",
    "data_train, data_validation, target_train, target_validation = get_preprocessed_brfss_dataset_one_hot_encoded_all_columns_train_test_split_oversampled()\n",
    "\n",
    "for metric in metrics:\n",
    "    nearest_centroid = NearestCentroid(metric=metric)\n",
    "    nearest_centroid.fit(data_train, target_train.values.ravel())\n",
    "    diabetes_test_prediction = nearest_centroid.predict(data_validation)\n",
    "    print(evaluation(target_validation, diabetes_test_prediction, metric, preprocessing))"
   ],
   "metadata": {
    "collapsed": false
   }
  },
  {
   "cell_type": "markdown",
   "source": [
    "# One Hot Encoding (1) + Undersampling"
   ],
   "metadata": {
    "collapsed": false
   }
  },
  {
   "cell_type": "code",
   "execution_count": 11,
   "outputs": [
    {
     "name": "stdout",
     "output_type": "stream",
     "text": [
      "preprocessing: One Hot Encoding (1) + Undersampling metric: euclidean:\n",
      " acc = 0.7213202117454791\n",
      " f2-score = 0.5657695420306696\n",
      "preprocessing: One Hot Encoding (1) + Undersampling metric: cosine:\n",
      " acc = 0.7196504067929087\n",
      " f2-score = 0.5653092068487195\n",
      "preprocessing: One Hot Encoding (1) + Undersampling metric: manhattan:\n",
      " acc = 0.7154403666465343\n",
      " f2-score = 0.5276018289357775\n",
      "preprocessing: One Hot Encoding (1) + Undersampling metric: jaccard:\n",
      " acc = 0.8721178100685686\n",
      " f2-score = 0.0\n"
     ]
    }
   ],
   "source": [
    "preprocessing = \"One Hot Encoding (1) + Undersampling\"\n",
    "\n",
    "#load data\n",
    "data_train, data_validation, target_train, target_validation = get_preprocessed_brfss_dataset_one_hot_encoded_train_test_split_undersampled()\n",
    "\n",
    "for metric in metrics:\n",
    "    nearest_centroid = NearestCentroid(metric=metric)\n",
    "    nearest_centroid.fit(data_train, target_train.values.ravel())\n",
    "    diabetes_test_prediction = nearest_centroid.predict(data_validation)\n",
    "    print(evaluation(target_validation, diabetes_test_prediction, metric, preprocessing))"
   ],
   "metadata": {
    "collapsed": false
   }
  },
  {
   "cell_type": "markdown",
   "source": [
    "# One Hot Encoding (2) + Undersampling"
   ],
   "metadata": {
    "collapsed": false
   }
  },
  {
   "cell_type": "code",
   "execution_count": 12,
   "outputs": [
    {
     "name": "stdout",
     "output_type": "stream",
     "text": [
      "preprocessing: One Hot Encoding (2) + Undersampling metric: euclidean:\n",
      " acc = 0.7302376807475042\n",
      " f2-score = 0.574390116218197\n",
      "preprocessing: One Hot Encoding (2) + Undersampling metric: cosine:\n",
      " acc = 0.7301488613351335\n",
      " f2-score = 0.5742493404246409\n",
      "preprocessing: One Hot Encoding (2) + Undersampling metric: manhattan:\n",
      " acc = 0.7216399616300139\n",
      " f2-score = 0.5213753265232441\n",
      "preprocessing: One Hot Encoding (2) + Undersampling metric: jaccard:\n",
      " acc = 0.8721178100685686\n",
      " f2-score = 0.0\n"
     ]
    }
   ],
   "source": [
    "preprocessing = \"One Hot Encoding (2) + Undersampling\"\n",
    "\n",
    "#load data\n",
    "data_train, data_validation, target_train, target_validation = get_preprocessed_brfss_dataset_one_hot_encoded_all_columns_train_test_split_undersampled()\n",
    "\n",
    "for metric in metrics:\n",
    "    nearest_centroid = NearestCentroid(metric=metric)\n",
    "    nearest_centroid.fit(data_train, target_train.values.ravel())\n",
    "    diabetes_test_prediction = nearest_centroid.predict(data_validation)\n",
    "    print(evaluation(target_validation, diabetes_test_prediction, metric, preprocessing))"
   ],
   "metadata": {
    "collapsed": false
   }
  },
  {
   "cell_type": "markdown",
   "source": [
    "# Evaluation of best approach\n",
    "We use the following loop to print all F2- and accuracy-scores and thereby also analyze which approach performed best."
   ],
   "metadata": {
    "collapsed": false
   }
  },
  {
   "cell_type": "code",
   "execution_count": 13,
   "outputs": [
    {
     "name": "stdout",
     "output_type": "stream",
     "text": [
      "Nr.0) preprocessing: Label Encoding metric: euclidean\n",
      "Weighted F2-Score = 0.53095703125\n",
      "Accuracy-Score = 0.6673002451415782\n",
      "\n",
      "Nr.1) preprocessing: Label Encoding metric: cosine\n",
      "Weighted F2-Score = 0.5305309293754358\n",
      "Accuracy-Score = 0.6812093651188403\n",
      "\n",
      "Nr.2) preprocessing: Label Encoding metric: manhattan\n",
      "Weighted F2-Score = 0.5538975641537588\n",
      "Accuracy-Score = 0.7256901268341208\n",
      "\n",
      "Nr.3) preprocessing: Label Encoding metric: jaccard\n",
      "Weighted F2-Score = 0.0\n",
      "Accuracy-Score = 0.8721178100685686\n",
      "\n",
      "Nr.4) preprocessing: Label Encoding + Oversampling metric: euclidean\n",
      "Weighted F2-Score = 0.5313854081274154\n",
      "Accuracy-Score = 0.6669804952570434\n",
      "\n",
      "Nr.5) preprocessing: Label Encoding + Oversampling metric: cosine\n",
      "Weighted F2-Score = 0.5307223638101306\n",
      "Accuracy-Score = 0.6808718513518315\n",
      "\n",
      "Nr.6) preprocessing: Label Encoding + Oversampling metric: manhattan\n",
      "Weighted F2-Score = 0.558961635465152\n",
      "Accuracy-Score = 0.71101715991047\n",
      "\n",
      "Nr.7) preprocessing: Label Encoding + Oversampling metric: jaccard\n",
      "Weighted F2-Score = 0.0\n",
      "Accuracy-Score = 0.8721178100685686\n",
      "\n",
      "Nr.8) preprocessing: Label Encoding + Undersampling metric: euclidean\n",
      "Weighted F2-Score = 0.5309959349593495\n",
      "Accuracy-Score = 0.6677621060859061\n",
      "\n",
      "Nr.9) preprocessing: Label Encoding + Undersampling metric: cosine\n",
      "Weighted F2-Score = 0.5306154980373403\n",
      "Accuracy-Score = 0.6813514761786336\n",
      "\n",
      "Nr.10) preprocessing: Label Encoding + Undersampling metric: manhattan\n",
      "Weighted F2-Score = 0.5538975641537588\n",
      "Accuracy-Score = 0.7256901268341208\n",
      "\n",
      "Nr.11) preprocessing: Label Encoding + Undersampling metric: jaccard\n",
      "Weighted F2-Score = 0.0\n",
      "Accuracy-Score = 0.8721178100685686\n",
      "\n",
      "Nr.12) preprocessing: One Hot Encoding (1) metric: euclidean\n",
      "Weighted F2-Score = 0.5659361146787091\n",
      "Accuracy-Score = 0.7202366149145557\n",
      "\n",
      "Nr.13) preprocessing: One Hot Encoding (1) metric: cosine\n",
      "Weighted F2-Score = 0.5645928069450186\n",
      "Accuracy-Score = 0.7183181156073472\n",
      "\n",
      "Nr.14) preprocessing: One Hot Encoding (1) metric: manhattan\n",
      "Weighted F2-Score = 0.5276018289357775\n",
      "Accuracy-Score = 0.7154403666465343\n",
      "\n",
      "Nr.15) preprocessing: One Hot Encoding (1) metric: jaccard\n",
      "Weighted F2-Score = 0.42302268186625924\n",
      "Accuracy-Score = 0.1278821899314314\n",
      "\n",
      "Nr.16) preprocessing: One Hot Encoding (2) metric: euclidean\n",
      "Weighted F2-Score = 0.5737807943690297\n",
      "Accuracy-Score = 0.7302909723949267\n",
      "\n",
      "Nr.17) preprocessing: One Hot Encoding (2) metric: cosine\n",
      "Weighted F2-Score = 0.5741070493348696\n",
      "Accuracy-Score = 0.7304153195722457\n",
      "\n",
      "Nr.18) preprocessing: One Hot Encoding (2) metric: manhattan\n",
      "Weighted F2-Score = 0.5213753265232441\n",
      "Accuracy-Score = 0.7216399616300139\n",
      "\n",
      "Nr.19) preprocessing: One Hot Encoding (2) metric: jaccard\n",
      "Weighted F2-Score = 0.42302268186625924\n",
      "Accuracy-Score = 0.1278821899314314\n",
      "\n",
      "Nr.20) preprocessing: One Hot Encoding (1) + Oversampling metric: euclidean\n",
      "Weighted F2-Score = 0.5658559827643355\n",
      "Accuracy-Score = 0.7202366149145557\n",
      "\n",
      "Nr.21) preprocessing: One Hot Encoding (1) + Oversampling metric: cosine\n",
      "Weighted F2-Score = 0.5645361336199768\n",
      "Accuracy-Score = 0.7183536433722955\n",
      "\n",
      "Nr.22) preprocessing: One Hot Encoding (1) + Oversampling metric: manhattan\n",
      "Weighted F2-Score = 0.5276018289357775\n",
      "Accuracy-Score = 0.7154403666465343\n",
      "\n",
      "Nr.23) preprocessing: One Hot Encoding (1) + Oversampling metric: jaccard\n",
      "Weighted F2-Score = 0.42302268186625924\n",
      "Accuracy-Score = 0.1278821899314314\n",
      "\n",
      "Nr.24) preprocessing: One Hot Encoding (2) + Oversampling metric: euclidean\n",
      "Weighted F2-Score = 0.5732604186309637\n",
      "Accuracy-Score = 0.7302376807475042\n",
      "\n",
      "Nr.25) preprocessing: One Hot Encoding (2) + Oversampling metric: cosine\n",
      "Weighted F2-Score = 0.5736382118081026\n",
      "Accuracy-Score = 0.7305574306320389\n",
      "\n",
      "Nr.26) preprocessing: One Hot Encoding (2) + Oversampling metric: manhattan\n",
      "Weighted F2-Score = 0.5213753265232441\n",
      "Accuracy-Score = 0.7216399616300139\n",
      "\n",
      "Nr.27) preprocessing: One Hot Encoding (2) + Oversampling metric: jaccard\n",
      "Weighted F2-Score = 0.42302268186625924\n",
      "Accuracy-Score = 0.1278821899314314\n",
      "\n",
      "Nr.28) preprocessing: One Hot Encoding (1) + Undersampling metric: euclidean\n",
      "Weighted F2-Score = 0.5657695420306696\n",
      "Accuracy-Score = 0.7213202117454791\n",
      "\n",
      "Nr.29) preprocessing: One Hot Encoding (1) + Undersampling metric: cosine\n",
      "Weighted F2-Score = 0.5653092068487195\n",
      "Accuracy-Score = 0.7196504067929087\n",
      "\n",
      "Nr.30) preprocessing: One Hot Encoding (1) + Undersampling metric: manhattan\n",
      "Weighted F2-Score = 0.5276018289357775\n",
      "Accuracy-Score = 0.7154403666465343\n",
      "\n",
      "Nr.31) preprocessing: One Hot Encoding (1) + Undersampling metric: jaccard\n",
      "Weighted F2-Score = 0.0\n",
      "Accuracy-Score = 0.8721178100685686\n",
      "\n",
      "Nr.32) preprocessing: One Hot Encoding (2) + Undersampling metric: euclidean\n",
      "Weighted F2-Score = 0.574390116218197\n",
      "Accuracy-Score = 0.7302376807475042\n",
      "\n",
      "Nr.33) preprocessing: One Hot Encoding (2) + Undersampling metric: cosine\n",
      "Weighted F2-Score = 0.5742493404246409\n",
      "Accuracy-Score = 0.7301488613351335\n",
      "\n",
      "Nr.34) preprocessing: One Hot Encoding (2) + Undersampling metric: manhattan\n",
      "Weighted F2-Score = 0.5213753265232441\n",
      "Accuracy-Score = 0.7216399616300139\n",
      "\n",
      "Nr.35) preprocessing: One Hot Encoding (2) + Undersampling metric: jaccard\n",
      "Weighted F2-Score = 0.0\n",
      "Accuracy-Score = 0.8721178100685686\n",
      "\n",
      "--------- Best Approaches ---------\n",
      "Best Approach regarding F2-Score:\n",
      "Nr.32) preprocessing: One Hot Encoding (2) + Undersampling metric: euclidean with f2-score = 0.574390116218197\n",
      "\n",
      "Best Approach regarding Accuracy:\n",
      "Nr.3) preprocessing: Label Encoding metric: jaccard with acc = 0.8721178100685686\n"
     ]
    }
   ],
   "source": [
    "highest_acc = [0.0, None, None]\n",
    "highest_f2 = [0.0, None, None]\n",
    "\n",
    "for i in range(0, len(approach_list)):\n",
    "    print(\"Nr.{}) {}\".format(i, approach_list[i]))\n",
    "    print (\"Weighted F2-Score = {}\".format(f2_list[i]))\n",
    "    print (\"Accuracy-Score = {}\\n\".format(acc_list[i]))\n",
    "    if highest_f2[0] < float(f2_list[i]):\n",
    "        highest_f2[0] = f2_list[i]\n",
    "        highest_f2[1] = i\n",
    "        highest_f2[2] = approach_list[i]\n",
    "    if highest_acc[0] < float(acc_list[i]):\n",
    "        highest_acc[0] = acc_list[i]\n",
    "        highest_acc[1] = i\n",
    "        highest_acc[2] = approach_list[i]\n",
    "\n",
    "print(\"--------- Best Approaches ---------\")\n",
    "print(\"Best Approach regarding F2-Score:\\nNr.{}) {} with f2-score = {}\\n\".format(highest_f2[1], highest_f2[2], highest_f2[0]))\n",
    "print(\"Best Approach regarding Accuracy:\\nNr.{}) {} with acc = {}\".format(highest_acc[1], highest_acc[2], highest_acc[0]))"
   ],
   "metadata": {
    "collapsed": false
   }
  },
  {
   "cell_type": "markdown",
   "source": [
    "We can see that approach 32  with preprocessing: One Hot Encoding (2) + Undersampling and metric = euclidean performed best with F2-score=0.574.\n",
    "We test this approach now finally against the test data that we separated at the beginning:"
   ],
   "metadata": {
    "collapsed": false
   }
  },
  {
   "cell_type": "code",
   "execution_count": 3,
   "outputs": [
    {
     "name": "stdout",
     "output_type": "stream",
     "text": [
      "preprocessing: One Hot Encoding (2) + Undersampling metric: euclidean:\n",
      " acc = 0.7322852828848033\n",
      " f2-score = 0.5745641671917665\n"
     ]
    }
   ],
   "source": [
    "preprocessing = \"One Hot Encoding (2) + Undersampling\"\n",
    "\n",
    "#load data\n",
    "data_train, data_validation, data_test, target_train, target_validation, target_test = get_preprocessed_brfss_dataset_one_hot_encoded_all_columns_train_test_split_undersampled(include_test_data=True)\n",
    "\n",
    "nearest_centroid = NearestCentroid(metric='euclidean')\n",
    "nearest_centroid.fit(data_train, target_train.values.ravel())\n",
    "diabetes_test_prediction = nearest_centroid.predict(data_test)\n",
    "print(evaluation(target_test, diabetes_test_prediction, \"euclidean\", preprocessing))"
   ],
   "metadata": {
    "collapsed": false
   }
  }
 ],
 "metadata": {
  "kernelspec": {
   "display_name": "Python 3",
   "language": "python",
   "name": "python3"
  },
  "language_info": {
   "codemirror_mode": {
    "name": "ipython",
    "version": 2
   },
   "file_extension": ".py",
   "mimetype": "text/x-python",
   "name": "python",
   "nbconvert_exporter": "python",
   "pygments_lexer": "ipython2",
   "version": "2.7.6"
  }
 },
 "nbformat": 4,
 "nbformat_minor": 0
}
