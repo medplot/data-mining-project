{
 "cells": [
  {
   "cell_type": "markdown",
   "source": [
    "# K-nearest neighbor"
   ],
   "metadata": {
    "collapsed": false
   }
  },
  {
   "cell_type": "code",
   "execution_count": 1,
   "outputs": [
    {
     "name": "stdout",
     "output_type": "stream",
     "text": [
      "   GenHealth  PhysHealth  MentHealth  Healthcare  MedCost  Checkup  HighBP  \\\n",
      "0        5.0        15.0        18.0         1.0      2.0      1.0     1.0   \n",
      "1        3.0        88.0        88.0         2.0      1.0      4.0     3.0   \n",
      "2        4.0        15.0        88.0         1.0      2.0      1.0     3.0   \n",
      "3        5.0        30.0        30.0         1.0      1.0      1.0     1.0   \n",
      "4        5.0        20.0        88.0         1.0      2.0      1.0     3.0   \n",
      "\n",
      "   HighChol  HeartAttack  AngiCoro  Stroke  Asthma  Arthritis  Kidney  Sex  \\\n",
      "0       1.0          2.0       2.0     2.0     1.0        1.0     2.0  2.0   \n",
      "1       2.0          2.0       2.0     2.0     2.0        2.0     2.0  2.0   \n",
      "2       1.0          7.0       2.0     1.0     2.0        1.0     2.0  2.0   \n",
      "3       1.0          2.0       2.0     2.0     2.0        1.0     2.0  2.0   \n",
      "4       2.0          2.0       2.0     2.0     2.0        1.0     2.0  2.0   \n",
      "\n",
      "   Income  SodiumSalt   Age  Height   Weight  BMI  Education  Alcohol  \\\n",
      "0     3.0         0.0   9.0   178.0  12701.0  4.0        2.0      1.0   \n",
      "1     1.0         2.0   7.0   173.0   7484.0  3.0        4.0      1.0   \n",
      "2    99.0         0.0  11.0   180.0   7167.0  2.0        2.0      9.0   \n",
      "3     8.0         2.0   9.0   170.0   8165.0  3.0        2.0      1.0   \n",
      "4    77.0         1.0   9.0   163.0   6441.0  2.0        3.0      1.0   \n",
      "\n",
      "   Smoking  FruitCons  VegetCons  PhysActivity  Muscles  \n",
      "0      3.0        2.0        1.0           4.0      2.0  \n",
      "1      1.0        2.0        2.0           2.0      2.0  \n",
      "2      9.0        9.0        9.0           9.0      9.0  \n",
      "3      4.0        1.0        2.0           4.0      2.0  \n",
      "4      4.0        9.0        1.0           4.0      2.0  \n"
     ]
    }
   ],
   "source": [
    "# Data import\n",
    "from preprocessing.preprocessing import download_brfss_dataset\n",
    "#download_brfss_dataset(\"username\", \"token\") -> insert kaggle username and api-token"
   ],
   "metadata": {
    "collapsed": false
   }
  },
  {
   "cell_type": "code",
   "execution_count": 2,
   "outputs": [],
   "source": [
    "#imports\n",
    "\n",
    "from preprocessing.preprocessing import get_preprocessed_brfss_train_test_split_one_hot_encoded, get_preprocessed_brfss_train_test_split, get_preprocessed_brfss_dataset\n",
    "\n",
    "import pandas as pd\n",
    "from sklearn.neighbors import KNeighborsClassifier\n",
    "from sklearn.metrics import accuracy_score, confusion_matrix\n",
    "from sklearn.model_selection import GridSearchCV\n"
   ],
   "metadata": {
    "collapsed": false
   }
  },
  {
   "cell_type": "markdown",
   "source": [
    "The following cell loads the already preprocessed data and makes it available for this notebook."
   ],
   "metadata": {
    "collapsed": false
   }
  },
  {
   "cell_type": "code",
   "execution_count": 3,
   "outputs": [],
   "source": [
    "train_dataset, target = get_preprocessed_brfss_dataset()\n",
    "target = target.squeeze()"
   ],
   "metadata": {
    "collapsed": false
   }
  },
  {
   "cell_type": "markdown",
   "source": [
    "The following cell loads the already preprocessed data and makes it available for this notebook.\n",
    "The data is thereby split in train and test data as well as data and target."
   ],
   "metadata": {
    "collapsed": false
   }
  },
  {
   "cell_type": "code",
   "execution_count": 4,
   "outputs": [],
   "source": [
    "data_train, data_test, target_train, target_test = get_preprocessed_brfss_train_test_split()\n",
    "data_train = data_train.head(5000)\n",
    "target_train = target_train.head(5000)"
   ],
   "metadata": {
    "collapsed": false
   }
  },
  {
   "cell_type": "markdown",
   "source": [
    "No we can apply a K-nearest neighbor classifier to the train data and test against the test data onhow it performs by using the accuracy score."
   ],
   "metadata": {
    "collapsed": false
   }
  },
  {
   "cell_type": "code",
   "execution_count": 5,
   "outputs": [
    {
     "name": "stderr",
     "output_type": "stream",
     "text": [
      "/Users/I516258/opt/anaconda3/lib/python3.9/site-packages/sklearn/neighbors/_classification.py:207: DataConversionWarning: A column-vector y was passed when a 1d array was expected. Please change the shape of y to (n_samples,), for example using ravel().\n",
      "  return self._fit(X, y)\n"
     ]
    },
    {
     "name": "stdout",
     "output_type": "stream",
     "text": [
      "k= 1 acc: 0.7534262090837014\n"
     ]
    },
    {
     "name": "stderr",
     "output_type": "stream",
     "text": [
      "/Users/I516258/opt/anaconda3/lib/python3.9/site-packages/sklearn/neighbors/_classification.py:207: DataConversionWarning: A column-vector y was passed when a 1d array was expected. Please change the shape of y to (n_samples,), for example using ravel().\n",
      "  return self._fit(X, y)\n"
     ]
    },
    {
     "name": "stdout",
     "output_type": "stream",
     "text": [
      "k= 2 acc: 0.7054479556008608\n"
     ]
    },
    {
     "name": "stderr",
     "output_type": "stream",
     "text": [
      "/Users/I516258/opt/anaconda3/lib/python3.9/site-packages/sklearn/neighbors/_classification.py:207: DataConversionWarning: A column-vector y was passed when a 1d array was expected. Please change the shape of y to (n_samples,), for example using ravel().\n",
      "  return self._fit(X, y)\n"
     ]
    },
    {
     "name": "stdout",
     "output_type": "stream",
     "text": [
      "k= 3 acc: 0.8025031147355306\n"
     ]
    },
    {
     "name": "stderr",
     "output_type": "stream",
     "text": [
      "/Users/I516258/opt/anaconda3/lib/python3.9/site-packages/sklearn/neighbors/_classification.py:207: DataConversionWarning: A column-vector y was passed when a 1d array was expected. Please change the shape of y to (n_samples,), for example using ravel().\n",
      "  return self._fit(X, y)\n"
     ]
    },
    {
     "name": "stdout",
     "output_type": "stream",
     "text": [
      "k= 4 acc: 0.7938611394268886\n"
     ]
    },
    {
     "name": "stderr",
     "output_type": "stream",
     "text": [
      "/Users/I516258/opt/anaconda3/lib/python3.9/site-packages/sklearn/neighbors/_classification.py:207: DataConversionWarning: A column-vector y was passed when a 1d array was expected. Please change the shape of y to (n_samples,), for example using ravel().\n",
      "  return self._fit(X, y)\n"
     ]
    },
    {
     "name": "stdout",
     "output_type": "stream",
     "text": [
      "k= 5 acc: 0.817963529278514\n"
     ]
    },
    {
     "name": "stderr",
     "output_type": "stream",
     "text": [
      "/Users/I516258/opt/anaconda3/lib/python3.9/site-packages/sklearn/neighbors/_classification.py:207: DataConversionWarning: A column-vector y was passed when a 1d array was expected. Please change the shape of y to (n_samples,), for example using ravel().\n",
      "  return self._fit(X, y)\n"
     ]
    },
    {
     "name": "stdout",
     "output_type": "stream",
     "text": [
      "k= 6 acc: 0.8143391097519538\n"
     ]
    },
    {
     "name": "stderr",
     "output_type": "stream",
     "text": [
      "/Users/I516258/opt/anaconda3/lib/python3.9/site-packages/sklearn/neighbors/_classification.py:207: DataConversionWarning: A column-vector y was passed when a 1d array was expected. Please change the shape of y to (n_samples,), for example using ravel().\n",
      "  return self._fit(X, y)\n"
     ]
    },
    {
     "name": "stdout",
     "output_type": "stream",
     "text": [
      "k= 7 acc: 0.8278853777324725\n"
     ]
    },
    {
     "name": "stderr",
     "output_type": "stream",
     "text": [
      "/Users/I516258/opt/anaconda3/lib/python3.9/site-packages/sklearn/neighbors/_classification.py:207: DataConversionWarning: A column-vector y was passed when a 1d array was expected. Please change the shape of y to (n_samples,), for example using ravel().\n",
      "  return self._fit(X, y)\n"
     ]
    },
    {
     "name": "stdout",
     "output_type": "stream",
     "text": [
      "k= 8 acc: 0.8262657152565409\n"
     ]
    },
    {
     "name": "stderr",
     "output_type": "stream",
     "text": [
      "/Users/I516258/opt/anaconda3/lib/python3.9/site-packages/sklearn/neighbors/_classification.py:207: DataConversionWarning: A column-vector y was passed when a 1d array was expected. Please change the shape of y to (n_samples,), for example using ravel().\n",
      "  return self._fit(X, y)\n"
     ]
    },
    {
     "name": "stdout",
     "output_type": "stream",
     "text": [
      "k= 9 acc: 0.8328576282704723\n"
     ]
    }
   ],
   "source": [
    "for n_neighbors in range(1,10):\n",
    "    knn_estimator = KNeighborsClassifier(n_neighbors)\n",
    "    knn_estimator.fit(data_train, target_train)\n",
    "    diabetes_test_prediction = knn_estimator.predict(data_test)\n",
    "    print(\"k= {} acc: {}\".format(n_neighbors, accuracy_score(target_test, diabetes_test_prediction)))"
   ],
   "metadata": {
    "collapsed": false
   }
  },
  {
   "cell_type": "markdown",
   "source": [
    "We can see that k=9 performs the best. However, the accuracy score is not sufficient given that the data is unbalanced at the amount of no diabetes entities is around 84% (???).\n",
    "\n",
    "To check whether another metric would perform better, we use a grid search for hyperparameter tuning."
   ],
   "metadata": {
    "collapsed": false
   }
  },
  {
   "cell_type": "code",
   "execution_count": 6,
   "outputs": [
    {
     "name": "stderr",
     "output_type": "stream",
     "text": [
      "/Users/I516258/opt/anaconda3/lib/python3.9/site-packages/sklearn/model_selection/_split.py:684: UserWarning: The least populated class in y has only 4 members, which is less than n_splits=5.\n",
      "  warnings.warn(\n"
     ]
    },
    {
     "data": {
      "text/plain": "    mean_fit_time  std_fit_time  mean_score_time  std_score_time param_metric  \\\n0        0.001466      0.000124         0.032474        0.002563    minkowski   \n1        0.001519      0.000211         0.030041        0.001756    minkowski   \n2        0.001333      0.000033         0.029558        0.000664    minkowski   \n3        0.001358      0.000018         0.028867        0.000781    minkowski   \n4        0.001331      0.000029         0.030069        0.001388    minkowski   \n5        0.001352      0.000066         0.030006        0.000859    minkowski   \n6        0.001299      0.000024         0.029410        0.001454    minkowski   \n7        0.001319      0.000015         0.030628        0.002135    minkowski   \n8        0.001292      0.000033         0.069897        0.010596       cosine   \n9        0.001282      0.000024         0.065062        0.003918       cosine   \n10       0.001315      0.000071         0.065350        0.003668       cosine   \n11       0.001288      0.000038         0.065678        0.003541       cosine   \n12       0.001279      0.000019         0.065648        0.003531       cosine   \n13       0.001365      0.000123         0.066276        0.003852       cosine   \n14       0.001294      0.000060         0.065441        0.003689       cosine   \n15       0.001308      0.000037         0.065577        0.004190       cosine   \n16       0.001276      0.000036         0.083157        0.002665  sqeuclidean   \n17       0.001256      0.000014         0.082877        0.003142  sqeuclidean   \n18       0.001264      0.000031         0.082817        0.003300  sqeuclidean   \n19       0.001249      0.000013         0.082288        0.003379  sqeuclidean   \n20       0.001288      0.000055         0.082873        0.002703  sqeuclidean   \n21       0.001266      0.000031         0.083506        0.003037  sqeuclidean   \n22       0.001303      0.000059         0.082896        0.003289  sqeuclidean   \n23       0.001265      0.000016         0.083392        0.003128  sqeuclidean   \n24       0.001243      0.000025         0.042869        0.000330    manhattan   \n25       0.001241      0.000053         0.042094        0.001440    manhattan   \n26       0.001313      0.000055         0.042965        0.001870    manhattan   \n27       0.001303      0.000058         0.042942        0.001349    manhattan   \n28       0.001245      0.000026         0.042908        0.001133    manhattan   \n29       0.001387      0.000067         0.044154        0.002926    manhattan   \n30       0.001240      0.000023         0.043971        0.001140    manhattan   \n31       0.001238      0.000019         0.044778        0.001269    manhattan   \n\n   param_n_neighbors                                        params  \\\n0                  7     {'metric': 'minkowski', 'n_neighbors': 7}   \n1                  8     {'metric': 'minkowski', 'n_neighbors': 8}   \n2                  9     {'metric': 'minkowski', 'n_neighbors': 9}   \n3                 10    {'metric': 'minkowski', 'n_neighbors': 10}   \n4                 11    {'metric': 'minkowski', 'n_neighbors': 11}   \n5                 12    {'metric': 'minkowski', 'n_neighbors': 12}   \n6                 13    {'metric': 'minkowski', 'n_neighbors': 13}   \n7                 14    {'metric': 'minkowski', 'n_neighbors': 14}   \n8                  7        {'metric': 'cosine', 'n_neighbors': 7}   \n9                  8        {'metric': 'cosine', 'n_neighbors': 8}   \n10                 9        {'metric': 'cosine', 'n_neighbors': 9}   \n11                10       {'metric': 'cosine', 'n_neighbors': 10}   \n12                11       {'metric': 'cosine', 'n_neighbors': 11}   \n13                12       {'metric': 'cosine', 'n_neighbors': 12}   \n14                13       {'metric': 'cosine', 'n_neighbors': 13}   \n15                14       {'metric': 'cosine', 'n_neighbors': 14}   \n16                 7   {'metric': 'sqeuclidean', 'n_neighbors': 7}   \n17                 8   {'metric': 'sqeuclidean', 'n_neighbors': 8}   \n18                 9   {'metric': 'sqeuclidean', 'n_neighbors': 9}   \n19                10  {'metric': 'sqeuclidean', 'n_neighbors': 10}   \n20                11  {'metric': 'sqeuclidean', 'n_neighbors': 11}   \n21                12  {'metric': 'sqeuclidean', 'n_neighbors': 12}   \n22                13  {'metric': 'sqeuclidean', 'n_neighbors': 13}   \n23                14  {'metric': 'sqeuclidean', 'n_neighbors': 14}   \n24                 7     {'metric': 'manhattan', 'n_neighbors': 7}   \n25                 8     {'metric': 'manhattan', 'n_neighbors': 8}   \n26                 9     {'metric': 'manhattan', 'n_neighbors': 9}   \n27                10    {'metric': 'manhattan', 'n_neighbors': 10}   \n28                11    {'metric': 'manhattan', 'n_neighbors': 11}   \n29                12    {'metric': 'manhattan', 'n_neighbors': 12}   \n30                13    {'metric': 'manhattan', 'n_neighbors': 13}   \n31                14    {'metric': 'manhattan', 'n_neighbors': 14}   \n\n    split0_test_score  split1_test_score  split2_test_score  \\\n0               0.837              0.823              0.830   \n1               0.834              0.822              0.836   \n2               0.841              0.831              0.835   \n3               0.842              0.832              0.832   \n4               0.842              0.834              0.829   \n5               0.840              0.834              0.828   \n6               0.835              0.834              0.833   \n7               0.838              0.836              0.833   \n8               0.821              0.829              0.822   \n9               0.829              0.828              0.828   \n10              0.826              0.833              0.833   \n11              0.829              0.834              0.831   \n12              0.836              0.832              0.836   \n13              0.835              0.837              0.830   \n14              0.835              0.835              0.838   \n15              0.837              0.839              0.838   \n16              0.837              0.823              0.830   \n17              0.834              0.822              0.836   \n18              0.841              0.831              0.835   \n19              0.842              0.832              0.832   \n20              0.842              0.834              0.829   \n21              0.840              0.834              0.828   \n22              0.835              0.834              0.833   \n23              0.838              0.836              0.833   \n24              0.838              0.829              0.837   \n25              0.833              0.827              0.838   \n26              0.843              0.832              0.836   \n27              0.840              0.832              0.831   \n28              0.843              0.838              0.835   \n29              0.841              0.839              0.832   \n30              0.835              0.841              0.839   \n31              0.841              0.840              0.839   \n\n    split3_test_score  split4_test_score  mean_test_score  std_test_score  \\\n0               0.832              0.836           0.8316        0.005004   \n1               0.827              0.833           0.8304        0.005161   \n2               0.831              0.838           0.8352        0.003919   \n3               0.833              0.837           0.8352        0.003868   \n4               0.837              0.838           0.8360        0.004336   \n5               0.839              0.835           0.8352        0.004261   \n6               0.840              0.839           0.8362        0.002786   \n7               0.840              0.840           0.8374        0.002653   \n8               0.832              0.845           0.8298        0.008658   \n9               0.831              0.836           0.8304        0.003007   \n10              0.835              0.842           0.8338        0.005115   \n11              0.832              0.832           0.8316        0.001625   \n12              0.842              0.839           0.8370        0.003347   \n13              0.841              0.835           0.8356        0.003555   \n14              0.838              0.839           0.8370        0.001673   \n15              0.837              0.838           0.8378        0.000748   \n16              0.832              0.836           0.8316        0.005004   \n17              0.827              0.833           0.8304        0.005161   \n18              0.831              0.837           0.8350        0.003795   \n19              0.834              0.837           0.8354        0.003774   \n20              0.837              0.838           0.8360        0.004336   \n21              0.839              0.835           0.8352        0.004261   \n22              0.840              0.839           0.8362        0.002786   \n23              0.840              0.840           0.8374        0.002653   \n24              0.835              0.838           0.8354        0.003382   \n25              0.831              0.831           0.8320        0.003578   \n26              0.834              0.836           0.8362        0.003709   \n27              0.838              0.836           0.8354        0.003441   \n28              0.839              0.841           0.8392        0.002713   \n29              0.843              0.840           0.8390        0.003742   \n30              0.846              0.843           0.8408        0.003709   \n31              0.844              0.841           0.8410        0.001673   \n\n    rank_test_score  \n0                26  \n1                29  \n2                21  \n3                21  \n4                13  \n5                19  \n6                11  \n7                 6  \n8                32  \n9                29  \n10               24  \n11               26  \n12                8  \n13               15  \n14                8  \n15                5  \n16               26  \n17               29  \n18               23  \n19               17  \n20               13  \n21               19  \n22               11  \n23                6  \n24               17  \n25               25  \n26               10  \n27               16  \n28                3  \n29                4  \n30                2  \n31                1  ",
      "text/html": "<div>\n<style scoped>\n    .dataframe tbody tr th:only-of-type {\n        vertical-align: middle;\n    }\n\n    .dataframe tbody tr th {\n        vertical-align: top;\n    }\n\n    .dataframe thead th {\n        text-align: right;\n    }\n</style>\n<table border=\"1\" class=\"dataframe\">\n  <thead>\n    <tr style=\"text-align: right;\">\n      <th></th>\n      <th>mean_fit_time</th>\n      <th>std_fit_time</th>\n      <th>mean_score_time</th>\n      <th>std_score_time</th>\n      <th>param_metric</th>\n      <th>param_n_neighbors</th>\n      <th>params</th>\n      <th>split0_test_score</th>\n      <th>split1_test_score</th>\n      <th>split2_test_score</th>\n      <th>split3_test_score</th>\n      <th>split4_test_score</th>\n      <th>mean_test_score</th>\n      <th>std_test_score</th>\n      <th>rank_test_score</th>\n    </tr>\n  </thead>\n  <tbody>\n    <tr>\n      <th>0</th>\n      <td>0.001466</td>\n      <td>0.000124</td>\n      <td>0.032474</td>\n      <td>0.002563</td>\n      <td>minkowski</td>\n      <td>7</td>\n      <td>{'metric': 'minkowski', 'n_neighbors': 7}</td>\n      <td>0.837</td>\n      <td>0.823</td>\n      <td>0.830</td>\n      <td>0.832</td>\n      <td>0.836</td>\n      <td>0.8316</td>\n      <td>0.005004</td>\n      <td>26</td>\n    </tr>\n    <tr>\n      <th>1</th>\n      <td>0.001519</td>\n      <td>0.000211</td>\n      <td>0.030041</td>\n      <td>0.001756</td>\n      <td>minkowski</td>\n      <td>8</td>\n      <td>{'metric': 'minkowski', 'n_neighbors': 8}</td>\n      <td>0.834</td>\n      <td>0.822</td>\n      <td>0.836</td>\n      <td>0.827</td>\n      <td>0.833</td>\n      <td>0.8304</td>\n      <td>0.005161</td>\n      <td>29</td>\n    </tr>\n    <tr>\n      <th>2</th>\n      <td>0.001333</td>\n      <td>0.000033</td>\n      <td>0.029558</td>\n      <td>0.000664</td>\n      <td>minkowski</td>\n      <td>9</td>\n      <td>{'metric': 'minkowski', 'n_neighbors': 9}</td>\n      <td>0.841</td>\n      <td>0.831</td>\n      <td>0.835</td>\n      <td>0.831</td>\n      <td>0.838</td>\n      <td>0.8352</td>\n      <td>0.003919</td>\n      <td>21</td>\n    </tr>\n    <tr>\n      <th>3</th>\n      <td>0.001358</td>\n      <td>0.000018</td>\n      <td>0.028867</td>\n      <td>0.000781</td>\n      <td>minkowski</td>\n      <td>10</td>\n      <td>{'metric': 'minkowski', 'n_neighbors': 10}</td>\n      <td>0.842</td>\n      <td>0.832</td>\n      <td>0.832</td>\n      <td>0.833</td>\n      <td>0.837</td>\n      <td>0.8352</td>\n      <td>0.003868</td>\n      <td>21</td>\n    </tr>\n    <tr>\n      <th>4</th>\n      <td>0.001331</td>\n      <td>0.000029</td>\n      <td>0.030069</td>\n      <td>0.001388</td>\n      <td>minkowski</td>\n      <td>11</td>\n      <td>{'metric': 'minkowski', 'n_neighbors': 11}</td>\n      <td>0.842</td>\n      <td>0.834</td>\n      <td>0.829</td>\n      <td>0.837</td>\n      <td>0.838</td>\n      <td>0.8360</td>\n      <td>0.004336</td>\n      <td>13</td>\n    </tr>\n    <tr>\n      <th>5</th>\n      <td>0.001352</td>\n      <td>0.000066</td>\n      <td>0.030006</td>\n      <td>0.000859</td>\n      <td>minkowski</td>\n      <td>12</td>\n      <td>{'metric': 'minkowski', 'n_neighbors': 12}</td>\n      <td>0.840</td>\n      <td>0.834</td>\n      <td>0.828</td>\n      <td>0.839</td>\n      <td>0.835</td>\n      <td>0.8352</td>\n      <td>0.004261</td>\n      <td>19</td>\n    </tr>\n    <tr>\n      <th>6</th>\n      <td>0.001299</td>\n      <td>0.000024</td>\n      <td>0.029410</td>\n      <td>0.001454</td>\n      <td>minkowski</td>\n      <td>13</td>\n      <td>{'metric': 'minkowski', 'n_neighbors': 13}</td>\n      <td>0.835</td>\n      <td>0.834</td>\n      <td>0.833</td>\n      <td>0.840</td>\n      <td>0.839</td>\n      <td>0.8362</td>\n      <td>0.002786</td>\n      <td>11</td>\n    </tr>\n    <tr>\n      <th>7</th>\n      <td>0.001319</td>\n      <td>0.000015</td>\n      <td>0.030628</td>\n      <td>0.002135</td>\n      <td>minkowski</td>\n      <td>14</td>\n      <td>{'metric': 'minkowski', 'n_neighbors': 14}</td>\n      <td>0.838</td>\n      <td>0.836</td>\n      <td>0.833</td>\n      <td>0.840</td>\n      <td>0.840</td>\n      <td>0.8374</td>\n      <td>0.002653</td>\n      <td>6</td>\n    </tr>\n    <tr>\n      <th>8</th>\n      <td>0.001292</td>\n      <td>0.000033</td>\n      <td>0.069897</td>\n      <td>0.010596</td>\n      <td>cosine</td>\n      <td>7</td>\n      <td>{'metric': 'cosine', 'n_neighbors': 7}</td>\n      <td>0.821</td>\n      <td>0.829</td>\n      <td>0.822</td>\n      <td>0.832</td>\n      <td>0.845</td>\n      <td>0.8298</td>\n      <td>0.008658</td>\n      <td>32</td>\n    </tr>\n    <tr>\n      <th>9</th>\n      <td>0.001282</td>\n      <td>0.000024</td>\n      <td>0.065062</td>\n      <td>0.003918</td>\n      <td>cosine</td>\n      <td>8</td>\n      <td>{'metric': 'cosine', 'n_neighbors': 8}</td>\n      <td>0.829</td>\n      <td>0.828</td>\n      <td>0.828</td>\n      <td>0.831</td>\n      <td>0.836</td>\n      <td>0.8304</td>\n      <td>0.003007</td>\n      <td>29</td>\n    </tr>\n    <tr>\n      <th>10</th>\n      <td>0.001315</td>\n      <td>0.000071</td>\n      <td>0.065350</td>\n      <td>0.003668</td>\n      <td>cosine</td>\n      <td>9</td>\n      <td>{'metric': 'cosine', 'n_neighbors': 9}</td>\n      <td>0.826</td>\n      <td>0.833</td>\n      <td>0.833</td>\n      <td>0.835</td>\n      <td>0.842</td>\n      <td>0.8338</td>\n      <td>0.005115</td>\n      <td>24</td>\n    </tr>\n    <tr>\n      <th>11</th>\n      <td>0.001288</td>\n      <td>0.000038</td>\n      <td>0.065678</td>\n      <td>0.003541</td>\n      <td>cosine</td>\n      <td>10</td>\n      <td>{'metric': 'cosine', 'n_neighbors': 10}</td>\n      <td>0.829</td>\n      <td>0.834</td>\n      <td>0.831</td>\n      <td>0.832</td>\n      <td>0.832</td>\n      <td>0.8316</td>\n      <td>0.001625</td>\n      <td>26</td>\n    </tr>\n    <tr>\n      <th>12</th>\n      <td>0.001279</td>\n      <td>0.000019</td>\n      <td>0.065648</td>\n      <td>0.003531</td>\n      <td>cosine</td>\n      <td>11</td>\n      <td>{'metric': 'cosine', 'n_neighbors': 11}</td>\n      <td>0.836</td>\n      <td>0.832</td>\n      <td>0.836</td>\n      <td>0.842</td>\n      <td>0.839</td>\n      <td>0.8370</td>\n      <td>0.003347</td>\n      <td>8</td>\n    </tr>\n    <tr>\n      <th>13</th>\n      <td>0.001365</td>\n      <td>0.000123</td>\n      <td>0.066276</td>\n      <td>0.003852</td>\n      <td>cosine</td>\n      <td>12</td>\n      <td>{'metric': 'cosine', 'n_neighbors': 12}</td>\n      <td>0.835</td>\n      <td>0.837</td>\n      <td>0.830</td>\n      <td>0.841</td>\n      <td>0.835</td>\n      <td>0.8356</td>\n      <td>0.003555</td>\n      <td>15</td>\n    </tr>\n    <tr>\n      <th>14</th>\n      <td>0.001294</td>\n      <td>0.000060</td>\n      <td>0.065441</td>\n      <td>0.003689</td>\n      <td>cosine</td>\n      <td>13</td>\n      <td>{'metric': 'cosine', 'n_neighbors': 13}</td>\n      <td>0.835</td>\n      <td>0.835</td>\n      <td>0.838</td>\n      <td>0.838</td>\n      <td>0.839</td>\n      <td>0.8370</td>\n      <td>0.001673</td>\n      <td>8</td>\n    </tr>\n    <tr>\n      <th>15</th>\n      <td>0.001308</td>\n      <td>0.000037</td>\n      <td>0.065577</td>\n      <td>0.004190</td>\n      <td>cosine</td>\n      <td>14</td>\n      <td>{'metric': 'cosine', 'n_neighbors': 14}</td>\n      <td>0.837</td>\n      <td>0.839</td>\n      <td>0.838</td>\n      <td>0.837</td>\n      <td>0.838</td>\n      <td>0.8378</td>\n      <td>0.000748</td>\n      <td>5</td>\n    </tr>\n    <tr>\n      <th>16</th>\n      <td>0.001276</td>\n      <td>0.000036</td>\n      <td>0.083157</td>\n      <td>0.002665</td>\n      <td>sqeuclidean</td>\n      <td>7</td>\n      <td>{'metric': 'sqeuclidean', 'n_neighbors': 7}</td>\n      <td>0.837</td>\n      <td>0.823</td>\n      <td>0.830</td>\n      <td>0.832</td>\n      <td>0.836</td>\n      <td>0.8316</td>\n      <td>0.005004</td>\n      <td>26</td>\n    </tr>\n    <tr>\n      <th>17</th>\n      <td>0.001256</td>\n      <td>0.000014</td>\n      <td>0.082877</td>\n      <td>0.003142</td>\n      <td>sqeuclidean</td>\n      <td>8</td>\n      <td>{'metric': 'sqeuclidean', 'n_neighbors': 8}</td>\n      <td>0.834</td>\n      <td>0.822</td>\n      <td>0.836</td>\n      <td>0.827</td>\n      <td>0.833</td>\n      <td>0.8304</td>\n      <td>0.005161</td>\n      <td>29</td>\n    </tr>\n    <tr>\n      <th>18</th>\n      <td>0.001264</td>\n      <td>0.000031</td>\n      <td>0.082817</td>\n      <td>0.003300</td>\n      <td>sqeuclidean</td>\n      <td>9</td>\n      <td>{'metric': 'sqeuclidean', 'n_neighbors': 9}</td>\n      <td>0.841</td>\n      <td>0.831</td>\n      <td>0.835</td>\n      <td>0.831</td>\n      <td>0.837</td>\n      <td>0.8350</td>\n      <td>0.003795</td>\n      <td>23</td>\n    </tr>\n    <tr>\n      <th>19</th>\n      <td>0.001249</td>\n      <td>0.000013</td>\n      <td>0.082288</td>\n      <td>0.003379</td>\n      <td>sqeuclidean</td>\n      <td>10</td>\n      <td>{'metric': 'sqeuclidean', 'n_neighbors': 10}</td>\n      <td>0.842</td>\n      <td>0.832</td>\n      <td>0.832</td>\n      <td>0.834</td>\n      <td>0.837</td>\n      <td>0.8354</td>\n      <td>0.003774</td>\n      <td>17</td>\n    </tr>\n    <tr>\n      <th>20</th>\n      <td>0.001288</td>\n      <td>0.000055</td>\n      <td>0.082873</td>\n      <td>0.002703</td>\n      <td>sqeuclidean</td>\n      <td>11</td>\n      <td>{'metric': 'sqeuclidean', 'n_neighbors': 11}</td>\n      <td>0.842</td>\n      <td>0.834</td>\n      <td>0.829</td>\n      <td>0.837</td>\n      <td>0.838</td>\n      <td>0.8360</td>\n      <td>0.004336</td>\n      <td>13</td>\n    </tr>\n    <tr>\n      <th>21</th>\n      <td>0.001266</td>\n      <td>0.000031</td>\n      <td>0.083506</td>\n      <td>0.003037</td>\n      <td>sqeuclidean</td>\n      <td>12</td>\n      <td>{'metric': 'sqeuclidean', 'n_neighbors': 12}</td>\n      <td>0.840</td>\n      <td>0.834</td>\n      <td>0.828</td>\n      <td>0.839</td>\n      <td>0.835</td>\n      <td>0.8352</td>\n      <td>0.004261</td>\n      <td>19</td>\n    </tr>\n    <tr>\n      <th>22</th>\n      <td>0.001303</td>\n      <td>0.000059</td>\n      <td>0.082896</td>\n      <td>0.003289</td>\n      <td>sqeuclidean</td>\n      <td>13</td>\n      <td>{'metric': 'sqeuclidean', 'n_neighbors': 13}</td>\n      <td>0.835</td>\n      <td>0.834</td>\n      <td>0.833</td>\n      <td>0.840</td>\n      <td>0.839</td>\n      <td>0.8362</td>\n      <td>0.002786</td>\n      <td>11</td>\n    </tr>\n    <tr>\n      <th>23</th>\n      <td>0.001265</td>\n      <td>0.000016</td>\n      <td>0.083392</td>\n      <td>0.003128</td>\n      <td>sqeuclidean</td>\n      <td>14</td>\n      <td>{'metric': 'sqeuclidean', 'n_neighbors': 14}</td>\n      <td>0.838</td>\n      <td>0.836</td>\n      <td>0.833</td>\n      <td>0.840</td>\n      <td>0.840</td>\n      <td>0.8374</td>\n      <td>0.002653</td>\n      <td>6</td>\n    </tr>\n    <tr>\n      <th>24</th>\n      <td>0.001243</td>\n      <td>0.000025</td>\n      <td>0.042869</td>\n      <td>0.000330</td>\n      <td>manhattan</td>\n      <td>7</td>\n      <td>{'metric': 'manhattan', 'n_neighbors': 7}</td>\n      <td>0.838</td>\n      <td>0.829</td>\n      <td>0.837</td>\n      <td>0.835</td>\n      <td>0.838</td>\n      <td>0.8354</td>\n      <td>0.003382</td>\n      <td>17</td>\n    </tr>\n    <tr>\n      <th>25</th>\n      <td>0.001241</td>\n      <td>0.000053</td>\n      <td>0.042094</td>\n      <td>0.001440</td>\n      <td>manhattan</td>\n      <td>8</td>\n      <td>{'metric': 'manhattan', 'n_neighbors': 8}</td>\n      <td>0.833</td>\n      <td>0.827</td>\n      <td>0.838</td>\n      <td>0.831</td>\n      <td>0.831</td>\n      <td>0.8320</td>\n      <td>0.003578</td>\n      <td>25</td>\n    </tr>\n    <tr>\n      <th>26</th>\n      <td>0.001313</td>\n      <td>0.000055</td>\n      <td>0.042965</td>\n      <td>0.001870</td>\n      <td>manhattan</td>\n      <td>9</td>\n      <td>{'metric': 'manhattan', 'n_neighbors': 9}</td>\n      <td>0.843</td>\n      <td>0.832</td>\n      <td>0.836</td>\n      <td>0.834</td>\n      <td>0.836</td>\n      <td>0.8362</td>\n      <td>0.003709</td>\n      <td>10</td>\n    </tr>\n    <tr>\n      <th>27</th>\n      <td>0.001303</td>\n      <td>0.000058</td>\n      <td>0.042942</td>\n      <td>0.001349</td>\n      <td>manhattan</td>\n      <td>10</td>\n      <td>{'metric': 'manhattan', 'n_neighbors': 10}</td>\n      <td>0.840</td>\n      <td>0.832</td>\n      <td>0.831</td>\n      <td>0.838</td>\n      <td>0.836</td>\n      <td>0.8354</td>\n      <td>0.003441</td>\n      <td>16</td>\n    </tr>\n    <tr>\n      <th>28</th>\n      <td>0.001245</td>\n      <td>0.000026</td>\n      <td>0.042908</td>\n      <td>0.001133</td>\n      <td>manhattan</td>\n      <td>11</td>\n      <td>{'metric': 'manhattan', 'n_neighbors': 11}</td>\n      <td>0.843</td>\n      <td>0.838</td>\n      <td>0.835</td>\n      <td>0.839</td>\n      <td>0.841</td>\n      <td>0.8392</td>\n      <td>0.002713</td>\n      <td>3</td>\n    </tr>\n    <tr>\n      <th>29</th>\n      <td>0.001387</td>\n      <td>0.000067</td>\n      <td>0.044154</td>\n      <td>0.002926</td>\n      <td>manhattan</td>\n      <td>12</td>\n      <td>{'metric': 'manhattan', 'n_neighbors': 12}</td>\n      <td>0.841</td>\n      <td>0.839</td>\n      <td>0.832</td>\n      <td>0.843</td>\n      <td>0.840</td>\n      <td>0.8390</td>\n      <td>0.003742</td>\n      <td>4</td>\n    </tr>\n    <tr>\n      <th>30</th>\n      <td>0.001240</td>\n      <td>0.000023</td>\n      <td>0.043971</td>\n      <td>0.001140</td>\n      <td>manhattan</td>\n      <td>13</td>\n      <td>{'metric': 'manhattan', 'n_neighbors': 13}</td>\n      <td>0.835</td>\n      <td>0.841</td>\n      <td>0.839</td>\n      <td>0.846</td>\n      <td>0.843</td>\n      <td>0.8408</td>\n      <td>0.003709</td>\n      <td>2</td>\n    </tr>\n    <tr>\n      <th>31</th>\n      <td>0.001238</td>\n      <td>0.000019</td>\n      <td>0.044778</td>\n      <td>0.001269</td>\n      <td>manhattan</td>\n      <td>14</td>\n      <td>{'metric': 'manhattan', 'n_neighbors': 14}</td>\n      <td>0.841</td>\n      <td>0.840</td>\n      <td>0.839</td>\n      <td>0.844</td>\n      <td>0.841</td>\n      <td>0.8410</td>\n      <td>0.001673</td>\n      <td>1</td>\n    </tr>\n  </tbody>\n</table>\n</div>"
     },
     "metadata": {},
     "output_type": "display_data"
    },
    {
     "name": "stdout",
     "output_type": "stream",
     "text": [
      "best score is 0.841 with params {'metric': 'manhattan', 'n_neighbors': 14}\n"
     ]
    }
   ],
   "source": [
    "knn_estimator = KNeighborsClassifier(7)\n",
    "knn_estimator.get_params()\n",
    "\n",
    "params = {\n",
    "    'n_neighbors': range (7,15),\n",
    "    'metric': ('minkowski', 'cosine', 'sqeuclidean', 'manhattan')\n",
    "}\n",
    "\n",
    "grid_search_estimator = GridSearchCV(knn_estimator, params, scoring='accuracy', cv=5, return_train_score=False)\n",
    "grid_search_estimator.fit(data_train,target_train.values.ravel())\n",
    "\n",
    "results = pd.DataFrame(grid_search_estimator.cv_results_)\n",
    "display(results)\n",
    "\n",
    "print(\"best score is {} with params {}\".format(grid_search_estimator.best_score_, grid_search_estimator.best_params_))"
   ],
   "metadata": {
    "collapsed": false
   }
  },
  {
   "cell_type": "markdown",
   "source": [
    "Unfortunately the best combination only leads to an increase of 0.0046 in accuracy which is still not satisfying.\n",
    "\n",
    "Next we try to balance the data using oversampling."
   ],
   "metadata": {
    "collapsed": false
   }
  },
  {
   "cell_type": "code",
   "execution_count": 7,
   "outputs": [],
   "source": [
    "data_train, data_test, target_train, target_test = get_preprocessed_brfss_train_test_split(True)\n",
    "data_train = data_train.head(5000)\n",
    "target_train = target_train.head(5000)"
   ],
   "metadata": {
    "collapsed": false
   }
  },
  {
   "cell_type": "code",
   "execution_count": 8,
   "outputs": [
    {
     "data": {
      "text/plain": "    mean_fit_time  std_fit_time  mean_score_time  std_score_time param_metric  \\\n0        0.001495      0.000118         0.031480        0.005082    euclidean   \n1        0.001454      0.000075         0.029023        0.000479    euclidean   \n2        0.001461      0.000087         0.027639        0.001011    euclidean   \n3        0.001388      0.000016         0.028204        0.000791    euclidean   \n4        0.001389      0.000033         0.028685        0.001399    euclidean   \n..            ...           ...              ...             ...          ...   \n65       0.001312      0.000026         0.043134        0.001123    manhattan   \n66       0.001319      0.000027         0.041874        0.001264    manhattan   \n67       0.001403      0.000097         0.044775        0.001366    manhattan   \n68       0.001333      0.000036         0.045055        0.002396    manhattan   \n69       0.001398      0.000063         0.044874        0.001931    manhattan   \n\n   param_n_neighbors                                      params  \\\n0                  1   {'metric': 'euclidean', 'n_neighbors': 1}   \n1                  2   {'metric': 'euclidean', 'n_neighbors': 2}   \n2                  3   {'metric': 'euclidean', 'n_neighbors': 3}   \n3                  4   {'metric': 'euclidean', 'n_neighbors': 4}   \n4                  5   {'metric': 'euclidean', 'n_neighbors': 5}   \n..               ...                                         ...   \n65                10  {'metric': 'manhattan', 'n_neighbors': 10}   \n66                11  {'metric': 'manhattan', 'n_neighbors': 11}   \n67                12  {'metric': 'manhattan', 'n_neighbors': 12}   \n68                13  {'metric': 'manhattan', 'n_neighbors': 13}   \n69                14  {'metric': 'manhattan', 'n_neighbors': 14}   \n\n    split0_test_score  split1_test_score  split2_test_score  \\\n0               0.517              0.494              0.490   \n1               0.440              0.437              0.426   \n2               0.432              0.428              0.415   \n3               0.424              0.408              0.420   \n4               0.406              0.397              0.390   \n..                ...                ...                ...   \n65              0.380              0.385              0.376   \n66              0.360              0.379              0.373   \n67              0.365              0.395              0.359   \n68              0.358              0.367              0.346   \n69              0.366              0.373              0.348   \n\n    split3_test_score  split4_test_score  mean_test_score  std_test_score  \\\n0               0.498              0.476           0.4950        0.013266   \n1               0.422              0.410           0.4270        0.010807   \n2               0.413              0.426           0.4228        0.007467   \n3               0.401              0.406           0.4118        0.008727   \n4               0.379              0.396           0.3936        0.008913   \n..                ...                ...              ...             ...   \n65              0.365              0.370           0.3752        0.007082   \n66              0.361              0.354           0.3654        0.009178   \n67              0.351              0.356           0.3652        0.015574   \n68              0.343              0.359           0.3546        0.008868   \n69              0.343              0.346           0.3552        0.011990   \n\n    rank_test_score  \n0                 3  \n1                12  \n2                14  \n3                21  \n4                29  \n..              ...  \n65               42  \n66               52  \n67               53  \n68               61  \n69               57  \n\n[70 rows x 15 columns]",
      "text/html": "<div>\n<style scoped>\n    .dataframe tbody tr th:only-of-type {\n        vertical-align: middle;\n    }\n\n    .dataframe tbody tr th {\n        vertical-align: top;\n    }\n\n    .dataframe thead th {\n        text-align: right;\n    }\n</style>\n<table border=\"1\" class=\"dataframe\">\n  <thead>\n    <tr style=\"text-align: right;\">\n      <th></th>\n      <th>mean_fit_time</th>\n      <th>std_fit_time</th>\n      <th>mean_score_time</th>\n      <th>std_score_time</th>\n      <th>param_metric</th>\n      <th>param_n_neighbors</th>\n      <th>params</th>\n      <th>split0_test_score</th>\n      <th>split1_test_score</th>\n      <th>split2_test_score</th>\n      <th>split3_test_score</th>\n      <th>split4_test_score</th>\n      <th>mean_test_score</th>\n      <th>std_test_score</th>\n      <th>rank_test_score</th>\n    </tr>\n  </thead>\n  <tbody>\n    <tr>\n      <th>0</th>\n      <td>0.001495</td>\n      <td>0.000118</td>\n      <td>0.031480</td>\n      <td>0.005082</td>\n      <td>euclidean</td>\n      <td>1</td>\n      <td>{'metric': 'euclidean', 'n_neighbors': 1}</td>\n      <td>0.517</td>\n      <td>0.494</td>\n      <td>0.490</td>\n      <td>0.498</td>\n      <td>0.476</td>\n      <td>0.4950</td>\n      <td>0.013266</td>\n      <td>3</td>\n    </tr>\n    <tr>\n      <th>1</th>\n      <td>0.001454</td>\n      <td>0.000075</td>\n      <td>0.029023</td>\n      <td>0.000479</td>\n      <td>euclidean</td>\n      <td>2</td>\n      <td>{'metric': 'euclidean', 'n_neighbors': 2}</td>\n      <td>0.440</td>\n      <td>0.437</td>\n      <td>0.426</td>\n      <td>0.422</td>\n      <td>0.410</td>\n      <td>0.4270</td>\n      <td>0.010807</td>\n      <td>12</td>\n    </tr>\n    <tr>\n      <th>2</th>\n      <td>0.001461</td>\n      <td>0.000087</td>\n      <td>0.027639</td>\n      <td>0.001011</td>\n      <td>euclidean</td>\n      <td>3</td>\n      <td>{'metric': 'euclidean', 'n_neighbors': 3}</td>\n      <td>0.432</td>\n      <td>0.428</td>\n      <td>0.415</td>\n      <td>0.413</td>\n      <td>0.426</td>\n      <td>0.4228</td>\n      <td>0.007467</td>\n      <td>14</td>\n    </tr>\n    <tr>\n      <th>3</th>\n      <td>0.001388</td>\n      <td>0.000016</td>\n      <td>0.028204</td>\n      <td>0.000791</td>\n      <td>euclidean</td>\n      <td>4</td>\n      <td>{'metric': 'euclidean', 'n_neighbors': 4}</td>\n      <td>0.424</td>\n      <td>0.408</td>\n      <td>0.420</td>\n      <td>0.401</td>\n      <td>0.406</td>\n      <td>0.4118</td>\n      <td>0.008727</td>\n      <td>21</td>\n    </tr>\n    <tr>\n      <th>4</th>\n      <td>0.001389</td>\n      <td>0.000033</td>\n      <td>0.028685</td>\n      <td>0.001399</td>\n      <td>euclidean</td>\n      <td>5</td>\n      <td>{'metric': 'euclidean', 'n_neighbors': 5}</td>\n      <td>0.406</td>\n      <td>0.397</td>\n      <td>0.390</td>\n      <td>0.379</td>\n      <td>0.396</td>\n      <td>0.3936</td>\n      <td>0.008913</td>\n      <td>29</td>\n    </tr>\n    <tr>\n      <th>...</th>\n      <td>...</td>\n      <td>...</td>\n      <td>...</td>\n      <td>...</td>\n      <td>...</td>\n      <td>...</td>\n      <td>...</td>\n      <td>...</td>\n      <td>...</td>\n      <td>...</td>\n      <td>...</td>\n      <td>...</td>\n      <td>...</td>\n      <td>...</td>\n      <td>...</td>\n    </tr>\n    <tr>\n      <th>65</th>\n      <td>0.001312</td>\n      <td>0.000026</td>\n      <td>0.043134</td>\n      <td>0.001123</td>\n      <td>manhattan</td>\n      <td>10</td>\n      <td>{'metric': 'manhattan', 'n_neighbors': 10}</td>\n      <td>0.380</td>\n      <td>0.385</td>\n      <td>0.376</td>\n      <td>0.365</td>\n      <td>0.370</td>\n      <td>0.3752</td>\n      <td>0.007082</td>\n      <td>42</td>\n    </tr>\n    <tr>\n      <th>66</th>\n      <td>0.001319</td>\n      <td>0.000027</td>\n      <td>0.041874</td>\n      <td>0.001264</td>\n      <td>manhattan</td>\n      <td>11</td>\n      <td>{'metric': 'manhattan', 'n_neighbors': 11}</td>\n      <td>0.360</td>\n      <td>0.379</td>\n      <td>0.373</td>\n      <td>0.361</td>\n      <td>0.354</td>\n      <td>0.3654</td>\n      <td>0.009178</td>\n      <td>52</td>\n    </tr>\n    <tr>\n      <th>67</th>\n      <td>0.001403</td>\n      <td>0.000097</td>\n      <td>0.044775</td>\n      <td>0.001366</td>\n      <td>manhattan</td>\n      <td>12</td>\n      <td>{'metric': 'manhattan', 'n_neighbors': 12}</td>\n      <td>0.365</td>\n      <td>0.395</td>\n      <td>0.359</td>\n      <td>0.351</td>\n      <td>0.356</td>\n      <td>0.3652</td>\n      <td>0.015574</td>\n      <td>53</td>\n    </tr>\n    <tr>\n      <th>68</th>\n      <td>0.001333</td>\n      <td>0.000036</td>\n      <td>0.045055</td>\n      <td>0.002396</td>\n      <td>manhattan</td>\n      <td>13</td>\n      <td>{'metric': 'manhattan', 'n_neighbors': 13}</td>\n      <td>0.358</td>\n      <td>0.367</td>\n      <td>0.346</td>\n      <td>0.343</td>\n      <td>0.359</td>\n      <td>0.3546</td>\n      <td>0.008868</td>\n      <td>61</td>\n    </tr>\n    <tr>\n      <th>69</th>\n      <td>0.001398</td>\n      <td>0.000063</td>\n      <td>0.044874</td>\n      <td>0.001931</td>\n      <td>manhattan</td>\n      <td>14</td>\n      <td>{'metric': 'manhattan', 'n_neighbors': 14}</td>\n      <td>0.366</td>\n      <td>0.373</td>\n      <td>0.348</td>\n      <td>0.343</td>\n      <td>0.346</td>\n      <td>0.3552</td>\n      <td>0.011990</td>\n      <td>57</td>\n    </tr>\n  </tbody>\n</table>\n<p>70 rows × 15 columns</p>\n</div>"
     },
     "metadata": {},
     "output_type": "display_data"
    },
    {
     "name": "stdout",
     "output_type": "stream",
     "text": [
      "best score is 0.5132000000000001 with params {'metric': 'cosine', 'n_neighbors': 1}\n"
     ]
    }
   ],
   "source": [
    "knn_estimator = KNeighborsClassifier()\n",
    "knn_estimator.get_params()\n",
    "\n",
    "params = {\n",
    "    'n_neighbors': range (1,15),\n",
    "    'metric': ('euclidean', 'minkowski', 'cosine', 'sqeuclidean', 'manhattan')\n",
    "}\n",
    "\n",
    "grid_search_estimator = GridSearchCV(knn_estimator, params, scoring='accuracy', cv=5, return_train_score=False)\n",
    "grid_search_estimator.fit(data_train,target_train.values.ravel())\n",
    "\n",
    "results = pd.DataFrame(grid_search_estimator.cv_results_)\n",
    "display(results)\n",
    "\n",
    "print(\"best score is {} with params {}\".format(grid_search_estimator.best_score_, grid_search_estimator.best_params_))"
   ],
   "metadata": {
    "collapsed": false
   }
  },
  {
   "cell_type": "markdown",
   "source": [
    "We can see that oversampling doesn't improve the classification."
   ],
   "metadata": {
    "collapsed": false
   }
  }
 ],
 "metadata": {
  "kernelspec": {
   "display_name": "Python 3",
   "language": "python",
   "name": "python3"
  },
  "language_info": {
   "codemirror_mode": {
    "name": "ipython",
    "version": 2
   },
   "file_extension": ".py",
   "mimetype": "text/x-python",
   "name": "python",
   "nbconvert_exporter": "python",
   "pygments_lexer": "ipython2",
   "version": "2.7.6"
  }
 },
 "nbformat": 4,
 "nbformat_minor": 0
}
