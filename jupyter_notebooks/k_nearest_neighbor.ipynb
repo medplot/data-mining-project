{
 "cells": [
  {
   "cell_type": "markdown",
   "source": [
    "# K-nearest neighbor"
   ],
   "metadata": {
    "collapsed": false
   }
  },
  {
   "cell_type": "code",
   "execution_count": 1,
   "outputs": [],
   "source": [
    "# Data import\n",
    "from preprocessing.preprocessing import download_brfss_dataset\n",
    "#download_brfss_dataset(\"username\", \"token\") -> insert kaggle username and api-token"
   ],
   "metadata": {
    "collapsed": false
   }
  },
  {
   "cell_type": "code",
   "execution_count": 2,
   "outputs": [],
   "source": [
    "#imports\n",
    "\n",
    "from preprocessing.preprocessing import get_preprocessed_brfss_train_test_split_one_hot_encoded, get_preprocessed_brfss_train_test_split, get_preprocessed_brfss_dataset\n",
    "\n",
    "import pandas as pd\n",
    "from sklearn.neighbors import KNeighborsClassifier\n",
    "from sklearn.metrics import accuracy_score, confusion_matrix\n",
    "from sklearn.model_selection import GridSearchCV\n"
   ],
   "metadata": {
    "collapsed": false
   }
  },
  {
   "cell_type": "markdown",
   "source": [
    "The following cell loads the already preprocessed data and makes it available for this notebook."
   ],
   "metadata": {
    "collapsed": false
   }
  },
  {
   "cell_type": "code",
   "execution_count": 3,
   "outputs": [],
   "source": [
    "train_dataset, target = get_preprocessed_brfss_dataset()\n",
    "target = target.squeeze()"
   ],
   "metadata": {
    "collapsed": false
   }
  },
  {
   "cell_type": "markdown",
   "source": [
    "The following cell loads the already preprocessed data and makes it available for this notebook.\n",
    "The data is thereby split in train and test data as well as data and target."
   ],
   "metadata": {
    "collapsed": false
   }
  },
  {
   "cell_type": "code",
   "execution_count": 4,
   "outputs": [],
   "source": [
    "data_train, data_test, target_train, target_test = get_preprocessed_brfss_train_test_split()\n",
    "data_train = data_train.head(5000)\n",
    "target_train = target_train.head(5000)"
   ],
   "metadata": {
    "collapsed": false
   }
  },
  {
   "cell_type": "markdown",
   "source": [
    "No we can apply a K-nearest neighbor classifier to the train data and test against the test data onhow it performs by using the accuracy score."
   ],
   "metadata": {
    "collapsed": false
   }
  },
  {
   "cell_type": "code",
   "execution_count": 5,
   "outputs": [
    {
     "name": "stderr",
     "output_type": "stream",
     "text": [
      "/Users/I516258/opt/anaconda3/lib/python3.9/site-packages/sklearn/neighbors/_classification.py:207: DataConversionWarning: A column-vector y was passed when a 1d array was expected. Please change the shape of y to (n_samples,), for example using ravel().\n",
      "  return self._fit(X, y)\n"
     ]
    },
    {
     "name": "stdout",
     "output_type": "stream",
     "text": [
      "k= 1 acc: 0.744772907464039\n"
     ]
    },
    {
     "name": "stderr",
     "output_type": "stream",
     "text": [
      "/Users/I516258/opt/anaconda3/lib/python3.9/site-packages/sklearn/neighbors/_classification.py:207: DataConversionWarning: A column-vector y was passed when a 1d array was expected. Please change the shape of y to (n_samples,), for example using ravel().\n",
      "  return self._fit(X, y)\n"
     ]
    },
    {
     "name": "stdout",
     "output_type": "stream",
     "text": [
      "k= 2 acc: 0.6872692264129573\n"
     ]
    },
    {
     "name": "stderr",
     "output_type": "stream",
     "text": [
      "/Users/I516258/opt/anaconda3/lib/python3.9/site-packages/sklearn/neighbors/_classification.py:207: DataConversionWarning: A column-vector y was passed when a 1d array was expected. Please change the shape of y to (n_samples,), for example using ravel().\n",
      "  return self._fit(X, y)\n"
     ]
    },
    {
     "name": "stdout",
     "output_type": "stream",
     "text": [
      "k= 3 acc: 0.8006002944840865\n"
     ]
    },
    {
     "name": "stderr",
     "output_type": "stream",
     "text": [
      "/Users/I516258/opt/anaconda3/lib/python3.9/site-packages/sklearn/neighbors/_classification.py:207: DataConversionWarning: A column-vector y was passed when a 1d array was expected. Please change the shape of y to (n_samples,), for example using ravel().\n",
      "  return self._fit(X, y)\n"
     ]
    },
    {
     "name": "stdout",
     "output_type": "stream",
     "text": [
      "k= 4 acc: 0.7863404689092762\n"
     ]
    },
    {
     "name": "stderr",
     "output_type": "stream",
     "text": [
      "/Users/I516258/opt/anaconda3/lib/python3.9/site-packages/sklearn/neighbors/_classification.py:207: DataConversionWarning: A column-vector y was passed when a 1d array was expected. Please change the shape of y to (n_samples,), for example using ravel().\n",
      "  return self._fit(X, y)\n"
     ]
    },
    {
     "name": "stdout",
     "output_type": "stream",
     "text": [
      "k= 5 acc: 0.8210103069430287\n"
     ]
    },
    {
     "name": "stderr",
     "output_type": "stream",
     "text": [
      "/Users/I516258/opt/anaconda3/lib/python3.9/site-packages/sklearn/neighbors/_classification.py:207: DataConversionWarning: A column-vector y was passed when a 1d array was expected. Please change the shape of y to (n_samples,), for example using ravel().\n",
      "  return self._fit(X, y)\n"
     ]
    },
    {
     "name": "stdout",
     "output_type": "stream",
     "text": [
      "k= 6 acc: 0.8160493827160494\n"
     ]
    },
    {
     "name": "stderr",
     "output_type": "stream",
     "text": [
      "/Users/I516258/opt/anaconda3/lib/python3.9/site-packages/sklearn/neighbors/_classification.py:207: DataConversionWarning: A column-vector y was passed when a 1d array was expected. Please change the shape of y to (n_samples,), for example using ravel().\n",
      "  return self._fit(X, y)\n"
     ]
    },
    {
     "name": "stdout",
     "output_type": "stream",
     "text": [
      "k= 7 acc: 0.8339109751953788\n"
     ]
    },
    {
     "name": "stderr",
     "output_type": "stream",
     "text": [
      "/Users/I516258/opt/anaconda3/lib/python3.9/site-packages/sklearn/neighbors/_classification.py:207: DataConversionWarning: A column-vector y was passed when a 1d array was expected. Please change the shape of y to (n_samples,), for example using ravel().\n",
      "  return self._fit(X, y)\n"
     ]
    },
    {
     "name": "stdout",
     "output_type": "stream",
     "text": [
      "k= 8 acc: 0.8305583871333106\n"
     ]
    },
    {
     "name": "stderr",
     "output_type": "stream",
     "text": [
      "/Users/I516258/opt/anaconda3/lib/python3.9/site-packages/sklearn/neighbors/_classification.py:207: DataConversionWarning: A column-vector y was passed when a 1d array was expected. Please change the shape of y to (n_samples,), for example using ravel().\n",
      "  return self._fit(X, y)\n"
     ]
    },
    {
     "name": "stdout",
     "output_type": "stream",
     "text": [
      "k= 9 acc: 0.8383735417374562\n"
     ]
    }
   ],
   "source": [
    "for n_neighbors in range(1,10):\n",
    "    knn_estimator = KNeighborsClassifier(n_neighbors)\n",
    "    knn_estimator.fit(data_train, target_train)\n",
    "    diabetes_test_prediction = knn_estimator.predict(data_test)\n",
    "    print(\"k= {} acc: {}\".format(n_neighbors, accuracy_score(target_test, diabetes_test_prediction)))"
   ],
   "metadata": {
    "collapsed": false
   }
  },
  {
   "cell_type": "markdown",
   "source": [
    "We can see that k=9 performs the best. However, the accuracy score is not sufficient given that the data is unbalanced at the amount of no diabetes entities is around 84% (???).\n",
    "\n",
    "To check whether another metric would perform better, we use a grid search for hyperparameter tuning."
   ],
   "metadata": {
    "collapsed": false
   }
  },
  {
   "cell_type": "code",
   "execution_count": 6,
   "outputs": [
    {
     "name": "stderr",
     "output_type": "stream",
     "text": [
      "/Users/I516258/opt/anaconda3/lib/python3.9/site-packages/sklearn/model_selection/_split.py:684: UserWarning: The least populated class in y has only 4 members, which is less than n_splits=5.\n",
      "  warnings.warn(\n"
     ]
    },
    {
     "data": {
      "text/plain": "    mean_fit_time  std_fit_time  mean_score_time  std_score_time param_metric  \\\n0        0.006019      0.001219         0.058138        0.000989    minkowski   \n1        0.005384      0.000158         0.056488        0.002087    minkowski   \n2        0.005407      0.000170         0.058349        0.001947    minkowski   \n3        0.005407      0.000094         0.056466        0.001209    minkowski   \n4        0.005331      0.000148         0.058663        0.002319    minkowski   \n5        0.005203      0.000086         0.057678        0.001579    minkowski   \n6        0.005522      0.000203         0.073119        0.027316    minkowski   \n7        0.005365      0.000101         0.058548        0.000935    minkowski   \n8        0.005340      0.000211         0.101049        0.008557       cosine   \n9        0.005394      0.000249         0.095316        0.004354       cosine   \n10       0.005819      0.001424         0.096340        0.003541       cosine   \n11       0.005117      0.000124         0.095748        0.004307       cosine   \n12       0.005164      0.000174         0.096265        0.005172       cosine   \n13       0.005195      0.000096         0.095812        0.004142       cosine   \n14       0.005235      0.000074         0.097427        0.004964       cosine   \n15       0.005064      0.000062         0.095534        0.003666       cosine   \n16       0.005152      0.000125         0.445934        0.004494  sqeuclidean   \n17       0.005176      0.000059         0.444837        0.004016  sqeuclidean   \n18       0.005409      0.000252         0.444467        0.003127  sqeuclidean   \n19       0.005245      0.000195         0.444812        0.004216  sqeuclidean   \n20       0.005253      0.000220         0.443495        0.003763  sqeuclidean   \n21       0.005148      0.000214         0.447610        0.005449  sqeuclidean   \n22       0.005108      0.000086         0.443770        0.003196  sqeuclidean   \n23       0.005181      0.000068         0.445270        0.003471  sqeuclidean   \n24       0.005279      0.000236         0.241822        0.001406    manhattan   \n25       0.005492      0.000321         0.239511        0.003338    manhattan   \n26       0.005286      0.000113         0.238611        0.001640    manhattan   \n27       0.005251      0.000104         0.247312        0.005236    manhattan   \n28       0.005249      0.000113         0.240723        0.003030    manhattan   \n29       0.005250      0.000149         0.237983        0.003558    manhattan   \n30       0.005340      0.000139         0.243083        0.004895    manhattan   \n31       0.005512      0.000462         0.243488        0.003507    manhattan   \n\n   param_n_neighbors                                        params  \\\n0                  7     {'metric': 'minkowski', 'n_neighbors': 7}   \n1                  8     {'metric': 'minkowski', 'n_neighbors': 8}   \n2                  9     {'metric': 'minkowski', 'n_neighbors': 9}   \n3                 10    {'metric': 'minkowski', 'n_neighbors': 10}   \n4                 11    {'metric': 'minkowski', 'n_neighbors': 11}   \n5                 12    {'metric': 'minkowski', 'n_neighbors': 12}   \n6                 13    {'metric': 'minkowski', 'n_neighbors': 13}   \n7                 14    {'metric': 'minkowski', 'n_neighbors': 14}   \n8                  7        {'metric': 'cosine', 'n_neighbors': 7}   \n9                  8        {'metric': 'cosine', 'n_neighbors': 8}   \n10                 9        {'metric': 'cosine', 'n_neighbors': 9}   \n11                10       {'metric': 'cosine', 'n_neighbors': 10}   \n12                11       {'metric': 'cosine', 'n_neighbors': 11}   \n13                12       {'metric': 'cosine', 'n_neighbors': 12}   \n14                13       {'metric': 'cosine', 'n_neighbors': 13}   \n15                14       {'metric': 'cosine', 'n_neighbors': 14}   \n16                 7   {'metric': 'sqeuclidean', 'n_neighbors': 7}   \n17                 8   {'metric': 'sqeuclidean', 'n_neighbors': 8}   \n18                 9   {'metric': 'sqeuclidean', 'n_neighbors': 9}   \n19                10  {'metric': 'sqeuclidean', 'n_neighbors': 10}   \n20                11  {'metric': 'sqeuclidean', 'n_neighbors': 11}   \n21                12  {'metric': 'sqeuclidean', 'n_neighbors': 12}   \n22                13  {'metric': 'sqeuclidean', 'n_neighbors': 13}   \n23                14  {'metric': 'sqeuclidean', 'n_neighbors': 14}   \n24                 7     {'metric': 'manhattan', 'n_neighbors': 7}   \n25                 8     {'metric': 'manhattan', 'n_neighbors': 8}   \n26                 9     {'metric': 'manhattan', 'n_neighbors': 9}   \n27                10    {'metric': 'manhattan', 'n_neighbors': 10}   \n28                11    {'metric': 'manhattan', 'n_neighbors': 11}   \n29                12    {'metric': 'manhattan', 'n_neighbors': 12}   \n30                13    {'metric': 'manhattan', 'n_neighbors': 13}   \n31                14    {'metric': 'manhattan', 'n_neighbors': 14}   \n\n    split0_test_score  split1_test_score  split2_test_score  \\\n0               0.827              0.829              0.828   \n1               0.825              0.830              0.825   \n2               0.830              0.838              0.834   \n3               0.831              0.836              0.836   \n4               0.836              0.841              0.839   \n5               0.837              0.840              0.839   \n6               0.837              0.840              0.839   \n7               0.837              0.839              0.841   \n8               0.830              0.827              0.822   \n9               0.826              0.824              0.826   \n10              0.828              0.832              0.831   \n11              0.828              0.832              0.837   \n12              0.838              0.836              0.835   \n13              0.838              0.839              0.838   \n14              0.839              0.837              0.839   \n15              0.840              0.838              0.839   \n16              0.827              0.829              0.828   \n17              0.825              0.830              0.825   \n18              0.830              0.838              0.834   \n19              0.831              0.836              0.836   \n20              0.836              0.841              0.839   \n21              0.837              0.840              0.839   \n22              0.837              0.840              0.839   \n23              0.837              0.839              0.841   \n24              0.831              0.834              0.830   \n25              0.834              0.830              0.830   \n26              0.837              0.836              0.834   \n27              0.833              0.835              0.837   \n28              0.838              0.842              0.838   \n29              0.839              0.841              0.835   \n30              0.841              0.842              0.839   \n31              0.840              0.840              0.840   \n\n    split3_test_score  split4_test_score  mean_test_score  std_test_score  \\\n0               0.836              0.821           0.8282        0.004792   \n1               0.835              0.829           0.8288        0.003709   \n2               0.841              0.830           0.8346        0.004363   \n3               0.844              0.833           0.8360        0.004427   \n4               0.843              0.836           0.8390        0.002757   \n5               0.842              0.838           0.8392        0.001720   \n6               0.842              0.837           0.8390        0.001897   \n7               0.841              0.837           0.8390        0.001789   \n8               0.839              0.835           0.8306        0.005953   \n9               0.834              0.834           0.8288        0.004308   \n10              0.836              0.839           0.8332        0.003868   \n11              0.837              0.835           0.8338        0.003429   \n12              0.841              0.838           0.8376        0.002059   \n13              0.841              0.837           0.8386        0.001356   \n14              0.841              0.839           0.8390        0.001265   \n15              0.838              0.840           0.8390        0.000894   \n16              0.836              0.821           0.8282        0.004792   \n17              0.835              0.829           0.8288        0.003709   \n18              0.841              0.830           0.8346        0.004363   \n19              0.844              0.833           0.8360        0.004427   \n20              0.843              0.836           0.8390        0.002757   \n21              0.842              0.838           0.8392        0.001720   \n22              0.842              0.837           0.8390        0.001897   \n23              0.841              0.837           0.8390        0.001789   \n24              0.840              0.828           0.8326        0.004176   \n25              0.834              0.834           0.8324        0.001960   \n26              0.840              0.834           0.8362        0.002227   \n27              0.840              0.838           0.8366        0.002417   \n28              0.839              0.836           0.8386        0.001960   \n29              0.839              0.836           0.8380        0.002191   \n30              0.840              0.838           0.8400        0.001414   \n31              0.841              0.840           0.8402        0.000400   \n\n    rank_test_score  \n0                31  \n1                29  \n2                21  \n3                19  \n4                 5  \n5                 3  \n6                 5  \n7                11  \n8                27  \n9                28  \n10               24  \n11               23  \n12               16  \n13               13  \n14                5  \n15                5  \n16               31  \n17               29  \n18               21  \n19               19  \n20                5  \n21                3  \n22                5  \n23               11  \n24               25  \n25               26  \n26               18  \n27               17  \n28               13  \n29               15  \n30                2  \n31                1  ",
      "text/html": "<div>\n<style scoped>\n    .dataframe tbody tr th:only-of-type {\n        vertical-align: middle;\n    }\n\n    .dataframe tbody tr th {\n        vertical-align: top;\n    }\n\n    .dataframe thead th {\n        text-align: right;\n    }\n</style>\n<table border=\"1\" class=\"dataframe\">\n  <thead>\n    <tr style=\"text-align: right;\">\n      <th></th>\n      <th>mean_fit_time</th>\n      <th>std_fit_time</th>\n      <th>mean_score_time</th>\n      <th>std_score_time</th>\n      <th>param_metric</th>\n      <th>param_n_neighbors</th>\n      <th>params</th>\n      <th>split0_test_score</th>\n      <th>split1_test_score</th>\n      <th>split2_test_score</th>\n      <th>split3_test_score</th>\n      <th>split4_test_score</th>\n      <th>mean_test_score</th>\n      <th>std_test_score</th>\n      <th>rank_test_score</th>\n    </tr>\n  </thead>\n  <tbody>\n    <tr>\n      <th>0</th>\n      <td>0.006019</td>\n      <td>0.001219</td>\n      <td>0.058138</td>\n      <td>0.000989</td>\n      <td>minkowski</td>\n      <td>7</td>\n      <td>{'metric': 'minkowski', 'n_neighbors': 7}</td>\n      <td>0.827</td>\n      <td>0.829</td>\n      <td>0.828</td>\n      <td>0.836</td>\n      <td>0.821</td>\n      <td>0.8282</td>\n      <td>0.004792</td>\n      <td>31</td>\n    </tr>\n    <tr>\n      <th>1</th>\n      <td>0.005384</td>\n      <td>0.000158</td>\n      <td>0.056488</td>\n      <td>0.002087</td>\n      <td>minkowski</td>\n      <td>8</td>\n      <td>{'metric': 'minkowski', 'n_neighbors': 8}</td>\n      <td>0.825</td>\n      <td>0.830</td>\n      <td>0.825</td>\n      <td>0.835</td>\n      <td>0.829</td>\n      <td>0.8288</td>\n      <td>0.003709</td>\n      <td>29</td>\n    </tr>\n    <tr>\n      <th>2</th>\n      <td>0.005407</td>\n      <td>0.000170</td>\n      <td>0.058349</td>\n      <td>0.001947</td>\n      <td>minkowski</td>\n      <td>9</td>\n      <td>{'metric': 'minkowski', 'n_neighbors': 9}</td>\n      <td>0.830</td>\n      <td>0.838</td>\n      <td>0.834</td>\n      <td>0.841</td>\n      <td>0.830</td>\n      <td>0.8346</td>\n      <td>0.004363</td>\n      <td>21</td>\n    </tr>\n    <tr>\n      <th>3</th>\n      <td>0.005407</td>\n      <td>0.000094</td>\n      <td>0.056466</td>\n      <td>0.001209</td>\n      <td>minkowski</td>\n      <td>10</td>\n      <td>{'metric': 'minkowski', 'n_neighbors': 10}</td>\n      <td>0.831</td>\n      <td>0.836</td>\n      <td>0.836</td>\n      <td>0.844</td>\n      <td>0.833</td>\n      <td>0.8360</td>\n      <td>0.004427</td>\n      <td>19</td>\n    </tr>\n    <tr>\n      <th>4</th>\n      <td>0.005331</td>\n      <td>0.000148</td>\n      <td>0.058663</td>\n      <td>0.002319</td>\n      <td>minkowski</td>\n      <td>11</td>\n      <td>{'metric': 'minkowski', 'n_neighbors': 11}</td>\n      <td>0.836</td>\n      <td>0.841</td>\n      <td>0.839</td>\n      <td>0.843</td>\n      <td>0.836</td>\n      <td>0.8390</td>\n      <td>0.002757</td>\n      <td>5</td>\n    </tr>\n    <tr>\n      <th>5</th>\n      <td>0.005203</td>\n      <td>0.000086</td>\n      <td>0.057678</td>\n      <td>0.001579</td>\n      <td>minkowski</td>\n      <td>12</td>\n      <td>{'metric': 'minkowski', 'n_neighbors': 12}</td>\n      <td>0.837</td>\n      <td>0.840</td>\n      <td>0.839</td>\n      <td>0.842</td>\n      <td>0.838</td>\n      <td>0.8392</td>\n      <td>0.001720</td>\n      <td>3</td>\n    </tr>\n    <tr>\n      <th>6</th>\n      <td>0.005522</td>\n      <td>0.000203</td>\n      <td>0.073119</td>\n      <td>0.027316</td>\n      <td>minkowski</td>\n      <td>13</td>\n      <td>{'metric': 'minkowski', 'n_neighbors': 13}</td>\n      <td>0.837</td>\n      <td>0.840</td>\n      <td>0.839</td>\n      <td>0.842</td>\n      <td>0.837</td>\n      <td>0.8390</td>\n      <td>0.001897</td>\n      <td>5</td>\n    </tr>\n    <tr>\n      <th>7</th>\n      <td>0.005365</td>\n      <td>0.000101</td>\n      <td>0.058548</td>\n      <td>0.000935</td>\n      <td>minkowski</td>\n      <td>14</td>\n      <td>{'metric': 'minkowski', 'n_neighbors': 14}</td>\n      <td>0.837</td>\n      <td>0.839</td>\n      <td>0.841</td>\n      <td>0.841</td>\n      <td>0.837</td>\n      <td>0.8390</td>\n      <td>0.001789</td>\n      <td>11</td>\n    </tr>\n    <tr>\n      <th>8</th>\n      <td>0.005340</td>\n      <td>0.000211</td>\n      <td>0.101049</td>\n      <td>0.008557</td>\n      <td>cosine</td>\n      <td>7</td>\n      <td>{'metric': 'cosine', 'n_neighbors': 7}</td>\n      <td>0.830</td>\n      <td>0.827</td>\n      <td>0.822</td>\n      <td>0.839</td>\n      <td>0.835</td>\n      <td>0.8306</td>\n      <td>0.005953</td>\n      <td>27</td>\n    </tr>\n    <tr>\n      <th>9</th>\n      <td>0.005394</td>\n      <td>0.000249</td>\n      <td>0.095316</td>\n      <td>0.004354</td>\n      <td>cosine</td>\n      <td>8</td>\n      <td>{'metric': 'cosine', 'n_neighbors': 8}</td>\n      <td>0.826</td>\n      <td>0.824</td>\n      <td>0.826</td>\n      <td>0.834</td>\n      <td>0.834</td>\n      <td>0.8288</td>\n      <td>0.004308</td>\n      <td>28</td>\n    </tr>\n    <tr>\n      <th>10</th>\n      <td>0.005819</td>\n      <td>0.001424</td>\n      <td>0.096340</td>\n      <td>0.003541</td>\n      <td>cosine</td>\n      <td>9</td>\n      <td>{'metric': 'cosine', 'n_neighbors': 9}</td>\n      <td>0.828</td>\n      <td>0.832</td>\n      <td>0.831</td>\n      <td>0.836</td>\n      <td>0.839</td>\n      <td>0.8332</td>\n      <td>0.003868</td>\n      <td>24</td>\n    </tr>\n    <tr>\n      <th>11</th>\n      <td>0.005117</td>\n      <td>0.000124</td>\n      <td>0.095748</td>\n      <td>0.004307</td>\n      <td>cosine</td>\n      <td>10</td>\n      <td>{'metric': 'cosine', 'n_neighbors': 10}</td>\n      <td>0.828</td>\n      <td>0.832</td>\n      <td>0.837</td>\n      <td>0.837</td>\n      <td>0.835</td>\n      <td>0.8338</td>\n      <td>0.003429</td>\n      <td>23</td>\n    </tr>\n    <tr>\n      <th>12</th>\n      <td>0.005164</td>\n      <td>0.000174</td>\n      <td>0.096265</td>\n      <td>0.005172</td>\n      <td>cosine</td>\n      <td>11</td>\n      <td>{'metric': 'cosine', 'n_neighbors': 11}</td>\n      <td>0.838</td>\n      <td>0.836</td>\n      <td>0.835</td>\n      <td>0.841</td>\n      <td>0.838</td>\n      <td>0.8376</td>\n      <td>0.002059</td>\n      <td>16</td>\n    </tr>\n    <tr>\n      <th>13</th>\n      <td>0.005195</td>\n      <td>0.000096</td>\n      <td>0.095812</td>\n      <td>0.004142</td>\n      <td>cosine</td>\n      <td>12</td>\n      <td>{'metric': 'cosine', 'n_neighbors': 12}</td>\n      <td>0.838</td>\n      <td>0.839</td>\n      <td>0.838</td>\n      <td>0.841</td>\n      <td>0.837</td>\n      <td>0.8386</td>\n      <td>0.001356</td>\n      <td>13</td>\n    </tr>\n    <tr>\n      <th>14</th>\n      <td>0.005235</td>\n      <td>0.000074</td>\n      <td>0.097427</td>\n      <td>0.004964</td>\n      <td>cosine</td>\n      <td>13</td>\n      <td>{'metric': 'cosine', 'n_neighbors': 13}</td>\n      <td>0.839</td>\n      <td>0.837</td>\n      <td>0.839</td>\n      <td>0.841</td>\n      <td>0.839</td>\n      <td>0.8390</td>\n      <td>0.001265</td>\n      <td>5</td>\n    </tr>\n    <tr>\n      <th>15</th>\n      <td>0.005064</td>\n      <td>0.000062</td>\n      <td>0.095534</td>\n      <td>0.003666</td>\n      <td>cosine</td>\n      <td>14</td>\n      <td>{'metric': 'cosine', 'n_neighbors': 14}</td>\n      <td>0.840</td>\n      <td>0.838</td>\n      <td>0.839</td>\n      <td>0.838</td>\n      <td>0.840</td>\n      <td>0.8390</td>\n      <td>0.000894</td>\n      <td>5</td>\n    </tr>\n    <tr>\n      <th>16</th>\n      <td>0.005152</td>\n      <td>0.000125</td>\n      <td>0.445934</td>\n      <td>0.004494</td>\n      <td>sqeuclidean</td>\n      <td>7</td>\n      <td>{'metric': 'sqeuclidean', 'n_neighbors': 7}</td>\n      <td>0.827</td>\n      <td>0.829</td>\n      <td>0.828</td>\n      <td>0.836</td>\n      <td>0.821</td>\n      <td>0.8282</td>\n      <td>0.004792</td>\n      <td>31</td>\n    </tr>\n    <tr>\n      <th>17</th>\n      <td>0.005176</td>\n      <td>0.000059</td>\n      <td>0.444837</td>\n      <td>0.004016</td>\n      <td>sqeuclidean</td>\n      <td>8</td>\n      <td>{'metric': 'sqeuclidean', 'n_neighbors': 8}</td>\n      <td>0.825</td>\n      <td>0.830</td>\n      <td>0.825</td>\n      <td>0.835</td>\n      <td>0.829</td>\n      <td>0.8288</td>\n      <td>0.003709</td>\n      <td>29</td>\n    </tr>\n    <tr>\n      <th>18</th>\n      <td>0.005409</td>\n      <td>0.000252</td>\n      <td>0.444467</td>\n      <td>0.003127</td>\n      <td>sqeuclidean</td>\n      <td>9</td>\n      <td>{'metric': 'sqeuclidean', 'n_neighbors': 9}</td>\n      <td>0.830</td>\n      <td>0.838</td>\n      <td>0.834</td>\n      <td>0.841</td>\n      <td>0.830</td>\n      <td>0.8346</td>\n      <td>0.004363</td>\n      <td>21</td>\n    </tr>\n    <tr>\n      <th>19</th>\n      <td>0.005245</td>\n      <td>0.000195</td>\n      <td>0.444812</td>\n      <td>0.004216</td>\n      <td>sqeuclidean</td>\n      <td>10</td>\n      <td>{'metric': 'sqeuclidean', 'n_neighbors': 10}</td>\n      <td>0.831</td>\n      <td>0.836</td>\n      <td>0.836</td>\n      <td>0.844</td>\n      <td>0.833</td>\n      <td>0.8360</td>\n      <td>0.004427</td>\n      <td>19</td>\n    </tr>\n    <tr>\n      <th>20</th>\n      <td>0.005253</td>\n      <td>0.000220</td>\n      <td>0.443495</td>\n      <td>0.003763</td>\n      <td>sqeuclidean</td>\n      <td>11</td>\n      <td>{'metric': 'sqeuclidean', 'n_neighbors': 11}</td>\n      <td>0.836</td>\n      <td>0.841</td>\n      <td>0.839</td>\n      <td>0.843</td>\n      <td>0.836</td>\n      <td>0.8390</td>\n      <td>0.002757</td>\n      <td>5</td>\n    </tr>\n    <tr>\n      <th>21</th>\n      <td>0.005148</td>\n      <td>0.000214</td>\n      <td>0.447610</td>\n      <td>0.005449</td>\n      <td>sqeuclidean</td>\n      <td>12</td>\n      <td>{'metric': 'sqeuclidean', 'n_neighbors': 12}</td>\n      <td>0.837</td>\n      <td>0.840</td>\n      <td>0.839</td>\n      <td>0.842</td>\n      <td>0.838</td>\n      <td>0.8392</td>\n      <td>0.001720</td>\n      <td>3</td>\n    </tr>\n    <tr>\n      <th>22</th>\n      <td>0.005108</td>\n      <td>0.000086</td>\n      <td>0.443770</td>\n      <td>0.003196</td>\n      <td>sqeuclidean</td>\n      <td>13</td>\n      <td>{'metric': 'sqeuclidean', 'n_neighbors': 13}</td>\n      <td>0.837</td>\n      <td>0.840</td>\n      <td>0.839</td>\n      <td>0.842</td>\n      <td>0.837</td>\n      <td>0.8390</td>\n      <td>0.001897</td>\n      <td>5</td>\n    </tr>\n    <tr>\n      <th>23</th>\n      <td>0.005181</td>\n      <td>0.000068</td>\n      <td>0.445270</td>\n      <td>0.003471</td>\n      <td>sqeuclidean</td>\n      <td>14</td>\n      <td>{'metric': 'sqeuclidean', 'n_neighbors': 14}</td>\n      <td>0.837</td>\n      <td>0.839</td>\n      <td>0.841</td>\n      <td>0.841</td>\n      <td>0.837</td>\n      <td>0.8390</td>\n      <td>0.001789</td>\n      <td>11</td>\n    </tr>\n    <tr>\n      <th>24</th>\n      <td>0.005279</td>\n      <td>0.000236</td>\n      <td>0.241822</td>\n      <td>0.001406</td>\n      <td>manhattan</td>\n      <td>7</td>\n      <td>{'metric': 'manhattan', 'n_neighbors': 7}</td>\n      <td>0.831</td>\n      <td>0.834</td>\n      <td>0.830</td>\n      <td>0.840</td>\n      <td>0.828</td>\n      <td>0.8326</td>\n      <td>0.004176</td>\n      <td>25</td>\n    </tr>\n    <tr>\n      <th>25</th>\n      <td>0.005492</td>\n      <td>0.000321</td>\n      <td>0.239511</td>\n      <td>0.003338</td>\n      <td>manhattan</td>\n      <td>8</td>\n      <td>{'metric': 'manhattan', 'n_neighbors': 8}</td>\n      <td>0.834</td>\n      <td>0.830</td>\n      <td>0.830</td>\n      <td>0.834</td>\n      <td>0.834</td>\n      <td>0.8324</td>\n      <td>0.001960</td>\n      <td>26</td>\n    </tr>\n    <tr>\n      <th>26</th>\n      <td>0.005286</td>\n      <td>0.000113</td>\n      <td>0.238611</td>\n      <td>0.001640</td>\n      <td>manhattan</td>\n      <td>9</td>\n      <td>{'metric': 'manhattan', 'n_neighbors': 9}</td>\n      <td>0.837</td>\n      <td>0.836</td>\n      <td>0.834</td>\n      <td>0.840</td>\n      <td>0.834</td>\n      <td>0.8362</td>\n      <td>0.002227</td>\n      <td>18</td>\n    </tr>\n    <tr>\n      <th>27</th>\n      <td>0.005251</td>\n      <td>0.000104</td>\n      <td>0.247312</td>\n      <td>0.005236</td>\n      <td>manhattan</td>\n      <td>10</td>\n      <td>{'metric': 'manhattan', 'n_neighbors': 10}</td>\n      <td>0.833</td>\n      <td>0.835</td>\n      <td>0.837</td>\n      <td>0.840</td>\n      <td>0.838</td>\n      <td>0.8366</td>\n      <td>0.002417</td>\n      <td>17</td>\n    </tr>\n    <tr>\n      <th>28</th>\n      <td>0.005249</td>\n      <td>0.000113</td>\n      <td>0.240723</td>\n      <td>0.003030</td>\n      <td>manhattan</td>\n      <td>11</td>\n      <td>{'metric': 'manhattan', 'n_neighbors': 11}</td>\n      <td>0.838</td>\n      <td>0.842</td>\n      <td>0.838</td>\n      <td>0.839</td>\n      <td>0.836</td>\n      <td>0.8386</td>\n      <td>0.001960</td>\n      <td>13</td>\n    </tr>\n    <tr>\n      <th>29</th>\n      <td>0.005250</td>\n      <td>0.000149</td>\n      <td>0.237983</td>\n      <td>0.003558</td>\n      <td>manhattan</td>\n      <td>12</td>\n      <td>{'metric': 'manhattan', 'n_neighbors': 12}</td>\n      <td>0.839</td>\n      <td>0.841</td>\n      <td>0.835</td>\n      <td>0.839</td>\n      <td>0.836</td>\n      <td>0.8380</td>\n      <td>0.002191</td>\n      <td>15</td>\n    </tr>\n    <tr>\n      <th>30</th>\n      <td>0.005340</td>\n      <td>0.000139</td>\n      <td>0.243083</td>\n      <td>0.004895</td>\n      <td>manhattan</td>\n      <td>13</td>\n      <td>{'metric': 'manhattan', 'n_neighbors': 13}</td>\n      <td>0.841</td>\n      <td>0.842</td>\n      <td>0.839</td>\n      <td>0.840</td>\n      <td>0.838</td>\n      <td>0.8400</td>\n      <td>0.001414</td>\n      <td>2</td>\n    </tr>\n    <tr>\n      <th>31</th>\n      <td>0.005512</td>\n      <td>0.000462</td>\n      <td>0.243488</td>\n      <td>0.003507</td>\n      <td>manhattan</td>\n      <td>14</td>\n      <td>{'metric': 'manhattan', 'n_neighbors': 14}</td>\n      <td>0.840</td>\n      <td>0.840</td>\n      <td>0.840</td>\n      <td>0.841</td>\n      <td>0.840</td>\n      <td>0.8402</td>\n      <td>0.000400</td>\n      <td>1</td>\n    </tr>\n  </tbody>\n</table>\n</div>"
     },
     "metadata": {},
     "output_type": "display_data"
    },
    {
     "name": "stdout",
     "output_type": "stream",
     "text": [
      "best score is 0.8402 with params {'metric': 'manhattan', 'n_neighbors': 14}\n"
     ]
    }
   ],
   "source": [
    "knn_estimator = KNeighborsClassifier(7)\n",
    "knn_estimator.get_params()\n",
    "\n",
    "params = {\n",
    "    'n_neighbors': range (7,15),\n",
    "    'metric': ('minkowski', 'cosine', 'sqeuclidean', 'manhattan')\n",
    "}\n",
    "\n",
    "grid_search_estimator = GridSearchCV(knn_estimator, params, scoring='accuracy', cv=5, return_train_score=False)\n",
    "grid_search_estimator.fit(data_train,target_train.values.ravel())\n",
    "\n",
    "results = pd.DataFrame(grid_search_estimator.cv_results_)\n",
    "display(results)\n",
    "\n",
    "print(\"best score is {} with params {}\".format(grid_search_estimator.best_score_, grid_search_estimator.best_params_))"
   ],
   "metadata": {
    "collapsed": false
   }
  },
  {
   "cell_type": "markdown",
   "source": [
    "Unfortunately the best combination only leads to an increase of 0.0046 in accuracy which is still not satisfying.\n",
    "\n",
    "Next we try to balance the data using oversampling."
   ],
   "metadata": {
    "collapsed": false
   }
  },
  {
   "cell_type": "code",
   "execution_count": 7,
   "outputs": [],
   "source": [
    "data_train, data_test, target_train, target_test = get_preprocessed_brfss_train_test_split(True)\n",
    "data_train = data_train.head(5000)\n",
    "target_train = target_train.head(5000)"
   ],
   "metadata": {
    "collapsed": false
   }
  },
  {
   "cell_type": "code",
   "execution_count": 8,
   "outputs": [
    {
     "data": {
      "text/plain": "    mean_fit_time  std_fit_time  mean_score_time  std_score_time param_metric  \\\n0        0.007592      0.003612         0.066570        0.015858    euclidean   \n1        0.005359      0.000322         0.062777        0.007481    euclidean   \n2        0.005228      0.000079         0.060463        0.001853    euclidean   \n3        0.005237      0.000104         0.059741        0.001930    euclidean   \n4        0.005205      0.000163         0.058320        0.002542    euclidean   \n..            ...           ...              ...             ...          ...   \n65       0.005187      0.000165         0.238761        0.008583    manhattan   \n66       0.005158      0.000221         0.236216        0.003985    manhattan   \n67       0.005218      0.000141         0.236813        0.006971    manhattan   \n68       0.005183      0.000305         0.238772        0.003291    manhattan   \n69       0.005093      0.000092         0.243245        0.005810    manhattan   \n\n   param_n_neighbors                                      params  \\\n0                  1   {'metric': 'euclidean', 'n_neighbors': 1}   \n1                  2   {'metric': 'euclidean', 'n_neighbors': 2}   \n2                  3   {'metric': 'euclidean', 'n_neighbors': 3}   \n3                  4   {'metric': 'euclidean', 'n_neighbors': 4}   \n4                  5   {'metric': 'euclidean', 'n_neighbors': 5}   \n..               ...                                         ...   \n65                10  {'metric': 'manhattan', 'n_neighbors': 10}   \n66                11  {'metric': 'manhattan', 'n_neighbors': 11}   \n67                12  {'metric': 'manhattan', 'n_neighbors': 12}   \n68                13  {'metric': 'manhattan', 'n_neighbors': 13}   \n69                14  {'metric': 'manhattan', 'n_neighbors': 14}   \n\n    split0_test_score  split1_test_score  split2_test_score  \\\n0               0.478              0.493              0.445   \n1               0.395              0.405              0.379   \n2               0.387              0.398              0.369   \n3               0.365              0.376              0.359   \n4               0.358              0.364              0.365   \n..                ...                ...                ...   \n65              0.347              0.343              0.339   \n66              0.338              0.349              0.335   \n67              0.333              0.344              0.330   \n68              0.333              0.348              0.326   \n69              0.324              0.339              0.323   \n\n    split3_test_score  split4_test_score  mean_test_score  std_test_score  \\\n0               0.462              0.479           0.4714        0.016451   \n1               0.410              0.399           0.3976        0.010613   \n2               0.384              0.389           0.3854        0.009436   \n3               0.365              0.378           0.3686        0.007228   \n4               0.358              0.345           0.3580        0.007127   \n..                ...                ...              ...             ...   \n65              0.348              0.325           0.3404        0.008333   \n66              0.350              0.322           0.3388        0.010265   \n67              0.346              0.323           0.3352        0.008658   \n68              0.342              0.318           0.3334        0.010763   \n69              0.332              0.310           0.3256        0.009728   \n\n    rank_test_score  \n0                 2  \n1                 9  \n2                13  \n3                18  \n4                22  \n..              ...  \n65               39  \n66               40  \n67               46  \n68               47  \n69               57  \n\n[70 rows x 15 columns]",
      "text/html": "<div>\n<style scoped>\n    .dataframe tbody tr th:only-of-type {\n        vertical-align: middle;\n    }\n\n    .dataframe tbody tr th {\n        vertical-align: top;\n    }\n\n    .dataframe thead th {\n        text-align: right;\n    }\n</style>\n<table border=\"1\" class=\"dataframe\">\n  <thead>\n    <tr style=\"text-align: right;\">\n      <th></th>\n      <th>mean_fit_time</th>\n      <th>std_fit_time</th>\n      <th>mean_score_time</th>\n      <th>std_score_time</th>\n      <th>param_metric</th>\n      <th>param_n_neighbors</th>\n      <th>params</th>\n      <th>split0_test_score</th>\n      <th>split1_test_score</th>\n      <th>split2_test_score</th>\n      <th>split3_test_score</th>\n      <th>split4_test_score</th>\n      <th>mean_test_score</th>\n      <th>std_test_score</th>\n      <th>rank_test_score</th>\n    </tr>\n  </thead>\n  <tbody>\n    <tr>\n      <th>0</th>\n      <td>0.007592</td>\n      <td>0.003612</td>\n      <td>0.066570</td>\n      <td>0.015858</td>\n      <td>euclidean</td>\n      <td>1</td>\n      <td>{'metric': 'euclidean', 'n_neighbors': 1}</td>\n      <td>0.478</td>\n      <td>0.493</td>\n      <td>0.445</td>\n      <td>0.462</td>\n      <td>0.479</td>\n      <td>0.4714</td>\n      <td>0.016451</td>\n      <td>2</td>\n    </tr>\n    <tr>\n      <th>1</th>\n      <td>0.005359</td>\n      <td>0.000322</td>\n      <td>0.062777</td>\n      <td>0.007481</td>\n      <td>euclidean</td>\n      <td>2</td>\n      <td>{'metric': 'euclidean', 'n_neighbors': 2}</td>\n      <td>0.395</td>\n      <td>0.405</td>\n      <td>0.379</td>\n      <td>0.410</td>\n      <td>0.399</td>\n      <td>0.3976</td>\n      <td>0.010613</td>\n      <td>9</td>\n    </tr>\n    <tr>\n      <th>2</th>\n      <td>0.005228</td>\n      <td>0.000079</td>\n      <td>0.060463</td>\n      <td>0.001853</td>\n      <td>euclidean</td>\n      <td>3</td>\n      <td>{'metric': 'euclidean', 'n_neighbors': 3}</td>\n      <td>0.387</td>\n      <td>0.398</td>\n      <td>0.369</td>\n      <td>0.384</td>\n      <td>0.389</td>\n      <td>0.3854</td>\n      <td>0.009436</td>\n      <td>13</td>\n    </tr>\n    <tr>\n      <th>3</th>\n      <td>0.005237</td>\n      <td>0.000104</td>\n      <td>0.059741</td>\n      <td>0.001930</td>\n      <td>euclidean</td>\n      <td>4</td>\n      <td>{'metric': 'euclidean', 'n_neighbors': 4}</td>\n      <td>0.365</td>\n      <td>0.376</td>\n      <td>0.359</td>\n      <td>0.365</td>\n      <td>0.378</td>\n      <td>0.3686</td>\n      <td>0.007228</td>\n      <td>18</td>\n    </tr>\n    <tr>\n      <th>4</th>\n      <td>0.005205</td>\n      <td>0.000163</td>\n      <td>0.058320</td>\n      <td>0.002542</td>\n      <td>euclidean</td>\n      <td>5</td>\n      <td>{'metric': 'euclidean', 'n_neighbors': 5}</td>\n      <td>0.358</td>\n      <td>0.364</td>\n      <td>0.365</td>\n      <td>0.358</td>\n      <td>0.345</td>\n      <td>0.3580</td>\n      <td>0.007127</td>\n      <td>22</td>\n    </tr>\n    <tr>\n      <th>...</th>\n      <td>...</td>\n      <td>...</td>\n      <td>...</td>\n      <td>...</td>\n      <td>...</td>\n      <td>...</td>\n      <td>...</td>\n      <td>...</td>\n      <td>...</td>\n      <td>...</td>\n      <td>...</td>\n      <td>...</td>\n      <td>...</td>\n      <td>...</td>\n      <td>...</td>\n    </tr>\n    <tr>\n      <th>65</th>\n      <td>0.005187</td>\n      <td>0.000165</td>\n      <td>0.238761</td>\n      <td>0.008583</td>\n      <td>manhattan</td>\n      <td>10</td>\n      <td>{'metric': 'manhattan', 'n_neighbors': 10}</td>\n      <td>0.347</td>\n      <td>0.343</td>\n      <td>0.339</td>\n      <td>0.348</td>\n      <td>0.325</td>\n      <td>0.3404</td>\n      <td>0.008333</td>\n      <td>39</td>\n    </tr>\n    <tr>\n      <th>66</th>\n      <td>0.005158</td>\n      <td>0.000221</td>\n      <td>0.236216</td>\n      <td>0.003985</td>\n      <td>manhattan</td>\n      <td>11</td>\n      <td>{'metric': 'manhattan', 'n_neighbors': 11}</td>\n      <td>0.338</td>\n      <td>0.349</td>\n      <td>0.335</td>\n      <td>0.350</td>\n      <td>0.322</td>\n      <td>0.3388</td>\n      <td>0.010265</td>\n      <td>40</td>\n    </tr>\n    <tr>\n      <th>67</th>\n      <td>0.005218</td>\n      <td>0.000141</td>\n      <td>0.236813</td>\n      <td>0.006971</td>\n      <td>manhattan</td>\n      <td>12</td>\n      <td>{'metric': 'manhattan', 'n_neighbors': 12}</td>\n      <td>0.333</td>\n      <td>0.344</td>\n      <td>0.330</td>\n      <td>0.346</td>\n      <td>0.323</td>\n      <td>0.3352</td>\n      <td>0.008658</td>\n      <td>46</td>\n    </tr>\n    <tr>\n      <th>68</th>\n      <td>0.005183</td>\n      <td>0.000305</td>\n      <td>0.238772</td>\n      <td>0.003291</td>\n      <td>manhattan</td>\n      <td>13</td>\n      <td>{'metric': 'manhattan', 'n_neighbors': 13}</td>\n      <td>0.333</td>\n      <td>0.348</td>\n      <td>0.326</td>\n      <td>0.342</td>\n      <td>0.318</td>\n      <td>0.3334</td>\n      <td>0.010763</td>\n      <td>47</td>\n    </tr>\n    <tr>\n      <th>69</th>\n      <td>0.005093</td>\n      <td>0.000092</td>\n      <td>0.243245</td>\n      <td>0.005810</td>\n      <td>manhattan</td>\n      <td>14</td>\n      <td>{'metric': 'manhattan', 'n_neighbors': 14}</td>\n      <td>0.324</td>\n      <td>0.339</td>\n      <td>0.323</td>\n      <td>0.332</td>\n      <td>0.310</td>\n      <td>0.3256</td>\n      <td>0.009728</td>\n      <td>57</td>\n    </tr>\n  </tbody>\n</table>\n<p>70 rows × 15 columns</p>\n</div>"
     },
     "metadata": {},
     "output_type": "display_data"
    },
    {
     "name": "stdout",
     "output_type": "stream",
     "text": [
      "best score is 0.4816 with params {'metric': 'manhattan', 'n_neighbors': 1}\n"
     ]
    }
   ],
   "source": [
    "knn_estimator = KNeighborsClassifier()\n",
    "knn_estimator.get_params()\n",
    "\n",
    "params = {\n",
    "    'n_neighbors': range (1,15),\n",
    "    'metric': ('euclidean', 'minkowski', 'cosine', 'sqeuclidean', 'manhattan')\n",
    "}\n",
    "\n",
    "grid_search_estimator = GridSearchCV(knn_estimator, params, scoring='accuracy', cv=5, return_train_score=False)\n",
    "grid_search_estimator.fit(data_train,target_train.values.ravel())\n",
    "\n",
    "results = pd.DataFrame(grid_search_estimator.cv_results_)\n",
    "display(results)\n",
    "\n",
    "print(\"best score is {} with params {}\".format(grid_search_estimator.best_score_, grid_search_estimator.best_params_))"
   ],
   "metadata": {
    "collapsed": false
   }
  },
  {
   "cell_type": "markdown",
   "source": [
    "We can see that oversampling doesn't improve the classification."
   ],
   "metadata": {
    "collapsed": false
   }
  }
 ],
 "metadata": {
  "kernelspec": {
   "display_name": "Python 3",
   "language": "python",
   "name": "python3"
  },
  "language_info": {
   "codemirror_mode": {
    "name": "ipython",
    "version": 2
   },
   "file_extension": ".py",
   "mimetype": "text/x-python",
   "name": "python",
   "nbconvert_exporter": "python",
   "pygments_lexer": "ipython2",
   "version": "2.7.6"
  }
 },
 "nbformat": 4,
 "nbformat_minor": 0
}
