{
 "cells": [
  {
   "cell_type": "markdown",
   "source": [
    "# K-nearest neighbor\n",
    "In this notebook we want to train a K-nearest-neighbor classifier that should predict whether a patient has diabetes or not."
   ],
   "metadata": {
    "collapsed": false
   }
  },
  {
   "cell_type": "code",
   "execution_count": 1,
   "outputs": [],
   "source": [
    "#imports\n",
    "from preprocessing.preprocessing_label_encoding import *\n",
    "from preprocessing.preprocessing_one_hot_encoding import *\n",
    "\n",
    "from sklearn.neighbors import KNeighborsClassifier\n",
    "from sklearn.metrics import *\n",
    "\n",
    "import warnings\n",
    "warnings.filterwarnings('ignore')\n",
    "\n",
    "#used to store the results and compare at the end\n",
    "approach_list = []\n",
    "acc_list = []\n",
    "cr_list = []\n",
    "f2_list = []"
   ],
   "metadata": {
    "collapsed": false
   }
  },
  {
   "cell_type": "markdown",
   "source": [
    "# Hyperparameter tuning and preprocessing\n",
    "We will evaluate different parameters for the classifier (hyperparameter tuning) as well as different preprocessing steps based on the accuracy and F2-Score.\n",
    "\n",
    "In detail, we will vary regarding parameters:<br>\n",
    "\n",
    "| **Parameter** |                    **range Values**                    |\n",
    "|:-------------:|:------------------------------------------------------:|\n",
    "|    metric     | 'euclidean',<br>'cosine',<br>'manhattan',<br>'jaccard' |\n",
    "|  K-neighbors  |                          5-15                          |\n",
    "\n",
    "And we will vary for preprocessing:\n",
    "\n",
    "\n",
    "|              **Preprocessing**              |                           **Description**                           |\n",
    "|:-------------------------------------------:|:-------------------------------------------------------------------:|\n",
    "|               Label Encoding                |                           Label encoding                            |\n",
    "|     Label Encoding<br>+<br>Oversampling     |                   Label encoding and oversampling                   |\n",
    "|    Label Encoding<br>+<br>Undersampling     |                  Label encoding and undersampling                   |\n",
    "|            One Hot Encoding (1)             |           One hot encoding for all columns except yes/no            |\n",
    "|            One Hot Encoding (2)             |          One hot encoding for all columns including yes/no          |\n",
    "|  One Hot Encoding (1)<br>+<br>Oversampling  |   One hot encoding for all columns except yes/no and oversampling   |\n",
    "| One Hot Encoding (2) <br>+<br>Oversampling  | One hot encoding for all columns including yes/no and oversampling  |\n",
    "| One Hot Encoding (1)<br>+<br>Undersampling  |  One hot encoding for all columns except yes/no and undersampling   |\n",
    "| One Hot Encoding (2) <br>+<br>Undersampling | One hot encoding for all columns including yes/no and undersampling |"
   ],
   "metadata": {
    "collapsed": false
   }
  },
  {
   "cell_type": "markdown",
   "source": [
    "The below defined function is used to store all the accuracy and F2-scores for a better comparison and evaluation capability at the end. It also returns the Accuracy score and F2-Score to see the performance directly under each method."
   ],
   "metadata": {
    "collapsed": false
   }
  },
  {
   "cell_type": "code",
   "execution_count": 4,
   "outputs": [],
   "source": [
    "def evaluation(target_validation, diabetes_test_prediction, k, metric, preprocessing):\n",
    "    approach = \"preprocessing: {} k= {} metric: {}\".format(preprocessing, k, metric)\n",
    "    approach_list.append(approach)\n",
    "    acc = accuracy_score(target_validation, diabetes_test_prediction)\n",
    "    acc_list.append(acc)\n",
    "    cr = classification_report(target_validation, diabetes_test_prediction)\n",
    "    cr_list.append(cr)\n",
    "    f2 = fbeta_score(target_validation, diabetes_test_prediction, beta=2)\n",
    "    f2_list.append(f2)\n",
    "    return \"{}\\n acc = {}\\n f2-score = {}\".format(approach, acc, f2)"
   ],
   "metadata": {
    "collapsed": false
   }
  },
  {
   "cell_type": "markdown",
   "source": [
    "We start with applying a K-nearest neighbor classifier to the train data and test against the validation data on how it performs by using the accuracy and F2-score.\n",
    "\n",
    "We will do so for each combination that is listed above by using two for loops. The following estimators are structured by the different style of preprocessing.\n",
    "\n",
    "At the end we test the best approach against the actual test data."
   ],
   "metadata": {
    "collapsed": false
   }
  },
  {
   "cell_type": "markdown",
   "source": [
    "# Label Encoding"
   ],
   "metadata": {
    "collapsed": false
   }
  },
  {
   "cell_type": "code",
   "execution_count": 5,
   "outputs": [
    {
     "name": "stdout",
     "output_type": "stream",
     "text": [
      "preprocessing: Label Encoding k= 5 metric: euclidean\n",
      " acc = 0.8617614665861371\n",
      " f2-score = 0.23177171798276766\n",
      "preprocessing: Label Encoding k= 5 metric: cosine\n",
      " acc = 0.8614239528191282\n",
      " f2-score = 0.237501539219308\n",
      "preprocessing: Label Encoding k= 5 metric: manhattan\n",
      " acc = 0.8626674245923189\n",
      " f2-score = 0.2382935406255784\n",
      "preprocessing: Label Encoding k= 5 metric: jaccard\n",
      " acc = 0.8719046434788787\n",
      " f2-score = 0.0008675133597057394\n",
      "preprocessing: Label Encoding k= 6 metric: euclidean\n",
      " acc = 0.8704480051159982\n",
      " f2-score = 0.1457070213182085\n",
      "preprocessing: Label Encoding k= 6 metric: cosine\n",
      " acc = 0.8696841581696095\n",
      " f2-score = 0.15588035129792266\n",
      "preprocessing: Label Encoding k= 6 metric: manhattan\n",
      " acc = 0.8705545884108431\n",
      " f2-score = 0.15369118793865347\n",
      "preprocessing: Label Encoding k= 6 metric: jaccard\n",
      " acc = 0.8719046434788787\n",
      " f2-score = 0.0008675133597057394\n",
      "preprocessing: Label Encoding k= 7 metric: euclidean\n",
      " acc = 0.8670018119160123\n",
      " f2-score = 0.21280276816608998\n",
      "preprocessing: Label Encoding k= 7 metric: cosine\n",
      " acc = 0.8662024372046755\n",
      " f2-score = 0.22436798850035936\n",
      "preprocessing: Label Encoding k= 7 metric: manhattan\n",
      " acc = 0.8675347283902369\n",
      " f2-score = 0.21731615336266502\n",
      "preprocessing: Label Encoding k= 7 metric: jaccard\n",
      " acc = 0.8719046434788787\n",
      " f2-score = 0.0008675133597057394\n",
      "preprocessing: Label Encoding k= 8 metric: euclidean\n",
      " acc = 0.8714783102994991\n",
      " f2-score = 0.1452139823587063\n",
      "preprocessing: Label Encoding k= 8 metric: cosine\n",
      " acc = 0.8710164493551711\n",
      " f2-score = 0.1533632578714546\n",
      "preprocessing: Label Encoding k= 8 metric: manhattan\n",
      " acc = 0.8719401712438271\n",
      " f2-score = 0.1531643094570814\n",
      "preprocessing: Label Encoding k= 8 metric: jaccard\n",
      " acc = 0.8719046434788787\n",
      " f2-score = 0.0008675133597057394\n",
      "preprocessing: Label Encoding k= 9 metric: euclidean\n",
      " acc = 0.8705545884108431\n",
      " f2-score = 0.2023673157693776\n",
      "preprocessing: Label Encoding k= 9 metric: cosine\n",
      " acc = 0.8685117419263154\n",
      " f2-score = 0.21005085441738527\n",
      "preprocessing: Label Encoding k= 9 metric: manhattan\n",
      " acc = 0.8697019220520837\n",
      " f2-score = 0.20744849445324878\n",
      "preprocessing: Label Encoding k= 9 metric: jaccard\n",
      " acc = 0.8719046434788787\n",
      " f2-score = 0.0008675133597057394\n",
      "preprocessing: Label Encoding k= 10 metric: euclidean\n",
      " acc = 0.8726329626603191\n",
      " f2-score = 0.14320825823365557\n",
      "preprocessing: Label Encoding k= 10 metric: cosine\n",
      " acc = 0.8724375599531033\n",
      " f2-score = 0.15192558746736293\n",
      "preprocessing: Label Encoding k= 10 metric: manhattan\n",
      " acc = 0.8726684904252674\n",
      " f2-score = 0.1493805772562351\n",
      "preprocessing: Label Encoding k= 10 metric: jaccard\n",
      " acc = 0.8719046434788787\n",
      " f2-score = 0.0008675133597057394\n",
      "preprocessing: Label Encoding k= 11 metric: euclidean\n",
      " acc = 0.8719756990087754\n",
      " f2-score = 0.19331795758857068\n",
      "preprocessing: Label Encoding k= 11 metric: cosine\n",
      " acc = 0.8714960741819732\n",
      " f2-score = 0.20431888396980605\n",
      "preprocessing: Label Encoding k= 11 metric: manhattan\n",
      " acc = 0.8708032827654812\n",
      " f2-score = 0.19423678998147081\n",
      "preprocessing: Label Encoding k= 11 metric: jaccard\n",
      " acc = 0.8719046434788787\n",
      " f2-score = 0.0008675133597057394\n",
      "preprocessing: Label Encoding k= 12 metric: euclidean\n",
      " acc = 0.8734856290190784\n",
      " f2-score = 0.14960552591089143\n",
      "preprocessing: Label Encoding k= 12 metric: cosine\n",
      " acc = 0.873201406899492\n",
      " f2-score = 0.1547451927785577\n",
      "preprocessing: Label Encoding k= 12 metric: manhattan\n",
      " acc = 0.8739297260809322\n",
      " f2-score = 0.15203587326525267\n",
      "preprocessing: Label Encoding k= 12 metric: jaccard\n",
      " acc = 0.8719046434788787\n",
      " f2-score = 0.0008675133597057394\n",
      "preprocessing: Label Encoding k= 13 metric: euclidean\n",
      " acc = 0.8727928376025864\n",
      " f2-score = 0.18915530984829002\n",
      "preprocessing: Label Encoding k= 13 metric: cosine\n",
      " acc = 0.8716914768891889\n",
      " f2-score = 0.19321892809118268\n",
      "preprocessing: Label Encoding k= 13 metric: manhattan\n",
      " acc = 0.8729349486623796\n",
      " f2-score = 0.1926163723916533\n",
      "preprocessing: Label Encoding k= 13 metric: jaccard\n",
      " acc = 0.8719046434788787\n",
      " f2-score = 0.0008675133597057394\n",
      "preprocessing: Label Encoding k= 14 metric: euclidean\n",
      " acc = 0.8737520872561907\n",
      " f2-score = 0.1445874089148559\n",
      "preprocessing: Label Encoding k= 14 metric: cosine\n",
      " acc = 0.8737520872561907\n",
      " f2-score = 0.15244700340225073\n",
      "preprocessing: Label Encoding k= 14 metric: manhattan\n",
      " acc = 0.8738764344335098\n",
      " f2-score = 0.14523911116946203\n",
      "preprocessing: Label Encoding k= 14 metric: jaccard\n",
      " acc = 0.8719046434788787\n",
      " f2-score = 0.0008675133597057394\n",
      "preprocessing: Label Encoding k= 15 metric: euclidean\n",
      " acc = 0.8739474899634064\n",
      " f2-score = 0.18088648928259676\n",
      "preprocessing: Label Encoding k= 15 metric: cosine\n",
      " acc = 0.872739545955164\n",
      " f2-score = 0.18898852569665417\n",
      "preprocessing: Label Encoding k= 15 metric: manhattan\n",
      " acc = 0.8734856290190784\n",
      " f2-score = 0.17908517860029097\n",
      "preprocessing: Label Encoding k= 15 metric: jaccard\n",
      " acc = 0.8719046434788787\n",
      " f2-score = 0.0008675133597057394\n"
     ]
    }
   ],
   "source": [
    "preprocessing = \"Label Encoding\"\n",
    "\n",
    "#load data\n",
    "data_train, data_validation, target_train, target_validation = get_preprocessed_brfss_dataset_label_encoded_train_test_split()\n",
    "\n",
    "#metrics that should be used\n",
    "params = ('euclidean', 'cosine', 'manhattan', 'jaccard')\n",
    "\n",
    "for k_neighbors in range(5,16):\n",
    "    for metric in params:\n",
    "        knn_estimator = KNeighborsClassifier(n_neighbors=k_neighbors, metric=metric)\n",
    "        knn_estimator.fit(data_train, target_train.values.ravel())\n",
    "        diabetes_test_prediction = knn_estimator.predict(data_validation)\n",
    "        print(evaluation(target_validation, diabetes_test_prediction, k_neighbors, metric, preprocessing))"
   ],
   "metadata": {
    "collapsed": false
   }
  },
  {
   "cell_type": "markdown",
   "source": [
    "# Label Encoding + Oversampling"
   ],
   "metadata": {
    "collapsed": false
   }
  },
  {
   "cell_type": "code",
   "execution_count": null,
   "outputs": [],
   "source": [
    "preprocessing = \"Label Encoding + Oversampling\"\n",
    "\n",
    "#load data\n",
    "data_train, data_validation, target_train, target_validation = get_preprocessed_brfss_dataset_label_encoded_train_test_split_oversampled()\n",
    "\n",
    "#metrics that should be used\n",
    "params = ('euclidean', 'cosine', 'manhattan', 'jaccard')\n",
    "\n",
    "for k_neighbors in range(5,7):\n",
    "    for metric in params:\n",
    "        knn_estimator = KNeighborsClassifier(n_neighbors=k_neighbors, metric=metric)\n",
    "        knn_estimator.fit(data_train, target_train.values.ravel())\n",
    "        diabetes_test_prediction = knn_estimator.predict(data_validation)\n",
    "        print(evaluation(target_validation, diabetes_test_prediction, k_neighbors, metric, preprocessing))"
   ],
   "metadata": {
    "collapsed": false
   }
  },
  {
   "cell_type": "markdown",
   "source": [
    "# Label Encoding + Undersampling"
   ],
   "metadata": {
    "collapsed": false
   }
  },
  {
   "cell_type": "code",
   "execution_count": null,
   "outputs": [],
   "source": [
    "preprocessing = \"Label Encoding + Undersampling\"\n",
    "\n",
    "#load data\n",
    "data_train, data_validation, target_train, target_validation = get_preprocessed_brfss_dataset_label_encoded_train_test_split_undersampled()\n",
    "\n",
    "#metrics that should be used\n",
    "params = ('euclidean', 'cosine', 'manhattan', 'jaccard')\n",
    "\n",
    "for k_neighbors in range(5,7):\n",
    "    for metric in params:\n",
    "        knn_estimator = KNeighborsClassifier(n_neighbors=k_neighbors, metric=metric)\n",
    "        knn_estimator.fit(data_train, target_train.values.ravel())\n",
    "        diabetes_test_prediction = knn_estimator.predict(data_validation)\n",
    "        print(evaluation(target_validation, diabetes_test_prediction, k_neighbors, metric, preprocessing))"
   ],
   "metadata": {
    "collapsed": false
   }
  },
  {
   "cell_type": "markdown",
   "source": [
    "# One Hot Encoding (1)\n",
    "yes/no values not one hot encoded"
   ],
   "metadata": {
    "collapsed": false
   }
  },
  {
   "cell_type": "code",
   "execution_count": null,
   "outputs": [],
   "source": [
    "preprocessing = \"One Hot Encoding (1)\"\n",
    "\n",
    "#load data\n",
    "data_train, data_validation, target_train, target_validation = get_preprocessed_brfss_dataset_one_hot_encoded_train_test_split()\n",
    "\n",
    "#metrics that should be used\n",
    "params = ('euclidean', 'cosine', 'manhattan', 'jaccard')\n",
    "\n",
    "for k_neighbors in range(5,7):\n",
    "    for metric in params:\n",
    "        knn_estimator = KNeighborsClassifier(n_neighbors=k_neighbors, metric=metric)\n",
    "        knn_estimator.fit(data_train, target_train.values.ravel())\n",
    "        diabetes_test_prediction = knn_estimator.predict(data_validation)\n",
    "        print(evaluation(target_validation, diabetes_test_prediction, k_neighbors, metric, preprocessing))"
   ],
   "metadata": {
    "collapsed": false
   }
  },
  {
   "cell_type": "markdown",
   "source": [
    "# One Hot Encoding (2)\n",
    "all columns one hot encoded"
   ],
   "metadata": {
    "collapsed": false
   }
  },
  {
   "cell_type": "code",
   "execution_count": null,
   "outputs": [],
   "source": [
    "preprocessing = \"One Hot Encoding (2)\"\n",
    "\n",
    "#load data\n",
    "data_train, data_validation, target_train, target_validation = get_preprocessed_brfss_dataset_one_hot_encoded_all_columns_train_test_split()\n",
    "\n",
    "#metrics that should be used\n",
    "params = ('euclidean', 'cosine', 'manhattan', 'jaccard')\n",
    "\n",
    "for k_neighbors in range(5,7):\n",
    "    for metric in params:\n",
    "        knn_estimator = KNeighborsClassifier(n_neighbors=k_neighbors, metric=metric)\n",
    "        knn_estimator.fit(data_train, target_train.values.ravel())\n",
    "        diabetes_test_prediction = knn_estimator.predict(data_validation)\n",
    "        print(evaluation(target_validation, diabetes_test_prediction, k_neighbors, metric, preprocessing))"
   ],
   "metadata": {
    "collapsed": false
   }
  },
  {
   "cell_type": "markdown",
   "source": [
    "# One Hot Encoding (1) + Oversampling"
   ],
   "metadata": {
    "collapsed": false
   }
  },
  {
   "cell_type": "code",
   "execution_count": null,
   "outputs": [],
   "source": [
    "preprocessing = \"One Hot Encoding (1) + Oversampling\"\n",
    "\n",
    "#load data\n",
    "data_train, data_validation, target_train, target_validation = get_preprocessed_brfss_dataset_one_hot_encoded_train_test_split_oversampled()\n",
    "\n",
    "#metrics that should be used\n",
    "params = ('euclidean', 'cosine', 'manhattan', 'jaccard')\n",
    "\n",
    "for k_neighbors in range(5,7):\n",
    "    for metric in params:\n",
    "        knn_estimator = KNeighborsClassifier(n_neighbors=k_neighbors, metric=metric)\n",
    "        knn_estimator.fit(data_train, target_train.values.ravel())\n",
    "        diabetes_test_prediction = knn_estimator.predict(data_validation)\n",
    "        print(evaluation(target_validation, diabetes_test_prediction, k_neighbors, metric, preprocessing))"
   ],
   "metadata": {
    "collapsed": false
   }
  },
  {
   "cell_type": "markdown",
   "source": [
    "# One Hot Encoding (2) + Oversampling"
   ],
   "metadata": {
    "collapsed": false
   }
  },
  {
   "cell_type": "code",
   "execution_count": null,
   "outputs": [],
   "source": [
    "preprocessing = \"One Hot Encoding (2) + Oversampling\"\n",
    "\n",
    "#load data\n",
    "data_train, data_validation, target_train, target_validation = get_preprocessed_brfss_dataset_one_hot_encoded_all_columns_train_test_split_oversampled()\n",
    "\n",
    "#metrics that should be used\n",
    "params = ('euclidean', 'cosine', 'manhattan', 'jaccard')\n",
    "\n",
    "for k_neighbors in range(5,7):\n",
    "    for metric in params:\n",
    "        knn_estimator = KNeighborsClassifier(n_neighbors=k_neighbors, metric=metric)\n",
    "        knn_estimator.fit(data_train, target_train.values.ravel())\n",
    "        diabetes_test_prediction = knn_estimator.predict(data_validation)\n",
    "        print(evaluation(target_validation, diabetes_test_prediction, k_neighbors, metric, preprocessing))"
   ],
   "metadata": {
    "collapsed": false
   }
  },
  {
   "cell_type": "markdown",
   "source": [
    "# One Hot Encoding (1) + Undersampling"
   ],
   "metadata": {
    "collapsed": false
   }
  },
  {
   "cell_type": "code",
   "execution_count": null,
   "outputs": [],
   "source": [
    "preprocessing = \"One Hot Encoding (1) + Undersampling\"\n",
    "\n",
    "#load data\n",
    "data_train, data_validation, target_train, target_validation = get_preprocessed_brfss_dataset_one_hot_encoded_train_test_split_undersampled()\n",
    "\n",
    "#metrics that should be used\n",
    "params = ('euclidean', 'cosine', 'manhattan', 'jaccard')\n",
    "\n",
    "for k_neighbors in range(5,7):\n",
    "    for metric in params:\n",
    "        knn_estimator = KNeighborsClassifier(n_neighbors=k_neighbors, metric=metric)\n",
    "        knn_estimator.fit(data_train, target_train.values.ravel())\n",
    "        diabetes_test_prediction = knn_estimator.predict(data_validation)\n",
    "        print(evaluation(target_validation, diabetes_test_prediction, k_neighbors, metric, preprocessing))"
   ],
   "metadata": {
    "collapsed": false
   }
  },
  {
   "cell_type": "markdown",
   "source": [
    "# One Hot Encoding (2) + Undersampling"
   ],
   "metadata": {
    "collapsed": false
   }
  },
  {
   "cell_type": "code",
   "execution_count": null,
   "outputs": [],
   "source": [
    "preprocessing = \"One Hot Encoding (2) + Undersampling\"\n",
    "\n",
    "#load data\n",
    "data_train, data_validation, target_train, target_validation = get_preprocessed_brfss_dataset_one_hot_encoded_all_columns_train_test_split_undersampled()\n",
    "\n",
    "#metrics that should be used\n",
    "params = ('euclidean', 'cosine', 'manhattan', 'jaccard')\n",
    "\n",
    "for k_neighbors in range(5,7):\n",
    "    for metric in params:\n",
    "        knn_estimator = KNeighborsClassifier(n_neighbors=k_neighbors, metric=metric)\n",
    "        knn_estimator.fit(data_train, target_train.values.ravel())\n",
    "        diabetes_test_prediction = knn_estimator.predict(data_validation)\n",
    "        print(evaluation(target_validation, diabetes_test_prediction, k_neighbors, metric, preprocessing))"
   ],
   "metadata": {
    "collapsed": false
   }
  },
  {
   "cell_type": "markdown",
   "source": [
    "# Evaluation of best approach\n",
    "We use the following loop to print all F2- and accuracy-scores and thereby also analyze which approach performed best."
   ],
   "metadata": {
    "collapsed": false
   }
  },
  {
   "cell_type": "code",
   "execution_count": 7,
   "outputs": [
    {
     "name": "stdout",
     "output_type": "stream",
     "text": [
      "Nr.0) k= 5 metric: cosine\n",
      "Weighted F1-Score = 0.8086342517615546\n",
      "Accuracy-Score = 0.8348629810814321\n",
      "\n",
      "Nr.1) k= 5 metric: manhattan\n",
      "Weighted F1-Score = 0.8107654592583807\n",
      "Accuracy-Score = 0.8379150612580631\n",
      "\n",
      "Nr.2) k= 6 metric: cosine\n",
      "Weighted F1-Score = 0.8117186129597088\n",
      "Accuracy-Score = 0.8322438200787913\n",
      "\n",
      "Nr.3) k= 6 metric: manhattan\n",
      "Weighted F1-Score = 0.8125962193311277\n",
      "Accuracy-Score = 0.8342136023204467\n",
      "\n",
      "--------- Best Approaches ---------\n",
      "Best Approach regarding F1-Score:\n",
      "Nr.3) Parameter: (k= 6 metric: manhattan) with f1-score = 0.8125962193311277\n",
      "\n",
      "Best Approach regarding Accuracy:\n",
      "Nr.1) Parameter: (k= 5 metric: manhattan) with acc = 0.8379150612580631\n"
     ]
    }
   ],
   "source": [
    "highest_acc = [0.0, None, None]\n",
    "highest_f2 = [0.0, None, None]\n",
    "\n",
    "for i in range(0, len(approach_list)):\n",
    "    print(\"Nr.{}) {}\".format(i, approach_list[i]))\n",
    "    print (\"Weighted F2-Score = {}\".format(f2_list[i]))\n",
    "    print (\"Accuracy-Score = {}\\n\".format(acc_list[i]))\n",
    "    if highest_f2[0] < float(f2_list[i]):\n",
    "        highest_f2[0] = f2_list[i]\n",
    "        highest_f2[1] = i\n",
    "        highest_f2[2] = approach_list[i]\n",
    "    if highest_acc[0] < float(acc_list[i]):\n",
    "        highest_acc[0] = acc_list[i]\n",
    "        highest_acc[1] = i\n",
    "        highest_acc[2] = approach_list[i]\n",
    "\n",
    "print(\"--------- Best Approaches ---------\")\n",
    "print(\"Best Approach regarding F2-Score:\\nNr.{}) {} with f2-score = {}\\n\".format(highest_f2[1], highest_f2[2], highest_f2[0]))\n",
    "print(\"Best Approach regarding Accuracy:\\nNr.{}) {} with acc = {}\".format(highest_acc[1], highest_acc[2], highest_acc[0]))"
   ],
   "metadata": {
    "collapsed": false
   }
  },
  {
   "cell_type": "markdown",
   "source": [
    "We can see that approach _tbd_ with k = _tbd_ and metric = _tbd_ performed best.\n",
    "We test this approach now finally against the test data that we separated at the beginning:"
   ],
   "metadata": {
    "collapsed": false
   }
  },
  {
   "cell_type": "code",
   "execution_count": null,
   "outputs": [],
   "source": [
    "#tbd"
   ],
   "metadata": {
    "collapsed": false
   }
  }
 ],
 "metadata": {
  "kernelspec": {
   "display_name": "Python 3",
   "language": "python",
   "name": "python3"
  },
  "language_info": {
   "codemirror_mode": {
    "name": "ipython",
    "version": 2
   },
   "file_extension": ".py",
   "mimetype": "text/x-python",
   "name": "python",
   "nbconvert_exporter": "python",
   "pygments_lexer": "ipython2",
   "version": "2.7.6"
  }
 },
 "nbformat": 4,
 "nbformat_minor": 0
}
