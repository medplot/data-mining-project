{
 "cells": [
  {
   "cell_type": "markdown",
   "source": [
    "# K-nearest neighbor\n",
    "In this notebook we want to train a K-nearest-neighbor classifier that should predict whether a patient has diabetes or not."
   ],
   "metadata": {
    "collapsed": false
   }
  },
  {
   "cell_type": "code",
   "execution_count": 1,
   "outputs": [
    {
     "name": "stderr",
     "output_type": "stream",
     "text": [
      "/Users/I516258/opt/anaconda3/lib/python3.9/site-packages/scipy/__init__.py:146: UserWarning: A NumPy version >=1.16.5 and <1.23.0 is required for this version of SciPy (detected version 1.23.3\n",
      "  warnings.warn(f\"A NumPy version >={np_minversion} and <{np_maxversion}\"\n"
     ]
    }
   ],
   "source": [
    "# Data import\n",
    "from preprocessing.preprocessing import download_brfss_dataset\n",
    "#download_brfss_dataset(\"username\", \"token\") -> insert kaggle username and api-token"
   ],
   "metadata": {
    "collapsed": false
   }
  },
  {
   "cell_type": "code",
   "execution_count": 2,
   "outputs": [],
   "source": [
    "#imports\n",
    "\n",
    "from preprocessing.preprocessing import *\n",
    "from preprocessing.preprocessing_label_encoding import *\n",
    "from preprocessing.preproccessing_one_hot_encoding import *\n",
    "\n",
    "import pandas as pd\n",
    "\n",
    "from sklearn.neighbors import KNeighborsClassifier\n",
    "from sklearn.metrics import accuracy_score, confusion_matrix\n",
    "from sklearn.model_selection import GridSearchCV\n",
    "\n",
    "from visualization.general_plots import plot_class_frequencies\n"
   ],
   "metadata": {
    "collapsed": false
   }
  },
  {
   "cell_type": "code",
   "execution_count": 3,
   "outputs": [],
   "source": [
    "#ideas to use\n",
    "#plot_class_frequencies(target)"
   ],
   "metadata": {
    "collapsed": false
   }
  },
  {
   "cell_type": "markdown",
   "source": [
    "# Hyperparameter tuning and preprocessing\n",
    "We will evaluate different parameters for the classifier (hyperparameter tuning) as well as different preprocessing steps.\n",
    "\n",
    "In detail, we will vary regarding parameters:<br>\n",
    "\n",
    "\n",
    "| **Parameter** |                        **range Values**                        |\n",
    "|:-------------:|:--------------------------------------------------------------:|\n",
    "|   n-neighbor  |                              1-15                              |\n",
    "| metric        | 'euclidean',<br>'minkowski',<br>'cosine',<br>'sqeuclidean',<br>'manhattan' |\n",
    "\n",
    "And we will vary for preprocessing:\n",
    "\n",
    "|              **Preprocessing**              |                           **Description**                           | **Name train data** | **Name train target** | **Name test data** | **Name test target** |\n",
    "|:-------------------------------------------:|:-------------------------------------------------------------------:|-----------------|-------------------|--------------------|----------------------|\n",
    "|     Label Encoding<br>    |                   Label encoding                  | data_train      | target_train      | data_test          | target_test          |\n",
    "|     Label Encoding<br>+<br>Oversampling     |                   Label encoding and oversampling                   | data_train_os   | target_train_os   | data_test_os       | target_test_os       |\n",
    "|    Label Encoding<br>+<br>Undersampling     |                  Label encoding and undersampling                   | data_train_us   | target_train_us   | data_test_us       | target_test_us       |\n",
    "|            One Hot Encoding (1)             |           One hot encoding for all columns except yes/no            | data_train_oh   | target_train_oh   | data_test_oh       | target_test_oh       |\n",
    "|            One Hot Encoding (2)             |          One hot encoding for all columns including yes/no          | data_train_a_oh | target_train_a_oh | data_test_a_oh     | target_test_a_oh     |\n",
    "|  One Hot Encoding (1)<br>+<br>Oversampling  |   One hot encoding for all columns except yes/no and oversampling   | data_train_oh_os | target_train_oh_os | data_test_oh_os    | target_test_oh_os    |\n",
    "| One Hot Encoding (2) <br>+<br>Oversampling  | One hot encoding for all columns including yes/no and oversampling  | data_train_a_oh_os | target_train_a_oh_os | data_test_a_oh_os  | target_test_a_oh_os  |\n",
    "| One Hot Encoding (1)<br>+<br>Undersampling  |  One hot encoding for all columns except yes/no and undersampling   | data_train_oh_us | target_train_oh_us | data_test_oh_us    | target_test_oh_us    |\n",
    "| One Hot Encoding (2) <br>+<br>Undersampling | One hot encoding for all columns including yes/no and undersampling | data_train_a_oh_us | target_train_a_oh_us | data_test_a_oh_us  | target_test_a_oh_us  |\n",
    "\n",
    "So we start with loading the data:"
   ],
   "metadata": {
    "collapsed": false
   }
  },
  {
   "cell_type": "code",
   "execution_count": 4,
   "outputs": [],
   "source": [
    "#label encoding\n",
    "dataset, target = get_preprocessed_brfss_dataset_label_encoded()\n",
    "data_train, data_test, target_train, target_test = get_train_test_split(dataset, target)\n",
    "\n",
    "#label encoding oversampling\n",
    "dataset_os, target_os = get_preprocessed_brfss_dataset_label_encoded_oversampled()\n",
    "data_train_os, data_test_os, target_train_os, target_test_os = get_train_test_split(dataset, target)\n",
    "\n",
    "#label encoding undersampling\n",
    "dataset_us, target_us = get_preprocessed_brfss_dataset_label_encoded_undersampled()\n",
    "data_train_us, data_test_us, target_train_us, target_test_us = get_train_test_split(dataset, target)\n",
    "\n",
    "#one hot encoding (1) - target not one hot encoded\n",
    "dataset_oh, target_oh = get_preprocessed_brfss_dataset_one_hot_encoded()\n",
    "data_train_oh, data_test_oh, target_train_oh, target_test_oh = get_train_test_split(dataset, target)\n",
    "\n",
    "#one hot encoding (2) - target not one hot encoded\n",
    "dataset_a_oh, target_a_oh = get_preprocessed_brfss_dataset_one_hot_encoded_all_columns()\n",
    "data_train_a_oh, data_test_a_oh, target_train_a_oh, target_test_a_oh = get_train_test_split(dataset, target)\n",
    "\n",
    "#one hot encoding (1) - target not one hot encoded + oversampling\n",
    "dataset_oh_os, target_oh_os = get_preprocessed_brfss_dataset_one_hot_encoded_oversampled()\n",
    "data_train_oh_os, data_test_oh_os, target_train_oh_os, target_test_oh_os = get_train_test_split(dataset, target)\n",
    "\n",
    "#one hot encoding (2) - target not one hot encoded + oversampling\n",
    "dataset_a_oh_os, target_a_oh_os = get_preprocessed_brfss_dataset_one_hot_encoded_all_columns_oversampled()\n",
    "data_train_a_oh_os, data_test_a_oh_os, target_train_a_oh_os, target_test_a_oh_os = get_train_test_split(dataset, target)\n",
    "\n",
    "#one hot encoding (1) - target not one hot encoded + undersampling\n",
    "dataset_oh_us, target_oh_us = get_preprocessed_brfss_dataset_one_hot_encoded_undersampled()\n",
    "data_train_oh_us, data_test_oh_us, target_train_oh_us, target_test_oh_us = get_train_test_split(dataset, target)\n",
    "\n",
    "#one hot encoding (2) - target not one hot encoded + undersampling\n",
    "dataset_a_oh_os_us, target_a_oh_os_us = get_preprocessed_brfss_dataset_one_hot_encoded_all_columns_undersampled()\n",
    "data_train_a_oh_os_us, data_test_a_oh_os_us, target_train_a_oh_os_us, target_test_a_oh_os_us = get_train_test_split(dataset, target)"
   ],
   "metadata": {
    "collapsed": false
   }
  },
  {
   "cell_type": "markdown",
   "source": [
    "No we can apply a K-nearest neighbor classifier to the train data and test against the test data on how it performs by using the accuracy score.\n",
    "\n",
    "We will do so for each combination that is listed above by applying a gridsearch estimator. The following estomators are structured by the different style of preprocessing."
   ],
   "metadata": {
    "collapsed": false
   }
  },
  {
   "cell_type": "markdown",
   "source": [
    "# Label Encoding"
   ],
   "metadata": {
    "collapsed": false
   }
  },
  {
   "cell_type": "code",
   "execution_count": null,
   "outputs": [
    {
     "name": "stdout",
     "output_type": "stream",
     "text": [
      "k= 1 acc: 0.7846814553136959\n",
      "k= 2 acc: 0.7489393388401129\n"
     ]
    }
   ],
   "source": [
    "for n_neighbors in range(1,10):\n",
    "    knn_estimator = KNeighborsClassifier(n_neighbors)\n",
    "    knn_estimator.fit(data_train, target_train.values.ravel())\n",
    "    diabetes_test_prediction = knn_estimator.predict(data_test)\n",
    "    print(\"k= {} acc: {}\".format(n_neighbors, accuracy_score(target_test, diabetes_test_prediction)))"
   ],
   "metadata": {
    "collapsed": false,
    "pycharm": {
     "is_executing": true
    }
   }
  },
  {
   "cell_type": "code",
   "execution_count": null,
   "outputs": [],
   "source": [
    "knn_estimator = KNeighborsClassifier()\n",
    "knn_estimator.get_params()\n",
    "\n",
    "data_train.head(50000)\n",
    "data_test.head(50000)\n",
    "\n",
    "params = {\n",
    "    'n_neighbors': range (1,6),\n",
    "    'metric': ('euclidean', 'minkowski')\n",
    "    #'metric': ('euclidean', 'minkowski', 'cosine', 'sqeuclidean', 'manhattan')\n",
    "}\n",
    "\n",
    "grid_search_estimator = GridSearchCV(knn_estimator, params, scoring='accuracy', cv=5, return_train_score=False)\n",
    "grid_search_estimator.fit(data_train,target_train.values.ravel())\n",
    "\n",
    "results = pd.DataFrame(grid_search_estimator.cv_results_)\n",
    "display(results)\n",
    "\n",
    "print(\"best score is {} with params {}\".format(grid_search_estimator.best_score_, grid_search_estimator.best_params_))"
   ],
   "metadata": {
    "collapsed": false,
    "pycharm": {
     "is_executing": true
    }
   }
  }
 ],
 "metadata": {
  "kernelspec": {
   "display_name": "Python 3",
   "language": "python",
   "name": "python3"
  },
  "language_info": {
   "codemirror_mode": {
    "name": "ipython",
    "version": 2
   },
   "file_extension": ".py",
   "mimetype": "text/x-python",
   "name": "python",
   "nbconvert_exporter": "python",
   "pygments_lexer": "ipython2",
   "version": "2.7.6"
  }
 },
 "nbformat": 4,
 "nbformat_minor": 0
}
