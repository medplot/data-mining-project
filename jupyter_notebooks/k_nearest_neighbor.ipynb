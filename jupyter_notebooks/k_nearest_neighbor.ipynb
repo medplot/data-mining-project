{
 "cells": [
  {
   "cell_type": "markdown",
   "source": [
    "# K-nearest neighbor"
   ],
   "metadata": {
    "collapsed": false
   }
  },
  {
   "cell_type": "code",
   "execution_count": 1,
   "outputs": [],
   "source": [
    "# Data import\n",
    "from preprocessing.preprocessing import download_brfss_dataset\n",
    "#download_brfss_dataset(\"username\", \"token\") -> insert kaggle username and api-token"
   ],
   "metadata": {
    "collapsed": false
   }
  },
  {
   "cell_type": "code",
   "execution_count": null,
   "outputs": [],
   "source": [],
   "metadata": {
    "collapsed": false
   }
  },
  {
   "cell_type": "code",
   "execution_count": 1,
   "outputs": [],
   "source": [
    "#imports\n",
    "\n",
    "from preprocessing.preprocessing import get_preprocessed_brfss_train_test_split_one_hot_encoded, get_preprocessed_brfss_train_test_split, get_preprocessed_brfss_dataset\n",
    "\n",
    "import pandas as pd\n",
    "from sklearn.neighbors import KNeighborsClassifier\n",
    "from sklearn.metrics import accuracy_score, confusion_matrix\n",
    "from sklearn.model_selection import GridSearchCV\n"
   ],
   "metadata": {
    "collapsed": false
   }
  },
  {
   "cell_type": "code",
   "execution_count": 8,
   "outputs": [
    {
     "data": {
      "text/plain": "0    3.0\n1    3.0\n2    3.0\n3    3.0\n4    3.0\nName: DIABETE3, dtype: float64"
     },
     "execution_count": 8,
     "metadata": {},
     "output_type": "execute_result"
    }
   ],
   "source": [
    "train_dataset, target = get_preprocessed_brfss_dataset()\n",
    "target = target.squeeze()"
   ],
   "metadata": {
    "collapsed": false
   }
  },
  {
   "cell_type": "code",
   "execution_count": 2,
   "outputs": [],
   "source": [
    "data_train, data_test, target_train, target_test = get_preprocessed_brfss_train_test_split()\n",
    "data_train = data_train.head(5000)\n",
    "target_train = target_train.head(5000)"
   ],
   "metadata": {
    "collapsed": false
   }
  },
  {
   "cell_type": "code",
   "execution_count": 11,
   "outputs": [
    {
     "name": "stdout",
     "output_type": "stream",
     "text": [
      "k= 1 acc: 0.7655227092535961\n",
      "k= 2 acc: 0.6503114735530637\n",
      "k= 3 acc: 0.807894438781289\n",
      "k= 4 acc: 0.7589874277947672\n",
      "k= 5 acc: 0.8235587269226413\n",
      "k= 6 acc: 0.7967833276701778\n",
      "k= 7 acc: 0.8309548080190282\n",
      "k= 8 acc: 0.8142258466417488\n",
      "k= 9 acc: 0.8346471854117115\n"
     ]
    }
   ],
   "source": [
    "for n_neighbors in range(1,10):\n",
    "    knn_estimator = KNeighborsClassifier(n_neighbors)\n",
    "    knn_estimator.fit(data_train, target_train)\n",
    "    diabetes_test_prediction = knn_estimator.predict(data_test)\n",
    "    print(\"k= {} acc: {}\".format(n_neighbors, accuracy_score(target_test, diabetes_test_prediction)))"
   ],
   "metadata": {
    "collapsed": false
   }
  },
  {
   "cell_type": "code",
   "execution_count": 4,
   "outputs": [
    {
     "name": "stderr",
     "output_type": "stream",
     "text": [
      "/Users/I516258/opt/anaconda3/lib/python3.9/site-packages/sklearn/model_selection/_split.py:684: UserWarning: The least populated class in y has only 4 members, which is less than n_splits=5.\n",
      "  warnings.warn(\n"
     ]
    },
    {
     "data": {
      "text/plain": "    mean_fit_time  std_fit_time  mean_score_time  std_score_time param_metric  \\\n0        0.005359      0.000347         0.068220        0.011216    minkowski   \n1        0.006078      0.000367         0.130226        0.073744    minkowski   \n2        0.007070      0.002043         0.084790        0.012640    minkowski   \n3        0.006369      0.000824         0.074425        0.010111    minkowski   \n4        0.005695      0.000290         0.061175        0.001243    minkowski   \n5        0.005579      0.000397         0.060815        0.002598    minkowski   \n6        0.005443      0.000161         0.059589        0.000812    minkowski   \n7        0.005301      0.000106         0.060239        0.001776    minkowski   \n8        0.005122      0.000059         0.095571        0.004623       cosine   \n9        0.005330      0.000296         0.095449        0.003272       cosine   \n10       0.005307      0.000156         0.098429        0.005626       cosine   \n11       0.005184      0.000156         0.095977        0.005890       cosine   \n12       0.005302      0.000086         0.096825        0.003403       cosine   \n13       0.005097      0.000072         0.097121        0.004064       cosine   \n14       0.005088      0.000125         0.095406        0.003999       cosine   \n15       0.005137      0.000148         0.096878        0.004730       cosine   \n16       0.005188      0.000147         0.445956        0.003139  sqeuclidean   \n17       0.005042      0.000080         0.446338        0.001749  sqeuclidean   \n18       0.005112      0.000189         0.446602        0.002870  sqeuclidean   \n19       0.005166      0.000150         0.444987        0.002412  sqeuclidean   \n20       0.005229      0.000266         0.446844        0.001963  sqeuclidean   \n21       0.005191      0.000235         0.445694        0.002678  sqeuclidean   \n22       0.005243      0.000079         0.446490        0.002970  sqeuclidean   \n23       0.005142      0.000165         0.446621        0.001846  sqeuclidean   \n\n   param_n_neighbors                                        params  \\\n0                  7     {'metric': 'minkowski', 'n_neighbors': 7}   \n1                  8     {'metric': 'minkowski', 'n_neighbors': 8}   \n2                  9     {'metric': 'minkowski', 'n_neighbors': 9}   \n3                 10    {'metric': 'minkowski', 'n_neighbors': 10}   \n4                 11    {'metric': 'minkowski', 'n_neighbors': 11}   \n5                 12    {'metric': 'minkowski', 'n_neighbors': 12}   \n6                 13    {'metric': 'minkowski', 'n_neighbors': 13}   \n7                 14    {'metric': 'minkowski', 'n_neighbors': 14}   \n8                  7        {'metric': 'cosine', 'n_neighbors': 7}   \n9                  8        {'metric': 'cosine', 'n_neighbors': 8}   \n10                 9        {'metric': 'cosine', 'n_neighbors': 9}   \n11                10       {'metric': 'cosine', 'n_neighbors': 10}   \n12                11       {'metric': 'cosine', 'n_neighbors': 11}   \n13                12       {'metric': 'cosine', 'n_neighbors': 12}   \n14                13       {'metric': 'cosine', 'n_neighbors': 13}   \n15                14       {'metric': 'cosine', 'n_neighbors': 14}   \n16                 7   {'metric': 'sqeuclidean', 'n_neighbors': 7}   \n17                 8   {'metric': 'sqeuclidean', 'n_neighbors': 8}   \n18                 9   {'metric': 'sqeuclidean', 'n_neighbors': 9}   \n19                10  {'metric': 'sqeuclidean', 'n_neighbors': 10}   \n20                11  {'metric': 'sqeuclidean', 'n_neighbors': 11}   \n21                12  {'metric': 'sqeuclidean', 'n_neighbors': 12}   \n22                13  {'metric': 'sqeuclidean', 'n_neighbors': 13}   \n23                14  {'metric': 'sqeuclidean', 'n_neighbors': 14}   \n\n    split0_test_score  split1_test_score  split2_test_score  \\\n0               0.827              0.829              0.828   \n1               0.825              0.830              0.825   \n2               0.830              0.838              0.834   \n3               0.831              0.836              0.836   \n4               0.836              0.841              0.839   \n5               0.837              0.840              0.839   \n6               0.837              0.840              0.839   \n7               0.837              0.839              0.841   \n8               0.830              0.827              0.822   \n9               0.826              0.824              0.826   \n10              0.828              0.832              0.831   \n11              0.828              0.832              0.837   \n12              0.838              0.836              0.835   \n13              0.838              0.839              0.838   \n14              0.839              0.837              0.839   \n15              0.840              0.838              0.839   \n16              0.827              0.829              0.828   \n17              0.825              0.830              0.825   \n18              0.830              0.838              0.834   \n19              0.831              0.836              0.836   \n20              0.836              0.841              0.839   \n21              0.837              0.840              0.839   \n22              0.837              0.840              0.839   \n23              0.837              0.839              0.841   \n\n    split3_test_score  split4_test_score  mean_test_score  std_test_score  \\\n0               0.836              0.821           0.8282        0.004792   \n1               0.835              0.829           0.8288        0.003709   \n2               0.841              0.830           0.8346        0.004363   \n3               0.844              0.833           0.8360        0.004427   \n4               0.843              0.836           0.8390        0.002757   \n5               0.842              0.838           0.8392        0.001720   \n6               0.842              0.837           0.8390        0.001897   \n7               0.841              0.837           0.8390        0.001789   \n8               0.839              0.835           0.8306        0.005953   \n9               0.834              0.834           0.8288        0.004308   \n10              0.836              0.839           0.8332        0.003868   \n11              0.837              0.835           0.8338        0.003429   \n12              0.841              0.838           0.8376        0.002059   \n13              0.841              0.837           0.8386        0.001356   \n14              0.841              0.839           0.8390        0.001265   \n15              0.838              0.840           0.8390        0.000894   \n16              0.836              0.821           0.8282        0.004792   \n17              0.835              0.829           0.8288        0.003709   \n18              0.841              0.830           0.8346        0.004363   \n19              0.844              0.833           0.8360        0.004427   \n20              0.843              0.836           0.8390        0.002757   \n21              0.842              0.838           0.8392        0.001720   \n22              0.842              0.837           0.8390        0.001897   \n23              0.841              0.837           0.8390        0.001789   \n\n    rank_test_score  \n0                23  \n1                21  \n2                15  \n3                13  \n4                 3  \n5                 1  \n6                 3  \n7                 9  \n8                19  \n9                20  \n10               18  \n11               17  \n12               12  \n13               11  \n14                3  \n15                3  \n16               23  \n17               21  \n18               15  \n19               13  \n20                3  \n21                1  \n22                3  \n23                9  ",
      "text/html": "<div>\n<style scoped>\n    .dataframe tbody tr th:only-of-type {\n        vertical-align: middle;\n    }\n\n    .dataframe tbody tr th {\n        vertical-align: top;\n    }\n\n    .dataframe thead th {\n        text-align: right;\n    }\n</style>\n<table border=\"1\" class=\"dataframe\">\n  <thead>\n    <tr style=\"text-align: right;\">\n      <th></th>\n      <th>mean_fit_time</th>\n      <th>std_fit_time</th>\n      <th>mean_score_time</th>\n      <th>std_score_time</th>\n      <th>param_metric</th>\n      <th>param_n_neighbors</th>\n      <th>params</th>\n      <th>split0_test_score</th>\n      <th>split1_test_score</th>\n      <th>split2_test_score</th>\n      <th>split3_test_score</th>\n      <th>split4_test_score</th>\n      <th>mean_test_score</th>\n      <th>std_test_score</th>\n      <th>rank_test_score</th>\n    </tr>\n  </thead>\n  <tbody>\n    <tr>\n      <th>0</th>\n      <td>0.005359</td>\n      <td>0.000347</td>\n      <td>0.068220</td>\n      <td>0.011216</td>\n      <td>minkowski</td>\n      <td>7</td>\n      <td>{'metric': 'minkowski', 'n_neighbors': 7}</td>\n      <td>0.827</td>\n      <td>0.829</td>\n      <td>0.828</td>\n      <td>0.836</td>\n      <td>0.821</td>\n      <td>0.8282</td>\n      <td>0.004792</td>\n      <td>23</td>\n    </tr>\n    <tr>\n      <th>1</th>\n      <td>0.006078</td>\n      <td>0.000367</td>\n      <td>0.130226</td>\n      <td>0.073744</td>\n      <td>minkowski</td>\n      <td>8</td>\n      <td>{'metric': 'minkowski', 'n_neighbors': 8}</td>\n      <td>0.825</td>\n      <td>0.830</td>\n      <td>0.825</td>\n      <td>0.835</td>\n      <td>0.829</td>\n      <td>0.8288</td>\n      <td>0.003709</td>\n      <td>21</td>\n    </tr>\n    <tr>\n      <th>2</th>\n      <td>0.007070</td>\n      <td>0.002043</td>\n      <td>0.084790</td>\n      <td>0.012640</td>\n      <td>minkowski</td>\n      <td>9</td>\n      <td>{'metric': 'minkowski', 'n_neighbors': 9}</td>\n      <td>0.830</td>\n      <td>0.838</td>\n      <td>0.834</td>\n      <td>0.841</td>\n      <td>0.830</td>\n      <td>0.8346</td>\n      <td>0.004363</td>\n      <td>15</td>\n    </tr>\n    <tr>\n      <th>3</th>\n      <td>0.006369</td>\n      <td>0.000824</td>\n      <td>0.074425</td>\n      <td>0.010111</td>\n      <td>minkowski</td>\n      <td>10</td>\n      <td>{'metric': 'minkowski', 'n_neighbors': 10}</td>\n      <td>0.831</td>\n      <td>0.836</td>\n      <td>0.836</td>\n      <td>0.844</td>\n      <td>0.833</td>\n      <td>0.8360</td>\n      <td>0.004427</td>\n      <td>13</td>\n    </tr>\n    <tr>\n      <th>4</th>\n      <td>0.005695</td>\n      <td>0.000290</td>\n      <td>0.061175</td>\n      <td>0.001243</td>\n      <td>minkowski</td>\n      <td>11</td>\n      <td>{'metric': 'minkowski', 'n_neighbors': 11}</td>\n      <td>0.836</td>\n      <td>0.841</td>\n      <td>0.839</td>\n      <td>0.843</td>\n      <td>0.836</td>\n      <td>0.8390</td>\n      <td>0.002757</td>\n      <td>3</td>\n    </tr>\n    <tr>\n      <th>5</th>\n      <td>0.005579</td>\n      <td>0.000397</td>\n      <td>0.060815</td>\n      <td>0.002598</td>\n      <td>minkowski</td>\n      <td>12</td>\n      <td>{'metric': 'minkowski', 'n_neighbors': 12}</td>\n      <td>0.837</td>\n      <td>0.840</td>\n      <td>0.839</td>\n      <td>0.842</td>\n      <td>0.838</td>\n      <td>0.8392</td>\n      <td>0.001720</td>\n      <td>1</td>\n    </tr>\n    <tr>\n      <th>6</th>\n      <td>0.005443</td>\n      <td>0.000161</td>\n      <td>0.059589</td>\n      <td>0.000812</td>\n      <td>minkowski</td>\n      <td>13</td>\n      <td>{'metric': 'minkowski', 'n_neighbors': 13}</td>\n      <td>0.837</td>\n      <td>0.840</td>\n      <td>0.839</td>\n      <td>0.842</td>\n      <td>0.837</td>\n      <td>0.8390</td>\n      <td>0.001897</td>\n      <td>3</td>\n    </tr>\n    <tr>\n      <th>7</th>\n      <td>0.005301</td>\n      <td>0.000106</td>\n      <td>0.060239</td>\n      <td>0.001776</td>\n      <td>minkowski</td>\n      <td>14</td>\n      <td>{'metric': 'minkowski', 'n_neighbors': 14}</td>\n      <td>0.837</td>\n      <td>0.839</td>\n      <td>0.841</td>\n      <td>0.841</td>\n      <td>0.837</td>\n      <td>0.8390</td>\n      <td>0.001789</td>\n      <td>9</td>\n    </tr>\n    <tr>\n      <th>8</th>\n      <td>0.005122</td>\n      <td>0.000059</td>\n      <td>0.095571</td>\n      <td>0.004623</td>\n      <td>cosine</td>\n      <td>7</td>\n      <td>{'metric': 'cosine', 'n_neighbors': 7}</td>\n      <td>0.830</td>\n      <td>0.827</td>\n      <td>0.822</td>\n      <td>0.839</td>\n      <td>0.835</td>\n      <td>0.8306</td>\n      <td>0.005953</td>\n      <td>19</td>\n    </tr>\n    <tr>\n      <th>9</th>\n      <td>0.005330</td>\n      <td>0.000296</td>\n      <td>0.095449</td>\n      <td>0.003272</td>\n      <td>cosine</td>\n      <td>8</td>\n      <td>{'metric': 'cosine', 'n_neighbors': 8}</td>\n      <td>0.826</td>\n      <td>0.824</td>\n      <td>0.826</td>\n      <td>0.834</td>\n      <td>0.834</td>\n      <td>0.8288</td>\n      <td>0.004308</td>\n      <td>20</td>\n    </tr>\n    <tr>\n      <th>10</th>\n      <td>0.005307</td>\n      <td>0.000156</td>\n      <td>0.098429</td>\n      <td>0.005626</td>\n      <td>cosine</td>\n      <td>9</td>\n      <td>{'metric': 'cosine', 'n_neighbors': 9}</td>\n      <td>0.828</td>\n      <td>0.832</td>\n      <td>0.831</td>\n      <td>0.836</td>\n      <td>0.839</td>\n      <td>0.8332</td>\n      <td>0.003868</td>\n      <td>18</td>\n    </tr>\n    <tr>\n      <th>11</th>\n      <td>0.005184</td>\n      <td>0.000156</td>\n      <td>0.095977</td>\n      <td>0.005890</td>\n      <td>cosine</td>\n      <td>10</td>\n      <td>{'metric': 'cosine', 'n_neighbors': 10}</td>\n      <td>0.828</td>\n      <td>0.832</td>\n      <td>0.837</td>\n      <td>0.837</td>\n      <td>0.835</td>\n      <td>0.8338</td>\n      <td>0.003429</td>\n      <td>17</td>\n    </tr>\n    <tr>\n      <th>12</th>\n      <td>0.005302</td>\n      <td>0.000086</td>\n      <td>0.096825</td>\n      <td>0.003403</td>\n      <td>cosine</td>\n      <td>11</td>\n      <td>{'metric': 'cosine', 'n_neighbors': 11}</td>\n      <td>0.838</td>\n      <td>0.836</td>\n      <td>0.835</td>\n      <td>0.841</td>\n      <td>0.838</td>\n      <td>0.8376</td>\n      <td>0.002059</td>\n      <td>12</td>\n    </tr>\n    <tr>\n      <th>13</th>\n      <td>0.005097</td>\n      <td>0.000072</td>\n      <td>0.097121</td>\n      <td>0.004064</td>\n      <td>cosine</td>\n      <td>12</td>\n      <td>{'metric': 'cosine', 'n_neighbors': 12}</td>\n      <td>0.838</td>\n      <td>0.839</td>\n      <td>0.838</td>\n      <td>0.841</td>\n      <td>0.837</td>\n      <td>0.8386</td>\n      <td>0.001356</td>\n      <td>11</td>\n    </tr>\n    <tr>\n      <th>14</th>\n      <td>0.005088</td>\n      <td>0.000125</td>\n      <td>0.095406</td>\n      <td>0.003999</td>\n      <td>cosine</td>\n      <td>13</td>\n      <td>{'metric': 'cosine', 'n_neighbors': 13}</td>\n      <td>0.839</td>\n      <td>0.837</td>\n      <td>0.839</td>\n      <td>0.841</td>\n      <td>0.839</td>\n      <td>0.8390</td>\n      <td>0.001265</td>\n      <td>3</td>\n    </tr>\n    <tr>\n      <th>15</th>\n      <td>0.005137</td>\n      <td>0.000148</td>\n      <td>0.096878</td>\n      <td>0.004730</td>\n      <td>cosine</td>\n      <td>14</td>\n      <td>{'metric': 'cosine', 'n_neighbors': 14}</td>\n      <td>0.840</td>\n      <td>0.838</td>\n      <td>0.839</td>\n      <td>0.838</td>\n      <td>0.840</td>\n      <td>0.8390</td>\n      <td>0.000894</td>\n      <td>3</td>\n    </tr>\n    <tr>\n      <th>16</th>\n      <td>0.005188</td>\n      <td>0.000147</td>\n      <td>0.445956</td>\n      <td>0.003139</td>\n      <td>sqeuclidean</td>\n      <td>7</td>\n      <td>{'metric': 'sqeuclidean', 'n_neighbors': 7}</td>\n      <td>0.827</td>\n      <td>0.829</td>\n      <td>0.828</td>\n      <td>0.836</td>\n      <td>0.821</td>\n      <td>0.8282</td>\n      <td>0.004792</td>\n      <td>23</td>\n    </tr>\n    <tr>\n      <th>17</th>\n      <td>0.005042</td>\n      <td>0.000080</td>\n      <td>0.446338</td>\n      <td>0.001749</td>\n      <td>sqeuclidean</td>\n      <td>8</td>\n      <td>{'metric': 'sqeuclidean', 'n_neighbors': 8}</td>\n      <td>0.825</td>\n      <td>0.830</td>\n      <td>0.825</td>\n      <td>0.835</td>\n      <td>0.829</td>\n      <td>0.8288</td>\n      <td>0.003709</td>\n      <td>21</td>\n    </tr>\n    <tr>\n      <th>18</th>\n      <td>0.005112</td>\n      <td>0.000189</td>\n      <td>0.446602</td>\n      <td>0.002870</td>\n      <td>sqeuclidean</td>\n      <td>9</td>\n      <td>{'metric': 'sqeuclidean', 'n_neighbors': 9}</td>\n      <td>0.830</td>\n      <td>0.838</td>\n      <td>0.834</td>\n      <td>0.841</td>\n      <td>0.830</td>\n      <td>0.8346</td>\n      <td>0.004363</td>\n      <td>15</td>\n    </tr>\n    <tr>\n      <th>19</th>\n      <td>0.005166</td>\n      <td>0.000150</td>\n      <td>0.444987</td>\n      <td>0.002412</td>\n      <td>sqeuclidean</td>\n      <td>10</td>\n      <td>{'metric': 'sqeuclidean', 'n_neighbors': 10}</td>\n      <td>0.831</td>\n      <td>0.836</td>\n      <td>0.836</td>\n      <td>0.844</td>\n      <td>0.833</td>\n      <td>0.8360</td>\n      <td>0.004427</td>\n      <td>13</td>\n    </tr>\n    <tr>\n      <th>20</th>\n      <td>0.005229</td>\n      <td>0.000266</td>\n      <td>0.446844</td>\n      <td>0.001963</td>\n      <td>sqeuclidean</td>\n      <td>11</td>\n      <td>{'metric': 'sqeuclidean', 'n_neighbors': 11}</td>\n      <td>0.836</td>\n      <td>0.841</td>\n      <td>0.839</td>\n      <td>0.843</td>\n      <td>0.836</td>\n      <td>0.8390</td>\n      <td>0.002757</td>\n      <td>3</td>\n    </tr>\n    <tr>\n      <th>21</th>\n      <td>0.005191</td>\n      <td>0.000235</td>\n      <td>0.445694</td>\n      <td>0.002678</td>\n      <td>sqeuclidean</td>\n      <td>12</td>\n      <td>{'metric': 'sqeuclidean', 'n_neighbors': 12}</td>\n      <td>0.837</td>\n      <td>0.840</td>\n      <td>0.839</td>\n      <td>0.842</td>\n      <td>0.838</td>\n      <td>0.8392</td>\n      <td>0.001720</td>\n      <td>1</td>\n    </tr>\n    <tr>\n      <th>22</th>\n      <td>0.005243</td>\n      <td>0.000079</td>\n      <td>0.446490</td>\n      <td>0.002970</td>\n      <td>sqeuclidean</td>\n      <td>13</td>\n      <td>{'metric': 'sqeuclidean', 'n_neighbors': 13}</td>\n      <td>0.837</td>\n      <td>0.840</td>\n      <td>0.839</td>\n      <td>0.842</td>\n      <td>0.837</td>\n      <td>0.8390</td>\n      <td>0.001897</td>\n      <td>3</td>\n    </tr>\n    <tr>\n      <th>23</th>\n      <td>0.005142</td>\n      <td>0.000165</td>\n      <td>0.446621</td>\n      <td>0.001846</td>\n      <td>sqeuclidean</td>\n      <td>14</td>\n      <td>{'metric': 'sqeuclidean', 'n_neighbors': 14}</td>\n      <td>0.837</td>\n      <td>0.839</td>\n      <td>0.841</td>\n      <td>0.841</td>\n      <td>0.837</td>\n      <td>0.8390</td>\n      <td>0.001789</td>\n      <td>9</td>\n    </tr>\n  </tbody>\n</table>\n</div>"
     },
     "metadata": {},
     "output_type": "display_data"
    },
    {
     "name": "stdout",
     "output_type": "stream",
     "text": [
      "best score is 0.8392 with params {'metric': 'minkowski', 'n_neighbors': 12}\n"
     ]
    }
   ],
   "source": [
    "knn_estimator = KNeighborsClassifier(7)\n",
    "knn_estimator.get_params()\n",
    "\n",
    "params = {\n",
    "    'n_neighbors': range (7,15),\n",
    "    'metric': ('minkowski', 'cosine', 'sqeuclidean')\n",
    "}\n",
    "\n",
    "grid_search_estimator = GridSearchCV(knn_estimator, params, scoring='accuracy', cv=None, return_train_score=False)\n",
    "grid_search_estimator.fit(data_train,target_train.values.ravel())\n",
    "\n",
    "results = pd.DataFrame(grid_search_estimator.cv_results_)\n",
    "display(results)\n",
    "\n",
    "\n",
    "print(\"best score is {} with params {}\".format(grid_search_estimator.best_score_, grid_search_estimator.best_params_))"
   ],
   "metadata": {
    "collapsed": false
   }
  }
 ],
 "metadata": {
  "kernelspec": {
   "display_name": "Python 3",
   "language": "python",
   "name": "python3"
  },
  "language_info": {
   "codemirror_mode": {
    "name": "ipython",
    "version": 2
   },
   "file_extension": ".py",
   "mimetype": "text/x-python",
   "name": "python",
   "nbconvert_exporter": "python",
   "pygments_lexer": "ipython2",
   "version": "2.7.6"
  }
 },
 "nbformat": 4,
 "nbformat_minor": 0
}
