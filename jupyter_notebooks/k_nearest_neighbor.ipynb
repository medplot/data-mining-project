{
 "cells": [
  {
   "cell_type": "markdown",
   "source": [
    "# K-nearest neighbor\n",
    "In this notebook we want to train a K-nearest-neighbor classifier that should predict whether a patient has diabetes or not."
   ],
   "metadata": {
    "collapsed": false
   }
  },
  {
   "cell_type": "code",
   "execution_count": 2,
   "outputs": [
    {
     "name": "stderr",
     "output_type": "stream",
     "text": [
      "/Users/I516258/opt/anaconda3/lib/python3.9/site-packages/scipy/__init__.py:146: UserWarning: A NumPy version >=1.16.5 and <1.23.0 is required for this version of SciPy (detected version 1.23.3\n",
      "  warnings.warn(f\"A NumPy version >={np_minversion} and <{np_maxversion}\"\n"
     ]
    }
   ],
   "source": [
    "#imports\n",
    "\n",
    "from preprocessing.preprocessing import *\n",
    "from preprocessing.preprocessing_label_encoding import *\n",
    "from preprocessing.preprocessing_one_hot_encoding import *\n",
    "\n",
    "import pandas as pd\n",
    "\n",
    "from sklearn.neighbors import KNeighborsClassifier\n",
    "from sklearn.metrics import accuracy_score, confusion_matrix\n",
    "from sklearn.model_selection import GridSearchCV\n",
    "\n",
    "from visualization.general_plots import plot_class_frequencies\n"
   ],
   "metadata": {
    "collapsed": false
   }
  },
  {
   "cell_type": "markdown",
   "source": [
    "# Hyperparameter tuning and preprocessing\n",
    "We will evaluate different parameters for the classifier (hyperparameter tuning) as well as different preprocessing steps.\n",
    "\n",
    "In detail, we will vary regarding parameters:<br>\n",
    "\n",
    "\n",
    "| **Parameter** |                        **range Values**                        |\n",
    "|:-------------:|:--------------------------------------------------------------:|\n",
    "|   n-neighbor  |                              1-15                              |\n",
    "| metric        | 'euclidean',<br>'minkowski',<br>'cosine',<br>'sqeuclidean',<br>'manhattan' |\n",
    "\n",
    "And we will vary for preprocessing:\n",
    "\n",
    "|              **Preprocessing**              |                           **Description**                           | **Name train data** | **Name train target** | **Name test data** | **Name test target** |\n",
    "|:-------------------------------------------:|:-------------------------------------------------------------------:|-----------------|-------------------|--------------------|----------------------|\n",
    "|     Label Encoding<br>    |                   Label encoding                  | data_train      | target_train      | data_test          | target_test          |\n",
    "|     Label Encoding<br>+<br>Oversampling     |                   Label encoding and oversampling                   | data_train_os   | target_train_os   | data_test_os       | target_test_os       |\n",
    "|    Label Encoding<br>+<br>Undersampling     |                  Label encoding and undersampling                   | data_train_us   | target_train_us   | data_test_us       | target_test_us       |\n",
    "|            One Hot Encoding (1)             |           One hot encoding for all columns except yes/no            | data_train_oh   | target_train_oh   | data_test_oh       | target_test_oh       |\n",
    "|            One Hot Encoding (2)             |          One hot encoding for all columns including yes/no          | data_train_a_oh | target_train_a_oh | data_test_a_oh     | target_test_a_oh     |\n",
    "|  One Hot Encoding (1)<br>+<br>Oversampling  |   One hot encoding for all columns except yes/no and oversampling   | data_train_oh_os | target_train_oh_os | data_test_oh_os    | target_test_oh_os    |\n",
    "| One Hot Encoding (2) <br>+<br>Oversampling  | One hot encoding for all columns including yes/no and oversampling  | data_train_a_oh_os | target_train_a_oh_os | data_test_a_oh_os  | target_test_a_oh_os  |\n",
    "| One Hot Encoding (1)<br>+<br>Undersampling  |  One hot encoding for all columns except yes/no and undersampling   | data_train_oh_us | target_train_oh_us | data_test_oh_us    | target_test_oh_us    |\n",
    "| One Hot Encoding (2) <br>+<br>Undersampling | One hot encoding for all columns including yes/no and undersampling | data_train_a_oh_us | target_train_a_oh_us | data_test_a_oh_us  | target_test_a_oh_us  |\n",
    "\n",
    "So we start with loading the data:"
   ],
   "metadata": {
    "collapsed": false
   }
  },
  {
   "cell_type": "code",
   "execution_count": 4,
   "outputs": [],
   "source": [
    "#label encoding\n",
    "data_train, data_test, target_train, target_test = get_preprocessed_brfss_dataset_label_encoded_train_test_split()\n",
    "\n",
    "#label encoding oversampling\n",
    "data_train_os, data_test_os, target_train_os, target_test_os = get_preprocessed_brfss_dataset_label_encoded_train_test_split_oversampled()\n",
    "\n",
    "#label encoding undersampling\n",
    "data_train_us, data_test_us, target_train_us, target_test_us = get_preprocessed_brfss_dataset_label_encoded_train_test_split_undersampled()\n",
    "\n",
    "#one hot encoding (1) - target not one hot encoded\n",
    "data_train_oh, data_test_oh, target_train_oh, target_test_oh = get_preprocessed_brfss_dataset_one_hot_encoded_train_test_split()\n",
    "\n",
    "#one hot encoding (2) - target not one hot encoded\n",
    "data_train_a_oh, data_test_a_oh, target_train_a_oh, target_test_a_oh = get_preprocessed_brfss_dataset_one_hot_encoded_all_columns_train_test_split()\n",
    "\n",
    "#one hot encoding (1) - target not one hot encoded + oversampling\n",
    "data_train_oh_os, data_test_oh_os, target_train_oh_os, target_test_oh_os = get_preprocessed_brfss_dataset_one_hot_encoded_train_test_split_oversampled()\n",
    "\n",
    "#one hot encoding (2) - target not one hot encoded + oversampling\n",
    "data_train_a_oh_os, data_test_a_oh_os, target_train_a_oh_os, target_test_a_oh_os = get_preprocessed_brfss_dataset_one_hot_encoded_all_columns_train_test_split_oversampled()\n",
    "\n",
    "#one hot encoding (1) - target not one hot encoded + undersampling\n",
    "data_train_oh_us, data_test_oh_us, target_train_oh_us, target_test_oh_us = get_preprocessed_brfss_dataset_one_hot_encoded_train_test_split_undersampled()\n",
    "\n",
    "#one hot encoding (2) - target not one hot encoded + undersampling\n",
    "data_train_a_oh_us, data_test_a_oh_us, target_train_a_oh_us, target_test_a_oh_us = get_preprocessed_brfss_dataset_one_hot_encoded_all_columns_train_test_split_undersampled()"
   ],
   "metadata": {
    "collapsed": false
   }
  },
  {
   "cell_type": "markdown",
   "source": [
    "No we can apply a K-nearest neighbor classifier to the train data and test against the test data on how it performs by using the accuracy score.\n",
    "\n",
    "We will do so for each combination that is listed above by using two for loops. The following estimators are structured by the different style of preprocessing."
   ],
   "metadata": {
    "collapsed": false
   }
  },
  {
   "cell_type": "markdown",
   "source": [
    "# Label Encoding"
   ],
   "metadata": {
    "collapsed": false
   }
  },
  {
   "cell_type": "code",
   "execution_count": 6,
   "outputs": [
    {
     "name": "stdout",
     "output_type": "stream",
     "text": [
      "k= 5 acc: 0.8357721113468115\n",
      "k= 5 acc: 0.8348629810814321\n",
      "k= 6 acc: 0.8322654660374909\n",
      "k= 6 acc: 0.8322438200787913\n"
     ]
    }
   ],
   "source": [
    "#metrics that should be used\n",
    "params = ('euclidean', 'minkowski', 'cosine', 'sqeuclidean', 'manhattan')\n",
    "\n",
    "for n_neighbors in range(5,15):\n",
    "    for metric in params:\n",
    "        knn_estimator = KNeighborsClassifier(n_neighbors=n_neighbors,metric=metric)\n",
    "        knn_estimator.fit(data_train, target_train.values.ravel())\n",
    "        diabetes_test_prediction = knn_estimator.predict(data_test)\n",
    "        print(\"k= {} metric: {} -> acc: {}\".format(n_neighbors, metric, accuracy_score(target_test, diabetes_test_prediction)))"
   ],
   "metadata": {
    "collapsed": false
   }
  },
  {
   "cell_type": "markdown",
   "source": [
    "# Label Encoding + Oversampling"
   ],
   "metadata": {
    "collapsed": false
   }
  },
  {
   "cell_type": "code",
   "execution_count": null,
   "outputs": [],
   "source": [
    "#metrics that should be used\n",
    "params = ('euclidean', 'minkowski', 'cosine', 'sqeuclidean', 'manhattan')\n",
    "\n",
    "for n_neighbors in range(5,15):\n",
    "    for metric in params:\n",
    "        knn_estimator = KNeighborsClassifier(n_neighbors=n_neighbors,metric=metric)\n",
    "        knn_estimator.fit(data_train_os, target_train_os.values.ravel())\n",
    "        diabetes_test_prediction = knn_estimator.predict(data_test_os)\n",
    "        print(\"k= {} metric: {} -> acc: {}\".format(n_neighbors, metric, accuracy_score(target_test_os, diabetes_test_prediction)))"
   ],
   "metadata": {
    "collapsed": false
   }
  },
  {
   "cell_type": "markdown",
   "source": [
    "# Label Encoding + Undersampling"
   ],
   "metadata": {
    "collapsed": false
   }
  },
  {
   "cell_type": "code",
   "execution_count": null,
   "outputs": [],
   "source": [
    "#metrics that should be used\n",
    "params = ('euclidean', 'minkowski', 'cosine', 'sqeuclidean', 'manhattan')\n",
    "\n",
    "for n_neighbors in range(5,15):\n",
    "    for metric in params:\n",
    "        knn_estimator = KNeighborsClassifier(n_neighbors=n_neighbors,metric=metric)\n",
    "        knn_estimator.fit(data_train_us, target_train_us.values.ravel())\n",
    "        diabetes_test_prediction = knn_estimator.predict(data_test_us)\n",
    "        print(\"k= {} metric: {} -> acc: {}\".format(n_neighbors, metric, accuracy_score(target_test_us, diabetes_test_prediction)))"
   ],
   "metadata": {
    "collapsed": false
   }
  },
  {
   "cell_type": "markdown",
   "source": [
    "# One Hot Encoding (1)\n",
    "yes/no values not one hot encoded"
   ],
   "metadata": {
    "collapsed": false
   }
  },
  {
   "cell_type": "code",
   "execution_count": null,
   "outputs": [],
   "source": [
    "#metrics that should be used\n",
    "params = ('euclidean', 'minkowski', 'cosine', 'sqeuclidean', 'manhattan')\n",
    "\n",
    "for n_neighbors in range(5,15):\n",
    "    for metric in params:\n",
    "        knn_estimator = KNeighborsClassifier(n_neighbors=n_neighbors,metric=metric)\n",
    "        knn_estimator.fit(data_train_oh, target_train_oh.values.ravel())\n",
    "        diabetes_test_prediction = knn_estimator.predict(data_test_oh)\n",
    "        print(\"k= {} metric: {} -> acc: {}\".format(n_neighbors, metric, accuracy_score(target_test_oh, diabetes_test_prediction)))"
   ],
   "metadata": {
    "collapsed": false
   }
  },
  {
   "cell_type": "markdown",
   "source": [
    "# One Hot Encoding (2)\n",
    "all columns one hot encoded"
   ],
   "metadata": {
    "collapsed": false
   }
  },
  {
   "cell_type": "code",
   "execution_count": null,
   "outputs": [],
   "source": [
    "#metrics that should be used\n",
    "params = ('euclidean', 'minkowski', 'cosine', 'sqeuclidean', 'manhattan')\n",
    "\n",
    "for n_neighbors in range(5,15):\n",
    "    for metric in params:\n",
    "        knn_estimator = KNeighborsClassifier(n_neighbors=n_neighbors,metric=metric)\n",
    "        knn_estimator.fit(data_train_a_oh, target_train_a_oh.values.ravel())\n",
    "        diabetes_test_prediction = knn_estimator.predict(data_test_a_oh)\n",
    "        print(\"k= {} metric: {} -> acc: {}\".format(n_neighbors, metric, accuracy_score(target_test_a_oh, diabetes_test_prediction)))"
   ],
   "metadata": {
    "collapsed": false
   }
  },
  {
   "cell_type": "markdown",
   "source": [
    "# One Hot Encoding (1) + Oversampling"
   ],
   "metadata": {
    "collapsed": false
   }
  },
  {
   "cell_type": "code",
   "execution_count": null,
   "outputs": [],
   "source": [
    "#metrics that should be used\n",
    "params = ('euclidean', 'minkowski', 'cosine', 'sqeuclidean', 'manhattan')\n",
    "\n",
    "for n_neighbors in range(5,15):\n",
    "    for metric in params:\n",
    "        knn_estimator = KNeighborsClassifier(n_neighbors=n_neighbors,metric=metric)\n",
    "        knn_estimator.fit(data_train_oh_os, target_train_oh_os.values.ravel())\n",
    "        diabetes_test_prediction = knn_estimator.predict(data_test_oh_os)\n",
    "        print(\"k= {} metric: {} -> acc: {}\".format(n_neighbors, metric, accuracy_score(target_test_oh_os, diabetes_test_prediction)))"
   ],
   "metadata": {
    "collapsed": false
   }
  },
  {
   "cell_type": "markdown",
   "source": [
    "# One Hot Encoding (2) + Oversampling"
   ],
   "metadata": {
    "collapsed": false
   }
  },
  {
   "cell_type": "code",
   "execution_count": null,
   "outputs": [],
   "source": [
    "#metrics that should be used\n",
    "params = ('euclidean', 'minkowski', 'cosine', 'sqeuclidean', 'manhattan')\n",
    "\n",
    "for n_neighbors in range(5,15):\n",
    "    for metric in params:\n",
    "        knn_estimator = KNeighborsClassifier(n_neighbors=n_neighbors,metric=metric)\n",
    "        knn_estimator.fit(data_train_a_oh_os, target_train_a_oh_os.values.ravel())\n",
    "        diabetes_test_prediction = knn_estimator.predict(data_test_a_oh_os)\n",
    "        print(\"k= {} metric: {} -> acc: {}\".format(n_neighbors, metric, accuracy_score(target_test_a_oh_os, diabetes_test_prediction)))"
   ],
   "metadata": {
    "collapsed": false
   }
  },
  {
   "cell_type": "markdown",
   "source": [
    "# One Hot Encoding (1) + Undersampling"
   ],
   "metadata": {
    "collapsed": false
   }
  },
  {
   "cell_type": "code",
   "execution_count": null,
   "outputs": [],
   "source": [
    "#metrics that should be used\n",
    "params = ('euclidean', 'minkowski', 'cosine', 'sqeuclidean', 'manhattan')\n",
    "\n",
    "for n_neighbors in range(5,15):\n",
    "    for metric in params:\n",
    "        knn_estimator = KNeighborsClassifier(n_neighbors=n_neighbors,metric=metric)\n",
    "        knn_estimator.fit(data_train_oh_us, target_train_oh_us.values.ravel())\n",
    "        diabetes_test_prediction = knn_estimator.predict(data_test_oh_us)\n",
    "        print(\"k= {} metric: {} -> acc: {}\".format(n_neighbors, metric, accuracy_score(target_test_oh_us, diabetes_test_prediction)))"
   ],
   "metadata": {
    "collapsed": false
   }
  },
  {
   "cell_type": "markdown",
   "source": [
    "# One Hot Encoding (2) + Undersampling"
   ],
   "metadata": {
    "collapsed": false
   }
  },
  {
   "cell_type": "code",
   "execution_count": null,
   "outputs": [],
   "source": [
    "#metrics that should be used\n",
    "params = ('euclidean', 'minkowski', 'cosine', 'sqeuclidean', 'manhattan')\n",
    "\n",
    "for n_neighbors in range(5,15):\n",
    "    for metric in params:\n",
    "        knn_estimator = KNeighborsClassifier(n_neighbors=n_neighbors,metric=metric)\n",
    "        knn_estimator.fit(data_train_a_oh, target_train_a_oh.values.ravel())\n",
    "        diabetes_test_prediction = knn_estimator.predict(data_test_a_oh)\n",
    "        print(\"k= {} metric: {} -> acc: {}\".format(n_neighbors, metric, accuracy_score(target_test_a_oh, diabetes_test_prediction)))"
   ],
   "metadata": {
    "collapsed": false
   }
  },
  {
   "cell_type": "markdown",
   "source": [
    "# Archived code - can be deleted later"
   ],
   "metadata": {
    "collapsed": false
   }
  },
  {
   "cell_type": "code",
   "execution_count": null,
   "outputs": [],
   "source": [
    "# Back-Up with gridsearch\n",
    "# knn_estimator = KNeighborsClassifier()\n",
    "# knn_estimator.get_params()\n",
    "#\n",
    "# data_train.head(50000)\n",
    "# data_test.head(50000)\n",
    "#\n",
    "# params = {\n",
    "#     'n_neighbors': range (1,6),\n",
    "#     'metric': ('euclidean', 'minkowski')\n",
    "#     #'metric': ('euclidean', 'minkowski', 'cosine', 'sqeuclidean', 'manhattan')\n",
    "# }\n",
    "#\n",
    "# grid_search_estimator = GridSearchCV(knn_estimator, params, scoring='accuracy', cv=5, return_train_score=False)\n",
    "# grid_search_estimator.fit(data_train,target_train.values.ravel())\n",
    "#\n",
    "# results = pd.DataFrame(grid_search_estimator.cv_results_)\n",
    "# display(results)\n",
    "#\n",
    "# print(\"best score is {} with params {}\".format(grid_search_estimator.best_score_, grid_search_estimator.best_params_))\n",
    "\n",
    "#ideas to use\n",
    "#plot_class_frequencies(target)"
   ],
   "metadata": {
    "collapsed": false
   }
  }
 ],
 "metadata": {
  "kernelspec": {
   "display_name": "Python 3",
   "language": "python",
   "name": "python3"
  },
  "language_info": {
   "codemirror_mode": {
    "name": "ipython",
    "version": 2
   },
   "file_extension": ".py",
   "mimetype": "text/x-python",
   "name": "python",
   "nbconvert_exporter": "python",
   "pygments_lexer": "ipython2",
   "version": "2.7.6"
  }
 },
 "nbformat": 4,
 "nbformat_minor": 0
}
