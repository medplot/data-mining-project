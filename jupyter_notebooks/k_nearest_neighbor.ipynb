{
 "cells": [
  {
   "cell_type": "markdown",
   "source": [
    "# K-nearest neighbor\n",
    "In this notebook we want to train a K-nearest-neighbor classifier that should predict whether a patient has diabetes or not."
   ],
   "metadata": {
    "collapsed": false
   }
  },
  {
   "cell_type": "code",
   "execution_count": 10,
   "outputs": [],
   "source": [
    "#imports\n",
    "from preprocessing.preprocessing_label_encoding import *\n",
    "from preprocessing.preprocessing_one_hot_encoding import *\n",
    "\n",
    "from sklearn.neighbors import KNeighborsClassifier\n",
    "from sklearn.metrics import *\n",
    "\n",
    "import warnings\n",
    "warnings.filterwarnings('ignore')"
   ],
   "metadata": {
    "collapsed": false
   }
  },
  {
   "cell_type": "markdown",
   "source": [
    "# Hyperparameter tuning and preprocessing\n",
    "We will evaluate different parameters for the classifier (hyperparameter tuning) as well as different preprocessing steps based on the accuracy and F1-Score.\n",
    "\n",
    "In detail, we will vary regarding parameters:<br>\n",
    "\n",
    "| **Parameter** |                    **range Values**                    |\n",
    "|:-------------:|:------------------------------------------------------:|\n",
    "| metric        | 'euclidean',<br>'cosine',<br>'manhattan',<br>'jaccard' |\n",
    "\n",
    "And we will vary for preprocessing:\n",
    "\n",
    "\n",
    "|              **Preprocessing**              |                           **Description**                           |\n",
    "|:-------------------------------------------:|:-------------------------------------------------------------------:|\n",
    "|               Label Encoding                |                           Label encoding                            |\n",
    "|     Label Encoding<br>+<br>Oversampling     |                   Label encoding and oversampling                   |\n",
    "|    Label Encoding<br>+<br>Undersampling     |                  Label encoding and undersampling                   |\n",
    "|            One Hot Encoding (1)             |           One hot encoding for all columns except yes/no            |\n",
    "|            One Hot Encoding (2)             |          One hot encoding for all columns including yes/no          |\n",
    "|  One Hot Encoding (1)<br>+<br>Oversampling  |   One hot encoding for all columns except yes/no and oversampling   |\n",
    "| One Hot Encoding (2) <br>+<br>Oversampling  | One hot encoding for all columns including yes/no and oversampling  |\n",
    "| One Hot Encoding (1)<br>+<br>Undersampling  |  One hot encoding for all columns except yes/no and undersampling   |\n",
    "| One Hot Encoding (2) <br>+<br>Undersampling | One hot encoding for all columns including yes/no and undersampling |"
   ],
   "metadata": {
    "collapsed": false
   }
  },
  {
   "cell_type": "markdown",
   "source": [
    "We start with applying a K-nearest neighbor classifier to the train data and test against the validation data on how it performs by using the accuracy and f1 score.\n",
    "\n",
    "We will do so for each combination that is listed above by using two for loops. The following estimators are structured by the different style of preprocessing.\n",
    "\n",
    "At the end we test the best approach against the actual test data."
   ],
   "metadata": {
    "collapsed": false
   }
  },
  {
   "cell_type": "markdown",
   "source": [
    "# Label Encoding"
   ],
   "metadata": {
    "collapsed": false
   }
  },
  {
   "cell_type": "code",
   "execution_count": 11,
   "outputs": [
    {
     "name": "stdout",
     "output_type": "stream",
     "text": [
      "k= 9 metric: euclidean -> acc: 0.8454262089267933\n",
      "\n",
      "              precision    recall  f1-score   support\n",
      "\n",
      "         1.0       0.44      0.19      0.27      5759\n",
      "         2.0       0.00      0.00      0.00       393\n",
      "         3.0       0.87      0.97      0.92     39277\n",
      "         4.0       0.00      0.00      0.00       769\n",
      "\n",
      "    accuracy                           0.85     46198\n",
      "   macro avg       0.33      0.29      0.30     46198\n",
      "weighted avg       0.79      0.85      0.81     46198\n",
      "\n",
      "k= 9 metric: minkowski -> acc: 0.8454262089267933\n",
      "\n",
      "              precision    recall  f1-score   support\n",
      "\n",
      "         1.0       0.44      0.19      0.27      5759\n",
      "         2.0       0.00      0.00      0.00       393\n",
      "         3.0       0.87      0.97      0.92     39277\n",
      "         4.0       0.00      0.00      0.00       769\n",
      "\n",
      "    accuracy                           0.85     46198\n",
      "   macro avg       0.33      0.29      0.30     46198\n",
      "weighted avg       0.79      0.85      0.81     46198\n",
      "\n"
     ]
    }
   ],
   "source": [
    "#load data\n",
    "data_train, data_validation, target_train, target_validation = get_preprocessed_brfss_dataset_label_encoded_train_test_split()\n",
    "\n",
    "#metrics that should be used\n",
    "params = ('euclidean', 'cosine', 'manhattan', 'jaccard')\n",
    "\n",
    "for n_neighbors in range(5,16):\n",
    "    for metric in params:\n",
    "        knn_estimator = KNeighborsClassifier(n_neighbors=n_neighbors,metric=metric)\n",
    "        knn_estimator.fit(data_train, target_train.values.ravel())\n",
    "        diabetes_test_prediction = knn_estimator.predict(data_validation)\n",
    "        print(\"k= {} metric: {} -> acc: {}\".format(n_neighbors, metric, accuracy_score(target_validation, diabetes_test_prediction)))\n",
    "        print(\"\\n\" + classification_report(target_validation, diabetes_test_prediction))"
   ],
   "metadata": {
    "collapsed": false
   }
  },
  {
   "cell_type": "markdown",
   "source": [
    "# Label Encoding + Oversampling"
   ],
   "metadata": {
    "collapsed": false
   }
  },
  {
   "cell_type": "code",
   "execution_count": null,
   "outputs": [],
   "source": [
    "#load data\n",
    "data_train, data_validation, target_train, target_validation = get_preprocessed_brfss_dataset_label_encoded_train_test_split_oversampled()\n",
    "\n",
    "#metrics that should be used\n",
    "params = ('euclidean', 'cosine', 'manhattan', 'jaccard')\n",
    "\n",
    "for n_neighbors in range(5,16):\n",
    "    for metric in params:\n",
    "        knn_estimator = KNeighborsClassifier(n_neighbors=n_neighbors,metric=metric)\n",
    "        knn_estimator.fit(data_train, target_train.values.ravel())\n",
    "        diabetes_test_prediction = knn_estimator.predict(data_validation)\n",
    "        print(\"k= {} metric: {} -> acc: {}\".format(n_neighbors, metric, accuracy_score(target_validation, diabetes_test_prediction)))\n",
    "        print(\"\\n\" + classification_report(target_validation, diabetes_test_prediction))"
   ],
   "metadata": {
    "collapsed": false
   }
  },
  {
   "cell_type": "markdown",
   "source": [
    "# Label Encoding + Undersampling"
   ],
   "metadata": {
    "collapsed": false
   }
  },
  {
   "cell_type": "code",
   "execution_count": null,
   "outputs": [],
   "source": [
    "#load data\n",
    "data_train, data_validation, target_train, target_validation = get_preprocessed_brfss_dataset_label_encoded_train_test_split_undersampled()\n",
    "\n",
    "#metrics that should be used\n",
    "params = ('euclidean', 'cosine', 'manhattan', 'jaccard')\n",
    "\n",
    "for n_neighbors in range(5,16):\n",
    "    for metric in params:\n",
    "        knn_estimator = KNeighborsClassifier(n_neighbors=n_neighbors,metric=metric)\n",
    "        knn_estimator.fit(data_train, target_train.values.ravel())\n",
    "        diabetes_test_prediction = knn_estimator.predict(data_validation)\n",
    "        print(\"k= {} metric: {} -> acc: {}\".format(n_neighbors, metric, accuracy_score(target_validation, diabetes_test_prediction)))\n",
    "        print(\"\\n\" + classification_report(target_validation, diabetes_test_prediction))"
   ],
   "metadata": {
    "collapsed": false
   }
  },
  {
   "cell_type": "markdown",
   "source": [
    "# One Hot Encoding (1)\n",
    "yes/no values not one hot encoded"
   ],
   "metadata": {
    "collapsed": false
   }
  },
  {
   "cell_type": "code",
   "execution_count": null,
   "outputs": [],
   "source": [
    "#load data\n",
    "data_train, data_validation, target_train, target_validation = get_preprocessed_brfss_dataset_one_hot_encoded()\n",
    "\n",
    "#metrics that should be used\n",
    "params = ('euclidean', 'cosine', 'manhattan', 'jaccard')\n",
    "\n",
    "for n_neighbors in range(5,16):\n",
    "    for metric in params:\n",
    "        knn_estimator = KNeighborsClassifier(n_neighbors=n_neighbors,metric=metric)\n",
    "        knn_estimator.fit(data_train, target_train.values.ravel())\n",
    "        diabetes_test_prediction = knn_estimator.predict(data_validation)\n",
    "        print(\"k= {} metric: {} -> acc: {}\".format(n_neighbors, metric, accuracy_score(target_validation, diabetes_test_prediction)))\n",
    "        print(\"\\n\" + classification_report(target_validation, diabetes_test_prediction))"
   ],
   "metadata": {
    "collapsed": false
   }
  },
  {
   "cell_type": "markdown",
   "source": [
    "# One Hot Encoding (2)\n",
    "all columns one hot encoded"
   ],
   "metadata": {
    "collapsed": false
   }
  },
  {
   "cell_type": "code",
   "execution_count": null,
   "outputs": [],
   "source": [
    "#load data\n",
    "data_train, data_validation, target_train, target_validation = get_preprocessed_brfss_dataset_one_hot_encoded_all_columns()\n",
    "\n",
    "#metrics that should be used\n",
    "params = ('euclidean', 'cosine', 'manhattan', 'jaccard')\n",
    "\n",
    "for n_neighbors in range(5,16):\n",
    "    for metric in params:\n",
    "        knn_estimator = KNeighborsClassifier(n_neighbors=n_neighbors,metric=metric)\n",
    "        knn_estimator.fit(data_train, target_train.values.ravel())\n",
    "        diabetes_test_prediction = knn_estimator.predict(data_validation)\n",
    "        print(\"k= {} metric: {} -> acc: {}\".format(n_neighbors, metric, accuracy_score(target_validation, diabetes_test_prediction)))\n",
    "        print(\"\\n\" + classification_report(target_validation, diabetes_test_prediction))"
   ],
   "metadata": {
    "collapsed": false
   }
  },
  {
   "cell_type": "markdown",
   "source": [
    "# One Hot Encoding (1) + Oversampling"
   ],
   "metadata": {
    "collapsed": false
   }
  },
  {
   "cell_type": "code",
   "execution_count": null,
   "outputs": [],
   "source": [
    "#load data\n",
    "data_train, data_validation, target_train, target_validation = get_preprocessed_brfss_dataset_one_hot_encoded_train_test_split_oversampled()\n",
    "\n",
    "#metrics that should be used\n",
    "params = ('euclidean', 'cosine', 'manhattan', 'jaccard')\n",
    "\n",
    "for n_neighbors in range(5,16):\n",
    "    for metric in params:\n",
    "        knn_estimator = KNeighborsClassifier(n_neighbors=n_neighbors,metric=metric)\n",
    "        knn_estimator.fit(data_train, target_train.values.ravel())\n",
    "        diabetes_test_prediction = knn_estimator.predict(data_validation)\n",
    "        print(\"k= {} metric: {} -> acc: {}\".format(n_neighbors, metric, accuracy_score(target_validation, diabetes_test_prediction)))\n",
    "        print(\"\\n\" + classification_report(target_validation, diabetes_test_prediction))"
   ],
   "metadata": {
    "collapsed": false
   }
  },
  {
   "cell_type": "markdown",
   "source": [
    "# One Hot Encoding (2) + Oversampling"
   ],
   "metadata": {
    "collapsed": false
   }
  },
  {
   "cell_type": "code",
   "execution_count": null,
   "outputs": [],
   "source": [
    "#load data\n",
    "data_train, data_validation, target_train, target_validation = get_preprocessed_brfss_dataset_one_hot_encoded_all_columns_train_test_split_oversampled()\n",
    "\n",
    "#metrics that should be used\n",
    "params = ('euclidean', 'cosine', 'manhattan', 'jaccard')\n",
    "\n",
    "for n_neighbors in range(5,16):\n",
    "    for metric in params:\n",
    "        knn_estimator = KNeighborsClassifier(n_neighbors=n_neighbors,metric=metric)\n",
    "        knn_estimator.fit(data_train, target_train.values.ravel())\n",
    "        diabetes_test_prediction = knn_estimator.predict(data_validation)\n",
    "        print(\"k= {} metric: {} -> acc: {}\".format(n_neighbors, metric, accuracy_score(target_validation, diabetes_test_prediction)))\n",
    "        print(\"\\n\" + classification_report(target_validation, diabetes_test_prediction))"
   ],
   "metadata": {
    "collapsed": false
   }
  },
  {
   "cell_type": "markdown",
   "source": [
    "# One Hot Encoding (1) + Undersampling"
   ],
   "metadata": {
    "collapsed": false
   }
  },
  {
   "cell_type": "code",
   "execution_count": null,
   "outputs": [],
   "source": [
    "#load data\n",
    "data_train, data_validation, target_train, target_validation = get_preprocessed_brfss_dataset_one_hot_encoded_train_test_split_undersampled()\n",
    "\n",
    "#metrics that should be used\n",
    "params = ('euclidean', 'cosine', 'manhattan', 'jaccard')\n",
    "\n",
    "for n_neighbors in range(5,16):\n",
    "    for metric in params:\n",
    "        knn_estimator = KNeighborsClassifier(n_neighbors=n_neighbors,metric=metric)\n",
    "        knn_estimator.fit(data_train, target_train.values.ravel())\n",
    "        diabetes_test_prediction = knn_estimator.predict(data_validation)\n",
    "        print(\"k= {} metric: {} -> acc: {}\".format(n_neighbors, metric, accuracy_score(target_validation, diabetes_test_prediction)))\n",
    "        print(\"\\n\" + classification_report(target_validation, diabetes_test_prediction))"
   ],
   "metadata": {
    "collapsed": false
   }
  },
  {
   "cell_type": "markdown",
   "source": [
    "# One Hot Encoding (2) + Undersampling"
   ],
   "metadata": {
    "collapsed": false
   }
  },
  {
   "cell_type": "code",
   "execution_count": null,
   "outputs": [],
   "source": [
    "#load data\n",
    "data_train, data_validation, target_train, target_validation = get_preprocessed_brfss_dataset_one_hot_encoded_all_columns_train_test_split_undersampled()\n",
    "\n",
    "#metrics that should be used\n",
    "params = ('euclidean', 'cosine', 'manhattan', 'jaccard')\n",
    "\n",
    "for n_neighbors in range(5,16):\n",
    "    for metric in params:\n",
    "        knn_estimator = KNeighborsClassifier(n_neighbors=n_neighbors,metric=metric)\n",
    "        knn_estimator.fit(data_train, target_train.values.ravel())\n",
    "        diabetes_test_prediction = knn_estimator.predict(data_validation)\n",
    "        print(\"k= {} metric: {} -> acc: {}\".format(n_neighbors, metric, accuracy_score(target_validation, diabetes_test_prediction)))\n",
    "        print(\"\\n\" + classification_report(target_validation, diabetes_test_prediction))"
   ],
   "metadata": {
    "collapsed": false
   }
  },
  {
   "cell_type": "markdown",
   "source": [
    "# Best Approach\n",
    "tbd"
   ],
   "metadata": {
    "collapsed": false
   }
  }
 ],
 "metadata": {
  "kernelspec": {
   "display_name": "Python 3",
   "language": "python",
   "name": "python3"
  },
  "language_info": {
   "codemirror_mode": {
    "name": "ipython",
    "version": 2
   },
   "file_extension": ".py",
   "mimetype": "text/x-python",
   "name": "python",
   "nbconvert_exporter": "python",
   "pygments_lexer": "ipython2",
   "version": "2.7.6"
  }
 },
 "nbformat": 4,
 "nbformat_minor": 0
}
