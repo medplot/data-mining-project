{
 "cells": [
  {
   "cell_type": "markdown",
   "source": [
    "# K-nearest neighbor\n",
    "In this notebook we want to train a K-nearest-neighbor classifier that should predict whether a patient has diabetes or not."
   ],
   "metadata": {
    "collapsed": false
   }
  },
  {
   "cell_type": "code",
   "execution_count": 1,
   "outputs": [],
   "source": [
    "#imports\n",
    "from preprocessing.preprocessing_label_encoding import *\n",
    "from preprocessing.preprocessing_one_hot_encoding import *\n",
    "\n",
    "from sklearn.neighbors import KNeighborsClassifier\n",
    "from sklearn.metrics import *\n",
    "\n",
    "import warnings\n",
    "warnings.filterwarnings('ignore')\n",
    "\n",
    "#used to store the results and compare at the end\n",
    "approach_list = []\n",
    "acc_list = []\n",
    "cr_list = []\n",
    "f2_list = []"
   ],
   "metadata": {
    "collapsed": false
   }
  },
  {
   "cell_type": "markdown",
   "source": [
    "# Hyperparameter tuning and preprocessing\n",
    "We will evaluate different parameters for the classifier (hyperparameter tuning) as well as different preprocessing steps based on the accuracy and F2-Score.\n",
    "\n",
    "In detail, we will vary regarding parameters:<br>\n",
    "\n",
    "| **Parameter** |                    **range Values**                    |\n",
    "|:-------------:|:------------------------------------------------------:|\n",
    "|    metric     | 'euclidean',<br>'cosine',<br>'manhattan',<br>'jaccard' |\n",
    "|  K-neighbors  |                          1-15                          |\n",
    "\n",
    "And we will vary for preprocessing:\n",
    "\n",
    "\n",
    "|              **Preprocessing**              |                           **Description**                           |\n",
    "|:-------------------------------------------:|:-------------------------------------------------------------------:|\n",
    "|               Label Encoding                |                           Label encoding                            |\n",
    "|     Label Encoding<br>+<br>Oversampling     |                   Label encoding and oversampling                   |\n",
    "|    Label Encoding<br>+<br>Undersampling     |                  Label encoding and undersampling                   |\n",
    "|            One Hot Encoding (1)             |           One hot encoding for all columns except yes/no            |\n",
    "|            One Hot Encoding (2)             |          One hot encoding for all columns including yes/no          |\n",
    "|  One Hot Encoding (1)<br>+<br>Oversampling  |   One hot encoding for all columns except yes/no and oversampling   |\n",
    "| One Hot Encoding (2) <br>+<br>Oversampling  | One hot encoding for all columns including yes/no and oversampling  |\n",
    "| One Hot Encoding (1)<br>+<br>Undersampling  |  One hot encoding for all columns except yes/no and undersampling   |\n",
    "| One Hot Encoding (2) <br>+<br>Undersampling | One hot encoding for all columns including yes/no and undersampling |"
   ],
   "metadata": {
    "collapsed": false
   }
  },
  {
   "cell_type": "code",
   "execution_count": 2,
   "outputs": [],
   "source": [
    "#metrics that should be used\n",
    "metrics = ('euclidean', 'cosine', 'manhattan', 'jaccard')\n",
    "n_neighbors_start = 1\n",
    "n_neighbors_end = 16"
   ],
   "metadata": {
    "collapsed": false
   }
  },
  {
   "cell_type": "markdown",
   "source": [
    "The below defined function is used to store all the accuracy and F2-scores for a better comparison and evaluation capability at the end. It also returns the Accuracy score and F2-Score to see the performance directly under each method."
   ],
   "metadata": {
    "collapsed": false
   }
  },
  {
   "cell_type": "code",
   "execution_count": 3,
   "outputs": [],
   "source": [
    "def evaluation(target_validation, diabetes_test_prediction, k, metric, preprocessing):\n",
    "    approach = \"preprocessing: {} k= {} metric: {}\".format(preprocessing, k, metric)\n",
    "    approach_list.append(approach)\n",
    "    acc = accuracy_score(target_validation, diabetes_test_prediction)\n",
    "    acc_list.append(acc)\n",
    "    cr = classification_report(target_validation, diabetes_test_prediction)\n",
    "    cr_list.append(cr)\n",
    "    f2 = fbeta_score(target_validation, diabetes_test_prediction, beta=2)\n",
    "    f2_list.append(f2)\n",
    "    return \"{}\\n acc = {}\\n f2-score = {}\".format(approach, acc, f2)"
   ],
   "metadata": {
    "collapsed": false
   }
  },
  {
   "cell_type": "markdown",
   "source": [
    "We start with applying a K-nearest neighbor classifier to the train data and test against the validation data on how it performs by using the accuracy and F2-score.\n",
    "\n",
    "We will do so for each combination that is listed above by using two for loops. The following estimators are structured by the different style of preprocessing.\n",
    "\n",
    "At the end we test the best approach against the actual test data."
   ],
   "metadata": {
    "collapsed": false
   }
  },
  {
   "cell_type": "markdown",
   "source": [
    "# Label Encoding"
   ],
   "metadata": {
    "collapsed": false
   }
  },
  {
   "cell_type": "code",
   "execution_count": 6,
   "outputs": [
    {
     "name": "stdout",
     "output_type": "stream",
     "text": [
      "preprocessing: Label Encoding k= 1 metric: euclidean\n",
      " acc = 0.8216150921945501\n",
      " f2-score = 0.2991179498594841\n",
      "preprocessing: Label Encoding k= 1 metric: cosine\n",
      " acc = 0.8197854122997122\n",
      " f2-score = 0.30350420726306465\n",
      "preprocessing: Label Encoding k= 1 metric: manhattan\n",
      " acc = 0.8230717305574307\n",
      " f2-score = 0.30445551442963287\n",
      "preprocessing: Label Encoding k= 1 metric: jaccard\n",
      " acc = 0.8529328169964827\n",
      " f2-score = 0.0535538814281035\n",
      "preprocessing: Label Encoding k= 2 metric: euclidean\n",
      " acc = 0.8652431875510712\n",
      " f2-score = 0.13700404858299592\n",
      "preprocessing: Label Encoding k= 2 metric: cosine\n",
      " acc = 0.8652076597861229\n",
      " f2-score = 0.13989972505256346\n",
      "preprocessing: Label Encoding k= 2 metric: manhattan\n",
      " acc = 0.8662379649696238\n",
      " f2-score = 0.1413856768049752\n",
      "preprocessing: Label Encoding k= 2 metric: jaccard\n",
      " acc = 0.8721178100685686\n",
      " f2-score = 0.0\n",
      "preprocessing: Label Encoding k= 3 metric: euclidean\n",
      " acc = 0.8516005258109213\n",
      " f2-score = 0.2606394114304513\n",
      "preprocessing: Label Encoding k= 3 metric: cosine\n",
      " acc = 0.8518492201655594\n",
      " f2-score = 0.2670286720171853\n",
      "preprocessing: Label Encoding k= 3 metric: manhattan\n",
      " acc = 0.8518136924006111\n",
      " f2-score = 0.2600628460272333\n",
      "preprocessing: Label Encoding k= 3 metric: jaccard\n",
      " acc = 0.8716914768891889\n",
      " f2-score = 0.0008671522719389524\n",
      "preprocessing: Label Encoding k= 4 metric: euclidean\n",
      " acc = 0.868227519806729\n",
      " f2-score = 0.14938915713406137\n",
      "preprocessing: Label Encoding k= 4 metric: cosine\n",
      " acc = 0.8677478949799268\n",
      " f2-score = 0.15199534312140223\n",
      "preprocessing: Label Encoding k= 4 metric: manhattan\n",
      " acc = 0.8696308665221871\n",
      " f2-score = 0.15738341968911918\n",
      "preprocessing: Label Encoding k= 4 metric: jaccard\n",
      " acc = 0.8719046434788787\n",
      " f2-score = 0.0008675133597057394\n"
     ]
    }
   ],
   "source": [
    "preprocessing = \"Label Encoding\"\n",
    "\n",
    "#load data\n",
    "data_train, data_validation, target_train, target_validation = get_preprocessed_brfss_dataset_label_encoded_train_test_split()\n",
    "\n",
    "for n_neighbors in range(1,5):\n",
    "    for metric in metrics:\n",
    "        knn_estimator = KNeighborsClassifier(n_neighbors=n_neighbors, metric=metric)\n",
    "        knn_estimator.fit(data_train, target_train.values.ravel())\n",
    "        diabetes_test_prediction = knn_estimator.predict(data_validation)\n",
    "        print(evaluation(target_validation, diabetes_test_prediction, n_neighbors, metric, preprocessing))"
   ],
   "metadata": {
    "collapsed": false
   }
  },
  {
   "cell_type": "markdown",
   "source": [
    "# Label Encoding + Oversampling"
   ],
   "metadata": {
    "collapsed": false
   }
  },
  {
   "cell_type": "code",
   "execution_count": 4,
   "outputs": [
    {
     "name": "stdout",
     "output_type": "stream",
     "text": [
      "preprocessing: Label Encoding + Oversampling k= 5 metric: euclidean\n",
      " acc = 0.7431342594237397\n",
      " f2-score = 0.474826447395026\n",
      "preprocessing: Label Encoding + Oversampling k= 5 metric: cosine\n",
      " acc = 0.7372544143247949\n",
      " f2-score = 0.47358103893789544\n",
      "preprocessing: Label Encoding + Oversampling k= 5 metric: manhattan\n",
      " acc = 0.7453192169680606\n",
      " f2-score = 0.48150811126589665\n",
      "preprocessing: Label Encoding + Oversampling k= 5 metric: jaccard\n",
      " acc = 0.5244608661669095\n",
      " f2-score = 0.40419447092469013\n",
      "preprocessing: Label Encoding + Oversampling k= 6 metric: euclidean\n",
      " acc = 0.7478239243969161\n",
      " f2-score = 0.47096437722500617\n",
      "preprocessing: Label Encoding + Oversampling k= 6 metric: cosine\n",
      " acc = 0.7422815930649803\n",
      " f2-score = 0.4692105203950772\n",
      "preprocessing: Label Encoding + Oversampling k= 6 metric: manhattan\n",
      " acc = 0.750008881941237\n",
      " f2-score = 0.47706546889887025\n",
      "preprocessing: Label Encoding + Oversampling k= 6 metric: jaccard\n",
      " acc = 0.6273492734572068\n",
      " f2-score = 0.4067926606226278\n",
      "preprocessing: Label Encoding + Oversampling k= 7 metric: euclidean\n",
      " acc = 0.7175897964259068\n",
      " f2-score = 0.5034186031651366\n",
      "preprocessing: Label Encoding + Oversampling k= 7 metric: cosine\n",
      " acc = 0.7100756741393399\n",
      " f2-score = 0.5058271625715247\n",
      "preprocessing: Label Encoding + Oversampling k= 7 metric: manhattan\n",
      " acc = 0.7180161296052865\n",
      " f2-score = 0.5063102560282631\n",
      "preprocessing: Label Encoding + Oversampling k= 7 metric: jaccard\n",
      " acc = 0.5255266991153587\n",
      " f2-score = 0.4039606366176649\n",
      "preprocessing: Label Encoding + Oversampling k= 8 metric: euclidean\n",
      " acc = 0.7277152094361744\n",
      " f2-score = 0.4976030888700896\n",
      "preprocessing: Label Encoding + Oversampling k= 8 metric: cosine\n",
      " acc = 0.7206451842114613\n",
      " f2-score = 0.49962482581198414\n",
      "preprocessing: Label Encoding + Oversampling k= 8 metric: manhattan\n",
      " acc = 0.7275198067289587\n",
      " f2-score = 0.4986996098829649\n",
      "preprocessing: Label Encoding + Oversampling k= 8 metric: jaccard\n",
      " acc = 0.6518279035065904\n",
      " f2-score = 0.4082295834433454\n",
      "preprocessing: Label Encoding + Oversampling k= 9 metric: euclidean\n",
      " acc = 0.7005719970156677\n",
      " f2-score = 0.5176822352819879\n",
      "preprocessing: Label Encoding + Oversampling k= 9 metric: cosine\n",
      " acc = 0.6928624720218851\n",
      " f2-score = 0.5161718192021223\n",
      "preprocessing: Label Encoding + Oversampling k= 9 metric: manhattan\n",
      " acc = 0.701531246669272\n",
      " f2-score = 0.5186683453385895\n",
      "preprocessing: Label Encoding + Oversampling k= 9 metric: jaccard\n",
      " acc = 0.651668028564323\n",
      " f2-score = 0.4082399285250163\n",
      "preprocessing: Label Encoding + Oversampling k= 10 metric: euclidean\n",
      " acc = 0.7188687959640458\n",
      " f2-score = 0.5097959965113064\n",
      "preprocessing: Label Encoding + Oversampling k= 10 metric: cosine\n",
      " acc = 0.711372437559953\n",
      " f2-score = 0.5077804215535575\n",
      "preprocessing: Label Encoding + Oversampling k= 10 metric: manhattan\n",
      " acc = 0.7203254343269265\n",
      " f2-score = 0.5131424922847718\n",
      "preprocessing: Label Encoding + Oversampling k= 10 metric: jaccard\n",
      " acc = 0.7276263900238036\n",
      " f2-score = 0.3014716388055436\n",
      "preprocessing: Label Encoding + Oversampling k= 11 metric: euclidean\n",
      " acc = 0.697250150993001\n",
      " f2-score = 0.5274442538593481\n",
      "preprocessing: Label Encoding + Oversampling k= 11 metric: cosine\n",
      " acc = 0.6890965289373645\n",
      " f2-score = 0.5237459816825378\n",
      "preprocessing: Label Encoding + Oversampling k= 11 metric: manhattan\n",
      " acc = 0.6985469144136143\n",
      " f2-score = 0.5287960255964671\n",
      "preprocessing: Label Encoding + Oversampling k= 11 metric: jaccard\n",
      " acc = 0.7263651543681388\n",
      " f2-score = 0.3013809331400185\n",
      "preprocessing: Label Encoding + Oversampling k= 12 metric: euclidean\n",
      " acc = 0.7165417273599318\n",
      " f2-score = 0.5198051126297141\n",
      "preprocessing: Label Encoding + Oversampling k= 12 metric: cosine\n",
      " acc = 0.7099513269620208\n",
      " f2-score = 0.5190857238367841\n",
      "preprocessing: Label Encoding + Oversampling k= 12 metric: manhattan\n",
      " acc = 0.7176253241908551\n",
      " f2-score = 0.521226962781566\n",
      "preprocessing: Label Encoding + Oversampling k= 12 metric: jaccard\n",
      " acc = 0.7275908622588553\n",
      " f2-score = 0.301457281645871\n",
      "preprocessing: Label Encoding + Oversampling k= 13 metric: euclidean\n",
      " acc = 0.698635733825985\n",
      " f2-score = 0.5331932430226864\n",
      "preprocessing: Label Encoding + Oversampling k= 13 metric: cosine\n",
      " acc = 0.6902867090631328\n",
      " f2-score = 0.5303580800129184\n",
      "preprocessing: Label Encoding + Oversampling k= 13 metric: manhattan\n",
      " acc = 0.6989377198280456\n",
      " f2-score = 0.5355431879803478\n",
      "preprocessing: Label Encoding + Oversampling k= 13 metric: jaccard\n",
      " acc = 0.7191352542011582\n",
      " f2-score = 0.30582797616254515\n",
      "preprocessing: Label Encoding + Oversampling k= 14 metric: euclidean\n",
      " acc = 0.7194372402032189\n",
      " f2-score = 0.5269434535745193\n",
      "preprocessing: Label Encoding + Oversampling k= 14 metric: cosine\n",
      " acc = 0.7119586456816002\n",
      " f2-score = 0.5256892230576442\n",
      "preprocessing: Label Encoding + Oversampling k= 14 metric: manhattan\n",
      " acc = 0.7200412122073401\n",
      " f2-score = 0.529985023308794\n",
      "preprocessing: Label Encoding + Oversampling k= 14 metric: jaccard\n",
      " acc = 0.7285501119124596\n",
      " f2-score = 0.3013211866832014\n",
      "preprocessing: Label Encoding + Oversampling k= 15 metric: euclidean\n",
      " acc = 0.702454968557928\n",
      " f2-score = 0.5368296029324432\n",
      "preprocessing: Label Encoding + Oversampling k= 15 metric: cosine\n",
      " acc = 0.6946566241517746\n",
      " f2-score = 0.5351570415400202\n",
      "preprocessing: Label Encoding + Oversampling k= 15 metric: manhattan\n",
      " acc = 0.7035208015063772\n",
      " f2-score = 0.5397407278461569\n",
      "preprocessing: Label Encoding + Oversampling k= 15 metric: jaccard\n",
      " acc = 0.7274665150815363\n",
      " f2-score = 0.3014070423541176\n"
     ]
    }
   ],
   "source": [
    "preprocessing = \"Label Encoding + Oversampling\"\n",
    "\n",
    "#load data\n",
    "data_train, data_validation, target_train, target_validation = get_preprocessed_brfss_dataset_label_encoded_train_test_split_oversampled()\n",
    "\n",
    "for n_neighbors in range(5,16):\n",
    "    for metric in metrics:\n",
    "        knn_estimator = KNeighborsClassifier(n_neighbors=n_neighbors, metric=metric)\n",
    "        knn_estimator.fit(data_train, target_train.values.ravel())\n",
    "        diabetes_test_prediction = knn_estimator.predict(data_validation)\n",
    "        print(evaluation(target_validation, diabetes_test_prediction, n_neighbors, metric, preprocessing))"
   ],
   "metadata": {
    "collapsed": false
   }
  },
  {
   "cell_type": "markdown",
   "source": [
    "# Label Encoding + Undersampling"
   ],
   "metadata": {
    "collapsed": false
   }
  },
  {
   "cell_type": "code",
   "execution_count": 5,
   "outputs": [
    {
     "name": "stdout",
     "output_type": "stream",
     "text": [
      "preprocessing: Label Encoding + Undersampling k= 1 metric: euclidean\n",
      " acc = 0.6729136320034107\n",
      " f2-score = 0.48936640668971626\n",
      "preprocessing: Label Encoding + Undersampling k= 1 metric: cosine\n",
      " acc = 0.6658258428962234\n",
      " f2-score = 0.4914007356596083\n",
      "preprocessing: Label Encoding + Undersampling k= 1 metric: manhattan\n",
      " acc = 0.6762354780260774\n",
      " f2-score = 0.4929946577965931\n",
      "preprocessing: Label Encoding + Undersampling k= 1 metric: jaccard\n",
      " acc = 0.8720289906561978\n",
      " f2-score = 0.000520706772659423\n",
      "preprocessing: Label Encoding + Undersampling k= 2 metric: euclidean\n",
      " acc = 0.7795324546132802\n",
      " f2-score = 0.4364077669902912\n",
      "preprocessing: Label Encoding + Undersampling k= 2 metric: cosine\n",
      " acc = 0.7737769566916546\n",
      " f2-score = 0.4364812232533538\n",
      "preprocessing: Label Encoding + Undersampling k= 2 metric: manhattan\n",
      " acc = 0.7817351760400754\n",
      " f2-score = 0.43892944038929443\n",
      "preprocessing: Label Encoding + Undersampling k= 2 metric: jaccard\n",
      " acc = 0.8720289906561978\n",
      " f2-score = 0.000520706772659423\n",
      "preprocessing: Label Encoding + Undersampling k= 3 metric: euclidean\n",
      " acc = 0.695047429566206\n",
      " f2-score = 0.5321244365024571\n",
      "preprocessing: Label Encoding + Undersampling k= 3 metric: cosine\n",
      " acc = 0.6847799054961452\n",
      " f2-score = 0.5311674273360557\n",
      "preprocessing: Label Encoding + Undersampling k= 3 metric: manhattan\n",
      " acc = 0.6979607062919672\n",
      " f2-score = 0.5385381519573967\n",
      "preprocessing: Label Encoding + Undersampling k= 3 metric: jaccard\n",
      " acc = 0.8719934628912495\n",
      " f2-score = 0.0005206706237634072\n",
      "preprocessing: Label Encoding + Undersampling k= 4 metric: euclidean\n",
      " acc = 0.7597612534195474\n",
      " f2-score = 0.5059841482524471\n",
      "preprocessing: Label Encoding + Undersampling k= 4 metric: cosine\n",
      " acc = 0.7514655203041176\n",
      " f2-score = 0.5082829639579135\n",
      "preprocessing: Label Encoding + Undersampling k= 4 metric: manhattan\n",
      " acc = 0.7603652254236686\n",
      " f2-score = 0.51026426222071\n",
      "preprocessing: Label Encoding + Undersampling k= 4 metric: jaccard\n",
      " acc = 0.6606387892137706\n",
      " f2-score = 0.37763594268193484\n",
      "preprocessing: Label Encoding + Undersampling k= 5 metric: euclidean\n",
      " acc = 0.70314775997442\n",
      " f2-score = 0.5517921803165303\n",
      "preprocessing: Label Encoding + Undersampling k= 5 metric: cosine\n",
      " acc = 0.6925604860198245\n",
      " f2-score = 0.551994872616568\n",
      "preprocessing: Label Encoding + Undersampling k= 5 metric: manhattan\n",
      " acc = 0.7047998010445163\n",
      " f2-score = 0.556640426354224\n",
      "preprocessing: Label Encoding + Undersampling k= 5 metric: jaccard\n",
      " acc = 0.5655309624471524\n",
      " f2-score = 0.3947633065769505\n",
      "preprocessing: Label Encoding + Undersampling k= 6 metric: euclidean\n",
      " acc = 0.7496003126443316\n",
      " f2-score = 0.5379405879636755\n",
      "preprocessing: Label Encoding + Undersampling k= 6 metric: cosine\n",
      " acc = 0.7408427185845738\n",
      " f2-score = 0.5378909469483365\n",
      "preprocessing: Label Encoding + Undersampling k= 6 metric: manhattan\n",
      " acc = 0.7489075212278395\n",
      " f2-score = 0.5386000351308624\n",
      "preprocessing: Label Encoding + Undersampling k= 6 metric: jaccard\n",
      " acc = 0.5680711976409564\n",
      " f2-score = 0.3916238060249817\n",
      "preprocessing: Label Encoding + Undersampling k= 7 metric: euclidean\n",
      " acc = 0.7065406615269834\n",
      " f2-score = 0.5631212016504401\n",
      "preprocessing: Label Encoding + Undersampling k= 7 metric: cosine\n",
      " acc = 0.6959178598074395\n",
      " f2-score = 0.561807877926187\n",
      "preprocessing: Label Encoding + Undersampling k= 7 metric: manhattan\n",
      " acc = 0.7093473549578996\n",
      " f2-score = 0.5686374274956751\n",
      "preprocessing: Label Encoding + Undersampling k= 7 metric: jaccard\n",
      " acc = 0.2542899776175081\n",
      " f2-score = 0.44640549899219595\n",
      "preprocessing: Label Encoding + Undersampling k= 8 metric: euclidean\n",
      " acc = 0.74155327388354\n",
      " f2-score = 0.5531497759393312\n",
      "preprocessing: Label Encoding + Undersampling k= 8 metric: cosine\n",
      " acc = 0.7343766653639819\n",
      " f2-score = 0.5536147914625315\n",
      "preprocessing: Label Encoding + Undersampling k= 8 metric: manhattan\n",
      " acc = 0.7435783564855935\n",
      " f2-score = 0.5581184789169613\n",
      "preprocessing: Label Encoding + Undersampling k= 8 metric: jaccard\n",
      " acc = 0.5645894766760223\n",
      " f2-score = 0.39599532727339093\n",
      "preprocessing: Label Encoding + Undersampling k= 9 metric: euclidean\n",
      " acc = 0.7089032578960458\n",
      " f2-score = 0.57258260940164\n",
      "preprocessing: Label Encoding + Undersampling k= 9 metric: cosine\n",
      " acc = 0.6992574697125804\n",
      " f2-score = 0.5714514546583104\n",
      "preprocessing: Label Encoding + Undersampling k= 9 metric: manhattan\n",
      " acc = 0.7114079653249014\n",
      " f2-score = 0.5754795663052543\n",
      "preprocessing: Label Encoding + Undersampling k= 9 metric: jaccard\n",
      " acc = 0.2559953103350268\n",
      " f2-score = 0.4466411344581306\n",
      "preprocessing: Label Encoding + Undersampling k= 10 metric: euclidean\n",
      " acc = 0.7375741642093296\n",
      " f2-score = 0.5621270247229327\n",
      "preprocessing: Label Encoding + Undersampling k= 10 metric: cosine\n",
      " acc = 0.7305041389846165\n",
      " f2-score = 0.5660635388175889\n",
      "preprocessing: Label Encoding + Undersampling k= 10 metric: manhattan\n",
      " acc = 0.7407183714072547\n",
      " f2-score = 0.5693771737043123\n",
      "preprocessing: Label Encoding + Undersampling k= 10 metric: jaccard\n",
      " acc = 0.34177709880271434\n",
      " f2-score = 0.4496385272607778\n",
      "preprocessing: Label Encoding + Undersampling k= 11 metric: euclidean\n",
      " acc = 0.7096138131950119\n",
      " f2-score = 0.5744559922052616\n",
      "preprocessing: Label Encoding + Undersampling k= 11 metric: cosine\n",
      " acc = 0.6992041780651579\n",
      " f2-score = 0.5751169018024859\n",
      "preprocessing: Label Encoding + Undersampling k= 11 metric: manhattan\n",
      " acc = 0.712402742743454\n",
      " f2-score = 0.5798117771408826\n",
      "preprocessing: Label Encoding + Undersampling k= 11 metric: jaccard\n",
      " acc = 0.2549827690340001\n",
      " f2-score = 0.4466305570278062\n",
      "preprocessing: Label Encoding + Undersampling k= 12 metric: euclidean\n",
      " acc = 0.7352470956052155\n",
      " f2-score = 0.5694247572302029\n",
      "preprocessing: Label Encoding + Undersampling k= 12 metric: cosine\n",
      " acc = 0.7262940988382421\n",
      " f2-score = 0.5712498696966538\n",
      "preprocessing: Label Encoding + Undersampling k= 12 metric: manhattan\n",
      " acc = 0.7371478310299499\n",
      " f2-score = 0.5743915343915343\n",
      "preprocessing: Label Encoding + Undersampling k= 12 metric: jaccard\n",
      " acc = 0.3319891995594557\n",
      " f2-score = 0.38636753113218325\n",
      "preprocessing: Label Encoding + Undersampling k= 13 metric: euclidean\n",
      " acc = 0.7113191459125306\n",
      " f2-score = 0.5797174980720055\n",
      "preprocessing: Label Encoding + Undersampling k= 13 metric: cosine\n",
      " acc = 0.7002167193661847\n",
      " f2-score = 0.5785404638711868\n",
      "preprocessing: Label Encoding + Undersampling k= 13 metric: manhattan\n",
      " acc = 0.7133619923970583\n",
      " f2-score = 0.5847359551702435\n",
      "preprocessing: Label Encoding + Undersampling k= 13 metric: jaccard\n",
      " acc = 0.25587096315770774\n",
      " f2-score = 0.4467069431687344\n",
      "preprocessing: Label Encoding + Undersampling k= 14 metric: euclidean\n",
      " acc = 0.7330266102959463\n",
      " f2-score = 0.5751524069791886\n",
      "preprocessing: Label Encoding + Undersampling k= 14 metric: cosine\n",
      " acc = 0.7237538636444382\n",
      " f2-score = 0.577066423720391\n",
      "preprocessing: Label Encoding + Undersampling k= 14 metric: manhattan\n",
      " acc = 0.7353359150175862\n",
      " f2-score = 0.5809355544337876\n",
      "preprocessing: Label Encoding + Undersampling k= 14 metric: jaccard\n",
      " acc = 0.25711443493089847\n",
      " f2-score = 0.4465268693253202\n",
      "preprocessing: Label Encoding + Undersampling k= 15 metric: euclidean\n",
      " acc = 0.7118698262692295\n",
      " f2-score = 0.5808619044719161\n",
      "preprocessing: Label Encoding + Undersampling k= 15 metric: cosine\n",
      " acc = 0.7016911216115395\n",
      " f2-score = 0.5828006392329204\n",
      "preprocessing: Label Encoding + Undersampling k= 15 metric: manhattan\n",
      " acc = 0.7127402565104629\n",
      " f2-score = 0.5862621103409137\n",
      "preprocessing: Label Encoding + Undersampling k= 15 metric: jaccard\n",
      " acc = 0.2568479766937862\n",
      " f2-score = 0.4471844660194176\n"
     ]
    }
   ],
   "source": [
    "preprocessing = \"Label Encoding + Undersampling\"\n",
    "\n",
    "#load data\n",
    "data_train, data_validation, target_train, target_validation = get_preprocessed_brfss_dataset_label_encoded_train_test_split_undersampled()\n",
    "\n",
    "for n_neighbors in range(n_neighbors_start, n_neighbors_end):\n",
    "    for metric in metrics:\n",
    "        knn_estimator = KNeighborsClassifier(n_neighbors=n_neighbors, metric=metric)\n",
    "        knn_estimator.fit(data_train, target_train.values.ravel())\n",
    "        diabetes_test_prediction = knn_estimator.predict(data_validation)\n",
    "        print(evaluation(target_validation, diabetes_test_prediction, n_neighbors, metric, preprocessing))"
   ],
   "metadata": {
    "collapsed": false
   }
  },
  {
   "cell_type": "markdown",
   "source": [
    "# One Hot Encoding (1)\n",
    "yes/no values not one hot encoded"
   ],
   "metadata": {
    "collapsed": false
   }
  },
  {
   "cell_type": "code",
   "execution_count": 6,
   "outputs": [
    {
     "name": "stdout",
     "output_type": "stream",
     "text": [
      "preprocessing: One Hot Encoding (1) k= 1 metric: euclidean\n",
      " acc = 0.8200518705368245\n",
      " f2-score = 0.3002190975400061\n",
      "preprocessing: One Hot Encoding (1) k= 1 metric: cosine\n",
      " acc = 0.8217039116069208\n",
      " f2-score = 0.2938797143494756\n",
      "preprocessing: One Hot Encoding (1) k= 1 metric: manhattan\n",
      " acc = 0.8205847870110491\n",
      " f2-score = 0.30083534537784806\n",
      "preprocessing: One Hot Encoding (1) k= 1 metric: jaccard\n",
      " acc = 0.8191459125306427\n",
      " f2-score = 0.30210811708072816\n",
      "preprocessing: One Hot Encoding (1) k= 2 metric: euclidean\n",
      " acc = 0.8653852986108644\n",
      " f2-score = 0.13673330525224378\n",
      "preprocessing: One Hot Encoding (1) k= 2 metric: cosine\n",
      " acc = 0.8655096457881835\n",
      " f2-score = 0.13139089196387968\n",
      "preprocessing: One Hot Encoding (1) k= 2 metric: manhattan\n",
      " acc = 0.8649944931964331\n",
      " f2-score = 0.13724792024083127\n",
      "preprocessing: One Hot Encoding (1) k= 2 metric: jaccard\n",
      " acc = 0.8639819518954063\n",
      " f2-score = 0.13836863859467835\n",
      "preprocessing: One Hot Encoding (1) k= 3 metric: euclidean\n",
      " acc = 0.8506235122748428\n",
      " f2-score = 0.26408345752608053\n",
      "preprocessing: One Hot Encoding (1) k= 3 metric: cosine\n",
      " acc = 0.8516182896933954\n",
      " f2-score = 0.2505557892206934\n",
      "preprocessing: One Hot Encoding (1) k= 3 metric: manhattan\n",
      " acc = 0.8509610260418518\n",
      " f2-score = 0.2655658549670651\n",
      "preprocessing: One Hot Encoding (1) k= 3 metric: jaccard\n",
      " acc = 0.8496997903861868\n",
      " f2-score = 0.26420708122582565\n",
      "preprocessing: One Hot Encoding (1) k= 4 metric: euclidean\n",
      " acc = 0.8684584502788929\n",
      " f2-score = 0.15613887631732076\n",
      "preprocessing: One Hot Encoding (1) k= 4 metric: cosine\n",
      " acc = 0.8680498809819874\n",
      " f2-score = 0.14154776221276041\n",
      "preprocessing: One Hot Encoding (1) k= 4 metric: manhattan\n",
      " acc = 0.8679077699221942\n",
      " f2-score = 0.15021528699537054\n",
      "preprocessing: One Hot Encoding (1) k= 4 metric: jaccard\n",
      " acc = 0.866149145557253\n",
      " f2-score = 0.1550325198016614\n",
      "preprocessing: One Hot Encoding (1) k= 5 metric: euclidean\n",
      " acc = 0.8612285501119125\n",
      " f2-score = 0.23895193283513239\n",
      "preprocessing: One Hot Encoding (1) k= 5 metric: cosine\n",
      " acc = 0.8612996056418091\n",
      " f2-score = 0.22244942218917496\n",
      "preprocessing: One Hot Encoding (1) k= 5 metric: manhattan\n",
      " acc = 0.8605712864603687\n",
      " f2-score = 0.23227157907707474\n",
      "preprocessing: One Hot Encoding (1) k= 5 metric: jaccard\n",
      " acc = 0.85886595374285\n",
      " f2-score = 0.2421277896667686\n",
      "preprocessing: One Hot Encoding (1) k= 6 metric: euclidean\n",
      " acc = 0.8704835328809465\n",
      " f2-score = 0.15549928580703803\n",
      "preprocessing: One Hot Encoding (1) k= 6 metric: cosine\n",
      " acc = 0.8706078800582655\n",
      " f2-score = 0.14452092780478254\n",
      "preprocessing: One Hot Encoding (1) k= 6 metric: manhattan\n",
      " acc = 0.8704480051159982\n",
      " f2-score = 0.1541184877224893\n",
      "preprocessing: One Hot Encoding (1) k= 6 metric: jaccard\n",
      " acc = 0.8680854087469357\n",
      " f2-score = 0.15239266185653735\n",
      "preprocessing: One Hot Encoding (1) k= 7 metric: euclidean\n",
      " acc = 0.8670373396809606\n",
      " f2-score = 0.22127499529868988\n",
      "preprocessing: One Hot Encoding (1) k= 7 metric: cosine\n",
      " acc = 0.8674636728603403\n",
      " f2-score = 0.2066233110241192\n",
      "preprocessing: One Hot Encoding (1) k= 7 metric: manhattan\n",
      " acc = 0.8667531175613742\n",
      " f2-score = 0.21987838515546637\n",
      "preprocessing: One Hot Encoding (1) k= 7 metric: jaccard\n",
      " acc = 0.8642484101325185\n",
      " f2-score = 0.22359938961726514\n",
      "preprocessing: One Hot Encoding (1) k= 8 metric: euclidean\n",
      " acc = 0.8718158240665079\n",
      " f2-score = 0.1508332518018459\n",
      "preprocessing: One Hot Encoding (1) k= 8 metric: cosine\n",
      " acc = 0.8714427825345508\n",
      " f2-score = 0.13779656573600735\n",
      "preprocessing: One Hot Encoding (1) k= 8 metric: manhattan\n",
      " acc = 0.8720645184211461\n",
      " f2-score = 0.15304625615281806\n",
      "preprocessing: One Hot Encoding (1) k= 8 metric: jaccard\n",
      " acc = 0.869844033111877\n",
      " f2-score = 0.15577384425857485\n",
      "preprocessing: One Hot Encoding (1) k= 9 metric: euclidean\n",
      " acc = 0.8695953387572388\n",
      " f2-score = 0.2033333333333333\n",
      "preprocessing: One Hot Encoding (1) k= 9 metric: cosine\n",
      " acc = 0.869737449817032\n",
      " f2-score = 0.18796752125823157\n",
      "preprocessing: One Hot Encoding (1) k= 9 metric: manhattan\n",
      " acc = 0.8703769495861016\n",
      " f2-score = 0.2076986544808327\n",
      "preprocessing: One Hot Encoding (1) k= 9 metric: jaccard\n",
      " acc = 0.867072867445909\n",
      " f2-score = 0.21239773442416615\n",
      "preprocessing: One Hot Encoding (1) k= 10 metric: euclidean\n",
      " acc = 0.8725974348953708\n",
      " f2-score = 0.15197022624138942\n",
      "preprocessing: One Hot Encoding (1) k= 10 metric: cosine\n",
      " acc = 0.8724197960706292\n",
      " f2-score = 0.13664881910455606\n",
      "preprocessing: One Hot Encoding (1) k= 10 metric: manhattan\n",
      " acc = 0.8727928376025864\n",
      " f2-score = 0.15079728140112403\n",
      "preprocessing: One Hot Encoding (1) k= 10 metric: jaccard\n",
      " acc = 0.8710164493551711\n",
      " f2-score = 0.15565087411451226\n",
      "preprocessing: One Hot Encoding (1) k= 11 metric: euclidean\n",
      " acc = 0.8705723522933172\n",
      " f2-score = 0.19430341348149568\n",
      "preprocessing: One Hot Encoding (1) k= 11 metric: cosine\n",
      " acc = 0.8707499911180587\n",
      " f2-score = 0.1789446606000193\n",
      "preprocessing: One Hot Encoding (1) k= 11 metric: manhattan\n",
      " acc = 0.8710164493551711\n",
      " f2-score = 0.1950479233226837\n",
      "preprocessing: One Hot Encoding (1) k= 11 metric: jaccard\n",
      " acc = 0.8683873947489963\n",
      " f2-score = 0.201730476673428\n",
      "preprocessing: One Hot Encoding (1) k= 12 metric: euclidean\n",
      " acc = 0.8731481152520695\n",
      " f2-score = 0.1510494997711371\n",
      "preprocessing: One Hot Encoding (1) k= 12 metric: cosine\n",
      " acc = 0.8721888655984652\n",
      " f2-score = 0.1275543836519446\n",
      "preprocessing: One Hot Encoding (1) k= 12 metric: manhattan\n",
      " acc = 0.8727750737201123\n",
      " f2-score = 0.14648597335428326\n",
      "preprocessing: One Hot Encoding (1) k= 12 metric: jaccard\n",
      " acc = 0.870661171705688\n",
      " f2-score = 0.14867769671704012\n",
      "preprocessing: One Hot Encoding (1) k= 13 metric: euclidean\n",
      " acc = 0.8720822823036203\n",
      " f2-score = 0.18906079476150736\n",
      "preprocessing: One Hot Encoding (1) k= 13 metric: cosine\n",
      " acc = 0.8713717270046542\n",
      " f2-score = 0.16244082744309707\n",
      "preprocessing: One Hot Encoding (1) k= 13 metric: manhattan\n",
      " acc = 0.8719046434788787\n",
      " f2-score = 0.1858813700918964\n",
      "preprocessing: One Hot Encoding (1) k= 13 metric: jaccard\n",
      " acc = 0.8697552136995061\n",
      " f2-score = 0.1901887515569608\n",
      "preprocessing: One Hot Encoding (1) k= 14 metric: euclidean\n",
      " acc = 0.8737520872561907\n",
      " f2-score = 0.14890898368390013\n",
      "preprocessing: One Hot Encoding (1) k= 14 metric: cosine\n",
      " acc = 0.8730770597221729\n",
      " f2-score = 0.1238425925925926\n",
      "preprocessing: One Hot Encoding (1) k= 14 metric: manhattan\n",
      " acc = 0.8734678651366042\n",
      " f2-score = 0.1451295506723516\n",
      "preprocessing: One Hot Encoding (1) k= 14 metric: jaccard\n",
      " acc = 0.8712829075922833\n",
      " f2-score = 0.14423862262733184\n",
      "preprocessing: One Hot Encoding (1) k= 15 metric: euclidean\n",
      " acc = 0.8730770597221729\n",
      " f2-score = 0.1798514691637068\n",
      "preprocessing: One Hot Encoding (1) k= 15 metric: cosine\n",
      " acc = 0.873325754076811\n",
      " f2-score = 0.15997654111820672\n",
      "preprocessing: One Hot Encoding (1) k= 15 metric: manhattan\n",
      " acc = 0.8730948236046471\n",
      " f2-score = 0.18135467423924617\n",
      "preprocessing: One Hot Encoding (1) k= 15 metric: jaccard\n",
      " acc = 0.8700216719366185\n",
      " f2-score = 0.18347006794000773\n"
     ]
    }
   ],
   "source": [
    "preprocessing = \"One Hot Encoding (1)\"\n",
    "\n",
    "#load data\n",
    "data_train, data_validation, target_train, target_validation = get_preprocessed_brfss_dataset_one_hot_encoded_train_test_split()\n",
    "\n",
    "for n_neighbors in range(n_neighbors_start, n_neighbors_end):\n",
    "    for metric in metrics:\n",
    "        knn_estimator = KNeighborsClassifier(n_neighbors=n_neighbors, metric=metric)\n",
    "        knn_estimator.fit(data_train, target_train.values.ravel())\n",
    "        diabetes_test_prediction = knn_estimator.predict(data_validation)\n",
    "        print(evaluation(target_validation, diabetes_test_prediction, n_neighbors, metric, preprocessing))"
   ],
   "metadata": {
    "collapsed": false
   }
  },
  {
   "cell_type": "markdown",
   "source": [
    "# One Hot Encoding (2)\n",
    "all columns one hot encoded"
   ],
   "metadata": {
    "collapsed": false
   }
  },
  {
   "cell_type": "code",
   "execution_count": null,
   "outputs": [],
   "source": [
    "preprocessing = \"One Hot Encoding (2)\"\n",
    "\n",
    "#load data\n",
    "data_train, data_validation, target_train, target_validation = get_preprocessed_brfss_dataset_one_hot_encoded_all_columns_train_test_split()\n",
    "\n",
    "for n_neighbors in range(n_neighbors_start, n_neighbors_end):\n",
    "    for metric in metrics:\n",
    "        knn_estimator = KNeighborsClassifier(n_neighbors=n_neighbors, metric=metric)\n",
    "        knn_estimator.fit(data_train, target_train.values.ravel())\n",
    "        diabetes_test_prediction = knn_estimator.predict(data_validation)\n",
    "        print(evaluation(target_validation, diabetes_test_prediction, n_neighbors, metric, preprocessing))"
   ],
   "metadata": {
    "collapsed": false
   }
  },
  {
   "cell_type": "markdown",
   "source": [
    "# One Hot Encoding (1) + Oversampling"
   ],
   "metadata": {
    "collapsed": false
   }
  },
  {
   "cell_type": "code",
   "execution_count": null,
   "outputs": [],
   "source": [
    "preprocessing = \"One Hot Encoding (1) + Oversampling\"\n",
    "\n",
    "#load data\n",
    "data_train, data_validation, target_train, target_validation = get_preprocessed_brfss_dataset_one_hot_encoded_train_test_split_oversampled()\n",
    "\n",
    "for n_neighbors in range(n_neighbors_start, n_neighbors_end):\n",
    "    for metric in metrics:\n",
    "        knn_estimator = KNeighborsClassifier(n_neighbors=n_neighbors, metric=metric)\n",
    "        knn_estimator.fit(data_train, target_train.values.ravel())\n",
    "        diabetes_test_prediction = knn_estimator.predict(data_validation)\n",
    "        print(evaluation(target_validation, diabetes_test_prediction, n_neighbors, metric, preprocessing))"
   ],
   "metadata": {
    "collapsed": false
   }
  },
  {
   "cell_type": "markdown",
   "source": [
    "# One Hot Encoding (2) + Oversampling"
   ],
   "metadata": {
    "collapsed": false
   }
  },
  {
   "cell_type": "code",
   "execution_count": null,
   "outputs": [],
   "source": [
    "preprocessing = \"One Hot Encoding (2) + Oversampling\"\n",
    "\n",
    "#load data\n",
    "data_train, data_validation, target_train, target_validation = get_preprocessed_brfss_dataset_one_hot_encoded_all_columns_train_test_split_oversampled()\n",
    "\n",
    "for n_neighbors in range(n_neighbors_start, n_neighbors_end):\n",
    "    for metric in metrics:\n",
    "        knn_estimator = KNeighborsClassifier(n_neighbors=n_neighbors, metric=metric)\n",
    "        knn_estimator.fit(data_train, target_train.values.ravel())\n",
    "        diabetes_test_prediction = knn_estimator.predict(data_validation)\n",
    "        print(evaluation(target_validation, diabetes_test_prediction, n_neighbors, metric, preprocessing))"
   ],
   "metadata": {
    "collapsed": false
   }
  },
  {
   "cell_type": "markdown",
   "source": [
    "# One Hot Encoding (1) + Undersampling"
   ],
   "metadata": {
    "collapsed": false
   }
  },
  {
   "cell_type": "code",
   "execution_count": null,
   "outputs": [],
   "source": [
    "preprocessing = \"One Hot Encoding (1) + Undersampling\"\n",
    "\n",
    "#load data\n",
    "data_train, data_validation, target_train, target_validation = get_preprocessed_brfss_dataset_one_hot_encoded_train_test_split_undersampled()\n",
    "\n",
    "for n_neighbors in range(n_neighbors_start, n_neighbors_end):\n",
    "    for metric in metrics:\n",
    "        knn_estimator = KNeighborsClassifier(n_neighbors=n_neighbors, metric=metric)\n",
    "        knn_estimator.fit(data_train, target_train.values.ravel())\n",
    "        diabetes_test_prediction = knn_estimator.predict(data_validation)\n",
    "        print(evaluation(target_validation, diabetes_test_prediction, n_neighbors, metric, preprocessing))"
   ],
   "metadata": {
    "collapsed": false
   }
  },
  {
   "cell_type": "markdown",
   "source": [
    "# One Hot Encoding (2) + Undersampling"
   ],
   "metadata": {
    "collapsed": false
   }
  },
  {
   "cell_type": "code",
   "execution_count": null,
   "outputs": [],
   "source": [
    "preprocessing = \"One Hot Encoding (2) + Undersampling\"\n",
    "\n",
    "#load data\n",
    "data_train, data_validation, target_train, target_validation = get_preprocessed_brfss_dataset_one_hot_encoded_all_columns_train_test_split_undersampled()\n",
    "\n",
    "for n_neighbors in range(n_neighbors_start, n_neighbors_end):\n",
    "    for metric in metrics:\n",
    "        knn_estimator = KNeighborsClassifier(n_neighbors=n_neighbors, metric=metric)\n",
    "        knn_estimator.fit(data_train, target_train.values.ravel())\n",
    "        diabetes_test_prediction = knn_estimator.predict(data_validation)\n",
    "        print(evaluation(target_validation, diabetes_test_prediction, n_neighbors, metric, preprocessing))"
   ],
   "metadata": {
    "collapsed": false
   }
  },
  {
   "cell_type": "markdown",
   "source": [
    "# Evaluation of best approach\n",
    "We use the following loop to print all F2- and accuracy-scores and thereby also analyze which approach performed best."
   ],
   "metadata": {
    "collapsed": false
   }
  },
  {
   "cell_type": "code",
   "execution_count": 7,
   "outputs": [
    {
     "name": "stdout",
     "output_type": "stream",
     "text": [
      "Nr.0) k= 5 metric: cosine\n",
      "Weighted F1-Score = 0.8086342517615546\n",
      "Accuracy-Score = 0.8348629810814321\n",
      "\n",
      "Nr.1) k= 5 metric: manhattan\n",
      "Weighted F1-Score = 0.8107654592583807\n",
      "Accuracy-Score = 0.8379150612580631\n",
      "\n",
      "Nr.2) k= 6 metric: cosine\n",
      "Weighted F1-Score = 0.8117186129597088\n",
      "Accuracy-Score = 0.8322438200787913\n",
      "\n",
      "Nr.3) k= 6 metric: manhattan\n",
      "Weighted F1-Score = 0.8125962193311277\n",
      "Accuracy-Score = 0.8342136023204467\n",
      "\n",
      "--------- Best Approaches ---------\n",
      "Best Approach regarding F1-Score:\n",
      "Nr.3) Parameter: (k= 6 metric: manhattan) with f1-score = 0.8125962193311277\n",
      "\n",
      "Best Approach regarding Accuracy:\n",
      "Nr.1) Parameter: (k= 5 metric: manhattan) with acc = 0.8379150612580631\n"
     ]
    }
   ],
   "source": [
    "highest_acc = [0.0, None, None]\n",
    "highest_f2 = [0.0, None, None]\n",
    "\n",
    "for i in range(0, len(approach_list)):\n",
    "    print(\"Nr.{}) {}\".format(i, approach_list[i]))\n",
    "    print (\"Weighted F2-Score = {}\".format(f2_list[i]))\n",
    "    print (\"Accuracy-Score = {}\\n\".format(acc_list[i]))\n",
    "    if highest_f2[0] < float(f2_list[i]):\n",
    "        highest_f2[0] = f2_list[i]\n",
    "        highest_f2[1] = i\n",
    "        highest_f2[2] = approach_list[i]\n",
    "    if highest_acc[0] < float(acc_list[i]):\n",
    "        highest_acc[0] = acc_list[i]\n",
    "        highest_acc[1] = i\n",
    "        highest_acc[2] = approach_list[i]\n",
    "\n",
    "print(\"--------- Best Approaches ---------\")\n",
    "print(\"Best Approach regarding F2-Score:\\nNr.{}) {} with f2-score = {}\\n\".format(highest_f2[1], highest_f2[2], highest_f2[0]))\n",
    "print(\"Best Approach regarding Accuracy:\\nNr.{}) {} with acc = {}\".format(highest_acc[1], highest_acc[2], highest_acc[0]))"
   ],
   "metadata": {
    "collapsed": false
   }
  },
  {
   "cell_type": "markdown",
   "source": [
    "We can see that approach _tbd_ with k = _tbd_ and metric = _tbd_ performed best.\n",
    "We test this approach now finally against the test data that we separated at the beginning:"
   ],
   "metadata": {
    "collapsed": false
   }
  },
  {
   "cell_type": "code",
   "execution_count": null,
   "outputs": [],
   "source": [
    "#tbd"
   ],
   "metadata": {
    "collapsed": false
   }
  }
 ],
 "metadata": {
  "kernelspec": {
   "display_name": "Python 3",
   "language": "python",
   "name": "python3"
  },
  "language_info": {
   "codemirror_mode": {
    "name": "ipython",
    "version": 2
   },
   "file_extension": ".py",
   "mimetype": "text/x-python",
   "name": "python",
   "nbconvert_exporter": "python",
   "pygments_lexer": "ipython2",
   "version": "2.7.6"
  }
 },
 "nbformat": 4,
 "nbformat_minor": 0
}
