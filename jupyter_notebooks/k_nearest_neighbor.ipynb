{
 "cells": [
  {
   "cell_type": "markdown",
   "source": [
    "# K-nearest neighbor\n",
    "In this notebook we want to train a K-nearest-neighbor classifier that should predict whether a patient has diabetes or not."
   ],
   "metadata": {
    "collapsed": false
   }
  },
  {
   "cell_type": "code",
   "execution_count": 1,
   "outputs": [],
   "source": [
    "#imports\n",
    "from preprocessing.preprocessing_label_encoding import *\n",
    "from preprocessing.preprocessing_one_hot_encoding import *\n",
    "\n",
    "from sklearn.neighbors import KNeighborsClassifier\n",
    "from sklearn.metrics import *\n",
    "\n",
    "import warnings\n",
    "warnings.filterwarnings('ignore')\n",
    "\n",
    "#used to store the results and compare at the end\n",
    "approach_list = []\n",
    "acc_list = []\n",
    "cr_list = []\n",
    "f2_list = []"
   ],
   "metadata": {
    "collapsed": false
   }
  },
  {
   "cell_type": "markdown",
   "source": [
    "# Hyperparameter tuning and preprocessing\n",
    "We will evaluate different parameters for the classifier (hyperparameter tuning) as well as different preprocessing steps based on the accuracy and F2-Score.\n",
    "\n",
    "In detail, we will vary regarding parameters:<br>\n",
    "\n",
    "| **Parameter** |                    **range Values**                    |\n",
    "|:-------------:|:------------------------------------------------------:|\n",
    "|    metric     | 'euclidean',<br>'cosine',<br>'manhattan',<br>'jaccard' |\n",
    "|  K-neighbors  |                          1-15                          |\n",
    "\n",
    "And we will vary for preprocessing:\n",
    "\n",
    "\n",
    "|              **Preprocessing**              |                           **Description**                           |\n",
    "|:-------------------------------------------:|:-------------------------------------------------------------------:|\n",
    "|               Label Encoding                |                           Label encoding                            |\n",
    "|     Label Encoding<br>+<br>Oversampling     |                   Label encoding and oversampling                   |\n",
    "|    Label Encoding<br>+<br>Undersampling     |                  Label encoding and undersampling                   |\n",
    "|            One Hot Encoding (1)             |           One hot encoding for all columns except yes/no            |\n",
    "|            One Hot Encoding (2)             |          One hot encoding for all columns including yes/no          |\n",
    "|  One Hot Encoding (1)<br>+<br>Oversampling  |   One hot encoding for all columns except yes/no and oversampling   |\n",
    "| One Hot Encoding (2) <br>+<br>Oversampling  | One hot encoding for all columns including yes/no and oversampling  |\n",
    "| One Hot Encoding (1)<br>+<br>Undersampling  |  One hot encoding for all columns except yes/no and undersampling   |\n",
    "| One Hot Encoding (2) <br>+<br>Undersampling | One hot encoding for all columns including yes/no and undersampling |"
   ],
   "metadata": {
    "collapsed": false
   }
  },
  {
   "cell_type": "code",
   "execution_count": 2,
   "outputs": [],
   "source": [
    "#metrics that should be used\n",
    "metrics = ('euclidean', 'cosine', 'manhattan', 'jaccard')\n",
    "n_neighbors_start = 1\n",
    "n_neighbors_end = 16"
   ],
   "metadata": {
    "collapsed": false
   }
  },
  {
   "cell_type": "markdown",
   "source": [
    "The below defined function is used to store all the accuracy and F2-scores for a better comparison and evaluation capability at the end. It also returns the Accuracy score and F2-Score to see the performance directly under each method."
   ],
   "metadata": {
    "collapsed": false
   }
  },
  {
   "cell_type": "code",
   "execution_count": 3,
   "outputs": [],
   "source": [
    "def evaluation(target_validation, diabetes_test_prediction, k, metric, preprocessing):\n",
    "    approach = \"preprocessing: {} k= {} metric: {}\".format(preprocessing, k, metric)\n",
    "    approach_list.append(approach)\n",
    "    acc = accuracy_score(target_validation, diabetes_test_prediction)\n",
    "    acc_list.append(acc)\n",
    "    cr = classification_report(target_validation, diabetes_test_prediction)\n",
    "    cr_list.append(cr)\n",
    "    f2 = fbeta_score(target_validation, diabetes_test_prediction, beta=2)\n",
    "    f2_list.append(f2)\n",
    "    return \"{}\\n acc = {}\\n f2-score = {}\".format(approach, acc, f2)"
   ],
   "metadata": {
    "collapsed": false
   }
  },
  {
   "cell_type": "markdown",
   "source": [
    "We start with applying a K-nearest neighbor classifier to the train data and test against the validation data on how it performs by using the accuracy and F2-score.\n",
    "\n",
    "We will do so for each combination that is listed above by using two for loops. The following estimators are structured by the different style of preprocessing.\n",
    "\n",
    "At the end we test the best approach against the actual test data."
   ],
   "metadata": {
    "collapsed": false
   }
  },
  {
   "cell_type": "markdown",
   "source": [
    "# Label Encoding"
   ],
   "metadata": {
    "collapsed": false
   }
  },
  {
   "cell_type": "code",
   "execution_count": 6,
   "outputs": [
    {
     "name": "stdout",
     "output_type": "stream",
     "text": [
      "preprocessing: Label Encoding k= 1 metric: euclidean\n",
      " acc = 0.8216150921945501\n",
      " f2-score = 0.2991179498594841\n",
      "preprocessing: Label Encoding k= 1 metric: cosine\n",
      " acc = 0.8197854122997122\n",
      " f2-score = 0.30350420726306465\n",
      "preprocessing: Label Encoding k= 1 metric: manhattan\n",
      " acc = 0.8230717305574307\n",
      " f2-score = 0.30445551442963287\n",
      "preprocessing: Label Encoding k= 1 metric: jaccard\n",
      " acc = 0.8529328169964827\n",
      " f2-score = 0.0535538814281035\n",
      "preprocessing: Label Encoding k= 2 metric: euclidean\n",
      " acc = 0.8652431875510712\n",
      " f2-score = 0.13700404858299592\n",
      "preprocessing: Label Encoding k= 2 metric: cosine\n",
      " acc = 0.8652076597861229\n",
      " f2-score = 0.13989972505256346\n",
      "preprocessing: Label Encoding k= 2 metric: manhattan\n",
      " acc = 0.8662379649696238\n",
      " f2-score = 0.1413856768049752\n",
      "preprocessing: Label Encoding k= 2 metric: jaccard\n",
      " acc = 0.8721178100685686\n",
      " f2-score = 0.0\n",
      "preprocessing: Label Encoding k= 3 metric: euclidean\n",
      " acc = 0.8516005258109213\n",
      " f2-score = 0.2606394114304513\n",
      "preprocessing: Label Encoding k= 3 metric: cosine\n",
      " acc = 0.8518492201655594\n",
      " f2-score = 0.2670286720171853\n",
      "preprocessing: Label Encoding k= 3 metric: manhattan\n",
      " acc = 0.8518136924006111\n",
      " f2-score = 0.2600628460272333\n",
      "preprocessing: Label Encoding k= 3 metric: jaccard\n",
      " acc = 0.8716914768891889\n",
      " f2-score = 0.0008671522719389524\n",
      "preprocessing: Label Encoding k= 4 metric: euclidean\n",
      " acc = 0.868227519806729\n",
      " f2-score = 0.14938915713406137\n",
      "preprocessing: Label Encoding k= 4 metric: cosine\n",
      " acc = 0.8677478949799268\n",
      " f2-score = 0.15199534312140223\n",
      "preprocessing: Label Encoding k= 4 metric: manhattan\n",
      " acc = 0.8696308665221871\n",
      " f2-score = 0.15738341968911918\n",
      "preprocessing: Label Encoding k= 4 metric: jaccard\n",
      " acc = 0.8719046434788787\n",
      " f2-score = 0.0008675133597057394\n"
     ]
    }
   ],
   "source": [
    "preprocessing = \"Label Encoding\"\n",
    "\n",
    "#load data\n",
    "data_train, data_validation, target_train, target_validation = get_preprocessed_brfss_dataset_label_encoded_train_test_split()\n",
    "\n",
    "for n_neighbors in range(1,5):\n",
    "    for metric in metrics:\n",
    "        knn_estimator = KNeighborsClassifier(n_neighbors=n_neighbors, metric=metric)\n",
    "        knn_estimator.fit(data_train, target_train.values.ravel())\n",
    "        diabetes_test_prediction = knn_estimator.predict(data_validation)\n",
    "        print(evaluation(target_validation, diabetes_test_prediction, n_neighbors, metric, preprocessing))"
   ],
   "metadata": {
    "collapsed": false
   }
  },
  {
   "cell_type": "markdown",
   "source": [
    "# Label Encoding + Oversampling"
   ],
   "metadata": {
    "collapsed": false
   }
  },
  {
   "cell_type": "code",
   "execution_count": 4,
   "outputs": [
    {
     "name": "stdout",
     "output_type": "stream",
     "text": [
      "preprocessing: Label Encoding + Oversampling k= 5 metric: euclidean\n",
      " acc = 0.7431342594237397\n",
      " f2-score = 0.474826447395026\n",
      "preprocessing: Label Encoding + Oversampling k= 5 metric: cosine\n",
      " acc = 0.7372544143247949\n",
      " f2-score = 0.47358103893789544\n",
      "preprocessing: Label Encoding + Oversampling k= 5 metric: manhattan\n",
      " acc = 0.7453192169680606\n",
      " f2-score = 0.48150811126589665\n",
      "preprocessing: Label Encoding + Oversampling k= 5 metric: jaccard\n",
      " acc = 0.5244608661669095\n",
      " f2-score = 0.40419447092469013\n",
      "preprocessing: Label Encoding + Oversampling k= 6 metric: euclidean\n",
      " acc = 0.7478239243969161\n",
      " f2-score = 0.47096437722500617\n",
      "preprocessing: Label Encoding + Oversampling k= 6 metric: cosine\n",
      " acc = 0.7422815930649803\n",
      " f2-score = 0.4692105203950772\n",
      "preprocessing: Label Encoding + Oversampling k= 6 metric: manhattan\n",
      " acc = 0.750008881941237\n",
      " f2-score = 0.47706546889887025\n",
      "preprocessing: Label Encoding + Oversampling k= 6 metric: jaccard\n",
      " acc = 0.6273492734572068\n",
      " f2-score = 0.4067926606226278\n",
      "preprocessing: Label Encoding + Oversampling k= 7 metric: euclidean\n",
      " acc = 0.7175897964259068\n",
      " f2-score = 0.5034186031651366\n",
      "preprocessing: Label Encoding + Oversampling k= 7 metric: cosine\n",
      " acc = 0.7100756741393399\n",
      " f2-score = 0.5058271625715247\n",
      "preprocessing: Label Encoding + Oversampling k= 7 metric: manhattan\n",
      " acc = 0.7180161296052865\n",
      " f2-score = 0.5063102560282631\n",
      "preprocessing: Label Encoding + Oversampling k= 7 metric: jaccard\n",
      " acc = 0.5255266991153587\n",
      " f2-score = 0.4039606366176649\n",
      "preprocessing: Label Encoding + Oversampling k= 8 metric: euclidean\n",
      " acc = 0.7277152094361744\n",
      " f2-score = 0.4976030888700896\n",
      "preprocessing: Label Encoding + Oversampling k= 8 metric: cosine\n",
      " acc = 0.7206451842114613\n",
      " f2-score = 0.49962482581198414\n",
      "preprocessing: Label Encoding + Oversampling k= 8 metric: manhattan\n",
      " acc = 0.7275198067289587\n",
      " f2-score = 0.4986996098829649\n",
      "preprocessing: Label Encoding + Oversampling k= 8 metric: jaccard\n",
      " acc = 0.6518279035065904\n",
      " f2-score = 0.4082295834433454\n",
      "preprocessing: Label Encoding + Oversampling k= 9 metric: euclidean\n",
      " acc = 0.7005719970156677\n",
      " f2-score = 0.5176822352819879\n",
      "preprocessing: Label Encoding + Oversampling k= 9 metric: cosine\n",
      " acc = 0.6928624720218851\n",
      " f2-score = 0.5161718192021223\n",
      "preprocessing: Label Encoding + Oversampling k= 9 metric: manhattan\n",
      " acc = 0.701531246669272\n",
      " f2-score = 0.5186683453385895\n",
      "preprocessing: Label Encoding + Oversampling k= 9 metric: jaccard\n",
      " acc = 0.651668028564323\n",
      " f2-score = 0.4082399285250163\n",
      "preprocessing: Label Encoding + Oversampling k= 10 metric: euclidean\n",
      " acc = 0.7188687959640458\n",
      " f2-score = 0.5097959965113064\n",
      "preprocessing: Label Encoding + Oversampling k= 10 metric: cosine\n",
      " acc = 0.711372437559953\n",
      " f2-score = 0.5077804215535575\n",
      "preprocessing: Label Encoding + Oversampling k= 10 metric: manhattan\n",
      " acc = 0.7203254343269265\n",
      " f2-score = 0.5131424922847718\n",
      "preprocessing: Label Encoding + Oversampling k= 10 metric: jaccard\n",
      " acc = 0.7276263900238036\n",
      " f2-score = 0.3014716388055436\n",
      "preprocessing: Label Encoding + Oversampling k= 11 metric: euclidean\n",
      " acc = 0.697250150993001\n",
      " f2-score = 0.5274442538593481\n",
      "preprocessing: Label Encoding + Oversampling k= 11 metric: cosine\n",
      " acc = 0.6890965289373645\n",
      " f2-score = 0.5237459816825378\n",
      "preprocessing: Label Encoding + Oversampling k= 11 metric: manhattan\n",
      " acc = 0.6985469144136143\n",
      " f2-score = 0.5287960255964671\n",
      "preprocessing: Label Encoding + Oversampling k= 11 metric: jaccard\n",
      " acc = 0.7263651543681388\n",
      " f2-score = 0.3013809331400185\n",
      "preprocessing: Label Encoding + Oversampling k= 12 metric: euclidean\n",
      " acc = 0.7165417273599318\n",
      " f2-score = 0.5198051126297141\n",
      "preprocessing: Label Encoding + Oversampling k= 12 metric: cosine\n",
      " acc = 0.7099513269620208\n",
      " f2-score = 0.5190857238367841\n",
      "preprocessing: Label Encoding + Oversampling k= 12 metric: manhattan\n",
      " acc = 0.7176253241908551\n",
      " f2-score = 0.521226962781566\n",
      "preprocessing: Label Encoding + Oversampling k= 12 metric: jaccard\n",
      " acc = 0.7275908622588553\n",
      " f2-score = 0.301457281645871\n",
      "preprocessing: Label Encoding + Oversampling k= 13 metric: euclidean\n",
      " acc = 0.698635733825985\n",
      " f2-score = 0.5331932430226864\n",
      "preprocessing: Label Encoding + Oversampling k= 13 metric: cosine\n",
      " acc = 0.6902867090631328\n",
      " f2-score = 0.5303580800129184\n",
      "preprocessing: Label Encoding + Oversampling k= 13 metric: manhattan\n",
      " acc = 0.6989377198280456\n",
      " f2-score = 0.5355431879803478\n",
      "preprocessing: Label Encoding + Oversampling k= 13 metric: jaccard\n",
      " acc = 0.7191352542011582\n",
      " f2-score = 0.30582797616254515\n",
      "preprocessing: Label Encoding + Oversampling k= 14 metric: euclidean\n",
      " acc = 0.7194372402032189\n",
      " f2-score = 0.5269434535745193\n",
      "preprocessing: Label Encoding + Oversampling k= 14 metric: cosine\n",
      " acc = 0.7119586456816002\n",
      " f2-score = 0.5256892230576442\n",
      "preprocessing: Label Encoding + Oversampling k= 14 metric: manhattan\n",
      " acc = 0.7200412122073401\n",
      " f2-score = 0.529985023308794\n",
      "preprocessing: Label Encoding + Oversampling k= 14 metric: jaccard\n",
      " acc = 0.7285501119124596\n",
      " f2-score = 0.3013211866832014\n",
      "preprocessing: Label Encoding + Oversampling k= 15 metric: euclidean\n",
      " acc = 0.702454968557928\n",
      " f2-score = 0.5368296029324432\n",
      "preprocessing: Label Encoding + Oversampling k= 15 metric: cosine\n",
      " acc = 0.6946566241517746\n",
      " f2-score = 0.5351570415400202\n",
      "preprocessing: Label Encoding + Oversampling k= 15 metric: manhattan\n",
      " acc = 0.7035208015063772\n",
      " f2-score = 0.5397407278461569\n",
      "preprocessing: Label Encoding + Oversampling k= 15 metric: jaccard\n",
      " acc = 0.7274665150815363\n",
      " f2-score = 0.3014070423541176\n"
     ]
    }
   ],
   "source": [
    "preprocessing = \"Label Encoding + Oversampling\"\n",
    "\n",
    "#load data\n",
    "data_train, data_validation, target_train, target_validation = get_preprocessed_brfss_dataset_label_encoded_train_test_split_oversampled()\n",
    "\n",
    "for n_neighbors in range(5,16):\n",
    "    for metric in metrics:\n",
    "        knn_estimator = KNeighborsClassifier(n_neighbors=n_neighbors, metric=metric)\n",
    "        knn_estimator.fit(data_train, target_train.values.ravel())\n",
    "        diabetes_test_prediction = knn_estimator.predict(data_validation)\n",
    "        print(evaluation(target_validation, diabetes_test_prediction, n_neighbors, metric, preprocessing))"
   ],
   "metadata": {
    "collapsed": false
   }
  },
  {
   "cell_type": "markdown",
   "source": [
    "# Label Encoding + Undersampling"
   ],
   "metadata": {
    "collapsed": false
   }
  },
  {
   "cell_type": "code",
   "execution_count": null,
   "outputs": [],
   "source": [
    "preprocessing = \"Label Encoding + Undersampling\"\n",
    "\n",
    "#load data\n",
    "data_train, data_validation, target_train, target_validation = get_preprocessed_brfss_dataset_label_encoded_train_test_split_undersampled()\n",
    "\n",
    "for n_neighbors in range(n_neighbors_start, n_neighbors_end):\n",
    "    for metric in metrics:\n",
    "        knn_estimator = KNeighborsClassifier(n_neighbors=n_neighbors, metric=metric)\n",
    "        knn_estimator.fit(data_train, target_train.values.ravel())\n",
    "        diabetes_test_prediction = knn_estimator.predict(data_validation)\n",
    "        print(evaluation(target_validation, diabetes_test_prediction, n_neighbors, metric, preprocessing))"
   ],
   "metadata": {
    "collapsed": false
   }
  },
  {
   "cell_type": "markdown",
   "source": [
    "# One Hot Encoding (1)\n",
    "yes/no values not one hot encoded"
   ],
   "metadata": {
    "collapsed": false
   }
  },
  {
   "cell_type": "code",
   "execution_count": null,
   "outputs": [],
   "source": [
    "preprocessing = \"One Hot Encoding (1)\"\n",
    "\n",
    "#load data\n",
    "data_train, data_validation, target_train, target_validation = get_preprocessed_brfss_dataset_one_hot_encoded_train_test_split()\n",
    "\n",
    "for n_neighbors in range(n_neighbors_start, n_neighbors_end):\n",
    "    for metric in metrics:\n",
    "        knn_estimator = KNeighborsClassifier(n_neighbors=n_neighbors, metric=metric)\n",
    "        knn_estimator.fit(data_train, target_train.values.ravel())\n",
    "        diabetes_test_prediction = knn_estimator.predict(data_validation)\n",
    "        print(evaluation(target_validation, diabetes_test_prediction, n_neighbors, metric, preprocessing))"
   ],
   "metadata": {
    "collapsed": false
   }
  },
  {
   "cell_type": "markdown",
   "source": [
    "# One Hot Encoding (2)\n",
    "all columns one hot encoded"
   ],
   "metadata": {
    "collapsed": false
   }
  },
  {
   "cell_type": "code",
   "execution_count": null,
   "outputs": [],
   "source": [
    "preprocessing = \"One Hot Encoding (2)\"\n",
    "\n",
    "#load data\n",
    "data_train, data_validation, target_train, target_validation = get_preprocessed_brfss_dataset_one_hot_encoded_all_columns_train_test_split()\n",
    "\n",
    "for n_neighbors in range(n_neighbors_start, n_neighbors_end):\n",
    "    for metric in metrics:\n",
    "        knn_estimator = KNeighborsClassifier(n_neighbors=n_neighbors, metric=metric)\n",
    "        knn_estimator.fit(data_train, target_train.values.ravel())\n",
    "        diabetes_test_prediction = knn_estimator.predict(data_validation)\n",
    "        print(evaluation(target_validation, diabetes_test_prediction, n_neighbors, metric, preprocessing))"
   ],
   "metadata": {
    "collapsed": false
   }
  },
  {
   "cell_type": "markdown",
   "source": [
    "# One Hot Encoding (1) + Oversampling"
   ],
   "metadata": {
    "collapsed": false
   }
  },
  {
   "cell_type": "code",
   "execution_count": null,
   "outputs": [],
   "source": [
    "preprocessing = \"One Hot Encoding (1) + Oversampling\"\n",
    "\n",
    "#load data\n",
    "data_train, data_validation, target_train, target_validation = get_preprocessed_brfss_dataset_one_hot_encoded_train_test_split_oversampled()\n",
    "\n",
    "for n_neighbors in range(n_neighbors_start, n_neighbors_end):\n",
    "    for metric in metrics:\n",
    "        knn_estimator = KNeighborsClassifier(n_neighbors=n_neighbors, metric=metric)\n",
    "        knn_estimator.fit(data_train, target_train.values.ravel())\n",
    "        diabetes_test_prediction = knn_estimator.predict(data_validation)\n",
    "        print(evaluation(target_validation, diabetes_test_prediction, n_neighbors, metric, preprocessing))"
   ],
   "metadata": {
    "collapsed": false
   }
  },
  {
   "cell_type": "markdown",
   "source": [
    "# One Hot Encoding (2) + Oversampling"
   ],
   "metadata": {
    "collapsed": false
   }
  },
  {
   "cell_type": "code",
   "execution_count": null,
   "outputs": [],
   "source": [
    "preprocessing = \"One Hot Encoding (2) + Oversampling\"\n",
    "\n",
    "#load data\n",
    "data_train, data_validation, target_train, target_validation = get_preprocessed_brfss_dataset_one_hot_encoded_all_columns_train_test_split_oversampled()\n",
    "\n",
    "for n_neighbors in range(n_neighbors_start, n_neighbors_end):\n",
    "    for metric in metrics:\n",
    "        knn_estimator = KNeighborsClassifier(n_neighbors=n_neighbors, metric=metric)\n",
    "        knn_estimator.fit(data_train, target_train.values.ravel())\n",
    "        diabetes_test_prediction = knn_estimator.predict(data_validation)\n",
    "        print(evaluation(target_validation, diabetes_test_prediction, n_neighbors, metric, preprocessing))"
   ],
   "metadata": {
    "collapsed": false
   }
  },
  {
   "cell_type": "markdown",
   "source": [
    "# One Hot Encoding (1) + Undersampling"
   ],
   "metadata": {
    "collapsed": false
   }
  },
  {
   "cell_type": "code",
   "execution_count": null,
   "outputs": [],
   "source": [
    "preprocessing = \"One Hot Encoding (1) + Undersampling\"\n",
    "\n",
    "#load data\n",
    "data_train, data_validation, target_train, target_validation = get_preprocessed_brfss_dataset_one_hot_encoded_train_test_split_undersampled()\n",
    "\n",
    "for n_neighbors in range(n_neighbors_start, n_neighbors_end):\n",
    "    for metric in metrics:\n",
    "        knn_estimator = KNeighborsClassifier(n_neighbors=n_neighbors, metric=metric)\n",
    "        knn_estimator.fit(data_train, target_train.values.ravel())\n",
    "        diabetes_test_prediction = knn_estimator.predict(data_validation)\n",
    "        print(evaluation(target_validation, diabetes_test_prediction, n_neighbors, metric, preprocessing))"
   ],
   "metadata": {
    "collapsed": false
   }
  },
  {
   "cell_type": "markdown",
   "source": [
    "# One Hot Encoding (2) + Undersampling"
   ],
   "metadata": {
    "collapsed": false
   }
  },
  {
   "cell_type": "code",
   "execution_count": null,
   "outputs": [],
   "source": [
    "preprocessing = \"One Hot Encoding (2) + Undersampling\"\n",
    "\n",
    "#load data\n",
    "data_train, data_validation, target_train, target_validation = get_preprocessed_brfss_dataset_one_hot_encoded_all_columns_train_test_split_undersampled()\n",
    "\n",
    "for n_neighbors in range(n_neighbors_start, n_neighbors_end):\n",
    "    for metric in metrics:\n",
    "        knn_estimator = KNeighborsClassifier(n_neighbors=n_neighbors, metric=metric)\n",
    "        knn_estimator.fit(data_train, target_train.values.ravel())\n",
    "        diabetes_test_prediction = knn_estimator.predict(data_validation)\n",
    "        print(evaluation(target_validation, diabetes_test_prediction, n_neighbors, metric, preprocessing))"
   ],
   "metadata": {
    "collapsed": false
   }
  },
  {
   "cell_type": "markdown",
   "source": [
    "# Evaluation of best approach\n",
    "We use the following loop to print all F2- and accuracy-scores and thereby also analyze which approach performed best."
   ],
   "metadata": {
    "collapsed": false
   }
  },
  {
   "cell_type": "code",
   "execution_count": 7,
   "outputs": [
    {
     "name": "stdout",
     "output_type": "stream",
     "text": [
      "Nr.0) k= 5 metric: cosine\n",
      "Weighted F1-Score = 0.8086342517615546\n",
      "Accuracy-Score = 0.8348629810814321\n",
      "\n",
      "Nr.1) k= 5 metric: manhattan\n",
      "Weighted F1-Score = 0.8107654592583807\n",
      "Accuracy-Score = 0.8379150612580631\n",
      "\n",
      "Nr.2) k= 6 metric: cosine\n",
      "Weighted F1-Score = 0.8117186129597088\n",
      "Accuracy-Score = 0.8322438200787913\n",
      "\n",
      "Nr.3) k= 6 metric: manhattan\n",
      "Weighted F1-Score = 0.8125962193311277\n",
      "Accuracy-Score = 0.8342136023204467\n",
      "\n",
      "--------- Best Approaches ---------\n",
      "Best Approach regarding F1-Score:\n",
      "Nr.3) Parameter: (k= 6 metric: manhattan) with f1-score = 0.8125962193311277\n",
      "\n",
      "Best Approach regarding Accuracy:\n",
      "Nr.1) Parameter: (k= 5 metric: manhattan) with acc = 0.8379150612580631\n"
     ]
    }
   ],
   "source": [
    "highest_acc = [0.0, None, None]\n",
    "highest_f2 = [0.0, None, None]\n",
    "\n",
    "for i in range(0, len(approach_list)):\n",
    "    print(\"Nr.{}) {}\".format(i, approach_list[i]))\n",
    "    print (\"Weighted F2-Score = {}\".format(f2_list[i]))\n",
    "    print (\"Accuracy-Score = {}\\n\".format(acc_list[i]))\n",
    "    if highest_f2[0] < float(f2_list[i]):\n",
    "        highest_f2[0] = f2_list[i]\n",
    "        highest_f2[1] = i\n",
    "        highest_f2[2] = approach_list[i]\n",
    "    if highest_acc[0] < float(acc_list[i]):\n",
    "        highest_acc[0] = acc_list[i]\n",
    "        highest_acc[1] = i\n",
    "        highest_acc[2] = approach_list[i]\n",
    "\n",
    "print(\"--------- Best Approaches ---------\")\n",
    "print(\"Best Approach regarding F2-Score:\\nNr.{}) {} with f2-score = {}\\n\".format(highest_f2[1], highest_f2[2], highest_f2[0]))\n",
    "print(\"Best Approach regarding Accuracy:\\nNr.{}) {} with acc = {}\".format(highest_acc[1], highest_acc[2], highest_acc[0]))"
   ],
   "metadata": {
    "collapsed": false
   }
  },
  {
   "cell_type": "markdown",
   "source": [
    "We can see that approach _tbd_ with k = _tbd_ and metric = _tbd_ performed best.\n",
    "We test this approach now finally against the test data that we separated at the beginning:"
   ],
   "metadata": {
    "collapsed": false
   }
  },
  {
   "cell_type": "code",
   "execution_count": null,
   "outputs": [],
   "source": [
    "#tbd"
   ],
   "metadata": {
    "collapsed": false
   }
  }
 ],
 "metadata": {
  "kernelspec": {
   "display_name": "Python 3",
   "language": "python",
   "name": "python3"
  },
  "language_info": {
   "codemirror_mode": {
    "name": "ipython",
    "version": 2
   },
   "file_extension": ".py",
   "mimetype": "text/x-python",
   "name": "python",
   "nbconvert_exporter": "python",
   "pygments_lexer": "ipython2",
   "version": "2.7.6"
  }
 },
 "nbformat": 4,
 "nbformat_minor": 0
}
