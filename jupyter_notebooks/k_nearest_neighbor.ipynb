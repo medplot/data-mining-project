{
 "cells": [
  {
   "cell_type": "markdown",
   "source": [
    "# K-nearest neighbor\n",
    "In this notebook we want to train a K-nearest-neighbor classifier that should predict whether a patient has diabetes or not."
   ],
   "metadata": {
    "collapsed": false
   }
  },
  {
   "cell_type": "code",
   "execution_count": 1,
   "outputs": [],
   "source": [
    "#imports\n",
    "from preprocessing.preprocessing_label_encoding import *\n",
    "from preprocessing.preprocessing_one_hot_encoding import *\n",
    "\n",
    "from sklearn.neighbors import KNeighborsClassifier\n",
    "from sklearn.metrics import *\n",
    "\n",
    "import warnings\n",
    "warnings.filterwarnings('ignore')\n",
    "\n",
    "#used to store the results and compare at the end\n",
    "approach_list = []\n",
    "acc_list = []\n",
    "cr_list = []\n",
    "f2_list = []"
   ],
   "metadata": {
    "collapsed": false
   }
  },
  {
   "cell_type": "markdown",
   "source": [
    "# Hyperparameter tuning and preprocessing\n",
    "We will evaluate different parameters for the classifier (hyperparameter tuning) as well as different preprocessing steps based on the accuracy and F2-Score.\n",
    "\n",
    "In detail, we will vary regarding parameters:<br>\n",
    "\n",
    "| **Parameter** |                    **range Values**                    |\n",
    "|:-------------:|:------------------------------------------------------:|\n",
    "|    metric     | 'euclidean',<br>'cosine',<br>'manhattan',<br>'jaccard' |\n",
    "|  K-neighbors  |                          5-15                          |\n",
    "\n",
    "And we will vary for preprocessing:\n",
    "\n",
    "\n",
    "|              **Preprocessing**              |                           **Description**                           |\n",
    "|:-------------------------------------------:|:-------------------------------------------------------------------:|\n",
    "|               Label Encoding                |                           Label encoding                            |\n",
    "|     Label Encoding<br>+<br>Oversampling     |                   Label encoding and oversampling                   |\n",
    "|    Label Encoding<br>+<br>Undersampling     |                  Label encoding and undersampling                   |\n",
    "|            One Hot Encoding (1)             |           One hot encoding for all columns except yes/no            |\n",
    "|            One Hot Encoding (2)             |          One hot encoding for all columns including yes/no          |\n",
    "|  One Hot Encoding (1)<br>+<br>Oversampling  |   One hot encoding for all columns except yes/no and oversampling   |\n",
    "| One Hot Encoding (2) <br>+<br>Oversampling  | One hot encoding for all columns including yes/no and oversampling  |\n",
    "| One Hot Encoding (1)<br>+<br>Undersampling  |  One hot encoding for all columns except yes/no and undersampling   |\n",
    "| One Hot Encoding (2) <br>+<br>Undersampling | One hot encoding for all columns including yes/no and undersampling |"
   ],
   "metadata": {
    "collapsed": false
   }
  },
  {
   "cell_type": "markdown",
   "source": [
    "The below defined function is used to store all the accuracy and F2-scores for a better comparison and evaluation capability at the end. It also returns the Accuracy score and F2-Score to see the performance directly under each method."
   ],
   "metadata": {
    "collapsed": false
   }
  },
  {
   "cell_type": "code",
   "execution_count": 4,
   "outputs": [],
   "source": [
    "def evaluation(target_validation, diabetes_test_prediction, k, metric, preprocessing):\n",
    "    approach = \"preprocessing: {} k= {} metric: {}\".format(preprocessing, k, metric)\n",
    "    approach_list.append(approach)\n",
    "    acc = accuracy_score(target_validation, diabetes_test_prediction)\n",
    "    acc_list.append(acc)\n",
    "    cr = classification_report(target_validation, diabetes_test_prediction)\n",
    "    cr_list.append(cr)\n",
    "    f2 = fbeta_score(target_validation, diabetes_test_prediction, beta=2)\n",
    "    f2_list.append(f2)\n",
    "    return \"{}\\n acc = {}\\n f2-score = {}\".format(approach, acc, f2)"
   ],
   "metadata": {
    "collapsed": false
   }
  },
  {
   "cell_type": "markdown",
   "source": [
    "We start with applying a K-nearest neighbor classifier to the train data and test against the validation data on how it performs by using the accuracy and F2-score.\n",
    "\n",
    "We will do so for each combination that is listed above by using two for loops. The following estimators are structured by the different style of preprocessing.\n",
    "\n",
    "At the end we test the best approach against the actual test data."
   ],
   "metadata": {
    "collapsed": false
   }
  },
  {
   "cell_type": "markdown",
   "source": [
    "# Label Encoding"
   ],
   "metadata": {
    "collapsed": false
   }
  },
  {
   "cell_type": "code",
   "execution_count": 6,
   "outputs": [
    {
     "name": "stdout",
     "output_type": "stream",
     "text": [
      "preprocessing: Label Encoding k= 1 metric: euclidean\n",
      " acc = 0.8216150921945501\n",
      " f2-score = 0.2991179498594841\n",
      "preprocessing: Label Encoding k= 1 metric: cosine\n",
      " acc = 0.8197854122997122\n",
      " f2-score = 0.30350420726306465\n",
      "preprocessing: Label Encoding k= 1 metric: manhattan\n",
      " acc = 0.8230717305574307\n",
      " f2-score = 0.30445551442963287\n",
      "preprocessing: Label Encoding k= 1 metric: jaccard\n",
      " acc = 0.8529328169964827\n",
      " f2-score = 0.0535538814281035\n",
      "preprocessing: Label Encoding k= 2 metric: euclidean\n",
      " acc = 0.8652431875510712\n",
      " f2-score = 0.13700404858299592\n",
      "preprocessing: Label Encoding k= 2 metric: cosine\n",
      " acc = 0.8652076597861229\n",
      " f2-score = 0.13989972505256346\n",
      "preprocessing: Label Encoding k= 2 metric: manhattan\n",
      " acc = 0.8662379649696238\n",
      " f2-score = 0.1413856768049752\n",
      "preprocessing: Label Encoding k= 2 metric: jaccard\n",
      " acc = 0.8721178100685686\n",
      " f2-score = 0.0\n",
      "preprocessing: Label Encoding k= 3 metric: euclidean\n",
      " acc = 0.8516005258109213\n",
      " f2-score = 0.2606394114304513\n",
      "preprocessing: Label Encoding k= 3 metric: cosine\n",
      " acc = 0.8518492201655594\n",
      " f2-score = 0.2670286720171853\n",
      "preprocessing: Label Encoding k= 3 metric: manhattan\n",
      " acc = 0.8518136924006111\n",
      " f2-score = 0.2600628460272333\n",
      "preprocessing: Label Encoding k= 3 metric: jaccard\n",
      " acc = 0.8716914768891889\n",
      " f2-score = 0.0008671522719389524\n",
      "preprocessing: Label Encoding k= 4 metric: euclidean\n",
      " acc = 0.868227519806729\n",
      " f2-score = 0.14938915713406137\n",
      "preprocessing: Label Encoding k= 4 metric: cosine\n",
      " acc = 0.8677478949799268\n",
      " f2-score = 0.15199534312140223\n",
      "preprocessing: Label Encoding k= 4 metric: manhattan\n",
      " acc = 0.8696308665221871\n",
      " f2-score = 0.15738341968911918\n",
      "preprocessing: Label Encoding k= 4 metric: jaccard\n",
      " acc = 0.8719046434788787\n",
      " f2-score = 0.0008675133597057394\n"
     ]
    }
   ],
   "source": [
    "preprocessing = \"Label Encoding\"\n",
    "\n",
    "#load data\n",
    "data_train, data_validation, target_train, target_validation = get_preprocessed_brfss_dataset_label_encoded_train_test_split()\n",
    "\n",
    "#metrics that should be used\n",
    "params = ('euclidean', 'cosine', 'manhattan', 'jaccard')\n",
    "\n",
    "for k_neighbors in range(1,5):\n",
    "    for metric in params:\n",
    "        knn_estimator = KNeighborsClassifier(n_neighbors=k_neighbors, metric=metric)\n",
    "        knn_estimator.fit(data_train, target_train.values.ravel())\n",
    "        diabetes_test_prediction = knn_estimator.predict(data_validation)\n",
    "        print(evaluation(target_validation, diabetes_test_prediction, k_neighbors, metric, preprocessing))"
   ],
   "metadata": {
    "collapsed": false
   }
  },
  {
   "cell_type": "markdown",
   "source": [
    "# Label Encoding + Oversampling"
   ],
   "metadata": {
    "collapsed": false
   }
  },
  {
   "cell_type": "code",
   "execution_count": null,
   "outputs": [],
   "source": [
    "preprocessing = \"Label Encoding + Oversampling\"\n",
    "\n",
    "#load data\n",
    "data_train, data_validation, target_train, target_validation = get_preprocessed_brfss_dataset_label_encoded_train_test_split_oversampled()\n",
    "\n",
    "#metrics that should be used\n",
    "params = ('euclidean', 'cosine', 'manhattan', 'jaccard')\n",
    "\n",
    "for k_neighbors in range(5,7):\n",
    "    for metric in params:\n",
    "        knn_estimator = KNeighborsClassifier(n_neighbors=k_neighbors, metric=metric)\n",
    "        knn_estimator.fit(data_train, target_train.values.ravel())\n",
    "        diabetes_test_prediction = knn_estimator.predict(data_validation)\n",
    "        print(evaluation(target_validation, diabetes_test_prediction, k_neighbors, metric, preprocessing))"
   ],
   "metadata": {
    "collapsed": false
   }
  },
  {
   "cell_type": "markdown",
   "source": [
    "# Label Encoding + Undersampling"
   ],
   "metadata": {
    "collapsed": false
   }
  },
  {
   "cell_type": "code",
   "execution_count": null,
   "outputs": [],
   "source": [
    "preprocessing = \"Label Encoding + Undersampling\"\n",
    "\n",
    "#load data\n",
    "data_train, data_validation, target_train, target_validation = get_preprocessed_brfss_dataset_label_encoded_train_test_split_undersampled()\n",
    "\n",
    "#metrics that should be used\n",
    "params = ('euclidean', 'cosine', 'manhattan', 'jaccard')\n",
    "\n",
    "for k_neighbors in range(5,7):\n",
    "    for metric in params:\n",
    "        knn_estimator = KNeighborsClassifier(n_neighbors=k_neighbors, metric=metric)\n",
    "        knn_estimator.fit(data_train, target_train.values.ravel())\n",
    "        diabetes_test_prediction = knn_estimator.predict(data_validation)\n",
    "        print(evaluation(target_validation, diabetes_test_prediction, k_neighbors, metric, preprocessing))"
   ],
   "metadata": {
    "collapsed": false
   }
  },
  {
   "cell_type": "markdown",
   "source": [
    "# One Hot Encoding (1)\n",
    "yes/no values not one hot encoded"
   ],
   "metadata": {
    "collapsed": false
   }
  },
  {
   "cell_type": "code",
   "execution_count": null,
   "outputs": [],
   "source": [
    "preprocessing = \"One Hot Encoding (1)\"\n",
    "\n",
    "#load data\n",
    "data_train, data_validation, target_train, target_validation = get_preprocessed_brfss_dataset_one_hot_encoded_train_test_split()\n",
    "\n",
    "#metrics that should be used\n",
    "params = ('euclidean', 'cosine', 'manhattan', 'jaccard')\n",
    "\n",
    "for k_neighbors in range(5,7):\n",
    "    for metric in params:\n",
    "        knn_estimator = KNeighborsClassifier(n_neighbors=k_neighbors, metric=metric)\n",
    "        knn_estimator.fit(data_train, target_train.values.ravel())\n",
    "        diabetes_test_prediction = knn_estimator.predict(data_validation)\n",
    "        print(evaluation(target_validation, diabetes_test_prediction, k_neighbors, metric, preprocessing))"
   ],
   "metadata": {
    "collapsed": false
   }
  },
  {
   "cell_type": "markdown",
   "source": [
    "# One Hot Encoding (2)\n",
    "all columns one hot encoded"
   ],
   "metadata": {
    "collapsed": false
   }
  },
  {
   "cell_type": "code",
   "execution_count": null,
   "outputs": [],
   "source": [
    "preprocessing = \"One Hot Encoding (2)\"\n",
    "\n",
    "#load data\n",
    "data_train, data_validation, target_train, target_validation = get_preprocessed_brfss_dataset_one_hot_encoded_all_columns_train_test_split()\n",
    "\n",
    "#metrics that should be used\n",
    "params = ('euclidean', 'cosine', 'manhattan', 'jaccard')\n",
    "\n",
    "for k_neighbors in range(5,7):\n",
    "    for metric in params:\n",
    "        knn_estimator = KNeighborsClassifier(n_neighbors=k_neighbors, metric=metric)\n",
    "        knn_estimator.fit(data_train, target_train.values.ravel())\n",
    "        diabetes_test_prediction = knn_estimator.predict(data_validation)\n",
    "        print(evaluation(target_validation, diabetes_test_prediction, k_neighbors, metric, preprocessing))"
   ],
   "metadata": {
    "collapsed": false
   }
  },
  {
   "cell_type": "markdown",
   "source": [
    "# One Hot Encoding (1) + Oversampling"
   ],
   "metadata": {
    "collapsed": false
   }
  },
  {
   "cell_type": "code",
   "execution_count": null,
   "outputs": [],
   "source": [
    "preprocessing = \"One Hot Encoding (1) + Oversampling\"\n",
    "\n",
    "#load data\n",
    "data_train, data_validation, target_train, target_validation = get_preprocessed_brfss_dataset_one_hot_encoded_train_test_split_oversampled()\n",
    "\n",
    "#metrics that should be used\n",
    "params = ('euclidean', 'cosine', 'manhattan', 'jaccard')\n",
    "\n",
    "for k_neighbors in range(5,7):\n",
    "    for metric in params:\n",
    "        knn_estimator = KNeighborsClassifier(n_neighbors=k_neighbors, metric=metric)\n",
    "        knn_estimator.fit(data_train, target_train.values.ravel())\n",
    "        diabetes_test_prediction = knn_estimator.predict(data_validation)\n",
    "        print(evaluation(target_validation, diabetes_test_prediction, k_neighbors, metric, preprocessing))"
   ],
   "metadata": {
    "collapsed": false
   }
  },
  {
   "cell_type": "markdown",
   "source": [
    "# One Hot Encoding (2) + Oversampling"
   ],
   "metadata": {
    "collapsed": false
   }
  },
  {
   "cell_type": "code",
   "execution_count": null,
   "outputs": [],
   "source": [
    "preprocessing = \"One Hot Encoding (2) + Oversampling\"\n",
    "\n",
    "#load data\n",
    "data_train, data_validation, target_train, target_validation = get_preprocessed_brfss_dataset_one_hot_encoded_all_columns_train_test_split_oversampled()\n",
    "\n",
    "#metrics that should be used\n",
    "params = ('euclidean', 'cosine', 'manhattan', 'jaccard')\n",
    "\n",
    "for k_neighbors in range(5,7):\n",
    "    for metric in params:\n",
    "        knn_estimator = KNeighborsClassifier(n_neighbors=k_neighbors, metric=metric)\n",
    "        knn_estimator.fit(data_train, target_train.values.ravel())\n",
    "        diabetes_test_prediction = knn_estimator.predict(data_validation)\n",
    "        print(evaluation(target_validation, diabetes_test_prediction, k_neighbors, metric, preprocessing))"
   ],
   "metadata": {
    "collapsed": false
   }
  },
  {
   "cell_type": "markdown",
   "source": [
    "# One Hot Encoding (1) + Undersampling"
   ],
   "metadata": {
    "collapsed": false
   }
  },
  {
   "cell_type": "code",
   "execution_count": null,
   "outputs": [],
   "source": [
    "preprocessing = \"One Hot Encoding (1) + Undersampling\"\n",
    "\n",
    "#load data\n",
    "data_train, data_validation, target_train, target_validation = get_preprocessed_brfss_dataset_one_hot_encoded_train_test_split_undersampled()\n",
    "\n",
    "#metrics that should be used\n",
    "params = ('euclidean', 'cosine', 'manhattan', 'jaccard')\n",
    "\n",
    "for k_neighbors in range(5,7):\n",
    "    for metric in params:\n",
    "        knn_estimator = KNeighborsClassifier(n_neighbors=k_neighbors, metric=metric)\n",
    "        knn_estimator.fit(data_train, target_train.values.ravel())\n",
    "        diabetes_test_prediction = knn_estimator.predict(data_validation)\n",
    "        print(evaluation(target_validation, diabetes_test_prediction, k_neighbors, metric, preprocessing))"
   ],
   "metadata": {
    "collapsed": false
   }
  },
  {
   "cell_type": "markdown",
   "source": [
    "# One Hot Encoding (2) + Undersampling"
   ],
   "metadata": {
    "collapsed": false
   }
  },
  {
   "cell_type": "code",
   "execution_count": null,
   "outputs": [],
   "source": [
    "preprocessing = \"One Hot Encoding (2) + Undersampling\"\n",
    "\n",
    "#load data\n",
    "data_train, data_validation, target_train, target_validation = get_preprocessed_brfss_dataset_one_hot_encoded_all_columns_train_test_split_undersampled()\n",
    "\n",
    "#metrics that should be used\n",
    "params = ('euclidean', 'cosine', 'manhattan', 'jaccard')\n",
    "\n",
    "for k_neighbors in range(5,7):\n",
    "    for metric in params:\n",
    "        knn_estimator = KNeighborsClassifier(n_neighbors=k_neighbors, metric=metric)\n",
    "        knn_estimator.fit(data_train, target_train.values.ravel())\n",
    "        diabetes_test_prediction = knn_estimator.predict(data_validation)\n",
    "        print(evaluation(target_validation, diabetes_test_prediction, k_neighbors, metric, preprocessing))"
   ],
   "metadata": {
    "collapsed": false
   }
  },
  {
   "cell_type": "markdown",
   "source": [
    "# Evaluation of best approach\n",
    "We use the following loop to print all F2- and accuracy-scores and thereby also analyze which approach performed best."
   ],
   "metadata": {
    "collapsed": false
   }
  },
  {
   "cell_type": "code",
   "execution_count": 7,
   "outputs": [
    {
     "name": "stdout",
     "output_type": "stream",
     "text": [
      "Nr.0) k= 5 metric: cosine\n",
      "Weighted F1-Score = 0.8086342517615546\n",
      "Accuracy-Score = 0.8348629810814321\n",
      "\n",
      "Nr.1) k= 5 metric: manhattan\n",
      "Weighted F1-Score = 0.8107654592583807\n",
      "Accuracy-Score = 0.8379150612580631\n",
      "\n",
      "Nr.2) k= 6 metric: cosine\n",
      "Weighted F1-Score = 0.8117186129597088\n",
      "Accuracy-Score = 0.8322438200787913\n",
      "\n",
      "Nr.3) k= 6 metric: manhattan\n",
      "Weighted F1-Score = 0.8125962193311277\n",
      "Accuracy-Score = 0.8342136023204467\n",
      "\n",
      "--------- Best Approaches ---------\n",
      "Best Approach regarding F1-Score:\n",
      "Nr.3) Parameter: (k= 6 metric: manhattan) with f1-score = 0.8125962193311277\n",
      "\n",
      "Best Approach regarding Accuracy:\n",
      "Nr.1) Parameter: (k= 5 metric: manhattan) with acc = 0.8379150612580631\n"
     ]
    }
   ],
   "source": [
    "highest_acc = [0.0, None, None]\n",
    "highest_f2 = [0.0, None, None]\n",
    "\n",
    "for i in range(0, len(approach_list)):\n",
    "    print(\"Nr.{}) {}\".format(i, approach_list[i]))\n",
    "    print (\"Weighted F2-Score = {}\".format(f2_list[i]))\n",
    "    print (\"Accuracy-Score = {}\\n\".format(acc_list[i]))\n",
    "    if highest_f2[0] < float(f2_list[i]):\n",
    "        highest_f2[0] = f2_list[i]\n",
    "        highest_f2[1] = i\n",
    "        highest_f2[2] = approach_list[i]\n",
    "    if highest_acc[0] < float(acc_list[i]):\n",
    "        highest_acc[0] = acc_list[i]\n",
    "        highest_acc[1] = i\n",
    "        highest_acc[2] = approach_list[i]\n",
    "\n",
    "print(\"--------- Best Approaches ---------\")\n",
    "print(\"Best Approach regarding F2-Score:\\nNr.{}) {} with f2-score = {}\\n\".format(highest_f2[1], highest_f2[2], highest_f2[0]))\n",
    "print(\"Best Approach regarding Accuracy:\\nNr.{}) {} with acc = {}\".format(highest_acc[1], highest_acc[2], highest_acc[0]))"
   ],
   "metadata": {
    "collapsed": false
   }
  },
  {
   "cell_type": "markdown",
   "source": [
    "We can see that approach _tbd_ with k = _tbd_ and metric = _tbd_ performed best.\n",
    "We test this approach now finally against the test data that we separated at the beginning:"
   ],
   "metadata": {
    "collapsed": false
   }
  },
  {
   "cell_type": "code",
   "execution_count": null,
   "outputs": [],
   "source": [
    "#tbd"
   ],
   "metadata": {
    "collapsed": false
   }
  }
 ],
 "metadata": {
  "kernelspec": {
   "display_name": "Python 3",
   "language": "python",
   "name": "python3"
  },
  "language_info": {
   "codemirror_mode": {
    "name": "ipython",
    "version": 2
   },
   "file_extension": ".py",
   "mimetype": "text/x-python",
   "name": "python",
   "nbconvert_exporter": "python",
   "pygments_lexer": "ipython2",
   "version": "2.7.6"
  }
 },
 "nbformat": 4,
 "nbformat_minor": 0
}
