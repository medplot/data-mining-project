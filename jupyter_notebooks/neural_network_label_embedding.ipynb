{
 "cells": [
  {
   "cell_type": "markdown",
   "source": [
    "# Artificial neural network"
   ],
   "metadata": {
    "collapsed": false,
    "pycharm": {
     "name": "#%% md\n"
    }
   }
  },
  {
   "cell_type": "code",
   "execution_count": 1,
   "outputs": [],
   "source": [
    "#imports\n",
    "from preprocessing.preprocessing import get_preprocessed_brfss_dataset\n",
    "from preprocessing.neural_network_preprocessing import get_number_of_numerical_features, NeuralNetworkPreprocessor, CATEGORICAL_COLUMNS, NUMERICAL_COLUMNS\n",
    "from visualization.general_plots import plot_class_frequencies\n",
    "from visualization.neural_network_plots import plot_loss, plot_accuracy\n",
    "\n",
    "import torch\n",
    "import torch.nn as nn\n",
    "import torch.nn.functional as F\n",
    "import torch.optim as optim\n",
    "import torch.utils.data as data_utils\n",
    "\n",
    "import numpy as np"
   ],
   "metadata": {
    "collapsed": false,
    "pycharm": {
     "name": "#%%\n"
    }
   }
  },
  {
   "cell_type": "code",
   "execution_count": 2,
   "outputs": [],
   "source": [
    "import warnings\n",
    "warnings.filterwarnings('ignore')"
   ],
   "metadata": {
    "collapsed": false,
    "pycharm": {
     "name": "#%%\n"
    }
   }
  },
  {
   "cell_type": "code",
   "execution_count": 3,
   "outputs": [
    {
     "name": "stdout",
     "output_type": "stream",
     "text": [
      "Torch mps activated\n"
     ]
    }
   ],
   "source": [
    "use_mps = True\n",
    "use_cuda = False\n",
    "\n",
    "device = torch.device(\"cpu\")\n",
    "\n",
    "if torch.has_mps and use_mps:\n",
    "    device = torch.device(\"mps\")\n",
    "    print(\"Torch mps activated\")\n",
    "\n",
    "if torch.has_cuda and use_cuda:\n",
    "    device = torch.device(\"cuda\")\n",
    "    print(\"Torch cuda activated\")"
   ],
   "metadata": {
    "collapsed": false,
    "pycharm": {
     "name": "#%%\n"
    }
   }
  },
  {
   "cell_type": "markdown",
   "source": [
    "Looking at the dataset it becomes clear that it is imbalanced"
   ],
   "metadata": {
    "collapsed": false,
    "pycharm": {
     "name": "#%% md\n"
    }
   }
  },
  {
   "cell_type": "code",
   "execution_count": 4,
   "outputs": [
    {
     "data": {
      "text/plain": "<Figure size 640x480 with 1 Axes>",
      "image/png": "[encoded data removed]"
     },
     "metadata": {},
     "output_type": "display_data"
    }
   ],
   "source": [
    "train_dataset, target = get_preprocessed_brfss_dataset()\n",
    "plot_class_frequencies(target)"
   ],
   "metadata": {
    "collapsed": false,
    "pycharm": {
     "name": "#%%\n"
    }
   }
  },
  {
   "cell_type": "code",
   "execution_count": 5,
   "outputs": [
    {
     "data": {
      "text/plain": "        Yes  Yes, but only during pregnancy   No  No, but pre-diabetes\n91668   0.0                             0.0  1.0                   0.0\n111052  0.0                             0.0  1.0                   0.0\n18273   1.0                             0.0  0.0                   0.0\n27869   0.0                             0.0  1.0                   0.0\n280769  1.0                             0.0  0.0                   0.0\n6511    0.0                             0.0  1.0                   0.0\n68187   0.0                             0.0  1.0                   0.0\n122357  0.0                             0.0  1.0                   0.0\n87790   0.0                             0.0  1.0                   0.0\n33863   0.0                             0.0  1.0                   0.0",
      "text/html": "<div>\n<style scoped>\n    .dataframe tbody tr th:only-of-type {\n        vertical-align: middle;\n    }\n\n    .dataframe tbody tr th {\n        vertical-align: top;\n    }\n\n    .dataframe thead th {\n        text-align: right;\n    }\n</style>\n<table border=\"1\" class=\"dataframe\">\n  <thead>\n    <tr style=\"text-align: right;\">\n      <th></th>\n      <th>Yes</th>\n      <th>Yes, but only during pregnancy</th>\n      <th>No</th>\n      <th>No, but pre-diabetes</th>\n    </tr>\n  </thead>\n  <tbody>\n    <tr>\n      <th>91668</th>\n      <td>0.0</td>\n      <td>0.0</td>\n      <td>1.0</td>\n      <td>0.0</td>\n    </tr>\n    <tr>\n      <th>111052</th>\n      <td>0.0</td>\n      <td>0.0</td>\n      <td>1.0</td>\n      <td>0.0</td>\n    </tr>\n    <tr>\n      <th>18273</th>\n      <td>1.0</td>\n      <td>0.0</td>\n      <td>0.0</td>\n      <td>0.0</td>\n    </tr>\n    <tr>\n      <th>27869</th>\n      <td>0.0</td>\n      <td>0.0</td>\n      <td>1.0</td>\n      <td>0.0</td>\n    </tr>\n    <tr>\n      <th>280769</th>\n      <td>1.0</td>\n      <td>0.0</td>\n      <td>0.0</td>\n      <td>0.0</td>\n    </tr>\n    <tr>\n      <th>6511</th>\n      <td>0.0</td>\n      <td>0.0</td>\n      <td>1.0</td>\n      <td>0.0</td>\n    </tr>\n    <tr>\n      <th>68187</th>\n      <td>0.0</td>\n      <td>0.0</td>\n      <td>1.0</td>\n      <td>0.0</td>\n    </tr>\n    <tr>\n      <th>122357</th>\n      <td>0.0</td>\n      <td>0.0</td>\n      <td>1.0</td>\n      <td>0.0</td>\n    </tr>\n    <tr>\n      <th>87790</th>\n      <td>0.0</td>\n      <td>0.0</td>\n      <td>1.0</td>\n      <td>0.0</td>\n    </tr>\n    <tr>\n      <th>33863</th>\n      <td>0.0</td>\n      <td>0.0</td>\n      <td>1.0</td>\n      <td>0.0</td>\n    </tr>\n  </tbody>\n</table>\n</div>"
     },
     "execution_count": 5,
     "metadata": {},
     "output_type": "execute_result"
    }
   ],
   "source": [
    "preprocessor = NeuralNetworkPreprocessor()\n",
    "data_train, data_test, target_train, target_test = preprocessor.get_preprocessed_dataset_for_neural_network()\n",
    "target_train.head(10)"
   ],
   "metadata": {
    "collapsed": false,
    "pycharm": {
     "name": "#%%\n"
    }
   }
  },
  {
   "cell_type": "code",
   "execution_count": 6,
   "outputs": [
    {
     "name": "stdout",
     "output_type": "stream",
     "text": [
      "Input size: 51\n",
      "Output size: 4\n",
      "Embedding sizes: [(6, 3), (2, 1), (3, 2), (6, 3), (4, 2), (3, 2), (2, 1), (3, 2), (2, 1), (2, 1), (2, 1), (2, 1), (2, 1), (8, 4), (3, 2), (13, 7), (5, 3), (4, 2), (2, 1), (4, 2), (2, 1), (2, 1), (4, 2), (2, 1)]\n"
     ]
    }
   ],
   "source": [
    "#constants\n",
    "batch_size = 128\n",
    "output_size = target_train.shape[1]\n",
    "embedding_sizes = preprocessor.get_embedding_sizes()\n",
    "embedding_input_size = sum((nf for ni, nf in embedding_sizes))\n",
    "numerical_input_size = get_number_of_numerical_features()\n",
    "input_size = embedding_input_size + numerical_input_size\n",
    "print(f\"Input size: {input_size}\")\n",
    "print(f\"Output size: {output_size}\")\n",
    "print(f\"Embedding sizes: {embedding_sizes}\")"
   ],
   "metadata": {
    "collapsed": false,
    "pycharm": {
     "name": "#%%\n"
    }
   }
  },
  {
   "cell_type": "code",
   "execution_count": 7,
   "outputs": [
    {
     "name": "stdout",
     "output_type": "stream",
     "text": [
      "Accuracy class [1, 0, 0, 0] : 12.466448473513775 %\n",
      "Accuracy class [0, 1, 0, 0] : 0.8506935425216894 %\n",
      "Accuracy class [0, 0, 1, 0] : 85.017836424403 %\n",
      "Accuracy class [0, 0, 0, 1] : 1.6650215595615356 %\n"
     ]
    }
   ],
   "source": [
    "for class_label in range(4):\n",
    "    predicted = [0,0,0,0]\n",
    "    predicted[class_label] = 1\n",
    "    correct = 0\n",
    "    total = 0\n",
    "    for i in range(target_train.shape[0]):\n",
    "        labels = target_train.values[i]\n",
    "        labels = [int(element) for element in labels]\n",
    "        total += 1\n",
    "        if predicted == labels:\n",
    "            correct +=1\n",
    "    print(f'Accuracy class {predicted} : {100 * correct / total} %')\n"
   ],
   "metadata": {
    "collapsed": false,
    "pycharm": {
     "name": "#%%\n"
    }
   }
  },
  {
   "cell_type": "code",
   "execution_count": 8,
   "outputs": [],
   "source": [
    "class CustomBrfssDataset(data_utils.Dataset):\n",
    "    def __init__(self, dataset_complete, dataset_target):\n",
    "        self.data_categorical = dataset_complete[CATEGORICAL_COLUMNS]\n",
    "        self.data_categorical = torch.tensor(np.array(self.data_categorical)).int()\n",
    "\n",
    "        self.data_numerical = dataset_complete[NUMERICAL_COLUMNS]\n",
    "        self.data_numerical = torch.tensor(np.array(self.data_numerical)).float()\n",
    "\n",
    "        self.target = torch.tensor(np.array(dataset_target)).float()\n",
    "\n",
    "    def __len__(self):\n",
    "            return len(self.data_categorical)\n",
    "\n",
    "    def __getitem__(self, idx):\n",
    "            return self.data_categorical[idx], self.data_numerical[idx], self.target[idx]"
   ],
   "metadata": {
    "collapsed": false,
    "pycharm": {
     "name": "#%%\n"
    }
   }
  },
  {
   "cell_type": "markdown",
   "source": [
    "Create torch data loader"
   ],
   "metadata": {
    "collapsed": false,
    "pycharm": {
     "name": "#%% md\n"
    }
   }
  },
  {
   "cell_type": "code",
   "execution_count": 9,
   "outputs": [],
   "source": [
    "train_dataset = CustomBrfssDataset(data_train, target_train)\n",
    "test_dataset = CustomBrfssDataset(data_test, target_test)\n",
    "\n",
    "train_loader = torch.utils.data.DataLoader(train_dataset, batch_size=batch_size, shuffle=True)\n",
    "test_loader = torch.utils.data.DataLoader(test_dataset, batch_size=batch_size, shuffle=True)"
   ],
   "metadata": {
    "collapsed": false,
    "pycharm": {
     "name": "#%%\n"
    }
   }
  },
  {
   "cell_type": "markdown",
   "source": [
    "Create artificial net, define loss function and define optimizer"
   ],
   "metadata": {
    "collapsed": false,
    "pycharm": {
     "name": "#%% md\n"
    }
   }
  },
  {
   "cell_type": "code",
   "execution_count": 10,
   "outputs": [],
   "source": [
    "class Net(nn.Module):\n",
    "    def __init__(self):\n",
    "        super().__init__()\n",
    "        self.embeddings = nn.ModuleList([nn.Embedding(categories, size) for categories,size in embedding_sizes])\n",
    "        self.batch_norm_numerical = nn.BatchNorm1d(numerical_input_size)\n",
    "        self.dropout_embedding = nn.Dropout(0.3)\n",
    "\n",
    "        self.fc1 = nn.Linear(input_size, 500)\n",
    "        self.bn1 = nn.BatchNorm1d(500)\n",
    "        self.do1 = nn.Dropout(0.8)\n",
    "        self.fc2 = nn.Linear(500, 1000)\n",
    "        self.bn2 = nn.BatchNorm1d(1000)\n",
    "        self.do2 = nn.Dropout(0.3)\n",
    "        self.fc3 = nn.Linear(1000, output_size)\n",
    "\n",
    "    def forward(self, input_categorical, input_numerical):\n",
    "        embedding_layers = []\n",
    "        for index,e in enumerate(self.embeddings):\n",
    "            embedding_layers.append(e(input_categorical[:,index]))\n",
    "        x_categorical = torch.cat(embedding_layers, 1)\n",
    "        x_categorical = self.dropout_embedding(x_categorical)\n",
    "\n",
    "        x_numerical = self.batch_norm_numerical(input_numerical)\n",
    "        x = torch.cat([x_categorical, x_numerical], 1)\n",
    "\n",
    "        x = self.fc1(x)\n",
    "        x = self.bn1(x)\n",
    "        x = F.relu_(x)\n",
    "        x = self.do1(x)\n",
    "        x = self.fc2(x)\n",
    "        x = self.bn2(x)\n",
    "        x = F.relu_(x)\n",
    "        x = self.do2(x)\n",
    "        x = self.fc3(x)\n",
    "        x = F.softmax(x)\n",
    "        return x"
   ],
   "metadata": {
    "collapsed": false,
    "pycharm": {
     "name": "#%%\n"
    }
   }
  },
  {
   "cell_type": "code",
   "execution_count": 11,
   "outputs": [],
   "source": [
    "def get_accuracy(model: Net, data_loader):\n",
    "    correct = 0\n",
    "    total = 0\n",
    "    model.eval()\n",
    "    with torch.no_grad():\n",
    "        for i, data in enumerate(data_loader, 0):\n",
    "            inputs_categorical, inputs_numerical, labels = data\n",
    "            inputs_categorical = inputs_categorical.to(device)\n",
    "            inputs_numerical = inputs_numerical.to(device)\n",
    "            labels = labels.to(device)\n",
    "\n",
    "            outputs = model(inputs_categorical, inputs_numerical)\n",
    "            _, predicted = torch.max(outputs.data, 1)\n",
    "            _, labels = torch.max(labels.data, 1)\n",
    "\n",
    "            total += labels.size(0)\n",
    "            correct += (predicted == labels).sum().item()\n",
    "\n",
    "    return correct/total"
   ],
   "metadata": {
    "collapsed": false,
    "pycharm": {
     "name": "#%%\n"
    }
   }
  },
  {
   "cell_type": "markdown",
   "source": [
    "Training loop"
   ],
   "metadata": {
    "collapsed": false,
    "pycharm": {
     "name": "#%% md\n"
    }
   }
  },
  {
   "cell_type": "code",
   "execution_count": 12,
   "outputs": [],
   "source": [
    "def train_network(model: Net, criterion, optimizer, data_loader):\n",
    "    loss_values = []\n",
    "    accuracy_values = []\n",
    "\n",
    "    for epoch in range(5):\n",
    "\n",
    "        running_loss = 0.0\n",
    "\n",
    "        model.train()\n",
    "        for i, data in enumerate(data_loader, 0):\n",
    "\n",
    "            inputs_categorical, inputs_numerical, labels = data\n",
    "            inputs_categorical = inputs_categorical.to(device)\n",
    "            inputs_numerical = inputs_numerical.to(device)\n",
    "            labels = labels.to(device)\n",
    "\n",
    "            optimizer.zero_grad()\n",
    "\n",
    "            outputs = model(inputs_categorical, inputs_numerical)\n",
    "            loss = criterion(outputs, labels)\n",
    "            loss.backward()\n",
    "            optimizer.step()\n",
    "\n",
    "            running_loss += loss.item()\n",
    "            if i % 200 == 199:  # print every 2000 batches\n",
    "                print(f'[{epoch + 1}, {(i + 1) * batch_size}] loss: {running_loss / i:.3f}')\n",
    "\n",
    "            pass\n",
    "\n",
    "        loss_values.append(running_loss/len(train_loader))\n",
    "        train_accuracy = 100 * get_accuracy(model, train_loader)\n",
    "        accuracy_values.append(train_accuracy)\n",
    "\n",
    "        print(f\"Epoch {epoch} loss: {str(running_loss/len(train_loader))}\")\n",
    "        print(f'Accuracy epoch {epoch}: {train_accuracy} %')\n",
    "\n",
    "    print('Finished Training')\n",
    "    return loss_values, accuracy_values"
   ],
   "metadata": {
    "collapsed": false,
    "pycharm": {
     "name": "#%%\n"
    }
   }
  },
  {
   "cell_type": "markdown",
   "source": [
    "### Train model without under or oversampling"
   ],
   "metadata": {
    "collapsed": false,
    "pycharm": {
     "name": "#%% md\n"
    }
   }
  },
  {
   "cell_type": "code",
   "execution_count": 13,
   "outputs": [
    {
     "name": "stdout",
     "output_type": "stream",
     "text": [
      "[1, 25600] loss: 1.329\n",
      "[1, 51200] loss: 1.251\n",
      "[1, 76800] loss: 1.189\n",
      "[1, 102400] loss: 1.141\n",
      "[1, 128000] loss: 1.106\n",
      "[1, 153600] loss: 1.078\n",
      "[1, 179200] loss: 1.057\n",
      "[1, 204800] loss: 1.040\n",
      "[1, 230400] loss: 1.026\n",
      "Epoch 0 loss: 1.0255471455093237\n",
      "Accuracy epoch 0: 64.7579095017923 %\n",
      "[2, 25600] loss: 0.913\n",
      "[2, 51200] loss: 0.912\n",
      "[2, 76800] loss: 0.910\n",
      "[2, 102400] loss: 0.909\n",
      "[2, 128000] loss: 0.908\n",
      "[2, 153600] loss: 0.907\n",
      "[2, 179200] loss: 0.906\n",
      "[2, 204800] loss: 0.905\n",
      "[2, 230400] loss: 0.904\n",
      "Epoch 1 loss: 0.9037387195386385\n",
      "Accuracy epoch 1: 85.017836424403 %\n",
      "[3, 25600] loss: 0.903\n",
      "[3, 51200] loss: 0.901\n",
      "[3, 76800] loss: 0.900\n",
      "[3, 102400] loss: 0.899\n",
      "[3, 128000] loss: 0.898\n",
      "[3, 153600] loss: 0.898\n",
      "[3, 179200] loss: 0.898\n",
      "[3, 204800] loss: 0.897\n",
      "[3, 230400] loss: 0.897\n",
      "Epoch 2 loss: 0.8964232397211556\n",
      "Accuracy epoch 2: 85.017836424403 %\n",
      "[4, 25600] loss: 0.898\n",
      "[4, 51200] loss: 0.896\n",
      "[4, 76800] loss: 0.895\n",
      "[4, 102400] loss: 0.895\n",
      "[4, 128000] loss: 0.895\n",
      "[4, 153600] loss: 0.895\n",
      "[4, 179200] loss: 0.895\n",
      "[4, 204800] loss: 0.895\n",
      "[4, 230400] loss: 0.895\n",
      "Epoch 3 loss: 0.8945742603814503\n",
      "Accuracy epoch 3: 85.017836424403 %\n",
      "[5, 25600] loss: 0.901\n",
      "[5, 51200] loss: 0.897\n",
      "[5, 76800] loss: 0.897\n",
      "[5, 102400] loss: 0.897\n",
      "[5, 128000] loss: 0.896\n",
      "[5, 153600] loss: 0.895\n",
      "[5, 179200] loss: 0.895\n",
      "[5, 204800] loss: 0.894\n",
      "[5, 230400] loss: 0.894\n",
      "Epoch 4 loss: 0.8939060523569419\n",
      "Accuracy epoch 4: 85.017836424403 %\n",
      "Finished Training\n"
     ]
    }
   ],
   "source": [
    "net = Net()\n",
    "net.to(device)\n",
    "\n",
    "criterion_cross_entropy = nn.CrossEntropyLoss()\n",
    "optimizer_adam = optim.Adam(net.parameters(),lr=0.002)\n",
    "\n",
    "loss_values, accuracy_values = train_network(model=net, criterion=criterion_cross_entropy, optimizer=optimizer_adam, data_loader=train_loader)"
   ],
   "metadata": {
    "collapsed": false,
    "pycharm": {
     "name": "#%%\n"
    }
   }
  },
  {
   "cell_type": "code",
   "execution_count": 15,
   "outputs": [
    {
     "name": "stdout",
     "output_type": "stream",
     "text": [
      "Accuracy : 85.01740350148059 %\n"
     ]
    }
   ],
   "source": [
    "print(f'Accuracy : {100 * get_accuracy(net, test_loader)} %')"
   ],
   "metadata": {
    "collapsed": false,
    "pycharm": {
     "name": "#%%\n"
    }
   }
  },
  {
   "cell_type": "code",
   "execution_count": 16,
   "outputs": [
    {
     "data": {
      "text/plain": "<Figure size 640x480 with 1 Axes>",
      "image/png": "[encoded data removed]"
     },
     "metadata": {},
     "output_type": "display_data"
    }
   ],
   "source": [
    "plot_loss(loss_values)"
   ],
   "metadata": {
    "collapsed": false,
    "pycharm": {
     "name": "#%%\n"
    }
   }
  },
  {
   "cell_type": "code",
   "execution_count": 17,
   "outputs": [
    {
     "data": {
      "text/plain": "<Figure size 640x480 with 1 Axes>",
      "image/png": "[encoded data removed]"
     },
     "metadata": {},
     "output_type": "display_data"
    }
   ],
   "source": [
    "plot_accuracy(accuracy_values)"
   ],
   "metadata": {
    "collapsed": false,
    "pycharm": {
     "name": "#%%\n"
    }
   }
  },
  {
   "cell_type": "markdown",
   "source": [
    "### Train model with undersampling"
   ],
   "metadata": {
    "collapsed": false,
    "pycharm": {
     "name": "#%% md\n"
    }
   }
  },
  {
   "cell_type": "code",
   "execution_count": 20,
   "outputs": [
    {
     "name": "stdout",
     "output_type": "stream",
     "text": [
      "Epoch 0 loss: 1.386391814677946\n",
      "Accuracy epoch 0: 25.44529262086514 %\n",
      "Epoch 1 loss: 1.3863206390411622\n",
      "Accuracy epoch 1: 25.0 %\n",
      "Epoch 2 loss: 1.386315430364301\n",
      "Accuracy epoch 2: 25.0 %\n",
      "Epoch 3 loss: 1.3863292124963575\n",
      "Accuracy epoch 3: 25.0 %\n",
      "Epoch 4 loss: 1.3863066396405619\n",
      "Accuracy epoch 4: 25.0 %\n",
      "Finished Training\n"
     ]
    }
   ],
   "source": [
    "data_train, data_test, target_train, target_test = preprocessor.get_preprocessed_dataset_for_neural_network_undersampled()\n",
    "\n",
    "train_dataset = CustomBrfssDataset(data_train, target_train)\n",
    "test_dataset = CustomBrfssDataset(data_test, target_test)\n",
    "\n",
    "train_loader = torch.utils.data.DataLoader(train_dataset, batch_size=batch_size, shuffle=True)\n",
    "test_loader = torch.utils.data.DataLoader(test_dataset, batch_size=batch_size, shuffle=True)\n",
    "\n",
    "net = Net()\n",
    "net.to(device)\n",
    "\n",
    "criterion_cross_entropy = nn.CrossEntropyLoss()\n",
    "optimizer_adam = optim.Adam(net.parameters(),lr=0.002)\n",
    "\n",
    "loss_values, accuracy_values = train_network(model=net, criterion=criterion_cross_entropy, optimizer=optimizer_adam, data_loader=train_loader)"
   ],
   "metadata": {
    "collapsed": false,
    "pycharm": {
     "name": "#%%\n"
    }
   }
  }
 ],
 "metadata": {
  "kernelspec": {
   "display_name": "Python 3",
   "language": "python",
   "name": "python3"
  },
  "language_info": {
   "codemirror_mode": {
    "name": "ipython",
    "version": 2
   },
   "file_extension": ".py",
   "mimetype": "text/x-python",
   "name": "python",
   "nbconvert_exporter": "python",
   "pygments_lexer": "ipython2",
   "version": "2.7.6"
  }
 },
 "nbformat": 4,
 "nbformat_minor": 0
}