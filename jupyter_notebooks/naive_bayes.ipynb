{
 "cells": [
  {
   "cell_type": "code",
   "execution_count": 5,
   "outputs": [],
   "source": [
    "# all NB classifiers trained at the same time\n",
    "def process_all_naive_bayes_classifiers (data_tuple):\n",
    "    process_naive_bayes_GNB(data_tuple)\n",
    "    process_naive_bayes_MNB(data_tuple)\n",
    "    process_naive_bayes_BNB(data_tuple)\n",
    "    process_naive_bayes_CNB(data_tuple)"
   ],
   "metadata": {
    "collapsed": false
   }
  },
  {
   "cell_type": "code",
   "execution_count": 4,
   "outputs": [],
   "source": [
    "# methods for training a single NB classifier\n",
    "\n",
    "#Import Gaussian Naive Bayes model\n",
    "from sklearn.naive_bayes import GaussianNB, MultinomialNB, ComplementNB, BernoulliNB\n",
    "#Import scikit-learn metrics module for accuracy calculation\n",
    "from sklearn import metrics\n",
    "\n",
    "def process_naive_bayes_GNB(data_tuple):\n",
    "    data_train, data_test, target_train, target_test = data_tuple\n",
    "\n",
    "    #Create a Gaussian Classifier\n",
    "    gnb = GaussianNB()\n",
    "\n",
    "    #Train the model using the training sets\n",
    "    gnb.fit(data_train, target_train.values.ravel())\n",
    "\n",
    "    #Predict the response for test dataset\n",
    "    target_pred = gnb.predict(data_test)\n",
    "\n",
    "    # Model Accuracy, how often is the classifier correct?\n",
    "    print(\"Gaussian Naive Bayes:\")\n",
    "    print(\"Accuracy:\",metrics.accuracy_score(target_test, target_pred))\n",
    "    print(\"F2-Score:\",metrics.fbeta_score(target_test, target_pred, beta=2.0, average='binary'))\n",
    "    print(\"\\n\")\n",
    "\n",
    "def process_naive_bayes_MNB(data_tuple):\n",
    "    data_train, data_test, target_train, target_test = data_tuple\n",
    "\n",
    "    #Create a Multinominal Classifier\n",
    "    gnb = MultinomialNB()\n",
    "\n",
    "    #Train the model using the training sets\n",
    "    gnb.fit(data_train, target_train.values.ravel())\n",
    "\n",
    "    #Predict the response for test dataset\n",
    "    target_pred = gnb.predict(data_test)\n",
    "\n",
    "    # Model Accuracy, how often is the classifier correct?\n",
    "    print(\"Multinominal Naive Bayes:\")\n",
    "    print(\"Accuracy:\",metrics.accuracy_score(target_test, target_pred))\n",
    "    print(\"F2-Score:\",metrics.fbeta_score(target_test, target_pred, beta=2.0, average='binary'))\n",
    "    print(\"\\n\")\n",
    "\n",
    "def process_naive_bayes_CNB(data_tuple):\n",
    "    data_train, data_test, target_train, target_test = data_tuple\n",
    "\n",
    "    #Create a Complement Classifier\n",
    "    gnb = ComplementNB()\n",
    "\n",
    "    #Train the model using the training sets\n",
    "    gnb.fit(data_train, target_train.values.ravel())\n",
    "\n",
    "    #Predict the response for test dataset\n",
    "    target_pred = gnb.predict(data_test)\n",
    "\n",
    "    # Model Accuracy, how often is the classifier correct?\n",
    "    print(\"Complement Naive Bayes:\")\n",
    "    print(\"Accuracy:\",metrics.accuracy_score(target_test, target_pred))\n",
    "    print(\"F2-Score:\",metrics.fbeta_score(target_test, target_pred, beta=2.0, average='binary'))\n",
    "    print(\"\\n\")\n",
    "\n",
    "def process_naive_bayes_BNB(data_tuple):\n",
    "    data_train, data_test, target_train, target_test = data_tuple\n",
    "\n",
    "    #Create a Bernoulli Classifier\n",
    "    gnb = BernoulliNB()\n",
    "\n",
    "    #Train the model using the training sets\n",
    "    gnb.fit(data_train, target_train.values.ravel())\n",
    "\n",
    "    #Predict the response for test dataset\n",
    "    target_pred = gnb.predict(data_test)\n",
    "\n",
    "    # Model Accuracy, how often is the classifier correct?\n",
    "    print(\"Bernoulli Naive Bayes:\")\n",
    "    print(\"Accuracy:\",metrics.accuracy_score(target_test, target_pred))\n",
    "    print(\"F2-Score:\",metrics.fbeta_score(target_test, target_pred, beta=2.0, average='binary'))\n",
    "    print(\"\\n\")"
   ],
   "metadata": {
    "collapsed": false
   }
  },
  {
   "cell_type": "code",
   "execution_count": 17,
   "outputs": [],
   "source": [
    "# methods for evaluating best performing classifiers\n",
    "\n",
    "def process_naive_bayes_MNB_with_extra_split(data_tuple):\n",
    "    data_train, data_validation, data_test, target_train, target_validation, target_test = data_tuple\n",
    "\n",
    "    #Create a Multinominal Classifier\n",
    "    gnb = MultinomialNB()\n",
    "\n",
    "    #Train the model using the training sets\n",
    "    gnb.fit(data_train, target_train.values.ravel())\n",
    "\n",
    "    #Predict the response for test dataset\n",
    "    target_pred = gnb.predict(data_test)\n",
    "\n",
    "    # Model Accuracy, how often is the classifier correct?\n",
    "    print(\"Multinominal Naive Bayes:\")\n",
    "    print(\"Accuracy:\",metrics.accuracy_score(target_test, target_pred))\n",
    "    print(\"F2-Score:\",metrics.fbeta_score(target_test, target_pred, beta=2.0, average='binary'))\n",
    "    print(\"\\n\")\n",
    "\n",
    "def process_naive_bayes_BNB_with_extra_split(data_tuple):\n",
    "    data_train, data_validation, data_test, target_train, target_validation, target_test = data_tuple\n",
    "\n",
    "    #Create a Bernoulli Classifier\n",
    "    gnb = BernoulliNB()\n",
    "\n",
    "    #Train the model using the training sets\n",
    "    gnb.fit(data_train, target_train.values.ravel())\n",
    "\n",
    "    #Predict the response for test dataset\n",
    "    target_pred = gnb.predict(data_test)\n",
    "\n",
    "    # Model Accuracy, how often is the classifier correct?\n",
    "    print(\"Bernoulli Naive Bayes:\")\n",
    "    print(\"Accuracy:\",metrics.accuracy_score(target_test, target_pred))\n",
    "    print(\"F2-Score:\",metrics.fbeta_score(target_test, target_pred, beta=2.0, average='binary'))\n",
    "    print(\"\\n\")\n",
    "\n",
    "def process_naive_bayes_CNB_with_extra_split(data_tuple):\n",
    "    data_train, data_validation, data_test, target_train, target_validation, target_test = data_tuple\n",
    "\n",
    "    #Create a Bernoulli Classifier\n",
    "    cnb = ComplementNB()\n",
    "\n",
    "    #Train the model using the training sets\n",
    "    cnb.fit(data_train, target_train.values.ravel())\n",
    "\n",
    "    #Predict the response for test dataset\n",
    "    target_pred = cnb.predict(data_test)\n",
    "\n",
    "    # Model Accuracy, how often is the classifier correct?\n",
    "    print(\"Complement Naive Bayes:\")\n",
    "    print(\"Accuracy:\",metrics.accuracy_score(target_test, target_pred))\n",
    "    print(\"F2-Score:\",metrics.fbeta_score(target_test, target_pred, beta=2.0, average='binary'))\n",
    "    print(\"\\n\")"
   ],
   "metadata": {
    "collapsed": false
   }
  },
  {
   "cell_type": "markdown",
   "source": [
    "# One-Hot Encoded"
   ],
   "metadata": {
    "collapsed": false
   }
  },
  {
   "cell_type": "code",
   "execution_count": 7,
   "outputs": [
    {
     "name": "stdout",
     "output_type": "stream",
     "text": [
      "Gaussian Naive Bayes:\n",
      "Accuracy: 0.5649447543255054\n",
      "F2-Score: 0.5527952409923612\n",
      "\n",
      "\n",
      "Multinominal Naive Bayes:\n",
      "Accuracy: 0.8411553629161189\n",
      "F2-Score: 0.4553975522883693\n",
      "\n",
      "\n",
      "Bernoulli Naive Bayes:\n",
      "Accuracy: 0.8120936511884037\n",
      "F2-Score: 0.5314358434693228\n",
      "\n",
      "\n",
      "Complement Naive Bayes:\n",
      "Accuracy: 0.7322449994670835\n",
      "F2-Score: 0.5854774037256704\n",
      "\n",
      "\n"
     ]
    }
   ],
   "source": [
    "from preprocessing.preprocessing_label_encoding import *\n",
    "from preprocessing.preprocessing_one_hot_encoding import *\n",
    "\n",
    "data_train, data_test, target_train, target_test = get_preprocessed_brfss_dataset_one_hot_encoded_train_test_split()\n",
    "\n",
    "process_all_naive_bayes_classifiers((data_train, data_test, target_train, target_test))"
   ],
   "metadata": {
    "collapsed": false
   }
  },
  {
   "cell_type": "markdown",
   "source": [
    "### Oversampled"
   ],
   "metadata": {
    "collapsed": false
   }
  },
  {
   "cell_type": "code",
   "execution_count": 8,
   "outputs": [
    {
     "name": "stdout",
     "output_type": "stream",
     "text": [
      "Gaussian Naive Bayes:\n",
      "Accuracy: 0.5386897360287064\n",
      "F2-Score: 0.5458325116676528\n",
      "\n",
      "\n",
      "Multinominal Naive Bayes:\n",
      "Accuracy: 0.7326713326464632\n",
      "F2-Score: 0.5852108849224595\n",
      "\n",
      "\n",
      "Bernoulli Naive Bayes:\n",
      "Accuracy: 0.7263651543681388\n",
      "F2-Score: 0.5876454900663621\n",
      "\n",
      "\n",
      "Complement Naive Bayes:\n",
      "Accuracy: 0.7326713326464632\n",
      "F2-Score: 0.5852108849224595\n",
      "\n",
      "\n"
     ]
    }
   ],
   "source": [
    "data_train, data_test, target_train, target_test = get_preprocessed_brfss_dataset_one_hot_encoded_train_test_split_oversampled()\n",
    "\n",
    "process_all_naive_bayes_classifiers((data_train, data_test, target_train, target_test))"
   ],
   "metadata": {
    "collapsed": false
   }
  },
  {
   "cell_type": "markdown",
   "source": [
    "### Undersampled"
   ],
   "metadata": {
    "collapsed": false
   }
  },
  {
   "cell_type": "code",
   "execution_count": 9,
   "outputs": [
    {
     "name": "stdout",
     "output_type": "stream",
     "text": [
      "Gaussian Naive Bayes:\n",
      "Accuracy: 0.7040359540981277\n",
      "F2-Score: 0.5772555484078482\n",
      "\n",
      "\n",
      "Multinominal Naive Bayes:\n",
      "Accuracy: 0.7458698973247593\n",
      "F2-Score: 0.5927413357132232\n",
      "\n",
      "\n",
      "Bernoulli Naive Bayes:\n",
      "Accuracy: 0.7476818133371229\n",
      "F2-Score: 0.5877577181925008\n",
      "\n",
      "\n",
      "Complement Naive Bayes:\n",
      "Accuracy: 0.7458698973247593\n",
      "F2-Score: 0.5927413357132232\n",
      "\n",
      "\n"
     ]
    }
   ],
   "source": [
    "data_train, data_test, target_train, target_test = get_preprocessed_brfss_dataset_one_hot_encoded_all_columns_train_test_split_undersampled()\n",
    "\n",
    "process_all_naive_bayes_classifiers((data_train, data_test, target_train, target_test))"
   ],
   "metadata": {
    "collapsed": false
   }
  },
  {
   "cell_type": "markdown",
   "source": [
    "## All Columns"
   ],
   "metadata": {
    "collapsed": false
   }
  },
  {
   "cell_type": "code",
   "execution_count": 10,
   "outputs": [
    {
     "name": "stdout",
     "output_type": "stream",
     "text": [
      "Gaussian Naive Bayes:\n",
      "Accuracy: 0.5368422922513945\n",
      "F2-Score: 0.5441953589129221\n",
      "\n",
      "\n",
      "Multinominal Naive Bayes:\n",
      "Accuracy: 0.8303193946068853\n",
      "F2-Score: 0.5092415062504793\n",
      "\n",
      "\n",
      "Bernoulli Naive Bayes:\n",
      "Accuracy: 0.8042953067822504\n",
      "F2-Score: 0.5466915816204303\n",
      "\n",
      "\n",
      "Complement Naive Bayes:\n",
      "Accuracy: 0.7458521334422852\n",
      "F2-Score: 0.5931339225016995\n",
      "\n",
      "\n"
     ]
    }
   ],
   "source": [
    "data_train, data_test, target_train, target_test = get_preprocessed_brfss_dataset_one_hot_encoded_all_columns_train_test_split()\n",
    "\n",
    "process_all_naive_bayes_classifiers((data_train, data_test, target_train, target_test))"
   ],
   "metadata": {
    "collapsed": false
   }
  },
  {
   "cell_type": "markdown",
   "source": [
    "### Oversampled"
   ],
   "metadata": {
    "collapsed": false
   }
  },
  {
   "cell_type": "code",
   "execution_count": 11,
   "outputs": [
    {
     "name": "stdout",
     "output_type": "stream",
     "text": [
      "Gaussian Naive Bayes:\n",
      "Accuracy: 0.5163427718762212\n",
      "F2-Score: 0.5372419116228211\n",
      "\n",
      "\n",
      "Multinominal Naive Bayes:\n",
      "Accuracy: 0.7459231889721818\n",
      "F2-Score: 0.5931843290558341\n",
      "\n",
      "\n",
      "Bernoulli Naive Bayes:\n",
      "Accuracy: 0.7480015632216577\n",
      "F2-Score: 0.5887191539365452\n",
      "\n",
      "\n",
      "Complement Naive Bayes:\n",
      "Accuracy: 0.7459231889721818\n",
      "F2-Score: 0.5931843290558341\n",
      "\n",
      "\n"
     ]
    }
   ],
   "source": [
    "data_train, data_test, target_train, target_test = get_preprocessed_brfss_dataset_one_hot_encoded_all_columns_train_test_split_oversampled()\n",
    "data_train.head()\n",
    "\n",
    "process_all_naive_bayes_classifiers((data_train, data_test, target_train, target_test))"
   ],
   "metadata": {
    "collapsed": false
   }
  },
  {
   "cell_type": "markdown",
   "source": [
    "### Undersampled"
   ],
   "metadata": {
    "collapsed": false
   }
  },
  {
   "cell_type": "code",
   "execution_count": 12,
   "outputs": [
    {
     "name": "stdout",
     "output_type": "stream",
     "text": [
      "Gaussian Naive Bayes:\n",
      "Accuracy: 0.5508224677585533\n",
      "F2-Score: 0.5489154861585072\n",
      "\n",
      "\n",
      "Multinominal Naive Bayes:\n",
      "Accuracy: 0.7457988417948627\n",
      "F2-Score: 0.5932581405722297\n",
      "\n",
      "\n",
      "Bernoulli Naive Bayes:\n",
      "Accuracy: 0.7476640494546488\n",
      "F2-Score: 0.5886435465960537\n",
      "\n",
      "\n",
      "Complement Naive Bayes:\n",
      "Accuracy: 0.7457988417948627\n",
      "F2-Score: 0.5932581405722297\n",
      "\n",
      "\n"
     ]
    }
   ],
   "source": [
    "data_train, data_test, target_train, target_test = get_preprocessed_brfss_dataset_one_hot_encoded_all_columns_train_test_split_undersampled()\n",
    "data_train.head()\n",
    "\n",
    "process_all_naive_bayes_classifiers((data_train, data_test, target_train, target_test))"
   ],
   "metadata": {
    "collapsed": false
   }
  },
  {
   "cell_type": "markdown",
   "source": [
    "# Label Encoding"
   ],
   "metadata": {
    "collapsed": false
   }
  },
  {
   "cell_type": "code",
   "execution_count": 13,
   "outputs": [
    {
     "name": "stdout",
     "output_type": "stream",
     "text": [
      "Gaussian Naive Bayes:\n",
      "Accuracy: 0.8115607347141791\n",
      "F2-Score: 0.4402773158689145\n",
      "\n",
      "\n",
      "Multinominal Naive Bayes:\n",
      "Accuracy: 0.8620812164706718\n",
      "F2-Score: 0.24444581015886668\n",
      "\n",
      "\n",
      "Bernoulli Naive Bayes:\n",
      "Accuracy: 0.8721178100685686\n",
      "F2-Score: 0.0\n",
      "\n",
      "\n",
      "Complement Naive Bayes:\n",
      "Accuracy: 0.7222794613990834\n",
      "F2-Score: 0.5736873693578095\n",
      "\n",
      "\n"
     ]
    }
   ],
   "source": [
    "data_train, data_test, target_train, target_test = get_preprocessed_brfss_dataset_label_encoded_train_test_split()\n",
    "\n",
    "process_all_naive_bayes_classifiers((data_train, data_test, target_train, target_test))"
   ],
   "metadata": {
    "collapsed": false
   }
  },
  {
   "cell_type": "markdown",
   "source": [
    "### Oversampled"
   ],
   "metadata": {
    "collapsed": false
   }
  },
  {
   "cell_type": "code",
   "execution_count": 14,
   "outputs": [
    {
     "name": "stdout",
     "output_type": "stream",
     "text": [
      "Gaussian Naive Bayes:\n",
      "Accuracy: 0.7840622446441894\n",
      "F2-Score: 0.5155099833023682\n",
      "\n",
      "\n",
      "Multinominal Naive Bayes:\n",
      "Accuracy: 0.7224215724588766\n",
      "F2-Score: 0.5739418400082791\n",
      "\n",
      "\n",
      "Bernoulli Naive Bayes:\n",
      "Accuracy: 0.6728781042384624\n",
      "F2-Score: 0.3963196635120925\n",
      "\n",
      "\n",
      "Complement Naive Bayes:\n",
      "Accuracy: 0.7224215724588766\n",
      "F2-Score: 0.5739418400082791\n",
      "\n",
      "\n"
     ]
    }
   ],
   "source": [
    "data_train, data_test, target_train, target_test = get_preprocessed_brfss_dataset_label_encoded_train_test_split_oversampled()\n",
    "\n",
    "process_all_naive_bayes_classifiers((data_train, data_test, target_train, target_test))"
   ],
   "metadata": {
    "collapsed": false
   }
  },
  {
   "cell_type": "markdown",
   "source": [
    "### Undersampled"
   ],
   "metadata": {
    "collapsed": false
   }
  },
  {
   "cell_type": "code",
   "execution_count": 15,
   "outputs": [
    {
     "name": "stdout",
     "output_type": "stream",
     "text": [
      "Gaussian Naive Bayes:\n",
      "Accuracy: 0.784595161118414\n",
      "F2-Score: 0.5163407919813651\n",
      "\n",
      "\n",
      "Multinominal Naive Bayes:\n",
      "Accuracy: 0.722688030695989\n",
      "F2-Score: 0.5734818987656366\n",
      "\n",
      "\n",
      "Bernoulli Naive Bayes:\n",
      "Accuracy: 0.6425018652076598\n",
      "F2-Score: 0.4102219907036384\n",
      "\n",
      "\n",
      "Complement Naive Bayes:\n",
      "Accuracy: 0.722688030695989\n",
      "F2-Score: 0.5734818987656366\n",
      "\n",
      "\n"
     ]
    }
   ],
   "source": [
    "data_train, data_test, target_train, target_test = get_preprocessed_brfss_dataset_label_encoded_train_test_split_undersampled()\n",
    "\n",
    "process_all_naive_bayes_classifiers((data_train, data_test, target_train, target_test))"
   ],
   "metadata": {
    "collapsed": false
   }
  },
  {
   "cell_type": "markdown",
   "source": [
    "# Evaluating Best Performing Model from Train/Validation Split with Train/Validation/Test Split"
   ],
   "metadata": {
    "collapsed": false
   }
  },
  {
   "cell_type": "markdown",
   "source": [
    "## One-hot Encoding - All Columns Undersampled"
   ],
   "metadata": {
    "collapsed": false
   }
  },
  {
   "cell_type": "code",
   "execution_count": 19,
   "outputs": [
    {
     "name": "stdout",
     "output_type": "stream",
     "text": [
      "Multinominal Naive Bayes:\n",
      "Accuracy: 0.7467625899280576\n",
      "F2-Score: 0.5887370194255497\n",
      "\n",
      "\n",
      "Complement Naive Bayes:\n",
      "Accuracy: 0.7467625899280576\n",
      "F2-Score: 0.5887370194255497\n",
      "\n",
      "\n"
     ]
    }
   ],
   "source": [
    "data_train, data_validation, data_test, target_train, target_validation, target_test = get_preprocessed_brfss_dataset_one_hot_encoded_all_columns_train_test_split_undersampled(False, True)\n",
    "\n",
    "process_naive_bayes_MNB_with_extra_split((data_train, data_validation, data_test, target_train, target_validation, target_test))\n",
    "process_naive_bayes_CNB_with_extra_split((data_train, data_validation, data_test, target_train, target_validation, target_test))"
   ],
   "metadata": {
    "collapsed": false
   }
  },
  {
   "cell_type": "markdown",
   "source": [
    "## One Hot Encoding - All Columns Oversampling"
   ],
   "metadata": {
    "collapsed": false
   }
  },
  {
   "cell_type": "code",
   "execution_count": 20,
   "outputs": [
    {
     "name": "stdout",
     "output_type": "stream",
     "text": [
      "Multinominal Naive Bayes:\n",
      "Accuracy: 0.7468869348965272\n",
      "F2-Score: 0.5884987841815623\n",
      "\n",
      "\n",
      "Complement Naive Bayes:\n",
      "Accuracy: 0.7468869348965272\n",
      "F2-Score: 0.5884987841815623\n",
      "\n",
      "\n"
     ]
    }
   ],
   "source": [
    "data_train, data_validation, data_test, target_train, target_validation, target_test = get_preprocessed_brfss_dataset_one_hot_encoded_all_columns_train_test_split_oversampled(False, True)\n",
    "\n",
    "process_naive_bayes_MNB_with_extra_split((data_train, data_validation, data_test, target_train, target_validation, target_test))\n",
    "process_naive_bayes_CNB_with_extra_split((data_train, data_validation, data_test, target_train, target_validation, target_test))"
   ],
   "metadata": {
    "collapsed": false
   }
  },
  {
   "cell_type": "markdown",
   "source": [
    "# Extras"
   ],
   "metadata": {
    "collapsed": false
   }
  },
  {
   "cell_type": "code",
   "execution_count": null,
   "outputs": [],
   "source": [
    "import seaborn as sns\n",
    "\n",
    "from preprocessing.preprocessing_one_hot_encoding import *\n",
    "\n",
    "data_train, data_test, target_train, target_test = get_preprocessed_brfss_dataset_one_hot_encoded_train_test_split()\n",
    "\n",
    "# calculate the correlations\n",
    "correlations = data_train.corr()\n",
    "\n",
    "# plot the heatmap\n",
    "sns.heatmap(correlations, xticklabels=correlations.columns, yticklabels=correlations.columns, annot=True)\n",
    "\n",
    "# plot the clustermap\n",
    "sns.clustermap(correlations, xticklabels=correlations.columns, yticklabels=correlations.columns, annot=True)"
   ],
   "metadata": {
    "collapsed": false,
    "pycharm": {
     "is_executing": true
    }
   }
  }
 ],
 "metadata": {
  "kernelspec": {
   "display_name": "Python 3",
   "language": "python",
   "name": "python3"
  },
  "language_info": {
   "codemirror_mode": {
    "name": "ipython",
    "version": 2
   },
   "file_extension": ".py",
   "mimetype": "text/x-python",
   "name": "python",
   "nbconvert_exporter": "python",
   "pygments_lexer": "ipython2",
   "version": "2.7.6"
  }
 },
 "nbformat": 4,
 "nbformat_minor": 0
}
