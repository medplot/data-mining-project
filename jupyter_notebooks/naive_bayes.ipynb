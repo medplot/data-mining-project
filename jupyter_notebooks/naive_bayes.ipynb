{
 "cells": [
  {
   "cell_type": "code",
   "execution_count": 1,
   "outputs": [],
   "source": [
    "# all NB classifiers trained at the same time\n",
    "def process_all_naive_bayes_classifiers (data_tuple):\n",
    "    process_naive_bayes_GNB(data_tuple)\n",
    "    process_naive_bayes_MNB(data_tuple)\n",
    "    process_naive_bayes_BNB(data_tuple)\n",
    "    process_naive_bayes_CNB(data_tuple)"
   ],
   "metadata": {
    "collapsed": false,
    "pycharm": {
     "name": "#%%\n"
    }
   }
  },
  {
   "cell_type": "code",
   "execution_count": 2,
   "outputs": [],
   "source": [
    "# methods for training a single NB classifier\n",
    "\n",
    "#Import Gaussian Naive Bayes model\n",
    "from sklearn.naive_bayes import GaussianNB, MultinomialNB, ComplementNB, BernoulliNB\n",
    "#Import scikit-learn metrics module for accuracy calculation\n",
    "from sklearn import metrics\n",
    "\n",
    "def process_naive_bayes_GNB(data_tuple):\n",
    "    data_train, data_test, target_train, target_test = data_tuple\n",
    "\n",
    "    #Create a Gaussian Classifier\n",
    "    gnb = GaussianNB()\n",
    "\n",
    "    #Train the model using the training sets\n",
    "    gnb.fit(data_train, target_train.values.ravel())\n",
    "\n",
    "    #Predict the response for test dataset\n",
    "    target_pred = gnb.predict(data_test)\n",
    "\n",
    "    # Model Accuracy, how often is the classifier correct?\n",
    "    print(\"Gaussian Naive Bayes:\")\n",
    "    print(\"Accuracy:\",metrics.accuracy_score(target_test, target_pred))\n",
    "    print(\"F2-Score:\",metrics.fbeta_score(target_test, target_pred, beta=2.0, average='binary'))\n",
    "    print(\"\\n\")\n",
    "\n",
    "def process_naive_bayes_MNB(data_tuple):\n",
    "    data_train, data_test, target_train, target_test = data_tuple\n",
    "\n",
    "    #Create a Multinominal Classifier\n",
    "    gnb = MultinomialNB()\n",
    "\n",
    "    #Train the model using the training sets\n",
    "    gnb.fit(data_train, target_train.values.ravel())\n",
    "\n",
    "    #Predict the response for test dataset\n",
    "    target_pred = gnb.predict(data_test)\n",
    "\n",
    "    # Model Accuracy, how often is the classifier correct?\n",
    "    print(\"Multinominal Naive Bayes:\")\n",
    "    print(\"Accuracy:\",metrics.accuracy_score(target_test, target_pred))\n",
    "    print(\"F2-Score:\",metrics.fbeta_score(target_test, target_pred, beta=2.0, average='binary'))\n",
    "    print(\"\\n\")\n",
    "\n",
    "def process_naive_bayes_CNB(data_tuple):\n",
    "    data_train, data_test, target_train, target_test = data_tuple\n",
    "\n",
    "    #Create a Complement Classifier\n",
    "    gnb = ComplementNB()\n",
    "\n",
    "    #Train the model using the training sets\n",
    "    gnb.fit(data_train, target_train.values.ravel())\n",
    "\n",
    "    #Predict the response for test dataset\n",
    "    target_pred = gnb.predict(data_test)\n",
    "\n",
    "    # Model Accuracy, how often is the classifier correct?\n",
    "    print(\"Complement Naive Bayes:\")\n",
    "    print(\"Accuracy:\",metrics.accuracy_score(target_test, target_pred))\n",
    "    print(\"F2-Score:\",metrics.fbeta_score(target_test, target_pred, beta=2.0, average='binary'))\n",
    "    print(\"\\n\")\n",
    "\n",
    "def process_naive_bayes_BNB(data_tuple):\n",
    "    data_train, data_test, target_train, target_test = data_tuple\n",
    "\n",
    "    #Create a Bernoulli Classifier\n",
    "    gnb = BernoulliNB()\n",
    "\n",
    "    #Train the model using the training sets\n",
    "    gnb.fit(data_train, target_train.values.ravel())\n",
    "\n",
    "    #Predict the response for test dataset\n",
    "    target_pred = gnb.predict(data_test)\n",
    "\n",
    "    # Model Accuracy, how often is the classifier correct?\n",
    "    print(\"Bernoulli Naive Bayes:\")\n",
    "    print(\"Accuracy:\",metrics.accuracy_score(target_test, target_pred))\n",
    "    print(\"F2-Score:\",metrics.fbeta_score(target_test, target_pred, beta=2.0, average='binary'))\n",
    "    print(\"\\n\")"
   ],
   "metadata": {
    "collapsed": false,
    "pycharm": {
     "name": "#%%\n"
    }
   }
  },
  {
   "cell_type": "code",
   "execution_count": 3,
   "outputs": [],
   "source": [
    "# methods for evaluating best performing classifiers\n",
    "\n",
    "def process_naive_bayes_MNB_with_extra_split(data_tuple):\n",
    "    data_train, data_validation, data_test, target_train, target_validation, target_test = data_tuple\n",
    "\n",
    "    #Create a Multinominal Classifier\n",
    "    gnb = MultinomialNB()\n",
    "\n",
    "    #Train the model using the training sets\n",
    "    gnb.fit(data_train, target_train.values.ravel())\n",
    "\n",
    "    #Predict the response for test dataset\n",
    "    target_pred = gnb.predict(data_test)\n",
    "\n",
    "    # Model Accuracy, how often is the classifier correct?\n",
    "    print(\"Multinominal Naive Bayes:\")\n",
    "    print(\"Accuracy:\",metrics.accuracy_score(target_test, target_pred))\n",
    "    print(\"F2-Score:\",metrics.fbeta_score(target_test, target_pred, beta=2.0, average='binary'))\n",
    "    print(\"\\n\")\n",
    "\n",
    "def process_naive_bayes_BNB_with_extra_split(data_tuple):\n",
    "    data_train, data_validation, data_test, target_train, target_validation, target_test = data_tuple\n",
    "\n",
    "    #Create a Bernoulli Classifier\n",
    "    gnb = BernoulliNB()\n",
    "\n",
    "    #Train the model using the training sets\n",
    "    gnb.fit(data_train, target_train.values.ravel())\n",
    "\n",
    "    #Predict the response for test dataset\n",
    "    target_pred = gnb.predict(data_test)\n",
    "\n",
    "    # Model Accuracy, how often is the classifier correct?\n",
    "    print(\"Bernoulli Naive Bayes:\")\n",
    "    print(\"Accuracy:\",metrics.accuracy_score(target_test, target_pred))\n",
    "    print(\"F2-Score:\",metrics.fbeta_score(target_test, target_pred, beta=2.0, average='binary'))\n",
    "    print(\"\\n\")"
   ],
   "metadata": {
    "collapsed": false,
    "pycharm": {
     "name": "#%%\n"
    }
   }
  },
  {
   "cell_type": "markdown",
   "source": [
    "# One-Hot Encoded"
   ],
   "metadata": {
    "collapsed": false,
    "pycharm": {
     "name": "#%% md\n"
    }
   }
  },
  {
   "cell_type": "code",
   "execution_count": 4,
   "outputs": [
    {
     "name": "stdout",
     "output_type": "stream",
     "text": [
      "Gaussian Naive Bayes:\n",
      "Accuracy: 0.5649447543255054\n",
      "F2-Score: 0.5527952409923612\n",
      "\n",
      "\n",
      "Multinominal Naive Bayes:\n",
      "Accuracy: 0.8411553629161189\n",
      "F2-Score: 0.4553975522883693\n",
      "\n",
      "\n",
      "Bernoulli Naive Bayes:\n",
      "Accuracy: 0.8120936511884037\n",
      "F2-Score: 0.5314358434693228\n",
      "\n",
      "\n",
      "Complement Naive Bayes:\n",
      "Accuracy: 0.7322449994670835\n",
      "F2-Score: 0.5854774037256704\n",
      "\n",
      "\n"
     ]
    }
   ],
   "source": [
    "from preprocessing.preprocessing_label_encoding import *\n",
    "from preprocessing.preprocessing_one_hot_encoding import *\n",
    "\n",
    "data_train, data_test, target_train, target_test = get_preprocessed_brfss_dataset_one_hot_encoded_train_test_split()\n",
    "\n",
    "process_all_naive_bayes_classifiers((data_train, data_test, target_train, target_test))"
   ],
   "metadata": {
    "collapsed": false,
    "pycharm": {
     "name": "#%%\n"
    }
   }
  },
  {
   "cell_type": "markdown",
   "source": [
    "### Oversampled"
   ],
   "metadata": {
    "collapsed": false,
    "pycharm": {
     "name": "#%% md\n"
    }
   }
  },
  {
   "cell_type": "code",
   "execution_count": 5,
   "outputs": [
    {
     "name": "stdout",
     "output_type": "stream",
     "text": [
      "Gaussian Naive Bayes:\n",
      "Accuracy: 0.5384232777915942\n",
      "F2-Score: 0.5463399412025555\n",
      "\n",
      "\n",
      "Multinominal Naive Bayes:\n",
      "Accuracy: 0.7325469854691441\n",
      "F2-Score: 0.5855253536134384\n",
      "\n",
      "\n",
      "Bernoulli Naive Bayes:\n",
      "Accuracy: 0.7265960848403027\n",
      "F2-Score: 0.5885149660988921\n",
      "\n",
      "\n",
      "Complement Naive Bayes:\n",
      "Accuracy: 0.7325469854691441\n",
      "F2-Score: 0.5855253536134384\n",
      "\n",
      "\n"
     ]
    }
   ],
   "source": [
    "data_train, data_test, target_train, target_test = get_preprocessed_brfss_dataset_one_hot_encoded_train_test_split_oversampled()\n",
    "\n",
    "process_all_naive_bayes_classifiers((data_train, data_test, target_train, target_test))"
   ],
   "metadata": {
    "collapsed": false,
    "pycharm": {
     "name": "#%%\n"
    }
   }
  },
  {
   "cell_type": "markdown",
   "source": [
    "### Undersampled"
   ],
   "metadata": {
    "collapsed": false,
    "pycharm": {
     "name": "#%% md\n"
    }
   }
  },
  {
   "cell_type": "code",
   "execution_count": 6,
   "outputs": [
    {
     "name": "stdout",
     "output_type": "stream",
     "text": [
      "Gaussian Naive Bayes:\n",
      "Accuracy: 0.7043379401001882\n",
      "F2-Score: 0.5766793409378961\n",
      "\n",
      "\n",
      "Multinominal Naive Bayes:\n",
      "Accuracy: 0.7453014530855864\n",
      "F2-Score: 0.5923385641178094\n",
      "\n",
      "\n",
      "Bernoulli Naive Bayes:\n",
      "Accuracy: 0.7475397022773297\n",
      "F2-Score: 0.5887188027071457\n",
      "\n",
      "\n",
      "Complement Naive Bayes:\n",
      "Accuracy: 0.7453014530855864\n",
      "F2-Score: 0.5923385641178094\n",
      "\n",
      "\n"
     ]
    }
   ],
   "source": [
    "data_train, data_test, target_train, target_test = get_preprocessed_brfss_dataset_one_hot_encoded_all_columns_train_test_split_undersampled()\n",
    "\n",
    "process_all_naive_bayes_classifiers((data_train, data_test, target_train, target_test))"
   ],
   "metadata": {
    "collapsed": false,
    "pycharm": {
     "name": "#%%\n"
    }
   }
  },
  {
   "cell_type": "markdown",
   "source": [
    "## All Columns"
   ],
   "metadata": {
    "collapsed": false,
    "pycharm": {
     "name": "#%% md\n"
    }
   }
  },
  {
   "cell_type": "code",
   "execution_count": 7,
   "outputs": [
    {
     "name": "stdout",
     "output_type": "stream",
     "text": [
      "Gaussian Naive Bayes:\n",
      "Accuracy: 0.5368422922513945\n",
      "F2-Score: 0.5441953589129221\n",
      "\n",
      "\n",
      "Multinominal Naive Bayes:\n",
      "Accuracy: 0.8303193946068853\n",
      "F2-Score: 0.5092415062504793\n",
      "\n",
      "\n",
      "Bernoulli Naive Bayes:\n",
      "Accuracy: 0.8042953067822504\n",
      "F2-Score: 0.5466915816204303\n",
      "\n",
      "\n",
      "Complement Naive Bayes:\n",
      "Accuracy: 0.7458521334422852\n",
      "F2-Score: 0.5931339225016995\n",
      "\n",
      "\n"
     ]
    }
   ],
   "source": [
    "data_train, data_test, target_train, target_test = get_preprocessed_brfss_dataset_one_hot_encoded_all_columns_train_test_split()\n",
    "\n",
    "process_all_naive_bayes_classifiers((data_train, data_test, target_train, target_test))"
   ],
   "metadata": {
    "collapsed": false,
    "pycharm": {
     "name": "#%%\n"
    }
   }
  },
  {
   "cell_type": "markdown",
   "source": [
    "### Oversampled"
   ],
   "metadata": {
    "collapsed": false,
    "pycharm": {
     "name": "#%% md\n"
    }
   }
  },
  {
   "cell_type": "code",
   "execution_count": 8,
   "outputs": [
    {
     "name": "stdout",
     "output_type": "stream",
     "text": [
      "Gaussian Naive Bayes:\n",
      "Accuracy: 0.5145486197463317\n",
      "F2-Score: 0.5371900826446281\n",
      "\n",
      "\n",
      "Multinominal Naive Bayes:\n",
      "Accuracy: 0.7454258002629055\n",
      "F2-Score: 0.5936412259105187\n",
      "\n",
      "\n",
      "Bernoulli Naive Bayes:\n",
      "Accuracy: 0.7473798273350624\n",
      "F2-Score: 0.5882792485055508\n",
      "\n",
      "\n",
      "Complement Naive Bayes:\n",
      "Accuracy: 0.7454258002629055\n",
      "F2-Score: 0.5936412259105187\n",
      "\n",
      "\n"
     ]
    }
   ],
   "source": [
    "data_train, data_test, target_train, target_test = get_preprocessed_brfss_dataset_one_hot_encoded_all_columns_train_test_split_oversampled()\n",
    "data_train.head()\n",
    "\n",
    "process_all_naive_bayes_classifiers((data_train, data_test, target_train, target_test))"
   ],
   "metadata": {
    "collapsed": false,
    "pycharm": {
     "name": "#%%\n"
    }
   }
  },
  {
   "cell_type": "markdown",
   "source": [
    "### Undersampled"
   ],
   "metadata": {
    "collapsed": false,
    "pycharm": {
     "name": "#%% md\n"
    }
   }
  },
  {
   "cell_type": "code",
   "execution_count": 9,
   "outputs": [
    {
     "name": "stdout",
     "output_type": "stream",
     "text": [
      "Gaussian Naive Bayes:\n",
      "Accuracy: 0.7042313568053433\n",
      "F2-Score: 0.577769736445329\n",
      "\n",
      "\n",
      "Multinominal Naive Bayes:\n",
      "Accuracy: 0.7461541194443457\n",
      "F2-Score: 0.5925374720952482\n",
      "\n",
      "\n",
      "Bernoulli Naive Bayes:\n",
      "Accuracy: 0.7477173411020712\n",
      "F2-Score: 0.5875376626706841\n",
      "\n",
      "\n",
      "Complement Naive Bayes:\n",
      "Accuracy: 0.7461541194443457\n",
      "F2-Score: 0.5925374720952482\n",
      "\n",
      "\n"
     ]
    }
   ],
   "source": [
    "data_train, data_test, target_train, target_test = get_preprocessed_brfss_dataset_one_hot_encoded_all_columns_train_test_split_undersampled()\n",
    "data_train.head()\n",
    "\n",
    "process_all_naive_bayes_classifiers((data_train, data_test, target_train, target_test))"
   ],
   "metadata": {
    "collapsed": false,
    "pycharm": {
     "name": "#%%\n"
    }
   }
  },
  {
   "cell_type": "markdown",
   "source": [
    "# Label Encoding"
   ],
   "metadata": {
    "collapsed": false,
    "pycharm": {
     "name": "#%% md\n"
    }
   }
  },
  {
   "cell_type": "code",
   "execution_count": 10,
   "outputs": [
    {
     "name": "stdout",
     "output_type": "stream",
     "text": [
      "Gaussian Naive Bayes:\n",
      "Accuracy: 0.8115607347141791\n",
      "F2-Score: 0.4402773158689145\n",
      "\n",
      "\n",
      "Multinominal Naive Bayes:\n",
      "Accuracy: 0.8620812164706718\n",
      "F2-Score: 0.24444581015886668\n",
      "\n",
      "\n",
      "Bernoulli Naive Bayes:\n",
      "Accuracy: 0.8721178100685686\n",
      "F2-Score: 0.0\n",
      "\n",
      "\n",
      "Complement Naive Bayes:\n",
      "Accuracy: 0.7222794613990834\n",
      "F2-Score: 0.5736873693578095\n",
      "\n",
      "\n"
     ]
    }
   ],
   "source": [
    "data_train, data_test, target_train, target_test = get_preprocessed_brfss_dataset_label_encoded_train_test_split()\n",
    "\n",
    "process_all_naive_bayes_classifiers((data_train, data_test, target_train, target_test))"
   ],
   "metadata": {
    "collapsed": false,
    "pycharm": {
     "name": "#%%\n"
    }
   }
  },
  {
   "cell_type": "markdown",
   "source": [
    "### Oversampled"
   ],
   "metadata": {
    "collapsed": false,
    "pycharm": {
     "name": "#%% md\n"
    }
   }
  },
  {
   "cell_type": "code",
   "execution_count": 11,
   "outputs": [
    {
     "name": "stdout",
     "output_type": "stream",
     "text": [
      "Gaussian Naive Bayes:\n",
      "Accuracy: 0.7851458414751128\n",
      "F2-Score: 0.5136307895481559\n",
      "\n",
      "\n",
      "Multinominal Naive Bayes:\n",
      "Accuracy: 0.7224393363413507\n",
      "F2-Score: 0.5737942454978265\n",
      "\n",
      "\n",
      "Bernoulli Naive Bayes:\n",
      "Accuracy: 0.6728603403559882\n",
      "F2-Score: 0.39631132888898246\n",
      "\n",
      "\n",
      "Complement Naive Bayes:\n",
      "Accuracy: 0.7224393363413507\n",
      "F2-Score: 0.5737942454978265\n",
      "\n",
      "\n"
     ]
    }
   ],
   "source": [
    "data_train, data_test, target_train, target_test = get_preprocessed_brfss_dataset_label_encoded_train_test_split_oversampled()\n",
    "\n",
    "process_all_naive_bayes_classifiers((data_train, data_test, target_train, target_test))"
   ],
   "metadata": {
    "collapsed": false,
    "pycharm": {
     "name": "#%%\n"
    }
   }
  },
  {
   "cell_type": "markdown",
   "source": [
    "### Undersampled"
   ],
   "metadata": {
    "collapsed": false,
    "pycharm": {
     "name": "#%% md\n"
    }
   }
  },
  {
   "cell_type": "code",
   "execution_count": 12,
   "outputs": [
    {
     "name": "stdout",
     "output_type": "stream",
     "text": [
      "Gaussian Naive Bayes:\n",
      "Accuracy: 0.7867090631328383\n",
      "F2-Score: 0.5142296600954948\n",
      "\n",
      "\n",
      "Multinominal Naive Bayes:\n",
      "Accuracy: 0.72235051692898\n",
      "F2-Score: 0.5741334712881532\n",
      "\n",
      "\n",
      "Bernoulli Naive Bayes:\n",
      "Accuracy: 0.6737840622446442\n",
      "F2-Score: 0.39630230158563035\n",
      "\n",
      "\n",
      "Complement Naive Bayes:\n",
      "Accuracy: 0.72235051692898\n",
      "F2-Score: 0.5741334712881532\n",
      "\n",
      "\n"
     ]
    }
   ],
   "source": [
    "data_train, data_test, target_train, target_test = get_preprocessed_brfss_dataset_label_encoded_train_test_split_undersampled()\n",
    "\n",
    "process_all_naive_bayes_classifiers((data_train, data_test, target_train, target_test))"
   ],
   "metadata": {
    "collapsed": false,
    "pycharm": {
     "name": "#%%\n"
    }
   }
  },
  {
   "cell_type": "markdown",
   "source": [
    "# Evaluating Best Performing Model from Train/Validation Split with Train/Validation/Test Split"
   ],
   "metadata": {
    "collapsed": false,
    "pycharm": {
     "name": "#%% md\n"
    }
   }
  },
  {
   "cell_type": "markdown",
   "source": [
    "## One-hot Encoding"
   ],
   "metadata": {
    "collapsed": false,
    "pycharm": {
     "name": "#%% md\n"
    }
   }
  },
  {
   "cell_type": "code",
   "execution_count": 13,
   "outputs": [
    {
     "name": "stdout",
     "output_type": "stream",
     "text": [
      "Multinominal Naive Bayes:\n",
      "Accuracy: 0.8424904520827782\n",
      "F2-Score: 0.451366472993329\n",
      "\n",
      "\n"
     ]
    }
   ],
   "source": [
    "data_train, data_validation, data_test, target_train, target_validation, target_test = get_preprocessed_brfss_dataset_one_hot_encoded_train_test_split(False, True)\n",
    "\n",
    "process_naive_bayes_MNB_with_extra_split((data_train, data_validation, data_test, target_train, target_validation, target_test))"
   ],
   "metadata": {
    "collapsed": false,
    "pycharm": {
     "name": "#%%\n"
    }
   }
  },
  {
   "cell_type": "markdown",
   "source": [
    "## Label Encoding"
   ],
   "metadata": {
    "collapsed": false,
    "pycharm": {
     "name": "#%% md\n"
    }
   }
  },
  {
   "cell_type": "code",
   "execution_count": 14,
   "outputs": [
    {
     "name": "stdout",
     "output_type": "stream",
     "text": [
      "Multinominal Naive Bayes:\n",
      "Accuracy: 0.86005861977085\n",
      "F2-Score: 0.23819024525000768\n",
      "\n",
      "\n",
      "Bernoulli Naive Bayes:\n",
      "Accuracy: 0.8721200817124078\n",
      "F2-Score: 0.0\n",
      "\n",
      "\n"
     ]
    }
   ],
   "source": [
    "data_train, data_validation, data_test, target_train, target_validation, target_test = get_preprocessed_brfss_dataset_label_encoded_train_test_split(True)\n",
    "\n",
    "process_naive_bayes_MNB_with_extra_split((data_train, data_validation, data_test, target_train, target_validation, target_test))\n",
    "process_naive_bayes_BNB_with_extra_split((data_train, data_validation, data_test, target_train, target_validation, target_test))"
   ],
   "metadata": {
    "collapsed": false,
    "pycharm": {
     "name": "#%%\n"
    }
   }
  },
  {
   "cell_type": "markdown",
   "source": [
    "# Extras"
   ],
   "metadata": {
    "collapsed": false,
    "pycharm": {
     "name": "#%% md\n"
    }
   }
  },
  {
   "cell_type": "code",
   "execution_count": null,
   "outputs": [],
   "source": [
    "import seaborn as sns\n",
    "\n",
    "from preprocessing.preprocessing_one_hot_encoding import *\n",
    "\n",
    "data_train, data_test, target_train, target_test = get_preprocessed_brfss_dataset_one_hot_encoded_train_test_split()\n",
    "\n",
    "# calculate the correlations\n",
    "correlations = data_train.corr()\n",
    "\n",
    "# plot the heatmap\n",
    "sns.heatmap(correlations, xticklabels=correlations.columns, yticklabels=correlations.columns, annot=True)\n",
    "\n",
    "# plot the clustermap\n",
    "sns.clustermap(correlations, xticklabels=correlations.columns, yticklabels=correlations.columns, annot=True)"
   ],
   "metadata": {
    "collapsed": false,
    "pycharm": {
     "name": "#%%\n",
     "is_executing": true
    }
   }
  }
 ],
 "metadata": {
  "kernelspec": {
   "display_name": "Python 3",
   "language": "python",
   "name": "python3"
  },
  "language_info": {
   "codemirror_mode": {
    "name": "ipython",
    "version": 2
   },
   "file_extension": ".py",
   "mimetype": "text/x-python",
   "name": "python",
   "nbconvert_exporter": "python",
   "pygments_lexer": "ipython2",
   "version": "2.7.6"
  }
 },
 "nbformat": 4,
 "nbformat_minor": 0
}