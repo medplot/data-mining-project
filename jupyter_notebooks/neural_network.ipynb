{
 "cells": [
  {
   "cell_type": "markdown",
   "source": [
    "# Artificial neural network"
   ],
   "metadata": {
    "collapsed": false,
    "pycharm": {
     "name": "#%% md\n"
    }
   }
  },
  {
   "cell_type": "code",
   "execution_count": 1,
   "outputs": [],
   "source": [
    "#imports\n",
    "from preprocessing.preprocessing import get_preprocessed_brfss_dataset"
   ],
   "metadata": {
    "collapsed": false,
    "pycharm": {
     "name": "#%%\n"
    }
   }
  },
  {
   "cell_type": "markdown",
   "source": [
    "Load the preprocessed dataset and check that everything looks good"
   ],
   "metadata": {
    "collapsed": false,
    "pycharm": {
     "name": "#%% md\n"
    }
   }
  },
  {
   "cell_type": "code",
   "execution_count": 2,
   "outputs": [
    {
     "data": {
      "text/plain": "   _STATE  FMONTH        IDATE IMONTH   IDAY    IYEAR  DISPCODE         SEQNO  \\\n0     1.0     1.0  b'01292015'  b'01'  b'29'  b'2015'    1200.0  2.015000e+09   \n1     1.0     1.0  b'01202015'  b'01'  b'20'  b'2015'    1100.0  2.015000e+09   \n2     1.0     1.0  b'02012015'  b'02'  b'01'  b'2015'    1200.0  2.015000e+09   \n3     1.0     1.0  b'01142015'  b'01'  b'14'  b'2015'    1100.0  2.015000e+09   \n4     1.0     1.0  b'01142015'  b'01'  b'14'  b'2015'    1100.0  2.015000e+09   \n\n           _PSU  CTELENUM  ...  _PAREC1  _PASTAE1  _LMTACT1  _LMTWRK1  \\\n0  2.015000e+09       1.0  ...      4.0       2.0       1.0       1.0   \n1  2.015000e+09       1.0  ...      2.0       2.0       3.0       3.0   \n2  2.015000e+09       1.0  ...      9.0       9.0       9.0       9.0   \n3  2.015000e+09       1.0  ...      4.0       2.0       1.0       1.0   \n4  2.015000e+09       1.0  ...      4.0       2.0       1.0       1.0   \n\n   _LMTSCL1  _RFSEAT2  _RFSEAT3  _FLSHOT6  _PNEUMO2  _AIDTST3  \n0       1.0       1.0       1.0       NaN       NaN       1.0  \n1       4.0       2.0       2.0       NaN       NaN       2.0  \n2       9.0       9.0       9.0       9.0       9.0       NaN  \n3       1.0       1.0       1.0       NaN       NaN       9.0  \n4       1.0       1.0       1.0       NaN       NaN       1.0  \n\n[5 rows x 329 columns]",
      "text/html": "<div>\n<style scoped>\n    .dataframe tbody tr th:only-of-type {\n        vertical-align: middle;\n    }\n\n    .dataframe tbody tr th {\n        vertical-align: top;\n    }\n\n    .dataframe thead th {\n        text-align: right;\n    }\n</style>\n<table border=\"1\" class=\"dataframe\">\n  <thead>\n    <tr style=\"text-align: right;\">\n      <th></th>\n      <th>_STATE</th>\n      <th>FMONTH</th>\n      <th>IDATE</th>\n      <th>IMONTH</th>\n      <th>IDAY</th>\n      <th>IYEAR</th>\n      <th>DISPCODE</th>\n      <th>SEQNO</th>\n      <th>_PSU</th>\n      <th>CTELENUM</th>\n      <th>...</th>\n      <th>_PAREC1</th>\n      <th>_PASTAE1</th>\n      <th>_LMTACT1</th>\n      <th>_LMTWRK1</th>\n      <th>_LMTSCL1</th>\n      <th>_RFSEAT2</th>\n      <th>_RFSEAT3</th>\n      <th>_FLSHOT6</th>\n      <th>_PNEUMO2</th>\n      <th>_AIDTST3</th>\n    </tr>\n  </thead>\n  <tbody>\n    <tr>\n      <th>0</th>\n      <td>1.0</td>\n      <td>1.0</td>\n      <td>b'01292015'</td>\n      <td>b'01'</td>\n      <td>b'29'</td>\n      <td>b'2015'</td>\n      <td>1200.0</td>\n      <td>2.015000e+09</td>\n      <td>2.015000e+09</td>\n      <td>1.0</td>\n      <td>...</td>\n      <td>4.0</td>\n      <td>2.0</td>\n      <td>1.0</td>\n      <td>1.0</td>\n      <td>1.0</td>\n      <td>1.0</td>\n      <td>1.0</td>\n      <td>NaN</td>\n      <td>NaN</td>\n      <td>1.0</td>\n    </tr>\n    <tr>\n      <th>1</th>\n      <td>1.0</td>\n      <td>1.0</td>\n      <td>b'01202015'</td>\n      <td>b'01'</td>\n      <td>b'20'</td>\n      <td>b'2015'</td>\n      <td>1100.0</td>\n      <td>2.015000e+09</td>\n      <td>2.015000e+09</td>\n      <td>1.0</td>\n      <td>...</td>\n      <td>2.0</td>\n      <td>2.0</td>\n      <td>3.0</td>\n      <td>3.0</td>\n      <td>4.0</td>\n      <td>2.0</td>\n      <td>2.0</td>\n      <td>NaN</td>\n      <td>NaN</td>\n      <td>2.0</td>\n    </tr>\n    <tr>\n      <th>2</th>\n      <td>1.0</td>\n      <td>1.0</td>\n      <td>b'02012015'</td>\n      <td>b'02'</td>\n      <td>b'01'</td>\n      <td>b'2015'</td>\n      <td>1200.0</td>\n      <td>2.015000e+09</td>\n      <td>2.015000e+09</td>\n      <td>1.0</td>\n      <td>...</td>\n      <td>9.0</td>\n      <td>9.0</td>\n      <td>9.0</td>\n      <td>9.0</td>\n      <td>9.0</td>\n      <td>9.0</td>\n      <td>9.0</td>\n      <td>9.0</td>\n      <td>9.0</td>\n      <td>NaN</td>\n    </tr>\n    <tr>\n      <th>3</th>\n      <td>1.0</td>\n      <td>1.0</td>\n      <td>b'01142015'</td>\n      <td>b'01'</td>\n      <td>b'14'</td>\n      <td>b'2015'</td>\n      <td>1100.0</td>\n      <td>2.015000e+09</td>\n      <td>2.015000e+09</td>\n      <td>1.0</td>\n      <td>...</td>\n      <td>4.0</td>\n      <td>2.0</td>\n      <td>1.0</td>\n      <td>1.0</td>\n      <td>1.0</td>\n      <td>1.0</td>\n      <td>1.0</td>\n      <td>NaN</td>\n      <td>NaN</td>\n      <td>9.0</td>\n    </tr>\n    <tr>\n      <th>4</th>\n      <td>1.0</td>\n      <td>1.0</td>\n      <td>b'01142015'</td>\n      <td>b'01'</td>\n      <td>b'14'</td>\n      <td>b'2015'</td>\n      <td>1100.0</td>\n      <td>2.015000e+09</td>\n      <td>2.015000e+09</td>\n      <td>1.0</td>\n      <td>...</td>\n      <td>4.0</td>\n      <td>2.0</td>\n      <td>1.0</td>\n      <td>1.0</td>\n      <td>1.0</td>\n      <td>1.0</td>\n      <td>1.0</td>\n      <td>NaN</td>\n      <td>NaN</td>\n      <td>1.0</td>\n    </tr>\n  </tbody>\n</table>\n<p>5 rows × 329 columns</p>\n</div>"
     },
     "execution_count": 2,
     "metadata": {},
     "output_type": "execute_result"
    }
   ],
   "source": [
    "brfss_dataset, brfss_target = get_preprocessed_brfss_dataset()\n",
    "brfss_dataset.head()"
   ],
   "metadata": {
    "collapsed": false,
    "pycharm": {
     "name": "#%%\n"
    }
   }
  }
 ],
 "metadata": {
  "kernelspec": {
   "display_name": "Python 3",
   "language": "python",
   "name": "python3"
  },
  "language_info": {
   "codemirror_mode": {
    "name": "ipython",
    "version": 2
   },
   "file_extension": ".py",
   "mimetype": "text/x-python",
   "name": "python",
   "nbconvert_exporter": "python",
   "pygments_lexer": "ipython2",
   "version": "2.7.6"
  }
 },
 "nbformat": 4,
 "nbformat_minor": 0
}