{
 "cells": [
  {
   "cell_type": "markdown",
   "source": [
    "# Artificial neural network"
   ],
   "metadata": {
    "collapsed": false,
    "pycharm": {
     "name": "#%% md\n"
    }
   }
  },
  {
   "cell_type": "code",
   "execution_count": 1,
   "outputs": [
    {
     "name": "stdout",
     "output_type": "stream",
     "text": [
      "   GenHealth  PhysHealth  MentHealth  Healthcare  MedCost  Checkup  HighBP  \\\n",
      "0        5.0        15.0        18.0         1.0      2.0      1.0     1.0   \n",
      "1        3.0        88.0        88.0         2.0      1.0      4.0     3.0   \n",
      "2        4.0        15.0        88.0         1.0      2.0      1.0     3.0   \n",
      "3        5.0        30.0        30.0         1.0      1.0      1.0     1.0   \n",
      "4        5.0        20.0        88.0         1.0      2.0      1.0     3.0   \n",
      "\n",
      "   HighChol  HeartAttack  AngiCoro  Stroke  Asthma  Arthritis  Kidney  Sex  \\\n",
      "0       1.0          2.0       2.0     2.0     1.0        1.0     2.0  2.0   \n",
      "1       2.0          2.0       2.0     2.0     2.0        2.0     2.0  2.0   \n",
      "2       1.0          7.0       2.0     1.0     2.0        1.0     2.0  2.0   \n",
      "3       1.0          2.0       2.0     2.0     2.0        1.0     2.0  2.0   \n",
      "4       2.0          2.0       2.0     2.0     2.0        1.0     2.0  2.0   \n",
      "\n",
      "   Income  SodiumSalt   Age  Height   Weight  BMI  Education  Alcohol  \\\n",
      "0     3.0         0.0   9.0   178.0  12701.0  4.0        2.0      1.0   \n",
      "1     1.0         2.0   7.0   173.0   7484.0  3.0        4.0      1.0   \n",
      "2    99.0         0.0  11.0   180.0   7167.0  2.0        2.0      9.0   \n",
      "3     8.0         2.0   9.0   170.0   8165.0  3.0        2.0      1.0   \n",
      "4    77.0         1.0   9.0   163.0   6441.0  2.0        3.0      1.0   \n",
      "\n",
      "   Smoking  FruitCons  VegetCons  PhysActivity  Muscles  \n",
      "0      3.0        2.0        1.0           4.0      2.0  \n",
      "1      1.0        2.0        2.0           2.0      2.0  \n",
      "2      9.0        9.0        9.0           9.0      9.0  \n",
      "3      4.0        1.0        2.0           4.0      2.0  \n",
      "4      4.0        9.0        1.0           4.0      2.0  \n"
     ]
    }
   ],
   "source": [
    "#imports\n",
    "from preprocessing.preprocessing import get_preprocessed_brfss_dataset\n",
    "from preprocessing.neural_network_preprocessing import get_number_of_numerical_features, NeuralNetworkPreprocessor, CATEGORICAL_COLUMNS, NUMERICAL_COLUMNS\n",
    "from visualization.general_plots import plot_class_frequencies\n",
    "from visualization.neural_network_plots import plot_loss\n",
    "\n",
    "import torch\n",
    "import torch.nn as nn\n",
    "import torch.nn.functional as F\n",
    "import torch.optim as optim\n",
    "import torch.utils.data as data_utils\n",
    "\n",
    "import numpy as np"
   ],
   "metadata": {
    "collapsed": false,
    "pycharm": {
     "name": "#%%\n"
    }
   }
  },
  {
   "cell_type": "code",
   "execution_count": 2,
   "outputs": [],
   "source": [
    "import warnings\n",
    "warnings.filterwarnings('ignore')"
   ],
   "metadata": {
    "collapsed": false,
    "pycharm": {
     "name": "#%%\n"
    }
   }
  },
  {
   "cell_type": "code",
   "execution_count": 3,
   "outputs": [
    {
     "name": "stdout",
     "output_type": "stream",
     "text": [
      "Torch mps activated\n"
     ]
    }
   ],
   "source": [
    "use_mps = True\n",
    "use_cuda = False\n",
    "\n",
    "device = torch.device(\"cpu\")\n",
    "\n",
    "if torch.has_mps and use_mps:\n",
    "    device = torch.device(\"mps\")\n",
    "    print(\"Torch mps activated\")\n",
    "\n",
    "if torch.has_cuda and use_cuda:\n",
    "    device = torch.device(\"cuda\")\n",
    "    print(\"Torch cuda activated\")"
   ],
   "metadata": {
    "collapsed": false,
    "pycharm": {
     "name": "#%%\n"
    }
   }
  },
  {
   "cell_type": "markdown",
   "source": [
    "Looking at the dataset it becomes clear that it is imbalanced"
   ],
   "metadata": {
    "collapsed": false,
    "pycharm": {
     "name": "#%% md\n"
    }
   }
  },
  {
   "cell_type": "code",
   "execution_count": 4,
   "outputs": [
    {
     "data": {
      "text/plain": "<Figure size 640x480 with 1 Axes>",
      "image/png": "[encoded data removed]"
     },
     "metadata": {},
     "output_type": "display_data"
    }
   ],
   "source": [
    "train_dataset, target = get_preprocessed_brfss_dataset()\n",
    "plot_class_frequencies(target)"
   ],
   "metadata": {
    "collapsed": false,
    "pycharm": {
     "name": "#%%\n"
    }
   }
  },
  {
   "cell_type": "code",
   "execution_count": 5,
   "outputs": [
    {
     "data": {
      "text/plain": "        Yes  Yes, but only during pregnancy   No  No, but pre-diabetes  \\\n104065  1.0                             0.0  0.0                   0.0   \n11428   0.0                             0.0  1.0                   0.0   \n163452  0.0                             0.0  1.0                   0.0   \n184441  0.0                             0.0  1.0                   0.0   \n218001  0.0                             0.0  1.0                   0.0   \n262758  0.0                             0.0  1.0                   0.0   \n143361  0.0                             0.0  1.0                   0.0   \n340750  1.0                             0.0  0.0                   0.0   \n379393  0.0                             0.0  1.0                   0.0   \n171208  0.0                             0.0  1.0                   0.0   \n\n        Don't know  Refused  \n104065         0.0      0.0  \n11428          0.0      0.0  \n163452         0.0      0.0  \n184441         0.0      0.0  \n218001         0.0      0.0  \n262758         0.0      0.0  \n143361         0.0      0.0  \n340750         0.0      0.0  \n379393         0.0      0.0  \n171208         0.0      0.0  ",
      "text/html": "<div>\n<style scoped>\n    .dataframe tbody tr th:only-of-type {\n        vertical-align: middle;\n    }\n\n    .dataframe tbody tr th {\n        vertical-align: top;\n    }\n\n    .dataframe thead th {\n        text-align: right;\n    }\n</style>\n<table border=\"1\" class=\"dataframe\">\n  <thead>\n    <tr style=\"text-align: right;\">\n      <th></th>\n      <th>Yes</th>\n      <th>Yes, but only during pregnancy</th>\n      <th>No</th>\n      <th>No, but pre-diabetes</th>\n      <th>Don't know</th>\n      <th>Refused</th>\n    </tr>\n  </thead>\n  <tbody>\n    <tr>\n      <th>104065</th>\n      <td>1.0</td>\n      <td>0.0</td>\n      <td>0.0</td>\n      <td>0.0</td>\n      <td>0.0</td>\n      <td>0.0</td>\n    </tr>\n    <tr>\n      <th>11428</th>\n      <td>0.0</td>\n      <td>0.0</td>\n      <td>1.0</td>\n      <td>0.0</td>\n      <td>0.0</td>\n      <td>0.0</td>\n    </tr>\n    <tr>\n      <th>163452</th>\n      <td>0.0</td>\n      <td>0.0</td>\n      <td>1.0</td>\n      <td>0.0</td>\n      <td>0.0</td>\n      <td>0.0</td>\n    </tr>\n    <tr>\n      <th>184441</th>\n      <td>0.0</td>\n      <td>0.0</td>\n      <td>1.0</td>\n      <td>0.0</td>\n      <td>0.0</td>\n      <td>0.0</td>\n    </tr>\n    <tr>\n      <th>218001</th>\n      <td>0.0</td>\n      <td>0.0</td>\n      <td>1.0</td>\n      <td>0.0</td>\n      <td>0.0</td>\n      <td>0.0</td>\n    </tr>\n    <tr>\n      <th>262758</th>\n      <td>0.0</td>\n      <td>0.0</td>\n      <td>1.0</td>\n      <td>0.0</td>\n      <td>0.0</td>\n      <td>0.0</td>\n    </tr>\n    <tr>\n      <th>143361</th>\n      <td>0.0</td>\n      <td>0.0</td>\n      <td>1.0</td>\n      <td>0.0</td>\n      <td>0.0</td>\n      <td>0.0</td>\n    </tr>\n    <tr>\n      <th>340750</th>\n      <td>1.0</td>\n      <td>0.0</td>\n      <td>0.0</td>\n      <td>0.0</td>\n      <td>0.0</td>\n      <td>0.0</td>\n    </tr>\n    <tr>\n      <th>379393</th>\n      <td>0.0</td>\n      <td>0.0</td>\n      <td>1.0</td>\n      <td>0.0</td>\n      <td>0.0</td>\n      <td>0.0</td>\n    </tr>\n    <tr>\n      <th>171208</th>\n      <td>0.0</td>\n      <td>0.0</td>\n      <td>1.0</td>\n      <td>0.0</td>\n      <td>0.0</td>\n      <td>0.0</td>\n    </tr>\n  </tbody>\n</table>\n</div>"
     },
     "execution_count": 5,
     "metadata": {},
     "output_type": "execute_result"
    }
   ],
   "source": [
    "preprocessor = NeuralNetworkPreprocessor()\n",
    "data_train, data_test, target_train, target_test = preprocessor.get_preprocessed_dataset_for_neural_network()\n",
    "target_train.head(10)"
   ],
   "metadata": {
    "collapsed": false,
    "pycharm": {
     "name": "#%%\n"
    }
   }
  },
  {
   "cell_type": "code",
   "execution_count": 6,
   "outputs": [
    {
     "name": "stdout",
     "output_type": "stream",
     "text": [
      "Input size: 107\n",
      "Output size: 6\n",
      "Embedding sizes: [(8, 4), (34, 17), (33, 17), (4, 2), (5, 3), (8, 4), (7, 4), (5, 3), (4, 2), (5, 3), (4, 2), (4, 2), (5, 3), (4, 2), (2, 1), (11, 6), (5, 3), (14, 7), (5, 3), (5, 3), (3, 2), (5, 3), (3, 2), (3, 2), (5, 3), (3, 2)]\n"
     ]
    }
   ],
   "source": [
    "#constants\n",
    "batch_size = 128\n",
    "output_size = target_train.shape[1]\n",
    "embedding_sizes = preprocessor.get_embedding_sizes()\n",
    "embedding_input_size = sum((nf for ni, nf in embedding_sizes))\n",
    "numerical_input_size = get_number_of_numerical_features()\n",
    "input_size = embedding_input_size + numerical_input_size\n",
    "print(f\"Input size: {input_size}\")\n",
    "print(f\"Output size: {output_size}\")\n",
    "print(f\"Embedding sizes: {embedding_sizes}\")"
   ],
   "metadata": {
    "collapsed": false,
    "pycharm": {
     "name": "#%%\n"
    }
   }
  },
  {
   "cell_type": "code",
   "execution_count": 7,
   "outputs": [
    {
     "name": "stdout",
     "output_type": "stream",
     "text": [
      "Accuracy class [1, 0, 0, 0, 0, 0] : 12.970078633136916 %\n",
      "Accuracy class [0, 1, 0, 0, 0, 0] : 0.8171956540821557 %\n",
      "Accuracy class [0, 0, 1, 0, 0, 0] : 84.2914947658137 %\n",
      "Accuracy class [0, 0, 0, 1, 0, 0] : 1.7419915675375681 %\n",
      "Accuracy class [0, 0, 0, 0, 1, 0] : 0.13534979994846513 %\n",
      "Accuracy class [0, 0, 0, 0, 0, 1] : 0.04388957948119685 %\n"
     ]
    }
   ],
   "source": [
    "for class_label in range(6):\n",
    "    predicted = [0,0,0,0,0,0]\n",
    "    predicted[class_label] = 1\n",
    "    correct = 0\n",
    "    total = 0\n",
    "    for i in range(target_train.shape[0]):\n",
    "        labels = target_train.values[i]\n",
    "        labels = [int(element) for element in labels]\n",
    "        total += 1\n",
    "        if predicted == labels:\n",
    "            correct +=1\n",
    "    print(f'Accuracy class {predicted} : {100 * correct / total} %')\n"
   ],
   "metadata": {
    "collapsed": false,
    "pycharm": {
     "name": "#%%\n"
    }
   }
  },
  {
   "cell_type": "code",
   "execution_count": 8,
   "outputs": [],
   "source": [
    "class CustomBrfssDataset(data_utils.Dataset):\n",
    "    def __init__(self, dataset_complete, dataset_target):\n",
    "        self.data_categorical = dataset_complete[CATEGORICAL_COLUMNS]\n",
    "        self.data_categorical = torch.tensor(np.array(self.data_categorical)).int()\n",
    "\n",
    "        self.data_numerical = dataset_complete[NUMERICAL_COLUMNS]\n",
    "        self.data_numerical = torch.tensor(np.array(self.data_numerical)).float()\n",
    "\n",
    "        self.target = torch.tensor(np.array(dataset_target)).float()\n",
    "\n",
    "    def __len__(self):\n",
    "            return len(self.data_categorical)\n",
    "\n",
    "    def __getitem__(self, idx):\n",
    "            return self.data_categorical[idx], self.data_numerical[idx], self.target[idx]"
   ],
   "metadata": {
    "collapsed": false,
    "pycharm": {
     "name": "#%%\n"
    }
   }
  },
  {
   "cell_type": "markdown",
   "source": [
    "Create torch data loader"
   ],
   "metadata": {
    "collapsed": false,
    "pycharm": {
     "name": "#%% md\n"
    }
   }
  },
  {
   "cell_type": "code",
   "execution_count": 9,
   "outputs": [],
   "source": [
    "#train_dataset = data_utils.TensorDataset(torch.tensor(np.array(data_train)).float(), torch.tensor(np.array(target_train)).float())\n",
    "#test_dataset = data_utils.TensorDataset(torch.tensor(np.array(data_test)).float(), torch.tensor(np.array(target_test)).float())\n",
    "train_dataset = CustomBrfssDataset(data_train, target_train)\n",
    "test_dataset = CustomBrfssDataset(data_test, target_test)\n",
    "\n",
    "train_loader = torch.utils.data.DataLoader(train_dataset, batch_size=batch_size, shuffle=True)\n",
    "test_loader = torch.utils.data.DataLoader(test_dataset, batch_size=batch_size, shuffle=True)"
   ],
   "metadata": {
    "collapsed": false,
    "pycharm": {
     "name": "#%%\n"
    }
   }
  },
  {
   "cell_type": "markdown",
   "source": [
    "Create artificial net, define loss function and define optimizer"
   ],
   "metadata": {
    "collapsed": false,
    "pycharm": {
     "name": "#%% md\n"
    }
   }
  },
  {
   "cell_type": "code",
   "execution_count": 17,
   "outputs": [],
   "source": [
    "class Net(nn.Module):\n",
    "    def __init__(self):\n",
    "        super().__init__()\n",
    "        self.embeddings = nn.ModuleList([nn.Embedding(categories, size) for categories,size in embedding_sizes])\n",
    "        self.batch_norm_numerical = nn.BatchNorm1d(numerical_input_size)\n",
    "        self.dropout_embedding = nn.Dropout(0.2)\n",
    "\n",
    "        self.fc1 = nn.Linear(input_size, 250)\n",
    "        self.bn1 = nn.BatchNorm1d(250)\n",
    "        self.do1 = nn.Dropout(0.2)\n",
    "        self.fc2 = nn.Linear(250, 500)\n",
    "        self.bn2 = nn.BatchNorm1d(500)\n",
    "        self.do2 = nn.Dropout(0.2)\n",
    "        self.fc3 = nn.Linear(500, output_size)\n",
    "\n",
    "    def forward(self, input_categorical, input_numerical):\n",
    "        embedding_layers = []\n",
    "        for index,e in enumerate(self.embeddings):\n",
    "            embedding_layers.append(e(input_categorical[:,index]))\n",
    "        x_categorical = torch.cat(embedding_layers, 1)\n",
    "        x_categorical = self.dropout_embedding(x_categorical)\n",
    "\n",
    "        x_numerical = self.batch_norm_numerical(input_numerical)\n",
    "        x = torch.cat([x_categorical, x_numerical], 1)\n",
    "\n",
    "        x = self.fc1(x)\n",
    "        x = self.bn1(x)\n",
    "        x = F.relu_(x)\n",
    "        x = self.do1(x)\n",
    "        x = self.fc2(x)\n",
    "        x = self.bn2(x)\n",
    "        x = F.relu_(x)\n",
    "        x = self.do2(x)\n",
    "        x = self.fc3(x)\n",
    "        x = F.softmax(x)\n",
    "        return x\n",
    "\n",
    "\n",
    "net = Net()\n",
    "net.to(device)\n",
    "\n",
    "criterion = nn.CrossEntropyLoss()\n",
    "optimizer = optim.Adam(net.parameters(),lr=0.002)"
   ],
   "metadata": {
    "collapsed": false,
    "pycharm": {
     "name": "#%%\n"
    }
   }
  },
  {
   "cell_type": "code",
   "execution_count": 16,
   "outputs": [],
   "source": [
    "def get_accuracy(data_loader):\n",
    "    correct = 0\n",
    "    total = 0\n",
    "    net.eval()\n",
    "    with torch.no_grad():\n",
    "        for i, data in enumerate(data_loader, 0):\n",
    "            inputs_categorical, inputs_numerical, labels = data\n",
    "            inputs_categorical = inputs_categorical.to(device)\n",
    "            inputs_numerical = inputs_numerical.to(device)\n",
    "            labels = labels.to(device)\n",
    "\n",
    "            outputs = net(inputs_categorical, inputs_numerical)\n",
    "            _, predicted = torch.max(outputs.data, 1)\n",
    "            _, labels = torch.max(labels.data, 1)\n",
    "\n",
    "            total += labels.size(0)\n",
    "            correct += (predicted == labels).sum().item()\n",
    "\n",
    "    return correct/total\n",
    "\n",
    "def get_loss(data_loader):\n",
    "    running_loss = 0.0\n",
    "    total = 0\n",
    "    with torch.no_grad():\n",
    "        for i, data in enumerate(data_loader, 0):\n",
    "            inputs, labels = data\n",
    "            inputs = inputs.to(device)\n",
    "            labels = labels.to(device)\n",
    "\n",
    "            outputs = net(inputs)\n",
    "            loss = criterion(outputs, labels)\n",
    "            running_loss += loss.item()\n",
    "            total += labels.size(0)\n",
    "\n",
    "    return running_loss/total"
   ],
   "metadata": {
    "collapsed": false,
    "pycharm": {
     "name": "#%%\n"
    }
   }
  },
  {
   "cell_type": "markdown",
   "source": [
    "Training loop"
   ],
   "metadata": {
    "collapsed": false,
    "pycharm": {
     "name": "#%% md\n"
    }
   }
  },
  {
   "cell_type": "code",
   "execution_count": 18,
   "outputs": [
    {
     "name": "stdout",
     "output_type": "stream",
     "text": [
      "[1, 25600] loss: 1.747\n",
      "[1, 51200] loss: 1.667\n",
      "[1, 76800] loss: 1.589\n",
      "[1, 102400] loss: 1.527\n",
      "[1, 128000] loss: 1.479\n",
      "[1, 153600] loss: 1.443\n",
      "[1, 179200] loss: 1.415\n",
      "[1, 204800] loss: 1.392\n",
      "[1, 230400] loss: 1.374\n",
      "[1, 256000] loss: 1.358\n",
      "[1, 281600] loss: 1.345\n",
      "[1, 307200] loss: 1.335\n",
      "[1, 332800] loss: 1.326\n",
      "Epoch 0 loss: 1.318677394070487\n",
      "Accuracy epoch 0: 84.2914947658137 %\n",
      "[2, 25600] loss: 1.216\n",
      "[2, 51200] loss: 1.213\n",
      "[2, 76800] loss: 1.212\n",
      "[2, 102400] loss: 1.210\n",
      "[2, 128000] loss: 1.210\n",
      "[2, 153600] loss: 1.209\n",
      "[2, 179200] loss: 1.208\n",
      "[2, 204800] loss: 1.207\n",
      "[2, 230400] loss: 1.207\n",
      "[2, 256000] loss: 1.207\n",
      "[2, 281600] loss: 1.206\n",
      "[2, 307200] loss: 1.206\n",
      "[2, 332800] loss: 1.206\n",
      "Epoch 1 loss: 1.2051722058351488\n",
      "Accuracy epoch 1: 84.2914947658137 %\n",
      "[3, 25600] loss: 1.210\n",
      "[3, 51200] loss: 1.206\n",
      "[3, 76800] loss: 1.203\n",
      "[3, 102400] loss: 1.203\n",
      "[3, 128000] loss: 1.202\n",
      "[3, 153600] loss: 1.202\n",
      "[3, 179200] loss: 1.202\n",
      "[3, 204800] loss: 1.202\n",
      "[3, 230400] loss: 1.202\n",
      "[3, 256000] loss: 1.202\n",
      "[3, 281600] loss: 1.202\n",
      "[3, 307200] loss: 1.202\n",
      "[3, 332800] loss: 1.202\n",
      "Epoch 2 loss: 1.2015875890203145\n",
      "Accuracy epoch 2: 84.2914947658137 %\n",
      "[4, 25600] loss: 1.206\n",
      "[4, 51200] loss: 1.203\n",
      "[4, 76800] loss: 1.203\n",
      "[4, 102400] loss: 1.203\n",
      "[4, 128000] loss: 1.202\n",
      "[4, 153600] loss: 1.201\n",
      "[4, 179200] loss: 1.202\n",
      "[4, 204800] loss: 1.202\n",
      "[4, 230400] loss: 1.202\n",
      "[4, 256000] loss: 1.201\n",
      "[4, 281600] loss: 1.201\n",
      "[4, 307200] loss: 1.201\n",
      "[4, 332800] loss: 1.201\n",
      "Epoch 3 loss: 1.2008948563233666\n",
      "Accuracy epoch 3: 84.2914947658137 %\n",
      "[5, 25600] loss: 1.207\n",
      "[5, 51200] loss: 1.205\n",
      "[5, 76800] loss: 1.204\n",
      "[5, 102400] loss: 1.203\n",
      "[5, 128000] loss: 1.202\n",
      "[5, 153600] loss: 1.201\n",
      "[5, 179200] loss: 1.201\n",
      "[5, 204800] loss: 1.201\n",
      "[5, 230400] loss: 1.202\n",
      "[5, 256000] loss: 1.202\n",
      "[5, 281600] loss: 1.201\n",
      "[5, 307200] loss: 1.201\n",
      "[5, 332800] loss: 1.201\n",
      "Epoch 4 loss: 1.200826218292333\n",
      "Accuracy epoch 4: 84.2914947658137 %\n",
      "[6, 25600] loss: 1.207\n",
      "[6, 51200] loss: 1.203\n",
      "[6, 76800] loss: 1.203\n",
      "[6, 102400] loss: 1.202\n",
      "[6, 128000] loss: 1.203\n",
      "[6, 153600] loss: 1.202\n",
      "[6, 179200] loss: 1.202\n",
      "[6, 204800] loss: 1.201\n",
      "[6, 230400] loss: 1.201\n",
      "[6, 256000] loss: 1.201\n",
      "[6, 281600] loss: 1.201\n",
      "[6, 307200] loss: 1.201\n",
      "[6, 332800] loss: 1.201\n",
      "Epoch 5 loss: 1.200686339278152\n",
      "Accuracy epoch 5: 84.2914947658137 %\n",
      "[7, 25600] loss: 1.202\n",
      "[7, 51200] loss: 1.203\n",
      "[7, 76800] loss: 1.203\n",
      "[7, 102400] loss: 1.202\n",
      "[7, 128000] loss: 1.202\n",
      "[7, 153600] loss: 1.202\n",
      "[7, 179200] loss: 1.202\n",
      "[7, 204800] loss: 1.201\n",
      "[7, 230400] loss: 1.201\n",
      "[7, 256000] loss: 1.201\n",
      "[7, 281600] loss: 1.201\n",
      "[7, 307200] loss: 1.201\n",
      "[7, 332800] loss: 1.201\n",
      "Epoch 6 loss: 1.200675578566565\n",
      "Accuracy epoch 6: 84.2914947658137 %\n",
      "[8, 25600] loss: 1.206\n",
      "[8, 51200] loss: 1.203\n",
      "[8, 76800] loss: 1.202\n",
      "[8, 102400] loss: 1.202\n",
      "[8, 128000] loss: 1.202\n",
      "[8, 153600] loss: 1.202\n",
      "[8, 179200] loss: 1.202\n",
      "[8, 204800] loss: 1.202\n",
      "[8, 230400] loss: 1.202\n",
      "[8, 256000] loss: 1.202\n",
      "[8, 281600] loss: 1.202\n",
      "[8, 307200] loss: 1.201\n",
      "[8, 332800] loss: 1.201\n",
      "Epoch 7 loss: 1.2006728815859642\n",
      "Accuracy epoch 7: 84.2914947658137 %\n",
      "[9, 25600] loss: 1.205\n",
      "[9, 51200] loss: 1.203\n",
      "[9, 76800] loss: 1.201\n",
      "[9, 102400] loss: 1.202\n",
      "[9, 128000] loss: 1.202\n",
      "[9, 153600] loss: 1.202\n",
      "[9, 179200] loss: 1.202\n",
      "[9, 204800] loss: 1.202\n",
      "[9, 230400] loss: 1.202\n",
      "[9, 256000] loss: 1.202\n",
      "[9, 281600] loss: 1.202\n",
      "[9, 307200] loss: 1.201\n",
      "[9, 332800] loss: 1.201\n",
      "Epoch 8 loss: 1.2007211100795994\n",
      "Accuracy epoch 8: 84.2914947658137 %\n",
      "[10, 25600] loss: 1.208\n",
      "[10, 51200] loss: 1.204\n",
      "[10, 76800] loss: 1.203\n",
      "[10, 102400] loss: 1.203\n",
      "[10, 128000] loss: 1.202\n",
      "[10, 153600] loss: 1.202\n",
      "[10, 179200] loss: 1.202\n",
      "[10, 204800] loss: 1.201\n",
      "[10, 230400] loss: 1.201\n",
      "[10, 256000] loss: 1.201\n",
      "[10, 281600] loss: 1.201\n",
      "[10, 307200] loss: 1.201\n",
      "[10, 332800] loss: 1.201\n",
      "Epoch 9 loss: 1.200623063807902\n",
      "Accuracy epoch 9: 84.2914947658137 %\n",
      "Finished Training\n"
     ]
    }
   ],
   "source": [
    "loss_values = []\n",
    "\n",
    "for epoch in range(10):\n",
    "\n",
    "    running_loss = 0.0\n",
    "    net.train()\n",
    "    for i, data in enumerate(train_loader, 0):\n",
    "\n",
    "        inputs_categorical, inputs_numerical, labels = data\n",
    "        inputs_categorical = inputs_categorical.to(device)\n",
    "        inputs_numerical = inputs_numerical.to(device)\n",
    "        labels = labels.to(device)\n",
    "\n",
    "        optimizer.zero_grad()\n",
    "\n",
    "        outputs = net(inputs_categorical, inputs_numerical)\n",
    "        loss = criterion(outputs, labels)\n",
    "        loss.backward()\n",
    "        optimizer.step()\n",
    "\n",
    "        running_loss += loss.item()\n",
    "        if i % 200 == 199:  # print every 2000 batches\n",
    "            print(f'[{epoch + 1}, {(i + 1) * batch_size}] loss: {running_loss / i:.3f}')\n",
    "\n",
    "        pass\n",
    "\n",
    "    loss_values.append(running_loss/len(train_loader))\n",
    "    print(f\"Epoch {epoch} loss: {str(running_loss/len(train_loader))}\")\n",
    "    print(f'Accuracy epoch {epoch}: {100 * get_accuracy(train_loader)} %')\n",
    "\n",
    "print('Finished Training')"
   ],
   "metadata": {
    "collapsed": false,
    "pycharm": {
     "name": "#%%\n"
    }
   }
  },
  {
   "cell_type": "code",
   "execution_count": 19,
   "outputs": [
    {
     "name": "stdout",
     "output_type": "stream",
     "text": [
      "Accuracy : 84.29153924566769 %\n"
     ]
    }
   ],
   "source": [
    "print(f'Accuracy : {100 * get_accuracy(test_loader)} %')"
   ],
   "metadata": {
    "collapsed": false,
    "pycharm": {
     "name": "#%%\n"
    }
   }
  },
  {
   "cell_type": "code",
   "execution_count": 20,
   "outputs": [
    {
     "data": {
      "text/plain": "<Figure size 640x480 with 1 Axes>",
      "image/png": "[encoded data removed]"
     },
     "metadata": {},
     "output_type": "display_data"
    }
   ],
   "source": [
    "plot_loss(loss_values)"
   ],
   "metadata": {
    "collapsed": false,
    "pycharm": {
     "name": "#%%\n"
    }
   }
  }
 ],
 "metadata": {
  "kernelspec": {
   "display_name": "Python 3",
   "language": "python",
   "name": "python3"
  },
  "language_info": {
   "codemirror_mode": {
    "name": "ipython",
    "version": 2
   },
   "file_extension": ".py",
   "mimetype": "text/x-python",
   "name": "python",
   "nbconvert_exporter": "python",
   "pygments_lexer": "ipython2",
   "version": "2.7.6"
  }
 },
 "nbformat": 4,
 "nbformat_minor": 0
}