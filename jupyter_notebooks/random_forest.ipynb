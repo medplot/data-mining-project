{
 "cells": [
  {
   "cell_type": "code",
   "execution_count": 16,
   "metadata": {
    "collapsed": true,
    "pycharm": {
     "name": "#%%\n"
    }
   },
   "outputs": [],
   "source": [
    "from preprocessing.preprocessing import  get_preprocessed_brfss_train_test_split\n",
    "from sklearn.ensemble import RandomForestClassifier\n",
    "from IPython.core.display_functions import display\n",
    "from sklearn.model_selection import GridSearchCV, StratifiedKFold, cross_val_score\n",
    "from sklearn.metrics import accuracy_score\n",
    "import pandas as pd"
   ]
  },
  {
   "cell_type": "code",
   "execution_count": 2,
   "outputs": [],
   "source": [
    "import warnings\n",
    "warnings.filterwarnings('ignore')"
   ],
   "metadata": {
    "collapsed": false,
    "pycharm": {
     "name": "#%%\n"
    }
   }
  },
  {
   "cell_type": "code",
   "execution_count": 3,
   "outputs": [
    {
     "data": {
      "text/plain": "        GenHealth  PhysHealth  MentHealth  Healthcare  MedCost  Checkup  \\\n434107        2.0        88.0        88.0         1.0      2.0      3.0   \n110299        4.0        88.0        88.0         1.0      2.0      1.0   \n218193        3.0        88.0        88.0         1.0      2.0      1.0   \n394642        2.0        88.0         1.0         1.0      1.0      2.0   \n354955        1.0         1.0        88.0         1.0      2.0      3.0   \n228337        1.0        88.0        88.0         1.0      2.0      1.0   \n57536         2.0        88.0         3.0         1.0      2.0      1.0   \n68009         3.0        88.0        88.0         1.0      2.0      1.0   \n308419        3.0        88.0        88.0         1.0      2.0      1.0   \n359773        1.0         5.0         3.0         1.0      2.0      1.0   \n\n        HighBP  HighChol  HeartAttack  AngiCoro  Stroke  Asthma  Arthritis  \\\n434107     1.0       2.0          2.0       2.0     2.0     2.0        2.0   \n110299     3.0       2.0          2.0       2.0     1.0     2.0        1.0   \n218193     1.0       2.0          2.0       2.0     2.0     2.0        2.0   \n394642     3.0       0.0          2.0       2.0     2.0     2.0        2.0   \n354955     3.0       2.0          2.0       2.0     2.0     2.0        2.0   \n228337     3.0       2.0          2.0       2.0     2.0     2.0        2.0   \n57536      1.0       2.0          2.0       2.0     2.0     1.0        1.0   \n68009      1.0       1.0          2.0       1.0     2.0     2.0        2.0   \n308419     1.0       1.0          2.0       2.0     2.0     2.0        1.0   \n359773     1.0       0.0          2.0       2.0     2.0     2.0        2.0   \n\n        Kidney  Sex  Income  SodiumSalt   Age  Height   Weight  BMI  \\\n434107     2.0  2.0     8.0         0.0   9.0   152.0   5897.0  3.0   \n110299     2.0  1.0     4.0         2.0  13.0   175.0   7484.0  2.0   \n218193     2.0  1.0    77.0         0.0   8.0   180.0   8165.0  3.0   \n394642     2.0  1.0     5.0         0.0   1.0   165.0   5443.0  2.0   \n354955     2.0  1.0     7.0         1.0   7.0   165.0   9480.0  4.0   \n228337     2.0  2.0     6.0         0.0   3.0   168.0   8391.0  0.0   \n57536      2.0  2.0     8.0         0.0   9.0   165.0   6350.0  2.0   \n68009      2.0  2.0     7.0         0.0  11.0   165.0   6577.0  2.0   \n308419     2.0  2.0     6.0         0.0  11.0   155.0   6577.0  3.0   \n359773     2.0  1.0     5.0         0.0   1.0   175.0  23088.0  4.0   \n\n        Education  Alcohol  Smoking  FruitCons  VegetCons  PhysActivity  \\\n434107        2.0      2.0      4.0        2.0        1.0           4.0   \n110299        2.0      1.0      4.0        1.0        2.0           3.0   \n218193        2.0      2.0      3.0        1.0        1.0           1.0   \n394642        2.0      1.0      4.0        1.0        1.0           1.0   \n354955        2.0      1.0      3.0        1.0        1.0           1.0   \n228337        4.0      1.0      4.0        1.0        1.0           4.0   \n57536         4.0      1.0      4.0        2.0        1.0           2.0   \n68009         4.0      2.0      3.0        1.0        1.0           2.0   \n308419        3.0      1.0      3.0        1.0        1.0           2.0   \n359773        2.0      2.0      3.0        1.0        1.0           3.0   \n\n        Muscles  \n434107      2.0  \n110299      2.0  \n218193      2.0  \n394642      2.0  \n354955      1.0  \n228337      2.0  \n57536       2.0  \n68009       1.0  \n308419      2.0  \n359773      1.0  ",
      "text/html": "<div>\n<style scoped>\n    .dataframe tbody tr th:only-of-type {\n        vertical-align: middle;\n    }\n\n    .dataframe tbody tr th {\n        vertical-align: top;\n    }\n\n    .dataframe thead th {\n        text-align: right;\n    }\n</style>\n<table border=\"1\" class=\"dataframe\">\n  <thead>\n    <tr style=\"text-align: right;\">\n      <th></th>\n      <th>GenHealth</th>\n      <th>PhysHealth</th>\n      <th>MentHealth</th>\n      <th>Healthcare</th>\n      <th>MedCost</th>\n      <th>Checkup</th>\n      <th>HighBP</th>\n      <th>HighChol</th>\n      <th>HeartAttack</th>\n      <th>AngiCoro</th>\n      <th>Stroke</th>\n      <th>Asthma</th>\n      <th>Arthritis</th>\n      <th>Kidney</th>\n      <th>Sex</th>\n      <th>Income</th>\n      <th>SodiumSalt</th>\n      <th>Age</th>\n      <th>Height</th>\n      <th>Weight</th>\n      <th>BMI</th>\n      <th>Education</th>\n      <th>Alcohol</th>\n      <th>Smoking</th>\n      <th>FruitCons</th>\n      <th>VegetCons</th>\n      <th>PhysActivity</th>\n      <th>Muscles</th>\n    </tr>\n  </thead>\n  <tbody>\n    <tr>\n      <th>434107</th>\n      <td>2.0</td>\n      <td>88.0</td>\n      <td>88.0</td>\n      <td>1.0</td>\n      <td>2.0</td>\n      <td>3.0</td>\n      <td>1.0</td>\n      <td>2.0</td>\n      <td>2.0</td>\n      <td>2.0</td>\n      <td>2.0</td>\n      <td>2.0</td>\n      <td>2.0</td>\n      <td>2.0</td>\n      <td>2.0</td>\n      <td>8.0</td>\n      <td>0.0</td>\n      <td>9.0</td>\n      <td>152.0</td>\n      <td>5897.0</td>\n      <td>3.0</td>\n      <td>2.0</td>\n      <td>2.0</td>\n      <td>4.0</td>\n      <td>2.0</td>\n      <td>1.0</td>\n      <td>4.0</td>\n      <td>2.0</td>\n    </tr>\n    <tr>\n      <th>110299</th>\n      <td>4.0</td>\n      <td>88.0</td>\n      <td>88.0</td>\n      <td>1.0</td>\n      <td>2.0</td>\n      <td>1.0</td>\n      <td>3.0</td>\n      <td>2.0</td>\n      <td>2.0</td>\n      <td>2.0</td>\n      <td>1.0</td>\n      <td>2.0</td>\n      <td>1.0</td>\n      <td>2.0</td>\n      <td>1.0</td>\n      <td>4.0</td>\n      <td>2.0</td>\n      <td>13.0</td>\n      <td>175.0</td>\n      <td>7484.0</td>\n      <td>2.0</td>\n      <td>2.0</td>\n      <td>1.0</td>\n      <td>4.0</td>\n      <td>1.0</td>\n      <td>2.0</td>\n      <td>3.0</td>\n      <td>2.0</td>\n    </tr>\n    <tr>\n      <th>218193</th>\n      <td>3.0</td>\n      <td>88.0</td>\n      <td>88.0</td>\n      <td>1.0</td>\n      <td>2.0</td>\n      <td>1.0</td>\n      <td>1.0</td>\n      <td>2.0</td>\n      <td>2.0</td>\n      <td>2.0</td>\n      <td>2.0</td>\n      <td>2.0</td>\n      <td>2.0</td>\n      <td>2.0</td>\n      <td>1.0</td>\n      <td>77.0</td>\n      <td>0.0</td>\n      <td>8.0</td>\n      <td>180.0</td>\n      <td>8165.0</td>\n      <td>3.0</td>\n      <td>2.0</td>\n      <td>2.0</td>\n      <td>3.0</td>\n      <td>1.0</td>\n      <td>1.0</td>\n      <td>1.0</td>\n      <td>2.0</td>\n    </tr>\n    <tr>\n      <th>394642</th>\n      <td>2.0</td>\n      <td>88.0</td>\n      <td>1.0</td>\n      <td>1.0</td>\n      <td>1.0</td>\n      <td>2.0</td>\n      <td>3.0</td>\n      <td>0.0</td>\n      <td>2.0</td>\n      <td>2.0</td>\n      <td>2.0</td>\n      <td>2.0</td>\n      <td>2.0</td>\n      <td>2.0</td>\n      <td>1.0</td>\n      <td>5.0</td>\n      <td>0.0</td>\n      <td>1.0</td>\n      <td>165.0</td>\n      <td>5443.0</td>\n      <td>2.0</td>\n      <td>2.0</td>\n      <td>1.0</td>\n      <td>4.0</td>\n      <td>1.0</td>\n      <td>1.0</td>\n      <td>1.0</td>\n      <td>2.0</td>\n    </tr>\n    <tr>\n      <th>354955</th>\n      <td>1.0</td>\n      <td>1.0</td>\n      <td>88.0</td>\n      <td>1.0</td>\n      <td>2.0</td>\n      <td>3.0</td>\n      <td>3.0</td>\n      <td>2.0</td>\n      <td>2.0</td>\n      <td>2.0</td>\n      <td>2.0</td>\n      <td>2.0</td>\n      <td>2.0</td>\n      <td>2.0</td>\n      <td>1.0</td>\n      <td>7.0</td>\n      <td>1.0</td>\n      <td>7.0</td>\n      <td>165.0</td>\n      <td>9480.0</td>\n      <td>4.0</td>\n      <td>2.0</td>\n      <td>1.0</td>\n      <td>3.0</td>\n      <td>1.0</td>\n      <td>1.0</td>\n      <td>1.0</td>\n      <td>1.0</td>\n    </tr>\n    <tr>\n      <th>228337</th>\n      <td>1.0</td>\n      <td>88.0</td>\n      <td>88.0</td>\n      <td>1.0</td>\n      <td>2.0</td>\n      <td>1.0</td>\n      <td>3.0</td>\n      <td>2.0</td>\n      <td>2.0</td>\n      <td>2.0</td>\n      <td>2.0</td>\n      <td>2.0</td>\n      <td>2.0</td>\n      <td>2.0</td>\n      <td>2.0</td>\n      <td>6.0</td>\n      <td>0.0</td>\n      <td>3.0</td>\n      <td>168.0</td>\n      <td>8391.0</td>\n      <td>0.0</td>\n      <td>4.0</td>\n      <td>1.0</td>\n      <td>4.0</td>\n      <td>1.0</td>\n      <td>1.0</td>\n      <td>4.0</td>\n      <td>2.0</td>\n    </tr>\n    <tr>\n      <th>57536</th>\n      <td>2.0</td>\n      <td>88.0</td>\n      <td>3.0</td>\n      <td>1.0</td>\n      <td>2.0</td>\n      <td>1.0</td>\n      <td>1.0</td>\n      <td>2.0</td>\n      <td>2.0</td>\n      <td>2.0</td>\n      <td>2.0</td>\n      <td>1.0</td>\n      <td>1.0</td>\n      <td>2.0</td>\n      <td>2.0</td>\n      <td>8.0</td>\n      <td>0.0</td>\n      <td>9.0</td>\n      <td>165.0</td>\n      <td>6350.0</td>\n      <td>2.0</td>\n      <td>4.0</td>\n      <td>1.0</td>\n      <td>4.0</td>\n      <td>2.0</td>\n      <td>1.0</td>\n      <td>2.0</td>\n      <td>2.0</td>\n    </tr>\n    <tr>\n      <th>68009</th>\n      <td>3.0</td>\n      <td>88.0</td>\n      <td>88.0</td>\n      <td>1.0</td>\n      <td>2.0</td>\n      <td>1.0</td>\n      <td>1.0</td>\n      <td>1.0</td>\n      <td>2.0</td>\n      <td>1.0</td>\n      <td>2.0</td>\n      <td>2.0</td>\n      <td>2.0</td>\n      <td>2.0</td>\n      <td>2.0</td>\n      <td>7.0</td>\n      <td>0.0</td>\n      <td>11.0</td>\n      <td>165.0</td>\n      <td>6577.0</td>\n      <td>2.0</td>\n      <td>4.0</td>\n      <td>2.0</td>\n      <td>3.0</td>\n      <td>1.0</td>\n      <td>1.0</td>\n      <td>2.0</td>\n      <td>1.0</td>\n    </tr>\n    <tr>\n      <th>308419</th>\n      <td>3.0</td>\n      <td>88.0</td>\n      <td>88.0</td>\n      <td>1.0</td>\n      <td>2.0</td>\n      <td>1.0</td>\n      <td>1.0</td>\n      <td>1.0</td>\n      <td>2.0</td>\n      <td>2.0</td>\n      <td>2.0</td>\n      <td>2.0</td>\n      <td>1.0</td>\n      <td>2.0</td>\n      <td>2.0</td>\n      <td>6.0</td>\n      <td>0.0</td>\n      <td>11.0</td>\n      <td>155.0</td>\n      <td>6577.0</td>\n      <td>3.0</td>\n      <td>3.0</td>\n      <td>1.0</td>\n      <td>3.0</td>\n      <td>1.0</td>\n      <td>1.0</td>\n      <td>2.0</td>\n      <td>2.0</td>\n    </tr>\n    <tr>\n      <th>359773</th>\n      <td>1.0</td>\n      <td>5.0</td>\n      <td>3.0</td>\n      <td>1.0</td>\n      <td>2.0</td>\n      <td>1.0</td>\n      <td>1.0</td>\n      <td>0.0</td>\n      <td>2.0</td>\n      <td>2.0</td>\n      <td>2.0</td>\n      <td>2.0</td>\n      <td>2.0</td>\n      <td>2.0</td>\n      <td>1.0</td>\n      <td>5.0</td>\n      <td>0.0</td>\n      <td>1.0</td>\n      <td>175.0</td>\n      <td>23088.0</td>\n      <td>4.0</td>\n      <td>2.0</td>\n      <td>2.0</td>\n      <td>3.0</td>\n      <td>1.0</td>\n      <td>1.0</td>\n      <td>3.0</td>\n      <td>1.0</td>\n    </tr>\n  </tbody>\n</table>\n</div>"
     },
     "execution_count": 3,
     "metadata": {},
     "output_type": "execute_result"
    }
   ],
   "source": [
    "data_train, data_test, target_train, target_test = get_preprocessed_brfss_train_test_split()\n",
    "cross_validation = StratifiedKFold(n_splits=10, shuffle=True, random_state=1)\n",
    "data_train.head(10)"
   ],
   "metadata": {
    "collapsed": false,
    "pycharm": {
     "name": "#%%\n"
    }
   }
  },
  {
   "cell_type": "code",
   "execution_count": 5,
   "outputs": [
    {
     "name": "stdout",
     "output_type": "stream",
     "text": [
      "Fold 0: Accuracy = 84.89919583191754%\n",
      "Fold 1: Accuracy = 84.81991165477403%\n",
      "Fold 2: Accuracy = 84.79725903273304%\n",
      "Fold 3: Accuracy = 84.65284856722167%\n",
      "Fold 4: Accuracy = 84.81708007701891%\n",
      "Fold 5: Accuracy = 84.82840638803941%\n",
      "Fold 6: Accuracy = 84.85389058783555%\n",
      "Fold 7: Accuracy = 84.85105901008042%\n",
      "Fold 8: Accuracy = 84.85389058783555%\n",
      "Fold 9: Accuracy = 84.8109868327906%\n",
      "Average Accuracy = 84.81845285702467%\n"
     ]
    }
   ],
   "source": [
    "random_forest_classifier = RandomForestClassifier()\n",
    "random_forest_classifier.fit(data_train, target_train)\n",
    "\n",
    "accuracy = cross_val_score(random_forest_classifier, data_train, target_train, cv=cross_validation, scoring='accuracy')\n",
    "\n",
    "for i, acc in enumerate(accuracy):\n",
    "    print(\"Fold {}: Accuracy = {}%\".format(i, acc * 100.0))\n",
    "\n",
    "print(\"Average Accuracy = {}%\".format(accuracy.mean() * 100.0))"
   ],
   "metadata": {
    "collapsed": false,
    "pycharm": {
     "name": "#%%\n"
    }
   }
  },
  {
   "cell_type": "markdown",
   "source": [
    "### Grid search for random forest classifier\n",
    "Unfortunately the grid search needs an extremely long time, so we decided to use a train/test split to find the best parameters"
   ],
   "metadata": {
    "collapsed": false,
    "pycharm": {
     "name": "#%% md\n"
    }
   }
  },
  {
   "cell_type": "code",
   "execution_count": null,
   "outputs": [],
   "source": [
    "random_forest_classifier = RandomForestClassifier()\n",
    "parameters = {\n",
    "    'max_depth': range(5, 10),\n",
    "    'criterion': [\"gini\", \"entropy\", \"log_loss\"],\n",
    "    'n_estimators': [100, 150, 200, 250, 300],\n",
    "    'min_samples_split': range(2,5),\n",
    "    'min_samples_leaf': range(1,5)\n",
    "}\n",
    "\n",
    "grid_search_estimator = GridSearchCV(random_forest_classifier, parameters, scoring='accuracy', cv=cross_validation, return_train_score=False)\n",
    "grid_search_estimator.fit(data_train, target_train)\n",
    "\n",
    "results = pd.DataFrame(grid_search_estimator.cv_results_)\n",
    "display(results)\n",
    "\n",
    "print(\"best score is {} with params {}\".format(grid_search_estimator.best_score_, grid_search_estimator.best_params_))"
   ],
   "metadata": {
    "collapsed": false,
    "pycharm": {
     "name": "#%%\n"
    }
   }
  },
  {
   "cell_type": "markdown",
   "source": [
    "This function will be used several times later to evaluate the model with the different parameters"
   ],
   "metadata": {
    "collapsed": false,
    "pycharm": {
     "name": "#%% md\n"
    }
   }
  },
  {
   "cell_type": "code",
   "execution_count": 9,
   "outputs": [],
   "source": [
    "def evaluate_random_forest_classifier(estimator: RandomForestClassifier):\n",
    "    estimator.fit(data_train, target_train)\n",
    "    predictions = estimator.predict(data_test)\n",
    "    return accuracy_score(target_test, predictions)\n"
   ],
   "metadata": {
    "collapsed": false,
    "pycharm": {
     "name": "#%%\n"
    }
   }
  },
  {
   "cell_type": "markdown",
   "source": [
    "### Parameter search\n",
    "First we search for the best max depth"
   ],
   "metadata": {
    "collapsed": false,
    "pycharm": {
     "name": "#%% md\n"
    }
   }
  },
  {
   "cell_type": "code",
   "execution_count": 11,
   "outputs": [
    {
     "name": "stdout",
     "output_type": "stream",
     "text": [
      "Max depth 2 --> Accuracy: 0.8429153924566769\n",
      "Max depth 3 --> Accuracy: 0.8429153924566769\n",
      "Max depth 4 --> Accuracy: 0.8431305923660664\n",
      "Max depth 5 --> Accuracy: 0.8439800656926039\n",
      "Max depth 6 --> Accuracy: 0.8448748442632235\n",
      "Max depth 7 --> Accuracy: 0.846471854117114\n",
      "Max depth 8 --> Accuracy: 0.8469928644240571\n",
      "Max depth 9 --> Accuracy: 0.8475365273530411\n",
      "Max depth 10 --> Accuracy: 0.8481708007701891\n",
      "Max depth 11 --> Accuracy: 0.8483406954354966\n",
      "Max depth 12 --> Accuracy: 0.8489296636085627\n",
      "Max depth 13 --> Accuracy: 0.8488050741873372\n",
      "Max depth 14 --> Accuracy: 0.8492468003171367\n",
      "Max depth 15 --> Accuracy: 0.8491675161399932\n",
      "Max depth 16 --> Accuracy: 0.8492354740061162\n",
      "Max depth 17 --> Accuracy: 0.8493260844942803\n",
      "Max depth 18 --> Accuracy: 0.8485558953448862\n",
      "Max depth 19 --> Accuracy: 0.8486578321440706\n"
     ]
    }
   ],
   "source": [
    "max_depth_parameters = range(2, 20)\n",
    "for param in max_depth_parameters:\n",
    "    estimator = RandomForestClassifier(max_depth=param)\n",
    "    accuracy = evaluate_random_forest_classifier(estimator)\n",
    "    print(f\"Max depth {param} --> Accuracy: {accuracy}\")"
   ],
   "metadata": {
    "collapsed": false,
    "pycharm": {
     "name": "#%%\n"
    }
   }
  },
  {
   "cell_type": "code",
   "execution_count": 12,
   "outputs": [
    {
     "name": "stdout",
     "output_type": "stream",
     "text": [
      "Criterion gini --> Accuracy: 0.8429153924566769\n",
      "Criterion entropy --> Accuracy: 0.8429153924566769\n",
      "Criterion log_loss --> Accuracy: 0.8429153924566769\n"
     ]
    }
   ],
   "source": [
    "criterion_parameter = [\"gini\", \"entropy\", \"log_loss\"]\n",
    "for param in criterion_parameter:\n",
    "    estimator = RandomForestClassifier(max_depth=2, criterion=param)\n",
    "    accuracy = evaluate_random_forest_classifier(estimator)\n",
    "    print(f\"Criterion {param} --> Accuracy: {accuracy}\")"
   ],
   "metadata": {
    "collapsed": false,
    "pycharm": {
     "name": "#%%\n"
    }
   }
  },
  {
   "cell_type": "code",
   "execution_count": 13,
   "outputs": [
    {
     "name": "stdout",
     "output_type": "stream",
     "text": [
      "Number of estimators 100 --> Accuracy: 0.8429153924566769\n",
      "Number of estimators 150 --> Accuracy: 0.8429153924566769\n",
      "Number of estimators 200 --> Accuracy: 0.8429153924566769\n",
      "Number of estimators 250 --> Accuracy: 0.8429153924566769\n",
      "Number of estimators 300 --> Accuracy: 0.8429153924566769\n",
      "Number of estimators 350 --> Accuracy: 0.8429153924566769\n",
      "Number of estimators 400 --> Accuracy: 0.8429153924566769\n",
      "Number of estimators 450 --> Accuracy: 0.8429153924566769\n",
      "Number of estimators 500 --> Accuracy: 0.8429153924566769\n"
     ]
    }
   ],
   "source": [
    "number_of_estimators_parameter = [100, 150, 200, 250, 300, 350, 400, 450, 500]\n",
    "for param in number_of_estimators_parameter:\n",
    "    estimator = RandomForestClassifier(max_depth=2, criterion=\"gini\" ,n_estimators=param)\n",
    "    accuracy = evaluate_random_forest_classifier(estimator)\n",
    "    print(f\"Number of estimators {param} --> Accuracy: {accuracy}\")"
   ],
   "metadata": {
    "collapsed": false,
    "pycharm": {
     "name": "#%%\n"
    }
   }
  },
  {
   "cell_type": "code",
   "execution_count": 21,
   "outputs": [
    {
     "name": "stdout",
     "output_type": "stream",
     "text": [
      "Minimum samples for split 0.05 --> Accuracy: 0.8429153924566769\n",
      "Minimum samples for split 0.1 --> Accuracy: 0.8429153924566769\n",
      "Minimum samples for split 0.15 --> Accuracy: 0.8429153924566769\n",
      "Minimum samples for split 0.2 --> Accuracy: 0.8429153924566769\n",
      "Minimum samples for split 0.25 --> Accuracy: 0.8429153924566769\n",
      "Minimum samples for split 0.3 --> Accuracy: 0.8429153924566769\n",
      "Minimum samples for split 0.35 --> Accuracy: 0.8429153924566769\n",
      "Minimum samples for split 0.4 --> Accuracy: 0.8429153924566769\n",
      "Minimum samples for split 0.45 --> Accuracy: 0.8429153924566769\n",
      "Minimum samples for split 0.5 --> Accuracy: 0.8429153924566769\n"
     ]
    }
   ],
   "source": [
    "min_samples_split_parameter = [0.05, 0.1, 0.15, 0.2, 0.25, 0.3, 0.35, 0.4, 0.45, 0.5]\n",
    "for param in min_samples_split_parameter:\n",
    "    estimator = RandomForestClassifier(max_depth=2, criterion=\"gini\", n_estimators=100 ,min_samples_split=param)\n",
    "    accuracy = evaluate_random_forest_classifier(estimator)\n",
    "    print(f\"Minimum samples for split {param} --> Accuracy: {accuracy}\")"
   ],
   "metadata": {
    "collapsed": false,
    "pycharm": {
     "name": "#%%\n"
    }
   }
  },
  {
   "cell_type": "code",
   "execution_count": 22,
   "outputs": [
    {
     "name": "stdout",
     "output_type": "stream",
     "text": [
      "Minimum samples for leaf 0.05 --> Accuracy: 0.8429153924566769\n",
      "Minimum samples for leaf 0.1 --> Accuracy: 0.8429153924566769\n",
      "Minimum samples for leaf 0.15 --> Accuracy: 0.8429153924566769\n",
      "Minimum samples for leaf 0.2 --> Accuracy: 0.8429153924566769\n",
      "Minimum samples for leaf 0.25 --> Accuracy: 0.8429153924566769\n",
      "Minimum samples for leaf 0.3 --> Accuracy: 0.8429153924566769\n",
      "Minimum samples for leaf 0.35 --> Accuracy: 0.8429153924566769\n",
      "Minimum samples for leaf 0.4 --> Accuracy: 0.8429153924566769\n",
      "Minimum samples for leaf 0.45 --> Accuracy: 0.8429153924566769\n",
      "Minimum samples for leaf 0.5 --> Accuracy: 0.8429153924566769\n"
     ]
    }
   ],
   "source": [
    "min_samples_leaf_parameter = [0.05, 0.1, 0.15, 0.2, 0.25, 0.3, 0.35, 0.4, 0.45, 0.5]\n",
    "for param in min_samples_leaf_parameter:\n",
    "    estimator = RandomForestClassifier(max_depth=2, criterion=\"gini\", n_estimators=100, min_samples_split= 0.3, min_samples_leaf=param)\n",
    "    accuracy = evaluate_random_forest_classifier(estimator)\n",
    "    print(f\"Minimum samples for leaf {param} --> Accuracy: {accuracy}\")"
   ],
   "metadata": {
    "collapsed": false,
    "pycharm": {
     "name": "#%%\n"
    }
   }
  }
 ],
 "metadata": {
  "kernelspec": {
   "display_name": "Python 3",
   "language": "python",
   "name": "python3"
  },
  "language_info": {
   "codemirror_mode": {
    "name": "ipython",
    "version": 2
   },
   "file_extension": ".py",
   "mimetype": "text/x-python",
   "name": "python",
   "nbconvert_exporter": "python",
   "pygments_lexer": "ipython2",
   "version": "2.7.6"
  }
 },
 "nbformat": 4,
 "nbformat_minor": 0
}