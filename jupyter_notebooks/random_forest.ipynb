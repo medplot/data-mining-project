{
 "cells": [
  {
   "cell_type": "code",
   "execution_count": 1,
   "metadata": {
    "collapsed": true,
    "pycharm": {
     "name": "#%%\n"
    }
   },
   "outputs": [
    {
     "name": "stdout",
     "output_type": "stream",
     "text": [
      "   GenHealth  PhysHealth  MentHealth  Healthcare  MedCost  Checkup  HighBP  \\\n",
      "0        5.0        15.0        18.0         1.0      2.0      1.0     1.0   \n",
      "1        3.0        88.0        88.0         2.0      1.0      4.0     3.0   \n",
      "2        4.0        15.0        88.0         1.0      2.0      1.0     3.0   \n",
      "3        5.0        30.0        30.0         1.0      1.0      1.0     1.0   \n",
      "4        5.0        20.0        88.0         1.0      2.0      1.0     3.0   \n",
      "\n",
      "   HighChol  HeartAttack  AngiCoro  Stroke  Asthma  Arthritis  Kidney  Sex  \\\n",
      "0       1.0          2.0       2.0     2.0     1.0        1.0     2.0  2.0   \n",
      "1       2.0          2.0       2.0     2.0     2.0        2.0     2.0  2.0   \n",
      "2       1.0          7.0       2.0     1.0     2.0        1.0     2.0  2.0   \n",
      "3       1.0          2.0       2.0     2.0     2.0        1.0     2.0  2.0   \n",
      "4       2.0          2.0       2.0     2.0     2.0        1.0     2.0  2.0   \n",
      "\n",
      "   Income  SodiumSalt   Age  Height   Weight  BMI  Education  Alcohol  \\\n",
      "0     3.0         0.0   9.0   178.0  12701.0  4.0        2.0      1.0   \n",
      "1     1.0         2.0   7.0   173.0   7484.0  3.0        4.0      1.0   \n",
      "2    99.0         0.0  11.0   180.0   7167.0  2.0        2.0      9.0   \n",
      "3     8.0         2.0   9.0   170.0   8165.0  3.0        2.0      1.0   \n",
      "4    77.0         1.0   9.0   163.0   6441.0  2.0        3.0      1.0   \n",
      "\n",
      "   Smoking  FruitCons  VegetCons  PhysActivity  Muscles  \n",
      "0      3.0        2.0        1.0           4.0      2.0  \n",
      "1      1.0        2.0        2.0           2.0      2.0  \n",
      "2      9.0        9.0        9.0           9.0      9.0  \n",
      "3      4.0        1.0        2.0           4.0      2.0  \n",
      "4      4.0        9.0        1.0           4.0      2.0  \n"
     ]
    }
   ],
   "source": [
    "from preprocessing.preprocessing import  get_preprocessed_brfss_train_test_split\n",
    "from sklearn.ensemble import RandomForestClassifier\n"
   ]
  },
  {
   "cell_type": "code",
   "execution_count": 2,
   "outputs": [],
   "source": [
    "import warnings\n",
    "warnings.filterwarnings('ignore')"
   ],
   "metadata": {
    "collapsed": false,
    "pycharm": {
     "name": "#%%\n"
    }
   }
  },
  {
   "cell_type": "code",
   "execution_count": 3,
   "outputs": [
    {
     "data": {
      "text/plain": "        GenHealth  PhysHealth  MentHealth  Healthcare  MedCost  Checkup  \\\n434107        2.0        88.0        88.0         1.0      2.0      3.0   \n110299        4.0        88.0        88.0         1.0      2.0      1.0   \n218193        3.0        88.0        88.0         1.0      2.0      1.0   \n394642        2.0        88.0         1.0         1.0      1.0      2.0   \n354955        1.0         1.0        88.0         1.0      2.0      3.0   \n228337        1.0        88.0        88.0         1.0      2.0      1.0   \n57536         2.0        88.0         3.0         1.0      2.0      1.0   \n68009         3.0        88.0        88.0         1.0      2.0      1.0   \n308419        3.0        88.0        88.0         1.0      2.0      1.0   \n359773        1.0         5.0         3.0         1.0      2.0      1.0   \n\n        HighBP  HighChol  HeartAttack  AngiCoro  Stroke  Asthma  Arthritis  \\\n434107     1.0       2.0          2.0       2.0     2.0     2.0        2.0   \n110299     3.0       2.0          2.0       2.0     1.0     2.0        1.0   \n218193     1.0       2.0          2.0       2.0     2.0     2.0        2.0   \n394642     3.0       0.0          2.0       2.0     2.0     2.0        2.0   \n354955     3.0       2.0          2.0       2.0     2.0     2.0        2.0   \n228337     3.0       2.0          2.0       2.0     2.0     2.0        2.0   \n57536      1.0       2.0          2.0       2.0     2.0     1.0        1.0   \n68009      1.0       1.0          2.0       1.0     2.0     2.0        2.0   \n308419     1.0       1.0          2.0       2.0     2.0     2.0        1.0   \n359773     1.0       0.0          2.0       2.0     2.0     2.0        2.0   \n\n        Kidney  Sex  Income  SodiumSalt   Age  Height   Weight  BMI  \\\n434107     2.0  2.0     8.0         0.0   9.0   152.0   5897.0  3.0   \n110299     2.0  1.0     4.0         2.0  13.0   175.0   7484.0  2.0   \n218193     2.0  1.0    77.0         0.0   8.0   180.0   8165.0  3.0   \n394642     2.0  1.0     5.0         0.0   1.0   165.0   5443.0  2.0   \n354955     2.0  1.0     7.0         1.0   7.0   165.0   9480.0  4.0   \n228337     2.0  2.0     6.0         0.0   3.0   168.0   8391.0  0.0   \n57536      2.0  2.0     8.0         0.0   9.0   165.0   6350.0  2.0   \n68009      2.0  2.0     7.0         0.0  11.0   165.0   6577.0  2.0   \n308419     2.0  2.0     6.0         0.0  11.0   155.0   6577.0  3.0   \n359773     2.0  1.0     5.0         0.0   1.0   175.0  23088.0  4.0   \n\n        Education  Alcohol  Smoking  FruitCons  VegetCons  PhysActivity  \\\n434107        2.0      2.0      4.0        2.0        1.0           4.0   \n110299        2.0      1.0      4.0        1.0        2.0           3.0   \n218193        2.0      2.0      3.0        1.0        1.0           1.0   \n394642        2.0      1.0      4.0        1.0        1.0           1.0   \n354955        2.0      1.0      3.0        1.0        1.0           1.0   \n228337        4.0      1.0      4.0        1.0        1.0           4.0   \n57536         4.0      1.0      4.0        2.0        1.0           2.0   \n68009         4.0      2.0      3.0        1.0        1.0           2.0   \n308419        3.0      1.0      3.0        1.0        1.0           2.0   \n359773        2.0      2.0      3.0        1.0        1.0           3.0   \n\n        Muscles  \n434107      2.0  \n110299      2.0  \n218193      2.0  \n394642      2.0  \n354955      1.0  \n228337      2.0  \n57536       2.0  \n68009       1.0  \n308419      2.0  \n359773      1.0  ",
      "text/html": "<div>\n<style scoped>\n    .dataframe tbody tr th:only-of-type {\n        vertical-align: middle;\n    }\n\n    .dataframe tbody tr th {\n        vertical-align: top;\n    }\n\n    .dataframe thead th {\n        text-align: right;\n    }\n</style>\n<table border=\"1\" class=\"dataframe\">\n  <thead>\n    <tr style=\"text-align: right;\">\n      <th></th>\n      <th>GenHealth</th>\n      <th>PhysHealth</th>\n      <th>MentHealth</th>\n      <th>Healthcare</th>\n      <th>MedCost</th>\n      <th>Checkup</th>\n      <th>HighBP</th>\n      <th>HighChol</th>\n      <th>HeartAttack</th>\n      <th>AngiCoro</th>\n      <th>Stroke</th>\n      <th>Asthma</th>\n      <th>Arthritis</th>\n      <th>Kidney</th>\n      <th>Sex</th>\n      <th>Income</th>\n      <th>SodiumSalt</th>\n      <th>Age</th>\n      <th>Height</th>\n      <th>Weight</th>\n      <th>BMI</th>\n      <th>Education</th>\n      <th>Alcohol</th>\n      <th>Smoking</th>\n      <th>FruitCons</th>\n      <th>VegetCons</th>\n      <th>PhysActivity</th>\n      <th>Muscles</th>\n    </tr>\n  </thead>\n  <tbody>\n    <tr>\n      <th>434107</th>\n      <td>2.0</td>\n      <td>88.0</td>\n      <td>88.0</td>\n      <td>1.0</td>\n      <td>2.0</td>\n      <td>3.0</td>\n      <td>1.0</td>\n      <td>2.0</td>\n      <td>2.0</td>\n      <td>2.0</td>\n      <td>2.0</td>\n      <td>2.0</td>\n      <td>2.0</td>\n      <td>2.0</td>\n      <td>2.0</td>\n      <td>8.0</td>\n      <td>0.0</td>\n      <td>9.0</td>\n      <td>152.0</td>\n      <td>5897.0</td>\n      <td>3.0</td>\n      <td>2.0</td>\n      <td>2.0</td>\n      <td>4.0</td>\n      <td>2.0</td>\n      <td>1.0</td>\n      <td>4.0</td>\n      <td>2.0</td>\n    </tr>\n    <tr>\n      <th>110299</th>\n      <td>4.0</td>\n      <td>88.0</td>\n      <td>88.0</td>\n      <td>1.0</td>\n      <td>2.0</td>\n      <td>1.0</td>\n      <td>3.0</td>\n      <td>2.0</td>\n      <td>2.0</td>\n      <td>2.0</td>\n      <td>1.0</td>\n      <td>2.0</td>\n      <td>1.0</td>\n      <td>2.0</td>\n      <td>1.0</td>\n      <td>4.0</td>\n      <td>2.0</td>\n      <td>13.0</td>\n      <td>175.0</td>\n      <td>7484.0</td>\n      <td>2.0</td>\n      <td>2.0</td>\n      <td>1.0</td>\n      <td>4.0</td>\n      <td>1.0</td>\n      <td>2.0</td>\n      <td>3.0</td>\n      <td>2.0</td>\n    </tr>\n    <tr>\n      <th>218193</th>\n      <td>3.0</td>\n      <td>88.0</td>\n      <td>88.0</td>\n      <td>1.0</td>\n      <td>2.0</td>\n      <td>1.0</td>\n      <td>1.0</td>\n      <td>2.0</td>\n      <td>2.0</td>\n      <td>2.0</td>\n      <td>2.0</td>\n      <td>2.0</td>\n      <td>2.0</td>\n      <td>2.0</td>\n      <td>1.0</td>\n      <td>77.0</td>\n      <td>0.0</td>\n      <td>8.0</td>\n      <td>180.0</td>\n      <td>8165.0</td>\n      <td>3.0</td>\n      <td>2.0</td>\n      <td>2.0</td>\n      <td>3.0</td>\n      <td>1.0</td>\n      <td>1.0</td>\n      <td>1.0</td>\n      <td>2.0</td>\n    </tr>\n    <tr>\n      <th>394642</th>\n      <td>2.0</td>\n      <td>88.0</td>\n      <td>1.0</td>\n      <td>1.0</td>\n      <td>1.0</td>\n      <td>2.0</td>\n      <td>3.0</td>\n      <td>0.0</td>\n      <td>2.0</td>\n      <td>2.0</td>\n      <td>2.0</td>\n      <td>2.0</td>\n      <td>2.0</td>\n      <td>2.0</td>\n      <td>1.0</td>\n      <td>5.0</td>\n      <td>0.0</td>\n      <td>1.0</td>\n      <td>165.0</td>\n      <td>5443.0</td>\n      <td>2.0</td>\n      <td>2.0</td>\n      <td>1.0</td>\n      <td>4.0</td>\n      <td>1.0</td>\n      <td>1.0</td>\n      <td>1.0</td>\n      <td>2.0</td>\n    </tr>\n    <tr>\n      <th>354955</th>\n      <td>1.0</td>\n      <td>1.0</td>\n      <td>88.0</td>\n      <td>1.0</td>\n      <td>2.0</td>\n      <td>3.0</td>\n      <td>3.0</td>\n      <td>2.0</td>\n      <td>2.0</td>\n      <td>2.0</td>\n      <td>2.0</td>\n      <td>2.0</td>\n      <td>2.0</td>\n      <td>2.0</td>\n      <td>1.0</td>\n      <td>7.0</td>\n      <td>1.0</td>\n      <td>7.0</td>\n      <td>165.0</td>\n      <td>9480.0</td>\n      <td>4.0</td>\n      <td>2.0</td>\n      <td>1.0</td>\n      <td>3.0</td>\n      <td>1.0</td>\n      <td>1.0</td>\n      <td>1.0</td>\n      <td>1.0</td>\n    </tr>\n    <tr>\n      <th>228337</th>\n      <td>1.0</td>\n      <td>88.0</td>\n      <td>88.0</td>\n      <td>1.0</td>\n      <td>2.0</td>\n      <td>1.0</td>\n      <td>3.0</td>\n      <td>2.0</td>\n      <td>2.0</td>\n      <td>2.0</td>\n      <td>2.0</td>\n      <td>2.0</td>\n      <td>2.0</td>\n      <td>2.0</td>\n      <td>2.0</td>\n      <td>6.0</td>\n      <td>0.0</td>\n      <td>3.0</td>\n      <td>168.0</td>\n      <td>8391.0</td>\n      <td>0.0</td>\n      <td>4.0</td>\n      <td>1.0</td>\n      <td>4.0</td>\n      <td>1.0</td>\n      <td>1.0</td>\n      <td>4.0</td>\n      <td>2.0</td>\n    </tr>\n    <tr>\n      <th>57536</th>\n      <td>2.0</td>\n      <td>88.0</td>\n      <td>3.0</td>\n      <td>1.0</td>\n      <td>2.0</td>\n      <td>1.0</td>\n      <td>1.0</td>\n      <td>2.0</td>\n      <td>2.0</td>\n      <td>2.0</td>\n      <td>2.0</td>\n      <td>1.0</td>\n      <td>1.0</td>\n      <td>2.0</td>\n      <td>2.0</td>\n      <td>8.0</td>\n      <td>0.0</td>\n      <td>9.0</td>\n      <td>165.0</td>\n      <td>6350.0</td>\n      <td>2.0</td>\n      <td>4.0</td>\n      <td>1.0</td>\n      <td>4.0</td>\n      <td>2.0</td>\n      <td>1.0</td>\n      <td>2.0</td>\n      <td>2.0</td>\n    </tr>\n    <tr>\n      <th>68009</th>\n      <td>3.0</td>\n      <td>88.0</td>\n      <td>88.0</td>\n      <td>1.0</td>\n      <td>2.0</td>\n      <td>1.0</td>\n      <td>1.0</td>\n      <td>1.0</td>\n      <td>2.0</td>\n      <td>1.0</td>\n      <td>2.0</td>\n      <td>2.0</td>\n      <td>2.0</td>\n      <td>2.0</td>\n      <td>2.0</td>\n      <td>7.0</td>\n      <td>0.0</td>\n      <td>11.0</td>\n      <td>165.0</td>\n      <td>6577.0</td>\n      <td>2.0</td>\n      <td>4.0</td>\n      <td>2.0</td>\n      <td>3.0</td>\n      <td>1.0</td>\n      <td>1.0</td>\n      <td>2.0</td>\n      <td>1.0</td>\n    </tr>\n    <tr>\n      <th>308419</th>\n      <td>3.0</td>\n      <td>88.0</td>\n      <td>88.0</td>\n      <td>1.0</td>\n      <td>2.0</td>\n      <td>1.0</td>\n      <td>1.0</td>\n      <td>1.0</td>\n      <td>2.0</td>\n      <td>2.0</td>\n      <td>2.0</td>\n      <td>2.0</td>\n      <td>1.0</td>\n      <td>2.0</td>\n      <td>2.0</td>\n      <td>6.0</td>\n      <td>0.0</td>\n      <td>11.0</td>\n      <td>155.0</td>\n      <td>6577.0</td>\n      <td>3.0</td>\n      <td>3.0</td>\n      <td>1.0</td>\n      <td>3.0</td>\n      <td>1.0</td>\n      <td>1.0</td>\n      <td>2.0</td>\n      <td>2.0</td>\n    </tr>\n    <tr>\n      <th>359773</th>\n      <td>1.0</td>\n      <td>5.0</td>\n      <td>3.0</td>\n      <td>1.0</td>\n      <td>2.0</td>\n      <td>1.0</td>\n      <td>1.0</td>\n      <td>0.0</td>\n      <td>2.0</td>\n      <td>2.0</td>\n      <td>2.0</td>\n      <td>2.0</td>\n      <td>2.0</td>\n      <td>2.0</td>\n      <td>1.0</td>\n      <td>5.0</td>\n      <td>0.0</td>\n      <td>1.0</td>\n      <td>175.0</td>\n      <td>23088.0</td>\n      <td>4.0</td>\n      <td>2.0</td>\n      <td>2.0</td>\n      <td>3.0</td>\n      <td>1.0</td>\n      <td>1.0</td>\n      <td>3.0</td>\n      <td>1.0</td>\n    </tr>\n  </tbody>\n</table>\n</div>"
     },
     "execution_count": 3,
     "metadata": {},
     "output_type": "execute_result"
    }
   ],
   "source": [
    "data_train, data_test, target_train, target_test = get_preprocessed_brfss_train_test_split()\n",
    "data_train.head(10)"
   ],
   "metadata": {
    "collapsed": false,
    "pycharm": {
     "name": "#%%\n"
    }
   }
  },
  {
   "cell_type": "code",
   "execution_count": 4,
   "outputs": [
    {
     "data": {
      "text/plain": "RandomForestClassifier()",
      "text/html": "<style>#sk-container-id-1 {color: black;background-color: white;}#sk-container-id-1 pre{padding: 0;}#sk-container-id-1 div.sk-toggleable {background-color: white;}#sk-container-id-1 label.sk-toggleable__label {cursor: pointer;display: block;width: 100%;margin-bottom: 0;padding: 0.3em;box-sizing: border-box;text-align: center;}#sk-container-id-1 label.sk-toggleable__label-arrow:before {content: \"▸\";float: left;margin-right: 0.25em;color: #696969;}#sk-container-id-1 label.sk-toggleable__label-arrow:hover:before {color: black;}#sk-container-id-1 div.sk-estimator:hover label.sk-toggleable__label-arrow:before {color: black;}#sk-container-id-1 div.sk-toggleable__content {max-height: 0;max-width: 0;overflow: hidden;text-align: left;background-color: #f0f8ff;}#sk-container-id-1 div.sk-toggleable__content pre {margin: 0.2em;color: black;border-radius: 0.25em;background-color: #f0f8ff;}#sk-container-id-1 input.sk-toggleable__control:checked~div.sk-toggleable__content {max-height: 200px;max-width: 100%;overflow: auto;}#sk-container-id-1 input.sk-toggleable__control:checked~label.sk-toggleable__label-arrow:before {content: \"▾\";}#sk-container-id-1 div.sk-estimator input.sk-toggleable__control:checked~label.sk-toggleable__label {background-color: #d4ebff;}#sk-container-id-1 div.sk-label input.sk-toggleable__control:checked~label.sk-toggleable__label {background-color: #d4ebff;}#sk-container-id-1 input.sk-hidden--visually {border: 0;clip: rect(1px 1px 1px 1px);clip: rect(1px, 1px, 1px, 1px);height: 1px;margin: -1px;overflow: hidden;padding: 0;position: absolute;width: 1px;}#sk-container-id-1 div.sk-estimator {font-family: monospace;background-color: #f0f8ff;border: 1px dotted black;border-radius: 0.25em;box-sizing: border-box;margin-bottom: 0.5em;}#sk-container-id-1 div.sk-estimator:hover {background-color: #d4ebff;}#sk-container-id-1 div.sk-parallel-item::after {content: \"\";width: 100%;border-bottom: 1px solid gray;flex-grow: 1;}#sk-container-id-1 div.sk-label:hover label.sk-toggleable__label {background-color: #d4ebff;}#sk-container-id-1 div.sk-serial::before {content: \"\";position: absolute;border-left: 1px solid gray;box-sizing: border-box;top: 0;bottom: 0;left: 50%;z-index: 0;}#sk-container-id-1 div.sk-serial {display: flex;flex-direction: column;align-items: center;background-color: white;padding-right: 0.2em;padding-left: 0.2em;position: relative;}#sk-container-id-1 div.sk-item {position: relative;z-index: 1;}#sk-container-id-1 div.sk-parallel {display: flex;align-items: stretch;justify-content: center;background-color: white;position: relative;}#sk-container-id-1 div.sk-item::before, #sk-container-id-1 div.sk-parallel-item::before {content: \"\";position: absolute;border-left: 1px solid gray;box-sizing: border-box;top: 0;bottom: 0;left: 50%;z-index: -1;}#sk-container-id-1 div.sk-parallel-item {display: flex;flex-direction: column;z-index: 1;position: relative;background-color: white;}#sk-container-id-1 div.sk-parallel-item:first-child::after {align-self: flex-end;width: 50%;}#sk-container-id-1 div.sk-parallel-item:last-child::after {align-self: flex-start;width: 50%;}#sk-container-id-1 div.sk-parallel-item:only-child::after {width: 0;}#sk-container-id-1 div.sk-dashed-wrapped {border: 1px dashed gray;margin: 0 0.4em 0.5em 0.4em;box-sizing: border-box;padding-bottom: 0.4em;background-color: white;}#sk-container-id-1 div.sk-label label {font-family: monospace;font-weight: bold;display: inline-block;line-height: 1.2em;}#sk-container-id-1 div.sk-label-container {text-align: center;}#sk-container-id-1 div.sk-container {/* jupyter's `normalize.less` sets `[hidden] { display: none; }` but bootstrap.min.css set `[hidden] { display: none !important; }` so we also need the `!important` here to be able to override the default hidden behavior on the sphinx rendered scikit-learn.org. See: https://github.com/scikit-learn/scikit-learn/issues/21755 */display: inline-block !important;position: relative;}#sk-container-id-1 div.sk-text-repr-fallback {display: none;}</style><div id=\"sk-container-id-1\" class=\"sk-top-container\"><div class=\"sk-text-repr-fallback\"><pre>RandomForestClassifier()</pre><b>In a Jupyter environment, please rerun this cell to show the HTML representation or trust the notebook. <br />On GitHub, the HTML representation is unable to render, please try loading this page with nbviewer.org.</b></div><div class=\"sk-container\" hidden><div class=\"sk-item\"><div class=\"sk-estimator sk-toggleable\"><input class=\"sk-toggleable__control sk-hidden--visually\" id=\"sk-estimator-id-1\" type=\"checkbox\" checked><label for=\"sk-estimator-id-1\" class=\"sk-toggleable__label sk-toggleable__label-arrow\">RandomForestClassifier</label><div class=\"sk-toggleable__content\"><pre>RandomForestClassifier()</pre></div></div></div></div></div>"
     },
     "execution_count": 4,
     "metadata": {},
     "output_type": "execute_result"
    }
   ],
   "source": [
    "random_forest_classifier = RandomForestClassifier()\n",
    "random_forest_classifier.fit(data_train, target_train)"
   ],
   "metadata": {
    "collapsed": false,
    "pycharm": {
     "name": "#%%\n"
    }
   }
  },
  {
   "cell_type": "code",
   "execution_count": 5,
   "outputs": [
    {
     "name": "stdout",
     "output_type": "stream",
     "text": [
      "Fold 0: Accuracy = 84.89919583191754%\n",
      "Fold 1: Accuracy = 84.81991165477403%\n",
      "Fold 2: Accuracy = 84.79725903273304%\n",
      "Fold 3: Accuracy = 84.65284856722167%\n",
      "Fold 4: Accuracy = 84.81708007701891%\n",
      "Fold 5: Accuracy = 84.82840638803941%\n",
      "Fold 6: Accuracy = 84.85389058783555%\n",
      "Fold 7: Accuracy = 84.85105901008042%\n",
      "Fold 8: Accuracy = 84.85389058783555%\n",
      "Fold 9: Accuracy = 84.8109868327906%\n",
      "Average Accuracy = 84.81845285702467%\n"
     ]
    }
   ],
   "source": [
    "from sklearn.model_selection import cross_val_score, StratifiedKFold\n",
    "\n",
    "cross_validation = StratifiedKFold(n_splits=10, shuffle=True, random_state=1)\n",
    "accuracy = cross_val_score(random_forest_classifier, data_train, target_train, cv=cross_validation, scoring='accuracy')\n",
    "\n",
    "for i, acc in enumerate(accuracy):\n",
    "    print(\"Fold {}: Accuracy = {}%\".format(i, acc * 100.0))\n",
    "\n",
    "print(\"Average Accuracy = {}%\".format(accuracy.mean() * 100.0))"
   ],
   "metadata": {
    "collapsed": false,
    "pycharm": {
     "name": "#%%\n"
    }
   }
  }
 ],
 "metadata": {
  "kernelspec": {
   "display_name": "Python 3",
   "language": "python",
   "name": "python3"
  },
  "language_info": {
   "codemirror_mode": {
    "name": "ipython",
    "version": 2
   },
   "file_extension": ".py",
   "mimetype": "text/x-python",
   "name": "python",
   "nbconvert_exporter": "python",
   "pygments_lexer": "ipython2",
   "version": "2.7.6"
  }
 },
 "nbformat": 4,
 "nbformat_minor": 0
}